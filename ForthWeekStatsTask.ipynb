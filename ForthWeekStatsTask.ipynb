{
 "cells": [
  {
   "cell_type": "code",
   "execution_count": 3,
   "metadata": {
    "collapsed": true
   },
   "outputs": [],
   "source": [
    "import pandas as pd\n",
    "import numpy as np\n",
    "import scipy.stats as sts"
   ]
  },
  {
   "cell_type": "code",
   "execution_count": 2,
   "metadata": {
    "collapsed": false
   },
   "outputs": [
    {
     "data": {
      "text/html": [
       "<div>\n",
       "<table border=\"1\" class=\"dataframe\">\n",
       "  <thead>\n",
       "    <tr style=\"text-align: right;\">\n",
       "      <th></th>\n",
       "      <th>Diagnosis</th>\n",
       "      <th>LOC643837</th>\n",
       "      <th>LOC100130417</th>\n",
       "      <th>SAMD11</th>\n",
       "      <th>NOC2L</th>\n",
       "      <th>KLHL17</th>\n",
       "      <th>PLEKHN1</th>\n",
       "      <th>C1orf170</th>\n",
       "      <th>HES4</th>\n",
       "      <th>ISG15</th>\n",
       "      <th>...</th>\n",
       "      <th>CLIC2</th>\n",
       "      <th>RPS4Y1</th>\n",
       "      <th>ZFY</th>\n",
       "      <th>PRKY</th>\n",
       "      <th>USP9Y</th>\n",
       "      <th>DDX3Y</th>\n",
       "      <th>CD24</th>\n",
       "      <th>CYorf15B</th>\n",
       "      <th>KDM5D</th>\n",
       "      <th>EIF1AY</th>\n",
       "    </tr>\n",
       "    <tr>\n",
       "      <th>Patient_id</th>\n",
       "      <th></th>\n",
       "      <th></th>\n",
       "      <th></th>\n",
       "      <th></th>\n",
       "      <th></th>\n",
       "      <th></th>\n",
       "      <th></th>\n",
       "      <th></th>\n",
       "      <th></th>\n",
       "      <th></th>\n",
       "      <th></th>\n",
       "      <th></th>\n",
       "      <th></th>\n",
       "      <th></th>\n",
       "      <th></th>\n",
       "      <th></th>\n",
       "      <th></th>\n",
       "      <th></th>\n",
       "      <th></th>\n",
       "      <th></th>\n",
       "      <th></th>\n",
       "    </tr>\n",
       "  </thead>\n",
       "  <tbody>\n",
       "    <tr>\n",
       "      <th>STT5425_Breast_001_normal</th>\n",
       "      <td>normal</td>\n",
       "      <td>1.257614</td>\n",
       "      <td>2.408148</td>\n",
       "      <td>13.368622</td>\n",
       "      <td>9.494779</td>\n",
       "      <td>20.880435</td>\n",
       "      <td>12.722017</td>\n",
       "      <td>9.494779</td>\n",
       "      <td>54.349694</td>\n",
       "      <td>26.329928</td>\n",
       "      <td>...</td>\n",
       "      <td>4.761250</td>\n",
       "      <td>1.257614</td>\n",
       "      <td>1.257614</td>\n",
       "      <td>1.257614</td>\n",
       "      <td>1.257614</td>\n",
       "      <td>1.257614</td>\n",
       "      <td>23.268694</td>\n",
       "      <td>1.257614</td>\n",
       "      <td>1.257614</td>\n",
       "      <td>1.257614</td>\n",
       "    </tr>\n",
       "    <tr>\n",
       "      <th>STT5427_Breast_023_normal</th>\n",
       "      <td>normal</td>\n",
       "      <td>4.567931</td>\n",
       "      <td>16.602734</td>\n",
       "      <td>42.477752</td>\n",
       "      <td>25.562376</td>\n",
       "      <td>23.221137</td>\n",
       "      <td>11.622386</td>\n",
       "      <td>14.330573</td>\n",
       "      <td>72.445474</td>\n",
       "      <td>39.140813</td>\n",
       "      <td>...</td>\n",
       "      <td>6.871902</td>\n",
       "      <td>1.815112</td>\n",
       "      <td>1.815112</td>\n",
       "      <td>1.815112</td>\n",
       "      <td>1.815112</td>\n",
       "      <td>1.815112</td>\n",
       "      <td>10.427023</td>\n",
       "      <td>1.815112</td>\n",
       "      <td>1.815112</td>\n",
       "      <td>1.815112</td>\n",
       "    </tr>\n",
       "    <tr>\n",
       "      <th>STT5430_Breast_002_normal</th>\n",
       "      <td>normal</td>\n",
       "      <td>2.077597</td>\n",
       "      <td>3.978294</td>\n",
       "      <td>12.863214</td>\n",
       "      <td>13.728915</td>\n",
       "      <td>14.543176</td>\n",
       "      <td>14.141907</td>\n",
       "      <td>6.232790</td>\n",
       "      <td>57.011005</td>\n",
       "      <td>48.144685</td>\n",
       "      <td>...</td>\n",
       "      <td>7.096343</td>\n",
       "      <td>2.077597</td>\n",
       "      <td>2.077597</td>\n",
       "      <td>2.077597</td>\n",
       "      <td>2.077597</td>\n",
       "      <td>2.077597</td>\n",
       "      <td>22.344226</td>\n",
       "      <td>2.077597</td>\n",
       "      <td>2.077597</td>\n",
       "      <td>2.077597</td>\n",
       "    </tr>\n",
       "    <tr>\n",
       "      <th>STT5439_Breast_003_normal</th>\n",
       "      <td>normal</td>\n",
       "      <td>2.066576</td>\n",
       "      <td>8.520713</td>\n",
       "      <td>14.466035</td>\n",
       "      <td>7.823932</td>\n",
       "      <td>8.520713</td>\n",
       "      <td>2.066576</td>\n",
       "      <td>10.870009</td>\n",
       "      <td>53.292034</td>\n",
       "      <td>27.076621</td>\n",
       "      <td>...</td>\n",
       "      <td>5.200770</td>\n",
       "      <td>2.066576</td>\n",
       "      <td>2.066576</td>\n",
       "      <td>2.066576</td>\n",
       "      <td>2.066576</td>\n",
       "      <td>2.066576</td>\n",
       "      <td>49.295538</td>\n",
       "      <td>2.066576</td>\n",
       "      <td>2.066576</td>\n",
       "      <td>2.066576</td>\n",
       "    </tr>\n",
       "    <tr>\n",
       "      <th>STT5441_Breast_004_normal</th>\n",
       "      <td>normal</td>\n",
       "      <td>2.613616</td>\n",
       "      <td>3.434965</td>\n",
       "      <td>12.682222</td>\n",
       "      <td>10.543189</td>\n",
       "      <td>26.688686</td>\n",
       "      <td>12.484822</td>\n",
       "      <td>1.364917</td>\n",
       "      <td>67.140393</td>\n",
       "      <td>35.896701</td>\n",
       "      <td>...</td>\n",
       "      <td>11.227770</td>\n",
       "      <td>1.364917</td>\n",
       "      <td>1.364917</td>\n",
       "      <td>1.364917</td>\n",
       "      <td>1.364917</td>\n",
       "      <td>1.364917</td>\n",
       "      <td>23.627911</td>\n",
       "      <td>1.364917</td>\n",
       "      <td>1.364917</td>\n",
       "      <td>1.364917</td>\n",
       "    </tr>\n",
       "  </tbody>\n",
       "</table>\n",
       "<p>5 rows × 15749 columns</p>\n",
       "</div>"
      ],
      "text/plain": [
       "                          Diagnosis  LOC643837  LOC100130417     SAMD11  \\\n",
       "Patient_id                                                                \n",
       "STT5425_Breast_001_normal    normal   1.257614      2.408148  13.368622   \n",
       "STT5427_Breast_023_normal    normal   4.567931     16.602734  42.477752   \n",
       "STT5430_Breast_002_normal    normal   2.077597      3.978294  12.863214   \n",
       "STT5439_Breast_003_normal    normal   2.066576      8.520713  14.466035   \n",
       "STT5441_Breast_004_normal    normal   2.613616      3.434965  12.682222   \n",
       "\n",
       "                               NOC2L     KLHL17    PLEKHN1   C1orf170  \\\n",
       "Patient_id                                                              \n",
       "STT5425_Breast_001_normal   9.494779  20.880435  12.722017   9.494779   \n",
       "STT5427_Breast_023_normal  25.562376  23.221137  11.622386  14.330573   \n",
       "STT5430_Breast_002_normal  13.728915  14.543176  14.141907   6.232790   \n",
       "STT5439_Breast_003_normal   7.823932   8.520713   2.066576  10.870009   \n",
       "STT5441_Breast_004_normal  10.543189  26.688686  12.484822   1.364917   \n",
       "\n",
       "                                HES4      ISG15    ...         CLIC2  \\\n",
       "Patient_id                                         ...                 \n",
       "STT5425_Breast_001_normal  54.349694  26.329928    ...      4.761250   \n",
       "STT5427_Breast_023_normal  72.445474  39.140813    ...      6.871902   \n",
       "STT5430_Breast_002_normal  57.011005  48.144685    ...      7.096343   \n",
       "STT5439_Breast_003_normal  53.292034  27.076621    ...      5.200770   \n",
       "STT5441_Breast_004_normal  67.140393  35.896701    ...     11.227770   \n",
       "\n",
       "                             RPS4Y1       ZFY      PRKY     USP9Y     DDX3Y  \\\n",
       "Patient_id                                                                    \n",
       "STT5425_Breast_001_normal  1.257614  1.257614  1.257614  1.257614  1.257614   \n",
       "STT5427_Breast_023_normal  1.815112  1.815112  1.815112  1.815112  1.815112   \n",
       "STT5430_Breast_002_normal  2.077597  2.077597  2.077597  2.077597  2.077597   \n",
       "STT5439_Breast_003_normal  2.066576  2.066576  2.066576  2.066576  2.066576   \n",
       "STT5441_Breast_004_normal  1.364917  1.364917  1.364917  1.364917  1.364917   \n",
       "\n",
       "                                CD24  CYorf15B     KDM5D    EIF1AY  \n",
       "Patient_id                                                          \n",
       "STT5425_Breast_001_normal  23.268694  1.257614  1.257614  1.257614  \n",
       "STT5427_Breast_023_normal  10.427023  1.815112  1.815112  1.815112  \n",
       "STT5430_Breast_002_normal  22.344226  2.077597  2.077597  2.077597  \n",
       "STT5439_Breast_003_normal  49.295538  2.066576  2.066576  2.066576  \n",
       "STT5441_Breast_004_normal  23.627911  1.364917  1.364917  1.364917  \n",
       "\n",
       "[5 rows x 15749 columns]"
      ]
     },
     "execution_count": 2,
     "metadata": {},
     "output_type": "execute_result"
    }
   ],
   "source": [
    "data = pd.read_csv(\"gene_high_throughput_sequencing.csv\", index_col='Patient_id')\n",
    "data.head()"
   ]
  },
  {
   "cell_type": "code",
   "execution_count": 3,
   "metadata": {
    "collapsed": false
   },
   "outputs": [
    {
     "data": {
      "text/plain": [
       "early neoplasia    25\n",
       "normal             24\n",
       "cancer             23\n",
       "Name: Diagnosis, dtype: int64"
      ]
     },
     "execution_count": 3,
     "metadata": {},
     "output_type": "execute_result"
    }
   ],
   "source": [
    "data.Diagnosis.value_counts()"
   ]
  },
  {
   "cell_type": "code",
   "execution_count": 4,
   "metadata": {
    "collapsed": false
   },
   "outputs": [
    {
     "data": {
      "text/plain": [
       "(24, 15749)"
      ]
     },
     "execution_count": 4,
     "metadata": {},
     "output_type": "execute_result"
    }
   ],
   "source": [
    "normal = data[data.Diagnosis == 'normal']\n",
    "normal.shape"
   ]
  },
  {
   "cell_type": "code",
   "execution_count": 5,
   "metadata": {
    "collapsed": false
   },
   "outputs": [
    {
     "data": {
      "text/plain": [
       "(25, 15749)"
      ]
     },
     "execution_count": 5,
     "metadata": {},
     "output_type": "execute_result"
    }
   ],
   "source": [
    "neopl = data[data.Diagnosis == 'early neoplasia']\n",
    "neopl.shape"
   ]
  },
  {
   "cell_type": "code",
   "execution_count": 6,
   "metadata": {
    "collapsed": false
   },
   "outputs": [
    {
     "data": {
      "text/plain": [
       "(23, 15749)"
      ]
     },
     "execution_count": 6,
     "metadata": {},
     "output_type": "execute_result"
    }
   ],
   "source": [
    "cancer = data[data.Diagnosis == 'cancer']\n",
    "cancer.shape"
   ]
  },
  {
   "cell_type": "code",
   "execution_count": 7,
   "metadata": {
    "collapsed": true
   },
   "outputs": [],
   "source": [
    "normal_target = normal.Diagnosis\n",
    "normal_objects = normal.drop('Diagnosis', axis=1)\n",
    "\n",
    "neopl_target = neopl.Diagnosis\n",
    "neopl_objects = neopl.drop('Diagnosis', axis=1)\n",
    "\n",
    "cancer_target = cancer.Diagnosis\n",
    "cancer_objects = cancer.drop('Diagnosis', axis=1)"
   ]
  },
  {
   "cell_type": "code",
   "execution_count": 8,
   "metadata": {
    "collapsed": false
   },
   "outputs": [
    {
     "name": "stdout",
     "output_type": "stream",
     "text": [
      "Populating the interactive namespace from numpy and matplotlib\n"
     ]
    },
    {
     "name": "stderr",
     "output_type": "stream",
     "text": [
      "WARNING: pylab import has clobbered these variables: ['normal']\n",
      "`%matplotlib` prevents importing * from pylab and numpy\n"
     ]
    }
   ],
   "source": [
    "%pylab inline"
   ]
  },
  {
   "cell_type": "code",
   "execution_count": 9,
   "metadata": {
    "collapsed": false
   },
   "outputs": [
    {
     "data": {
      "text/plain": [
       "((array([-1.90380091, -1.48287381, -1.22601535, -1.03156092, -0.8698858 ,\n",
       "         -0.7282709 , -0.59996024, -0.48085763, -0.36822879, -0.26009875,\n",
       "         -0.154935  , -0.05146182,  0.05146182,  0.154935  ,  0.26009875,\n",
       "          0.36822879,  0.48085763,  0.59996024,  0.7282709 ,  0.8698858 ,\n",
       "          1.03156092,  1.22601535,  1.48287381,  1.90380091]),\n",
       "  array([ 0.93806112,  1.00345108,  1.04538239,  1.08411336,  1.25761416,\n",
       "          1.28299536,  1.47417351,  1.80186544,  2.06657644,  2.07759652,\n",
       "          2.23457622,  2.55179993,  2.56187094,  2.61361628,  2.87176665,\n",
       "          2.97120469,  3.15389961,  3.51583385,  3.55822218,  3.69312835,\n",
       "          3.94227485,  4.56793106,  4.71782188,  7.36487926])),\n",
       " (1.4887457724508069, 2.6812772960416664, 0.94297310117879596))"
      ]
     },
     "execution_count": 9,
     "metadata": {},
     "output_type": "execute_result"
    },
    {
     "data": {
      "image/png": "[encoded data removed]",
      "text/plain": [
       "<matplotlib.figure.Figure at 0x965c7f0>"
      ]
     },
     "metadata": {},
     "output_type": "display_data"
    }
   ],
   "source": [
    "pylab.figure(figsize=(12,8))\n",
    "pylab.subplot(2,2,1)\n",
    "sts.probplot(normal_objects.iloc[:, 0], dist=\"norm\", plot=pylab)"
   ]
  },
  {
   "cell_type": "markdown",
   "metadata": {},
   "source": [
    "## first part"
   ]
  },
  {
   "cell_type": "code",
   "execution_count": 10,
   "metadata": {
    "collapsed": true
   },
   "outputs": [],
   "source": [
    "def write_to_file(filename, answer):\n",
    "    with open(filename, \"w\") as f:\n",
    "        f.write(str(answer))"
   ]
  },
  {
   "cell_type": "code",
   "execution_count": 11,
   "metadata": {
    "collapsed": false
   },
   "outputs": [
    {
     "data": {
      "text/plain": [
       "{'TMC4': (0.38499753777955203, 0.83949890347162004),\n",
       " 'ARHGEF15': (0.34975328232211966, 0.21882184554547543),\n",
       " 'DDX11': (0.84676610359758364, 0.62319228253758585),\n",
       " 'RWDD2A': (0.41410076586154287, 0.95733333639064444),\n",
       " 'SCAMP4': (0.26591992118339841, 0.50797316505359658),\n",
       " 'PYCARD': (0.94978611783170031, 3.3284509406881378e-05),\n",
       " 'VARS2': (0.62645778966837473, 0.43317096007302214),\n",
       " 'TMTC1': (0.38849190335235673, 0.0005036581986348471),\n",
       " 'POLD3': (0.66443247518233295, 0.71234562138553992),\n",
       " 'TMOD2': (0.39616590704081034, 0.40922963026220593),\n",
       " 'BSPRY': (0.038717976635370036, 0.85243787037050156),\n",
       " 'ZDHHC5': (0.92966024076621345, 0.19165829755596306),\n",
       " 'ANKH': (0.0025430597277735566, 0.60949413100830852),\n",
       " 'FAAH2': (0.0081439873252275915, 0.6089062157421844),\n",
       " 'SMURF1': (0.80064488153481272, 0.061045499845199906),\n",
       " 'DNASE2': (0.52674372813876336, 0.81403327774954781),\n",
       " 'TDRD6': (0.60357946889746628, 0.011078781507642712),\n",
       " 'KIF3A': (0.23308139131056896, 0.17021573734300963),\n",
       " 'TMEM86B': (0.16809456164493072, 0.98696169338956918),\n",
       " 'CSK': (0.39100089645485592, 0.0076525040582598649),\n",
       " 'DLGAP2': (0.26229222684991771, 0.26901290832316599),\n",
       " 'GFOD2': (0.1199143941590296, 0.64412958074187732),\n",
       " 'P2RY14': (0.80612889146990407, 0.17332667432876331),\n",
       " 'CLEC3A': (0.92437884611474563, 0.053425474703301286),\n",
       " 'RBL2': (0.70654527305394677, 0.47057026955582426),\n",
       " 'RGL2': (0.090716502694874426, 0.63415902876681285),\n",
       " 'BRCA1': (0.19357727703420907, 0.65618012009185822),\n",
       " 'MAP2K3': (0.013031692910303899, 0.50626110791777434),\n",
       " 'RFPL1-AS1': (0.49962372800220334, 0.96174659910584948),\n",
       " 'GAS7': (0.26450704707638512, 0.012021050645429535),\n",
       " 'NDUFA11': (0.87316639646663918, 0.74256870803890518),\n",
       " 'RPS15A': (0.0032233048518893414, 0.015860875983731856),\n",
       " 'GPRASP1': (0.41368608280410102, 0.00095675906235962501),\n",
       " 'RSPH3': (0.096928202350362661, 0.91864871493203848),\n",
       " 'SNORA77': (0.86939805153758209, 0.15625876980277845),\n",
       " 'ECHDC2': (0.21815321109904637, 4.3894942259130804e-05),\n",
       " 'PPARG': (0.35762352826462773, 0.034302336219026806),\n",
       " 'YBX2': (0.21421460096187206, 0.39063886005866399),\n",
       " 'C17orf80': (0.79427826058143569, 0.70002282596595089),\n",
       " 'KIAA0182': (0.029313568330396892, 0.5686009040867871),\n",
       " 'LYRM4': (0.17113129163669064, 0.58151364993582977),\n",
       " 'PDP1': (0.69947524935740124, 0.62621502379032479),\n",
       " 'SWAP70': (0.3001088538281127, 0.42417867592478908),\n",
       " 'OSBP2': (0.98402869272808269, 0.25512011501121795),\n",
       " 'S100A5': (0.78752525819272423, 0.065766626319927524),\n",
       " 'DUSP6': (0.82141818314613646, 0.00084527174853629185),\n",
       " 'CREBL2': (0.96607969938753258, 0.10876017451049533),\n",
       " 'CDK18': (0.9013889648890413, 0.6615094144248681),\n",
       " 'MRPL30': (0.21960892705100002, 0.52118156003052751),\n",
       " 'C17orf76': (0.49392674452939889, 0.45545898340768831),\n",
       " 'KAT6B': (0.5821634822593118, 0.53252696574656133),\n",
       " 'ADM': (0.22794148342899981, 0.08487323998522868),\n",
       " 'CPOX': (0.59859196457974906, 0.59806722905997134),\n",
       " 'KRT80': (0.44700396270568887, 0.01465072685074742),\n",
       " 'GPS1': (0.10685530257751995, 0.45285205999590439),\n",
       " 'ANO1': (0.54392740203190493, 1.7300110181794692e-06),\n",
       " 'ALMS1': (0.29116177895437156, 0.19308279598463876),\n",
       " 'RASSF6': (0.90063293326468241, 0.0094492852223570858),\n",
       " 'NBLA00301': (0.064948901341751381, 0.074786849979189135),\n",
       " 'FRS3': (0.25387577686369134, 0.33749623270334905),\n",
       " 'VCAN': (0.51624619126703386, 0.14234694375808213),\n",
       " 'GJB2': (0.11473224632541035, 0.0012280365045118698),\n",
       " 'ZNHIT1': (0.58853890183817148, 0.38697080619336399),\n",
       " 'PRSS23': (0.69367131675740534, 0.32787426484817161),\n",
       " 'AGTPBP1': (0.78135451108473442, 0.99029435176317049),\n",
       " 'DDX21': (0.15863814141676832, 0.3947671975385908),\n",
       " 'KIAA0141': (0.12044624036750699, 0.22321939167858176),\n",
       " 'HDAC2': (0.77726960389165467, 0.17421521440328913),\n",
       " 'IDO1': (0.8805783194446094, 0.012361091576636375),\n",
       " 'TMPRSS12': (0.36515168676936671, 0.0011914067106412786),\n",
       " 'HIVEP2': (0.18807735305082085, 0.74792149500360749),\n",
       " 'TSEN54': (0.87443995578006284, 0.12235159762372749),\n",
       " 'NPY2R': (0.02303662300048618, 3.9215722889303074e-06),\n",
       " 'SAMD14': (0.022630070170036425, 0.0007637398757431935),\n",
       " 'BZW2': (0.61309664245762086, 0.94456156280578307),\n",
       " 'RPS6KA6': (0.75635870224324608, 0.02010111904514629),\n",
       " 'SPRY1': (0.54188991964896838, 6.4724920171727577e-05),\n",
       " 'TCTA': (0.25142758118712005, 0.44301692476637355),\n",
       " 'C9orf85': (0.88394870964235051, 0.17487892026031412),\n",
       " 'TFG': (0.68786979244341173, 0.72714359939961137),\n",
       " 'SDCCAG8': (0.66135972223894912, 0.53929853778554759),\n",
       " 'PGAM5': (0.13740299027609532, 0.063798840998254003),\n",
       " 'IP6K2': (0.64972341612868867, 0.023702601771368143),\n",
       " 'MRPL52': (0.032057339047411551, 0.092674738811205276),\n",
       " 'AXDND1': (0.065106748553826962, 0.2535656425696502),\n",
       " 'DDX6': (0.4781526634316331, 0.48202317024154873),\n",
       " 'RNPEP': (0.8229797599951576, 0.046123496036080618),\n",
       " 'PTPN2': (0.1520766644565924, 0.030913455832914088),\n",
       " 'DNAJC2': (0.94495289033695407, 0.87093573549994219),\n",
       " 'CNNM1': (0.090591986510092745, 0.058285899745093531),\n",
       " 'DHODH': (0.043343880892690229, 0.37089921816928406),\n",
       " 'ROCK2': (0.9665548063003534, 0.27760342517377545),\n",
       " 'PLEKHF1': (0.064971715943519318, 0.71331529215790779),\n",
       " 'ZNF506': (0.51912657103465709, 0.070191862913233385),\n",
       " 'EIF3M': (0.90945515283651235, 0.42116261825180246),\n",
       " 'EFHA2': (0.83428379157289934, 0.0049847627168592406),\n",
       " 'TSTD1': (0.49119709739405959, 0.076365461494725326),\n",
       " 'LHX2': (0.080497345005018914, 0.81837112901701348),\n",
       " 'MADCAM1': (0.73647377402044034, 0.78236605902053558),\n",
       " 'TBCE': (0.90252090091747617, 0.48702821379559502),\n",
       " 'PARP10': (0.92012549938790755, 0.059845562960696833),\n",
       " 'NDEL1': (0.90277176704001738, 0.1711261536282013),\n",
       " 'LOC147670': (0.4129463501118863, 0.82014055153603727),\n",
       " 'RENBP': (0.68473396751235316, 0.17892967809718358),\n",
       " 'FCER1A': (0.77775022297342922, 0.73312417325932056),\n",
       " 'RMND5A': (0.8413474731396976, 0.4446501744188186),\n",
       " 'COX7B': (0.21125783907926995, 0.13112822098161142),\n",
       " 'SRSF11': (0.39215340933068543, 0.024255641096669459),\n",
       " 'FNTA': (0.52026371039680397, 0.90921985596595656),\n",
       " 'LAMA1': (0.27694335950068538, 0.0074401219703088212),\n",
       " 'IFI44L': (0.77285024412372105, 0.00063091085762148993),\n",
       " 'TIMM9': (0.48815331369844928, 0.21746939672810506),\n",
       " 'C6orf130': (0.03681906492984386, 0.19582347003440451),\n",
       " 'STX6': (0.25477846267250204, 0.3987458899659565),\n",
       " 'ADAM33': (0.1962068710906098, 1.2263133226173602e-05),\n",
       " 'HSPA4': (0.58250824979993387, 0.020195716137978364),\n",
       " 'TTC36': (0.08438755557546701, 0.91077977579398306),\n",
       " 'MRPL42': (0.75011211622624163, 0.94780600871415022),\n",
       " 'WDR25': (0.27227890881763317, 0.59938457416259716),\n",
       " 'OTUB1': (0.40875376044130973, 0.62831447735290213),\n",
       " 'POLH': (0.1691209988241367, 0.37603430195771104),\n",
       " 'KATNAL2': (0.55057895044204985, 0.29068469931493862),\n",
       " 'DEDD': (0.2319982968566322, 0.0296675111181408),\n",
       " 'XPC': (0.076171607797882276, 0.083766516572873193),\n",
       " 'NLN': (0.62969445629601417, 0.66525194540924493),\n",
       " 'CD53': (0.9627843287777279, 0.23615967969472321),\n",
       " 'LOC400027': (0.080128283422284466, 0.013095248413222868),\n",
       " 'C5orf34': (0.67304313044388919, 0.84241965791009976),\n",
       " 'NHLRC3': (0.81778833782034421, 0.36289273190131877),\n",
       " 'ARSE': (0.11419230762914233, 0.50041275831751497),\n",
       " 'LYNX1': (0.99334785059209563, 0.0033637321070864637),\n",
       " 'SNRNP48': (0.83308748835168045, 0.18169022459902526),\n",
       " 'CDC5L': (0.83558576025485698, 0.30148601426563265),\n",
       " 'APH1A': (0.15451844690040575, 0.0022706385962812793),\n",
       " 'PACSIN1': (0.13968191675132327, 0.0029148563026510557),\n",
       " 'TTC39B': (0.40620807592342778, 0.29387199821120996),\n",
       " 'MEGF8': (0.020509966377933488, 0.0075954158762693872),\n",
       " 'THAP3': (0.41671594002091961, 0.29651385701913074),\n",
       " 'DNAJA2': (0.56531854483439903, 0.16140865446936284),\n",
       " 'UNK': (0.9546620650499863, 0.48754217106636444),\n",
       " 'FYB': (0.31818163297751939, 0.07581398571469182),\n",
       " 'CCDC39': (0.54973895616683088, 0.28845211884278127),\n",
       " 'BBS9': (0.49381175835162927, 0.16024555774228533),\n",
       " 'CHKB': (0.52700291940125998, 0.088342279061992532),\n",
       " 'FAM160A2': (0.51423903390781334, 0.11848097150765954),\n",
       " 'DNAJC3': (0.67477932917686023, 0.48857757145138492),\n",
       " 'ZBED6': (0.56725672856114673, 0.69293135342017376),\n",
       " 'MYOCD': (0.2598360011627367, 0.16304585032568206),\n",
       " 'ACOXL': (0.13950452827157878, 0.25504886805174481),\n",
       " 'PGLYRP2': (0.35284400651335279, 0.29953791808270741),\n",
       " 'LEKR1': (0.00073130934437486811, 0.041083336359664928),\n",
       " 'SLC35B4': (0.99957166033157219, 0.4358846877069269),\n",
       " 'MYC': (0.071605648581243186, 0.031779640139669017),\n",
       " 'KSR1': (0.97718066653048397, 0.61915830808536709),\n",
       " 'PHF11': (0.42544600231995067, 0.21129548209965032),\n",
       " 'KRT13': (0.2254956361624357, 0.014696506982321018),\n",
       " 'MYO5A': (0.99593145306598185, 0.84328225641495713),\n",
       " 'PAK1IP1': (0.19714809574027162, 0.79435780700300573),\n",
       " 'APOC1P1': (0.82734370332648466, 0.76704094828531977),\n",
       " 'NIT1': (0.80176705338868037, 0.082582356940352028),\n",
       " 'SRD5A3': (0.16958186454565433, 0.79510325730874942),\n",
       " 'LRRC49': (0.30031158216642057, 0.48073249360151959),\n",
       " 'HSP90AB4P': (0.48342554591684406, 0.66888179362563838),\n",
       " 'FAM101A': (0.54702603740977884, 0.029917413977590439),\n",
       " 'MYO1E': (0.73393863580162633, 0.2987469820370216),\n",
       " 'LOC100506428': (0.74379824253128268, 0.20549650313325735),\n",
       " 'ARHGAP11A': (0.44208455705876204, 0.086892287948204999),\n",
       " 'CLEC2D': (0.16192478011533612, 0.31176448734269629),\n",
       " 'TMEM99': (0.61970390144377141, 0.78647801711892829),\n",
       " 'KIAA0100': (0.4337387448290716, 0.54229912280075976),\n",
       " 'GNA12': (0.15927276844906074, 0.50299874228068242),\n",
       " 'SURF1': (0.075180478954250299, 0.044497864882133094),\n",
       " 'SPSB4': (0.02469901410429642, 0.0041192888363284176),\n",
       " 'FOXM1': (0.5578636143618636, 0.00015182150563279297),\n",
       " 'TPCN1': (0.95298174329476759, 0.045985048121329933),\n",
       " 'PDCD7': (0.15820689418516934, 0.53622902792515637),\n",
       " 'NDUFB3': (0.67700904024334851, 0.94949115797027939),\n",
       " 'ADPGK': (0.53320625487151685, 0.7680127597901063),\n",
       " 'TBC1D19': (0.77506933700951453, 0.24715050475979811),\n",
       " 'NR2C1': (0.40303581212244644, 0.0091493365194797345),\n",
       " 'MCCD1': (0.52129301799008021, 0.14323958316549498),\n",
       " 'SYNDIG1L': (0.21390637093417914, 0.01597077861670422),\n",
       " 'TMEM204': (0.78486836582427189, 0.34854857235076264),\n",
       " 'SEC61B': (0.97719294986076566, 0.042293636847831606),\n",
       " 'DGAT1': (0.61160154269584566, 0.48918834160395075),\n",
       " 'EIF2C4': (0.17061292426188221, 0.11171952864513754),\n",
       " 'CLEC4A': (0.26844027704404855, 0.35464136415724845),\n",
       " 'RUNDC3B': (0.37367980050476279, 0.023660456979867645),\n",
       " 'DHX32': (0.38220839221533565, 0.30342551685795727),\n",
       " 'CCL26': (0.76572357909166744, 0.080148770593500548),\n",
       " 'SPIN1': (0.23302471681907819, 0.14604698212124054),\n",
       " 'SNX27': (0.3879105228327433, 0.85329715656847038),\n",
       " 'MED13': (0.22515607328778137, 0.13187233508250185),\n",
       " 'CCL8': (0.045622127524005504, 0.60839233054235509),\n",
       " 'ZBTB6': (0.75064523670654737, 0.84770218873429493),\n",
       " 'FGF9': (0.26137476058050246, 0.26640683791565933),\n",
       " 'MBD5': (0.16508867657180712, 0.09480248792793898),\n",
       " 'ZBTB8A': (0.24141335977930395, 0.18637038613696455),\n",
       " 'DDX42': (0.82596981744504938, 0.65470820010992181),\n",
       " 'MMP12': (0.58209966748265884, 0.10708504908321864),\n",
       " 'SLC5A2': (0.6780823713716948, 0.48432326290173022),\n",
       " 'C9orf86': (0.2107548411701945, 0.08488107375906094),\n",
       " 'OTUD7B': (0.41068801175466352, 0.53855753765177239),\n",
       " 'C14orf126': (0.89723442533619147, 0.044482931394372802),\n",
       " 'TFAM': (0.092306919459004461, 0.11700594002360208),\n",
       " 'C11orf93': (0.39054282202469637, 0.10644047986517208),\n",
       " 'MGRN1': (0.23976074445920501, 0.41717756993665811),\n",
       " 'BPGM': (0.069864620127227023, 0.066180553272725498),\n",
       " 'LRIF1': (0.46193282586360807, 0.80413383622933265),\n",
       " 'HMGN2': (0.96163225539674069, 0.36223574948875648),\n",
       " 'KIAA2026': (0.99061048531743201, 0.29317113054164967),\n",
       " 'KPNA2': (0.033963949132095703, 0.12474868184060083),\n",
       " 'TBRG4': (0.72701647265036784, 0.76938425699956348),\n",
       " 'TCEA2': (0.42085942927707598, 0.32343009027890879),\n",
       " 'ZNF8': (0.75654525738134992, 0.23437231123880162),\n",
       " 'ATP5S': (0.45057243298295302, 0.11048294654209802),\n",
       " 'TLE3': (0.5890220628348648, 0.090000191480535063),\n",
       " 'FBXO16': (0.48078844942980936, 0.22426672600017464),\n",
       " 'TMEM87B': (0.013229478896321749, 0.60783456379121104),\n",
       " 'NDUFB5': (0.60333721406235696, 0.95268052065317321),\n",
       " 'ACPL2': (0.096229261643456049, 0.099442885126260303),\n",
       " 'IP6K1': (0.38954867280128491, 0.084072946020354047),\n",
       " 'FUK': (0.94178955940427911, 0.79993839298777902),\n",
       " 'CIDEB': (0.028307614627027328, 0.12505155536881912),\n",
       " 'CAV2': (0.73246802387734555, 0.030877219212204467),\n",
       " 'LOC100144603': (0.46784536793413001, 0.14300769575747824),\n",
       " 'C17orf99': (0.5494860640956396, 0.41877555134815425),\n",
       " 'ZCCHC5': (0.67734521747764798, 0.015779858851337241),\n",
       " 'TM7SF2': (0.25942073604737326, 0.063257889529663103),\n",
       " 'RAB21': (0.17836091726551073, 0.36055407979098109),\n",
       " 'CYP4F24P': (0.2214494594288908, 0.0067294742640612295),\n",
       " 'KBTBD7': (0.076339149855549737, 0.51654768668816931),\n",
       " 'NOG': (0.89662685024739308, 0.073523848644713091),\n",
       " 'RBBP6': (0.61715977270920264, 0.57026682293502162),\n",
       " 'BIN3': (0.92532699792761308, 0.81798232961952633),\n",
       " 'TBL3': (0.8117097708544827, 0.96552172587958618),\n",
       " 'PLA2G12A': (0.42572651453035149, 0.20219151817754111),\n",
       " 'HELLS': (0.38560194217031096, 0.59328327585695062),\n",
       " 'HAPLN3': (0.002549159627080006, 0.30311148756348288),\n",
       " 'NETO2': (0.082761171130492625, 0.071858336958865066),\n",
       " 'PIWIL4': (0.12596494075671633, 0.22781733419212905),\n",
       " 'RNF32': (0.060360631596780998, 0.24625830314358868),\n",
       " 'GTF2A1': (0.24374976618760888, 0.49472589092157981),\n",
       " 'SIK2': (0.0841279213948051, 0.23995685716955673),\n",
       " 'COL6A6': (0.023088810230658577, 0.010415557947039258),\n",
       " 'SCARNA11': (0.61027516650055857, 0.22144400182962767),\n",
       " 'LOC553103': (0.55918068428642087, 0.96759902706135748),\n",
       " 'KLKB1': (0.10335781865480377, 0.21005649202051402),\n",
       " 'TSPAN31': (0.42856299223269601, 0.31879259118060738),\n",
       " 'UNC5A': (0.80049869696878684, 0.083295388362660316),\n",
       " 'C10orf105': (0.87094113569668097, 0.48153541244079356),\n",
       " 'HOXA4': (0.00981448480256626, 3.3758517673311638e-08),\n",
       " 'ZNF583': (0.49823637673978327, 0.2133689990466752),\n",
       " 'KIAA1045': (0.040796376721529422, 0.83008396302003939),\n",
       " 'AGR2': (0.0060689769263209759, 0.15763673464684186),\n",
       " 'NCKAP1L': (0.30513997598580089, 0.0009048163727705575),\n",
       " 'POLDIP3': (0.42990975096818052, 0.87038944729556289),\n",
       " 'TMCO6': (0.36868583592294402, 0.54064326898049009),\n",
       " 'NEO1': (0.99863772944749507, 0.077908842276344259),\n",
       " 'RGS4': (0.17031413195333636, 0.68278846536272808),\n",
       " 'C7orf44': (0.094667040256855892, 0.062994528939629535),\n",
       " 'DSG3': (0.1400486009778362, 0.00049438444175285939),\n",
       " 'KIAA0513': (0.19056381285047133, 0.42075503159830152),\n",
       " 'SASS6': (0.705016543926267, 0.60102464899821373),\n",
       " 'SOX12': (0.017859093352568096, 0.088462791669130736),\n",
       " 'ARHGEF17': (0.52180678335149056, 0.59687239535235947),\n",
       " 'MRPL46': (0.24498776309892573, 0.84431294118377354),\n",
       " 'KIAA2022': (0.55160355895508584, 0.053029491496430034),\n",
       " 'SLC45A1': (0.52043605797858272, 0.16963742518200561),\n",
       " 'LOC100289495': (0.34204885071977531, 0.045076425825413019),\n",
       " 'PPAPDC1A': (0.70574916643625485, 2.0916050393203612e-05),\n",
       " 'C3orf64': (0.84184389728557218, 0.016027286224764729),\n",
       " 'PITPNM2': (0.097921929285243223, 0.43374713670856901),\n",
       " '3-Mar': (0.80394558172043218, 0.87263135566710659),\n",
       " 'SLC43A1': (0.15283757504579537, 0.26154162822785743),\n",
       " 'TMPPE': (0.80177772525083335, 0.39432725707572247),\n",
       " 'CYTH4': (0.064878313747789157, 0.00026823201059496786),\n",
       " 'ADI1': (0.96383682691670058, 0.88221543075583964),\n",
       " 'ITFG1': (0.32653623053442926, 0.25486509823405484),\n",
       " 'KIAA1429': (0.0097538970364769318, 0.11732114263755571),\n",
       " 'KIAA1143': (0.29286079181450453, 0.3271351210543112),\n",
       " 'USP7': (0.25445156556597642, 0.070328519018349925),\n",
       " 'CCL4': (0.27294668851349801, 0.19829468961646773),\n",
       " 'WDR86': (0.3969666737566474, 2.8172438460865197e-06),\n",
       " 'IDS': (0.66590830241271215, 0.71201783796661844),\n",
       " 'ITSN2': (0.80613970262318591, 0.41912421254416676),\n",
       " 'C21orf49': (0.49758599600539666, 0.28388352341081946),\n",
       " 'RDH5': (0.10117163726072961, 0.34017914717016828),\n",
       " 'COBLL1': (0.69082145940911499, 0.48018105734231198),\n",
       " 'USP48': (0.67366142430359566, 0.370264426379872),\n",
       " 'CHP2': (0.95124741937269741, 0.41625760476249096),\n",
       " 'BDAG1': (0.58495138419863557, 0.027958437295310272),\n",
       " 'ENGASE': (0.26012990387445678, 0.81508851489911405),\n",
       " 'RCAN2': (0.86379000589061317, 0.7874206808073928),\n",
       " 'NUDT7': (0.17102319988411091, 0.14706066921290761),\n",
       " 'SH2B3': (0.53294937260959729, 0.70821290204406595),\n",
       " 'RPL12': (0.70633506866245632, 0.23989994329336511),\n",
       " 'MOSPD1': (0.53321284171678252, 0.6065459554567092),\n",
       " 'METTL3': (0.94215149769712248, 0.075153269136631548),\n",
       " 'AMFR': (0.48007973654503755, 0.13608314510898561),\n",
       " 'WDFY4': (0.22539740484249346, 0.0039758399190164785),\n",
       " 'CERS5': (0.063817285426486348, 0.91328197041485182),\n",
       " 'MED16': (0.28745306062881643, 0.1216606540048535),\n",
       " 'BBOX1': (0.50253101249631638, 0.010655126429270268),\n",
       " 'EPC1': (0.03955572233669425, 0.75165217496267189),\n",
       " 'WDR59': (0.2995146535814423, 0.018912761849043166),\n",
       " 'APOL4': (0.0056736913135391059, 0.0071560885080467198),\n",
       " 'TFB2M': (0.57276682045240768, 0.68818989722806256),\n",
       " 'MUC13': (0.20441589458036688, 0.56195993963747937),\n",
       " 'ACE': (0.89169396940349377, 0.033444250711842843),\n",
       " 'ZNF2': (0.18582686400545706, 0.1641935999296833),\n",
       " 'TUBGCP6': (0.11158763185862577, 0.0032763939422378783),\n",
       " 'L1CAM': (0.78870177556282095, 0.82263100949674839),\n",
       " 'SETD6': (0.61271727027891165, 0.037723719903679051),\n",
       " 'PTPRJ': (0.13289813837487782, 0.99620967287714368),\n",
       " 'INO80C': (0.92105328938584963, 0.72826863378154927),\n",
       " 'C14orf182': (0.083276805900035306, 0.27547069165108162),\n",
       " 'PRKCI': (0.030134107136112878, 0.00086431500443940159),\n",
       " 'REXO4': (0.35247412652247267, 0.22486043369940373),\n",
       " 'PSME4': (0.95860594198615967, 0.37669286896045384),\n",
       " 'PITPNM1': (0.36812435599804583, 0.13590724065512813),\n",
       " 'SPAG5': (0.37414839172756231, 0.016226927453952614),\n",
       " 'TEX22': (0.80606023589224796, 0.13762590277907655),\n",
       " 'CMTM5': (0.99268777716248147, 9.8638945753641429e-07),\n",
       " 'ANXA13': (0.76152097616460035, 0.23657218276713401),\n",
       " 'LOC100499489': (0.87195871205115216, 0.2446280263445296),\n",
       " 'CMYA5': (0.33370152804281861, 0.00065764664219075599),\n",
       " 'PRDX4': (0.30828608800926705, 0.48712547512171933),\n",
       " 'MRPL40': (0.23972804149321392, 0.11826409060739926),\n",
       " 'VKORC1': (0.31351909502040509, 0.073499787772827452),\n",
       " 'ZNF574': (0.83279471833332142, 0.75397232283709847),\n",
       " 'HAUS7': (0.73114935890947241, 0.70527268646968722),\n",
       " 'KIAA0195': (0.75500338266865374, 0.81771936941031131),\n",
       " 'GNL2': (0.73498688313864724, 0.16084177069305763),\n",
       " 'SCYL1': (0.61876585287459984, 0.84656683114675479),\n",
       " 'RAGE': (0.16750525542809219, 0.18657298728521146),\n",
       " 'TSTD2': (0.11215353816571455, 0.10472247956949617),\n",
       " 'C11orf73': (0.07659588948081554, 0.42598330705609166),\n",
       " 'PDHX': (0.98763691739394166, 0.43081053489012688),\n",
       " 'MAN1B1': (0.19182641011116017, 0.66339728981388157),\n",
       " 'PTPRN2': (0.88662419203277887, 0.80457298193024096),\n",
       " 'DOC2A': (0.00058542556229993425, 0.42145440085943531),\n",
       " 'NKX2-8': (0.026468989408120511, 0.14925081932496012),\n",
       " 'GTF3C2': (0.55348099308787879, 0.56038683105522435),\n",
       " 'VPS29': (0.5435327390048339, 0.87712134411181009),\n",
       " 'HES4': (0.023712385545179418, 0.57882997102768696),\n",
       " 'WDR11': (0.28255756232381529, 0.086290888343379876),\n",
       " 'SERHL': (0.0032752463065208841, 0.97938299838100207),\n",
       " 'S100A16': (0.62312817747303018, 0.010720602610773256),\n",
       " 'LOC150197': (0.93280490645332081, 0.46523697257573093),\n",
       " 'NNT': (0.91100699034530486, 0.87301044191203336),\n",
       " 'ADO': (0.22355293618729905, 0.40998441313880962),\n",
       " 'PBX3': (0.12274832411254868, 0.45658397915832116),\n",
       " 'VBP1': (0.54080442004757057, 0.45443690415474802),\n",
       " 'DCDC2B': (0.4157534428388181, 0.47405751400586327),\n",
       " 'GOLGA3': (0.058517113792329566, 0.0008284021048838),\n",
       " 'RIC8B': (0.23039738680845878, 0.046751747814879181),\n",
       " 'CASP2': (0.74130980126563295, 0.80445611537020456),\n",
       " 'USP9Y': (0.41492230911953343, 0.88158426803427525),\n",
       " 'LRRC41': (0.86998544147099799, 0.51637161076806404),\n",
       " 'TMX4': (0.60272880419356634, 0.52851279840200616),\n",
       " 'C15orf57': (0.44852559333127073, 0.77908396201013241),\n",
       " 'POLD1': (0.86636829020567374, 0.19303474599834575),\n",
       " 'KIAA0247': (0.012653257822442931, 0.35374021061699157),\n",
       " 'FILIP1L': (0.96703292160193288, 0.24819657530740857),\n",
       " 'ARHGAP42': (0.97097729728544102, 0.15784480279322791),\n",
       " 'COX6A1': (0.11143336637481373, 0.13069680260002689),\n",
       " 'PON2': (0.018095537655526541, 0.57002972817885078),\n",
       " 'GAL3ST1': (0.067955314463300623, 0.0066299543100963908),\n",
       " 'SAMD8': (0.41350637106969435, 0.06250363260500677),\n",
       " 'LOC100130231': (0.78990747022136931, 0.0072491157778058974),\n",
       " 'COMMD1': (0.059308008419980372, 0.81105666053562619),\n",
       " 'A1BG-AS1': (0.20622034495431857, 0.52131648841816647),\n",
       " 'C7orf50': (0.3990777917659305, 0.19105217164217969),\n",
       " 'RNF214': (0.104416218432292, 0.57769031869404597),\n",
       " 'C8orf84': (0.5248099448989888, 0.17112783193163789),\n",
       " 'FBXO11': (0.41195787178557008, 0.14034292525830189),\n",
       " 'TMEM59L': (0.074618634890924115, 7.6411973452007432e-06),\n",
       " 'APCDD1L': (0.0014304283749951262, 0.21339594557555192),\n",
       " 'AMOTL1': (0.66189438915400733, 0.01177575990768018),\n",
       " 'LBX2': (0.11616300054876731, 0.11692628270890051),\n",
       " 'C1orf55': (0.4062404022598286, 0.36700215421445426),\n",
       " 'RRN3P3': (0.38853903637448306, 0.34679436364573935),\n",
       " 'RAB5A': (0.1074151463354185, 0.71695861979114328),\n",
       " 'ZZZ3': (0.92017279249568107, 0.68331595955216895),\n",
       " 'ABHD14A': (0.81882261267363965, 0.72680081159464938),\n",
       " 'FCF1': (0.28973645672690973, 0.77026133473599878),\n",
       " 'BIVM': (0.77500166726339681, 0.021353950231949883),\n",
       " 'LOC400960': (0.081112320036956703, 0.91938477849487443),\n",
       " 'SP6': (0.64539712764248658, 0.092102954667645176),\n",
       " 'CRYM': (0.34313408675297075, 0.15750577161405779),\n",
       " 'DMAP1': (0.81020286452548618, 0.044560013334089661),\n",
       " 'TNK1': (0.50596947356059174, 0.37816233769105523),\n",
       " 'CFD': (0.0085344838111452628, 0.0025766530998132847),\n",
       " 'PTPRC': (0.55499589033789631, 0.12043500860037314),\n",
       " 'CSF1R': (0.27868986511846661, 0.019993368631107428),\n",
       " 'KARS': (0.13925142650711569, 0.99441137987363892),\n",
       " 'ZMIZ1': (0.94413884914731683, 0.0044350970362305635),\n",
       " 'C9orf129': (0.020050646298201597, 0.83721754946218674),\n",
       " 'ELMO3': (0.11023431567268598, 0.2739562477401849),\n",
       " 'C9orf82': (0.34022376119581887, 0.041369971579830994),\n",
       " 'FOXRED1': (0.79284700064333413, 0.64248515675647022),\n",
       " 'SLC26A7': (0.80016713265934003, 0.54838635944247349),\n",
       " 'SH3BP5L': (0.43340234741510808, 0.31203907715534518),\n",
       " 'SNORA81': (0.24757773408261605, 0.29790560326944915),\n",
       " 'IMMP2L': (0.27457477569982242, 0.037114045557203143),\n",
       " 'SNHG6': (0.049621747083089099, 0.77759513094564758),\n",
       " 'RASSF4': (0.21415617449964566, 0.029949140505579955),\n",
       " 'C19orf71': (0.72451663918046494, 0.76971880252508995),\n",
       " 'PGAP2': (0.27195931131803669, 0.87723480765207851),\n",
       " 'LOC100129148': (0.647307065275458, 0.81627633515481146),\n",
       " 'KCNJ10': (0.22430029727150533, 0.66339676622435495),\n",
       " 'FBXL3': (0.60639328814669158, 0.023373835694123844),\n",
       " 'MIR27A': (0.12176878363310323, 0.93636523272802985),\n",
       " 'PDE12': (0.62073372057333387, 0.53640702386479133),\n",
       " 'DTX3L': (0.27212678641611493, 0.06098472203544418),\n",
       " 'ZNF48': (0.59690459707932275, 0.0066233631932434206),\n",
       " 'HDC': (0.753086108037336, 0.96056076305548765),\n",
       " 'HPX': (0.27184927801229491, 0.070808071160144107),\n",
       " 'ARID5B': (0.11458977385166806, 0.012767301379758995),\n",
       " 'EFHD1': (0.023094843138834951, 0.011027852831666865),\n",
       " 'BCO2': (0.39535351532793217, 0.078116199809872083),\n",
       " 'ADAM10': (0.1195976450267147, 0.81321579235901387),\n",
       " 'RAB4A': (0.29867374550876047, 0.86433573586931201),\n",
       " 'KLHL23': (0.20926088574837948, 0.28153004653085806),\n",
       " 'CDYL': (0.13879596273231315, 0.83426563765720352),\n",
       " 'PRDM16': (0.72608013028719953, 0.33316731025046653),\n",
       " 'MPDZ': (0.68804400245263431, 0.083963813710336732),\n",
       " 'TRIM39': (0.28894410754560457, 0.63830330387137968),\n",
       " 'ZSCAN2': (0.82146250732402404, 0.27705299606225098),\n",
       " 'AURKA': (0.73144134023308915, 0.00021808045190945194),\n",
       " 'CDRT4': (0.99016827323555734, 0.045582161783190599),\n",
       " 'GDF10': (0.11738145103379249, 0.044032370053171538),\n",
       " 'MAPK1IP1L': (0.85199218966269818, 0.45815945975407779),\n",
       " 'C14orf101': (0.27277221904706367, 0.10086037879434009),\n",
       " 'PVRL1': (0.62726169283522082, 0.068945095103916415),\n",
       " 'PRDM6': (0.8223209654325776, 0.55489176225296843),\n",
       " 'ARRB2': (0.12193849061758633, 0.030516019429316168),\n",
       " 'SDHAP3': (0.19877468456048089, 0.085051913196840329),\n",
       " 'C3orf45': (0.22971953657503338, 0.018893216434855704),\n",
       " 'MMP13': (0.12839610120327585, 0.15225532309055967),\n",
       " 'PLTP': (0.043537466082045159, 0.3414111380012671),\n",
       " 'METTL21D': (0.35899790767311179, 0.20233208420069634),\n",
       " 'WNT5A': (0.023360195251604612, 0.1056039159868106),\n",
       " 'SHISA5': (0.48887485028759969, 0.037927641059050984),\n",
       " 'PRPF3': (0.35546130464287129, 0.28352472484447394),\n",
       " 'GABARAPL1': (0.98540576412680547, 0.055249187806765285),\n",
       " 'PKMYT1': (0.72608669805481174, 7.3503202688252362e-06),\n",
       " 'PI4K2A': (0.64352803583544771, 0.18063455103796192),\n",
       " 'MYO15B': (0.34172039928706643, 0.017606116818679757),\n",
       " 'SCD': (0.81105369856659881, 0.86031698690451652),\n",
       " 'MTMR1': (0.35367500453989886, 0.67448587930159576),\n",
       " 'ITPRIPL2': (0.86606635401287591, 0.32438036966690931),\n",
       " 'PPFIA1': (0.4666851994007053, 0.89212608128818616),\n",
       " 'SLC9A2': (0.37661156284637498, 0.81291868579852011),\n",
       " 'LIN54': (0.88156612496582676, 0.33625496375944341),\n",
       " 'TESK1': (0.45179547525517239, 0.51370296591286579),\n",
       " 'FGL2': (0.66322077805223356, 0.81219716715359402),\n",
       " 'NRBP2': (0.75806312148833421, 0.020562618892335672),\n",
       " 'LOC100188949': (0.15909476576494574, 0.011637942519465408),\n",
       " 'PMPCA': (0.58117560112011246, 0.87317520133690296),\n",
       " 'SRGAP1': (0.26997957766761599, 0.81504728128655546),\n",
       " 'RPL31P11': (0.19912935333113504, 0.43244453490060231),\n",
       " 'PSD3': (0.24433275002145716, 0.54429196031408877),\n",
       " 'PADI3': (0.064357427542414469, 0.34446455022684452),\n",
       " 'HEG1': (0.21843039037936582, 0.066458837037742025),\n",
       " 'C19orf48': (0.37246127670578744, 0.65400717852208734),\n",
       " 'NEK8': (0.11128303672464461, 0.7437050401937364),\n",
       " 'RALB': (0.80207706279712654, 0.35593743089020391),\n",
       " 'LOC100128788': (0.12885378522915156, 0.32771959821313534),\n",
       " 'IGJ': (0.00086586966320235459, 0.065996483345504148),\n",
       " 'HIF1A': (0.43057794498810453, 0.84354357405087899),\n",
       " 'SPAG17': (0.098182530782205693, 0.22396102268498755),\n",
       " 'AMACR': (0.33228526775231171, 0.15596763353140031),\n",
       " 'CLYBL': (0.18631327788469004, 0.20760055551313189),\n",
       " 'BAMBI': (0.031733889781273943, 0.63228612841600573),\n",
       " 'SPINT2': (0.019229223733637758, 0.20764754372984004),\n",
       " 'NGB': (0.0043895738346867597, 0.78873092737787276),\n",
       " 'HRASLS2': (0.0017492056799708661, 0.91344464136817061),\n",
       " 'DGKD': (0.21833735890260386, 0.35313408996182938),\n",
       " 'AGGF1': (0.98780574876643901, 0.6609452359230914),\n",
       " 'DBIL5P': (0.019148884546392114, 0.82768071792866693),\n",
       " 'MAPKAPK2': (0.56398197521692017, 0.0010297762445252248),\n",
       " 'KIAA1109': (0.55717638160669969, 0.024408705852404428),\n",
       " 'PVRIG': (0.24968895857939974, 0.0035677732001825327),\n",
       " 'LY86': (0.73436561694420888, 0.0022309302378795215),\n",
       " 'AXIN1': (0.74965940082187199, 0.075575166254105222),\n",
       " 'GFM1': (0.38093179028789126, 0.43401803986780374),\n",
       " 'SAA4': (0.04633912137512642, 0.0068091313195149071),\n",
       " 'ANKRD17': (0.99852259458956583, 0.066788630178463662),\n",
       " 'HERPUD2': (0.49963042309424988, 0.63665020526330507),\n",
       " 'PDE4B': (0.16988616409426738, 0.062683667933156578),\n",
       " 'CALCOCO1': (0.35185107369636026, 0.027166510250430168),\n",
       " 'VDR': (0.55659128242684353, 0.8923612769940199),\n",
       " 'RBMS1': (0.43394569987235809, 0.034672683542974155),\n",
       " 'TNFAIP1': (0.7903252962347993, 0.350748379812442),\n",
       " 'DDIT3': (0.16364322248978216, 0.84571377930951097),\n",
       " 'HEXA': (0.83696664938191034, 0.74276069927250843),\n",
       " 'CALCA': (0.61731116748229109, 0.45396573836130094),\n",
       " 'RP2': (0.43428987427601096, 0.84520930850340648),\n",
       " 'BOLA1': (0.63355929800421174, 0.16562289164656901),\n",
       " 'CLDN8': (0.8287457335281635, 2.0015069476548728e-05),\n",
       " 'AKAP8L': (0.00048832811333652257, 0.030865734382545886),\n",
       " 'SPTBN1': (0.18066151016597112, 0.050945785019424629),\n",
       " 'ARMCX6': (0.1216491137264048, 0.25809193296538219),\n",
       " 'XKR8': (0.87243573987671019, 0.63146505562437094),\n",
       " 'NLRP12': (0.25449687547751604, 0.83922170283363129),\n",
       " 'MGST1': (0.30293426913848115, 0.19535100853015083),\n",
       " 'CYBRD1': (0.4170832268354604, 0.53076394214068634),\n",
       " 'RAPSN': (0.021024380242413855, 0.35055181733245899),\n",
       " 'CMBL': (0.018582319888489008, 0.41550358235588813),\n",
       " 'CDKN2C': (0.019466170012656943, 0.0056074711400654195),\n",
       " 'EIF2S3': (0.30786255522499062, 0.61598756587476089),\n",
       " 'GPR137B': (0.27519473982769871, 0.048119685141697774),\n",
       " 'RBBP5': (0.4715790907413866, 0.9284504047304516),\n",
       " 'CRABP1': (0.029883570025306377, 0.00087123114310925045),\n",
       " 'PDGFD': (0.27300811752567783, 4.5267539652694785e-07),\n",
       " 'CEP112': (0.97328047114090932, 0.046983112719781561),\n",
       " 'LOC729723': (0.24146183531735221, 0.54602016694389055),\n",
       " 'SNRPC': (0.04160907311915945, 0.00024865781987159526),\n",
       " 'CLDN12': (0.18791106027159227, 0.16232974517644994),\n",
       " 'SUOX': (0.91574307929589305, 0.83173071373480711),\n",
       " 'MPV17L2': (0.3693761387984773, 0.59759426718980602),\n",
       " 'VEGFC': (0.28857371838719781, 0.042258883148135383),\n",
       " 'C8ORFK29': (0.16543884760651115, 0.66519289910710899),\n",
       " 'VPS13A': (0.34621809995688824, 0.035538140349250694),\n",
       " 'FICD': (0.53568587235728649, 0.83284393981836824),\n",
       " 'EIF3D': (0.031610209979408443, 0.96342171791077269),\n",
       " 'SART3': (0.47040380978224727, 0.27212043040668682),\n",
       " 'COX7A2L': (0.74086705271950981, 0.67170951406899881),\n",
       " 'GRIA4': (0.24756701714958415, 4.185382592971469e-05),\n",
       " 'GALNT2': (0.56003791143735704, 0.11614642139580048),\n",
       " 'MYO7A': (0.16256022991044142, 0.93760887826725148),\n",
       " 'ZNF143': (0.81959456560780808, 0.59514072120022554),\n",
       " 'ANXA4': (0.5171434204550942, 0.81129852128229407),\n",
       " 'MACROD2': (0.69995499928308968, 0.055893084762387635),\n",
       " 'FOXO1': (0.017555088027857386, 0.68411508441481816),\n",
       " 'LCP2': (0.7646404251975748, 0.057375549901227493),\n",
       " 'TMEM150C': (0.4872439681022448, 0.56243539304984225),\n",
       " 'CLK4': (0.44718561209262087, 0.042322650925906161),\n",
       " 'TMEM88': (0.42408391067273232, 0.00074994011511406297),\n",
       " 'SMAD1': (0.19094091066835253, 0.45585407809095813),\n",
       " 'TRAPPC1': (0.73157207140015534, 0.46428779091175043),\n",
       " '6-Sep': (0.83629543313529853, 0.74522434910540758),\n",
       " 'SHANK1': (0.045445364123356494, 0.1252293772091406),\n",
       " 'PPEF1': (0.04738679706087328, 0.27114296060539622),\n",
       " 'CETP': (0.49186150681107843, 0.44313962342128499),\n",
       " 'SLC39A10': (0.71301592721592144, 0.076534272784422111),\n",
       " 'NOTCH3': (0.29948240237772283, 0.057957998471532234),\n",
       " 'ERH': (0.67012339922048481, 0.17353895169165715),\n",
       " 'CTNNAL1': (0.65330051895987906, 0.06151541755338101),\n",
       " 'LRFN3': (0.96302836872995556, 0.13941149738275244),\n",
       " 'ANKRD28': (0.90585056259744501, 0.71877903109777996),\n",
       " 'DNAJC5': (0.32132998108777489, 0.16616806936494574),\n",
       " 'DRAP1': (0.96088912719865716, 0.18387003301837546),\n",
       " 'GPR125': (0.5368853788824357, 0.11945353926579609),\n",
       " 'NBEAL1': (0.22464575506644002, 0.080964152905924638),\n",
       " 'WNK2': (0.16025796610131218, 0.073177535912837127),\n",
       " 'GPR34': (0.62918592044828514, 0.95062353911427733),\n",
       " 'IRF4': (0.0053265040390220522, 0.34376669039861341),\n",
       " 'SLC38A9': (0.66401388788598459, 0.64012954655497056),\n",
       " 'C1RL': (0.073275972252169919, 0.011877983547698919),\n",
       " 'KCNK1': (0.40136233298778079, 0.36388372018700699),\n",
       " 'GLYR1': (0.96215358733345924, 0.26477688003204558),\n",
       " 'C15orf59': (0.92309502015469991, 0.049996270955846744),\n",
       " 'BRD9': (0.93090530152415196, 0.57989268143944772),\n",
       " 'GMNN': (0.33269825187663149, 0.083699563997633564),\n",
       " 'PDLIM4': (0.81694332511907775, 4.9860333894838407e-05),\n",
       " 'C2orf89': (0.397536998289029, 0.44060853908565256),\n",
       " 'ATG14': (0.61661564535797964, 0.1939601175226007),\n",
       " 'PDZD8': (0.56237469610024693, 0.05984380751278795),\n",
       " 'PRSS16': (0.86839496804166671, 0.024040368987138492),\n",
       " 'RNF169': (0.21392100642960588, 0.82323547767461658),\n",
       " 'LOC401022': (0.79546730806969168, 0.0010640614519228013),\n",
       " 'HMGCLL1': (0.018050247840530519, 6.1272508822300122e-05),\n",
       " 'PIK3R2': (0.95196243274711556, 0.36354805559982373),\n",
       " 'ME1': (0.85072679246702376, 0.58340550753832532),\n",
       " 'NBEA': (0.47534292128201772, 0.0032908270406461276),\n",
       " 'RNF187': (0.85532729768759008, 0.0062186898041774281),\n",
       " 'RAD51AP1': (0.41554451096108824, 0.092123461625485417),\n",
       " 'PIM3': (0.024112915178267122, 0.0058084450948012603),\n",
       " 'CILP2': (0.58720147997203287, 0.19261787071746259),\n",
       " 'PFKFB1': (0.53575012115546816, 0.041112100571751645),\n",
       " 'FAM198A': (0.5889757913860092, 0.059819240729394464),\n",
       " 'IRS1': (0.68817621559985009, 0.0047572838365590496),\n",
       " 'C7orf54': (0.67594392308410756, 0.50608114812283489),\n",
       " 'COPS3': (0.0050747747189836632, 0.0038116092889885506),\n",
       " 'C11orf57': (0.50227947590255062, 0.96886149776990238),\n",
       " 'BCOR': (0.42625650206663313, 0.64410084523432021),\n",
       " 'SKP1': (0.51646556948579037, 0.9671320503601788),\n",
       " 'C8orf44': (0.91024866854210784, 0.1912020265585079),\n",
       " 'MBOAT2': (0.028108950688116443, 0.99640035001883265),\n",
       " 'BLMH': (0.9988070900033863, 0.73562438391334917),\n",
       " 'SS18': (0.63617921667580712, 0.86518536324391293),\n",
       " 'WASL': (0.40767798111686093, 0.42639588087003111),\n",
       " 'POFUT1': (0.75082704389388988, 0.90415453036005333),\n",
       " 'UBQLN2': (0.93096455783833332, 0.22558299758400366),\n",
       " 'LOC100131564': (0.91923068329343161, 0.57512602311738581),\n",
       " 'AAGAB': (0.12499446102420585, 0.26836398931117128),\n",
       " 'LOC100506334': (0.41987088770310665, 0.079997478074202738),\n",
       " 'FNBP4': (0.32879772403327945, 0.12394135180908694),\n",
       " 'C21orf2': (0.31001227036353451, 0.033308520552673748),\n",
       " 'ENOSF1': (0.40162578682295391, 0.015830042533582483),\n",
       " 'ISPD': (0.36349798048708137, 0.012497729636208498),\n",
       " 'TASP1': (0.86462723148969811, 0.90635138511487767),\n",
       " 'WFS1': (0.42375252307429678, 0.17571851880992773),\n",
       " 'ASB2': (0.031139298961515221, 0.017427130753409723),\n",
       " 'AQP5': (0.00978973999709957, 0.0042801448986254965),\n",
       " 'ELK3': (0.98302642151081887, 0.63361978523919316),\n",
       " 'SVOPL': (0.012685393840834239, 0.73049302426160789),\n",
       " 'FAM59A': (0.28111580790514556, 0.0051781666018912058),\n",
       " 'FGD6': (0.5565207051403811, 0.92612125607749818),\n",
       " 'LOC728024': (0.67190399339960216, 0.34189795972424497),\n",
       " 'FAM8A1': (0.59819924948572734, 0.1299566355116277),\n",
       " 'BCL2': (0.23495636219175245, 0.19113712027292537),\n",
       " 'SYS1': (0.40935395411445863, 0.25594727843626724),\n",
       " 'DDX56': (0.51611768271619074, 0.77823103851736453),\n",
       " 'DLG1': (0.71928651875071825, 0.60559728336354157),\n",
       " 'SCUBE2': (0.0047673859358131742, 0.87445820769843796),\n",
       " 'TXNRD1': (0.3606945504388841, 0.92866693311233872),\n",
       " 'ABHD8': (0.057111936454656058, 0.044229084337268014),\n",
       " 'ZNF100': (0.42762350588696962, 0.72143058346168221),\n",
       " 'SH3BGRL3': (0.29521483424070111, 2.6793729521246549e-05),\n",
       " 'PRKCA': (0.26505283549564529, 0.02508262488635617),\n",
       " 'DYNLL2': (0.78315962344350531, 0.38883170671586764),\n",
       " 'CCS': (0.62971191920453551, 0.82911394400528671),\n",
       " 'CYP2S1': (0.50814363794656492, 0.00035423081064560471),\n",
       " 'DHX38': (0.21952693233489501, 0.77687781332957373),\n",
       " 'ARAP1': (0.81316990135521605, 0.54321793023671394),\n",
       " 'AKAP11': (0.88039654463143169, 0.077870461958479381),\n",
       " 'DYNLT1': (0.18971940242953936, 0.50988868707142998),\n",
       " 'SPA17': (0.22470658060089793, 0.94343755152077036),\n",
       " 'MYBPC3': (0.31985069878471317, 0.08507702389571288),\n",
       " 'METTL14': (0.4984779643296865, 0.2106536611393329),\n",
       " 'CCDC142': (0.58855400149232762, 0.76419934839660897),\n",
       " 'ISG15': (0.24014846249928931, 0.00074024004106151571),\n",
       " 'DCTN6': (0.79851569350377893, 0.4627489136197096),\n",
       " 'EIF5A2': (0.67688266727138313, 0.3637987533498922),\n",
       " 'TMEM41A': (0.29702422744649565, 0.0058647139037185944),\n",
       " 'CS': (0.021754549412008817, 0.049287733003280786),\n",
       " 'PER2': (0.20653653843433295, 0.11621190996814462),\n",
       " 'SNX25': (0.18311285642689479, 0.38551587263300835),\n",
       " 'RAB15': (0.16539706422433462, 0.92137781363134508),\n",
       " 'LOC285205': (0.73616697417326105, 0.1015299864661303),\n",
       " 'ZCCHC3': (0.58549362210242129, 0.37300067590671826),\n",
       " 'DKK2': (0.17854154060665708, 0.020195511381118081),\n",
       " 'SYCP3': (0.61317573777851764, 0.6946227515410357),\n",
       " 'COL20A1': (0.30405152229324506, 0.52539500518092075),\n",
       " 'TLL2': (0.43953474787467528, 0.33291742363090138),\n",
       " 'FAM57B': (0.00025797970501288979, 0.99565566540066708),\n",
       " 'LEPROTL1': (0.98727929235851752, 0.54105405090322356),\n",
       " 'TUT1': (0.95617150943458695, 0.57806092823397459),\n",
       " 'SLC30A9': (0.34072879404788081, 0.074468781144315793),\n",
       " 'ARF5': (0.18188877264351178, 0.45070048843506194),\n",
       " 'KIF26A': (0.10094426588568441, 0.0015287055532460419),\n",
       " 'MLXIPL': (0.26537305892312618, 0.022649964193318425),\n",
       " 'TMEM120B': (0.79344924400617556, 0.97167965226424002),\n",
       " 'HLA-DQA2': (0.72855448914157661, 0.011716007894048515),\n",
       " 'MAP6D1': (0.61986669539331019, 0.83589690468923872),\n",
       " 'ITK': (0.67807572964983698, 0.21429698436947117),\n",
       " 'HSD17B4': (0.11601042075323981, 0.35670335977627121),\n",
       " 'LOC642852': (0.98847755189422326, 0.52214381448802194),\n",
       " 'FASN': (0.16160126756677909, 0.61890687864083604),\n",
       " 'CYB5B': (0.44024573857931348, 0.94292994848519129),\n",
       " 'FAM92A1': (0.68566556235862208, 0.10733497219986869),\n",
       " 'PTDSS1': (0.67733123287319974, 0.65633516608481623),\n",
       " 'FAM114A2': (0.71729809469007755, 0.50436339866768676),\n",
       " 'PLEK2': (0.58263034505564781, 0.51677085583544313),\n",
       " 'HAUS4': (0.25356102709272971, 0.62481914353807388),\n",
       " 'CENPP': (0.029370199354428826, 0.0052893408078173859),\n",
       " 'PEX5': (0.56623953231522361, 0.06833291077039487),\n",
       " 'MED10': (0.63686544734865647, 0.71063356992633353),\n",
       " 'ACTR10': (0.80668231658958256, 0.28481475973552278),\n",
       " 'RNF220': (0.2322151539887583, 0.29230919820562989),\n",
       " 'MMADHC': (0.63060428689410331, 0.33024470778708159),\n",
       " 'RALGPS2': (0.069215215161291047, 0.45439300421045037),\n",
       " 'BRMS1L': (0.85853777466534997, 0.11416217535833977),\n",
       " 'TRAPPC3': (0.32847697731755976, 0.31380020727079605),\n",
       " 'LARP1': (0.011777848362329403, 0.00065527560090074515),\n",
       " 'SYNPO': (0.79894915377395659, 0.81911718319619209),\n",
       " 'CMTM8': (0.69020819464863759, 0.26805606974667939),\n",
       " 'PTGDS': (0.093924919360360321, 0.065848234249031468),\n",
       " 'PTS': (0.44510567165683912, 0.79894241245870679),\n",
       " 'CCNG1': (0.76507422183870233, 0.27050554334405458),\n",
       " 'C20orf108': (0.84104773315074988, 0.042660748517493213),\n",
       " 'COG8': (0.28815460349091238, 0.65524944038014121),\n",
       " 'LCA5': (0.77674837982115619, 0.0064254238036439877),\n",
       " 'NR2E3': (0.018031945971359188, 0.34392822654533151),\n",
       " 'PIAS1': (0.42019651462407703, 0.90855750269774727),\n",
       " 'RPL8': (0.38343268533374941, 0.46175303639352272),\n",
       " 'LGALS4': (0.22678924093585973, 0.59658799247481098),\n",
       " 'CYP4X1': (0.84102902895576348, 0.32193710714619922),\n",
       " 'MRPS17': (0.88523285641742389, 0.32616808350873205),\n",
       " 'FAM102B': (0.6211344613324723, 0.36949209528449023),\n",
       " 'ARHGDIB': (0.64181813037495417, 0.00054307065029226176),\n",
       " 'TRIM9': (0.29383424767093841, 0.0077859378812041666),\n",
       " 'PDE11A': (0.14102906082128372, 0.0065503243234255543),\n",
       " 'SLC25A22': (0.90406924744848371, 0.00014450549397536399),\n",
       " 'RALGDS': (0.24990341776775116, 0.34449188288120725),\n",
       " 'FCHO1': (0.30780998789596725, 0.43915583777824441),\n",
       " 'MSN': (0.073790592853190992, 0.032162143421597053),\n",
       " 'CTSG': (0.049442791174011833, 0.09049273752349199),\n",
       " 'BSDC1': (0.45056611357855225, 0.088846302369920624),\n",
       " 'CD164': (0.3503908793017857, 0.087990256543322681),\n",
       " 'CMTM6': (0.574759798798677, 0.67898278093613185),\n",
       " 'C17orf75': (0.8380883463742439, 0.56279053720190231),\n",
       " 'GPR124': (0.0017314677624733679, 0.0013187327367479942),\n",
       " 'LOC100505483': (0.14574917627489709, 0.27113066093982313),\n",
       " 'SERPING1': (0.23605680163949475, 0.60290418659560818),\n",
       " 'AP1AR': (0.39217091261174608, 0.10793339042616446),\n",
       " 'IAH1': (0.97750104011142991, 0.19724594632844303),\n",
       " 'SYT8': (0.0020909364717589607, 1.3988010886931629e-10),\n",
       " 'DIEXF': (0.66025280547763598, 0.55110179845803753),\n",
       " 'FMNL1': (0.37232758996343329, 0.015899742514060202),\n",
       " 'PLEKHA2': (0.84921446788330091, 0.68684684931918272),\n",
       " 'TCHP': (0.55116555277626189, 0.29855834693319),\n",
       " 'PPL': (0.15379983502732381, 0.027753006613876002),\n",
       " 'TSPO': (0.56766405294327593, 0.054293423669556834),\n",
       " 'USP25': (0.6909814354069872, 0.22995835454052707),\n",
       " 'METTL16': (0.27224924964494601, 0.30384466172017216),\n",
       " 'PBX4': (0.061085993996352825, 0.14422324928940597),\n",
       " 'RPLP0P2': (0.30549761977145529, 0.0050830606273687155),\n",
       " 'TMEM116': (0.47110988708896828, 0.61990084874764806),\n",
       " 'DECR2': (0.22209465715396429, 0.047544768913180963),\n",
       " 'LAMA3': (0.0037137580613686191, 2.2974977640605726e-07),\n",
       " 'MRPL9': (0.66310739569658339, 0.2984968764699627),\n",
       " 'RBM23': (0.38427064577877712, 0.81387504156571289),\n",
       " 'RPS3': (0.89651521866463868, 0.051071208876089416),\n",
       " 'PIH1D2': (0.90655912030249264, 0.83199789946132174),\n",
       " 'CCDC25': (0.13138867723504724, 0.80701309085388562),\n",
       " 'NKIRAS1': (0.12716497741867189, 0.022182225644582467),\n",
       " 'FAM118B': (0.08360136948003527, 0.01169766159317181),\n",
       " 'NKD1': (0.033406944091034854, 0.014636595704294623),\n",
       " 'C19orf25': (0.14394419826771615, 0.76582519940065386),\n",
       " 'GNPDA1': (0.4415194087407911, 0.19183620799858161),\n",
       " 'TCEAL5': (0.10307025427457087, 4.9512670771400165e-05),\n",
       " 'METRN': (0.32828782253714206, 0.026790037830497486),\n",
       " 'LOC100499405': (0.29492056187810967, 0.010660759051444526),\n",
       " 'TRIM11': (0.58406883693156408, 0.0097462907477177691),\n",
       " 'NDUFS3': (0.77149211123376482, 0.050759108467508647),\n",
       " 'C6orf120': (0.62581446000605612, 0.37910556529798656),\n",
       " 'PARVA': (0.62844788626852655, 0.80658639946475863),\n",
       " 'NCOA6': (0.75074318811580687, 0.81874113210768562),\n",
       " 'ENAH': (0.85764465318848004, 0.10437672707294386),\n",
       " 'NEFL': (0.24307727825437889, 0.025936965262048257),\n",
       " 'CCDC164': (0.30570739795844626, 0.89873206687171525),\n",
       " 'BTBD6': (0.074910169927502018, 0.080433279064892838),\n",
       " 'SPR': (0.19829533350227896, 0.098447771129668155),\n",
       " 'CLN3': (0.13432315532455766, 0.19855721235889778),\n",
       " 'NUDT22': (0.05554753254155842, 0.20049853441263124),\n",
       " 'RINT1': (0.65934758259079584, 0.17135481158533936),\n",
       " 'MID1': (0.44553435261431074, 0.51156603086995756),\n",
       " 'ZNF688': (0.94956015979008446, 0.083521396402141498),\n",
       " 'PDS5B': (0.49745155989547551, 0.043183045801255399),\n",
       " 'LMO1': (0.077024128203452183, 0.10966280014344608),\n",
       " 'TRIP10': (0.38328791648199545, 0.42456439373579347),\n",
       " 'MASP1': (0.33247818255649286, 0.11535709313839226),\n",
       " 'ANKRD58': (0.56461826534352588, 0.011206185950542024),\n",
       " 'FAM78B': (0.52967863174515328, 0.80355921869884717),\n",
       " 'THSD7A': (0.8762391345030589, 0.96921518446486665),\n",
       " 'NFX1': (0.69949369798556904, 0.71511656282703684),\n",
       " 'MS4A6A': (0.81144120654273089, 0.26191044159094862),\n",
       " 'TRAPPC10': (0.14731193545840537, 0.3108478212000455),\n",
       " 'ZNF282': (0.68159333756108831, 0.56201584416509032),\n",
       " 'SLC34A3': (0.41254664980537525, 0.84573809762290808),\n",
       " 'IKZF2': (0.27694408544793242, 0.68400608778163297),\n",
       " 'CNR1': (0.98945033081837397, 0.66949179933586456),\n",
       " 'TOMM70A': (0.79966495208719601, 0.60431383209820533),\n",
       " 'RNF114': (0.053115665411528637, 0.29404581421685594),\n",
       " 'DDX41': (0.5812040358707411, 0.31894149280504319),\n",
       " 'ERP44': (0.93570821911889446, 0.95870243977954983),\n",
       " 'NCRNA00277': (0.011297022179050136, 0.38569111544225376),\n",
       " 'TRH': (0.90039538518894013, 0.36336686970120891),\n",
       " 'CLEC10A': (0.12222713893960678, 0.098809245996219916),\n",
       " 'APPBP2': (0.52948976958045724, 0.19640800715102402),\n",
       " 'GOLGA6L10': (0.39721215102585594, 0.92956977788216788),\n",
       " 'TEP1': (0.074611869121246011, 0.8608836596180085),\n",
       " 'CSNK1G1': (0.51748626487618021, 0.9174132711031644),\n",
       " 'ENDOU': (0.75505702740494873, 0.51942624558133321),\n",
       " 'MEX3B': (0.80976324024868584, 0.45901152634120335),\n",
       " 'GYLTL1B': (0.6175463020243257, 0.15197323442530319),\n",
       " 'C14orf159': (0.098206726040856868, 0.99676649530440831),\n",
       " 'WDR67': (0.61219130226030116, 0.87827938169533626),\n",
       " 'LAMB2': (0.054161838134934186, 0.024180084101384301),\n",
       " 'NEURL2': (0.13724871728678953, 0.030353970915091573),\n",
       " 'CTU2': (0.38380745039038378, 0.78035506232419838),\n",
       " 'PTGS2': (0.49912461875611003, 0.018870748499702765),\n",
       " 'TOB1': (0.59164497610019695, 0.87590977395369296),\n",
       " 'RABEP2': (0.00649288594702654, 0.38877406875060572),\n",
       " 'HSD17B13': (0.96801604836555921, 0.013288399209875529),\n",
       " 'GPX4': (0.62057594461842025, 0.35668965707608347),\n",
       " 'HIST1H2BG': (0.83274376958959695, 0.57138089877242593),\n",
       " 'C1QL1': (0.0060372564299768419, 0.0001014681230840292),\n",
       " 'TRAPPC8': (0.30072575203235885, 0.27423662530678133),\n",
       " 'SOCS1': (0.0021302968845642702, 0.0027071445648368616),\n",
       " 'KRT8': (0.016936658424084393, 0.016434989694084218),\n",
       " 'UBE2J2': (0.74865532398716628, 0.21371747299865992),\n",
       " 'DARS2': (0.94007923516088154, 0.10566559024385784),\n",
       " 'C14orf50': (0.95115373082267163, 0.52670031310118959),\n",
       " 'GOLGA8A': (0.29986903338038018, 0.060180028822353876),\n",
       " 'C12orf54': (0.54176380422033987, 0.1345585516435546),\n",
       " 'STXBP3': (0.11252146013802918, 0.13238459797143082),\n",
       " 'PPP6R1': (0.5698667059846948, 0.0039449869652733579),\n",
       " 'CLDN7': (0.0052480883020367989, 0.37157577492776683),\n",
       " 'HN1L': (0.27179637398793793, 0.0074953666583539302),\n",
       " 'LOC440288': (0.20318092504039842, 0.46454030450205219),\n",
       " 'NGRN': (0.85792752521270288, 0.75585167124154318),\n",
       " 'IL1B': (0.048415393153250469, 0.40167500799877809),\n",
       " 'PEX11G': (0.071295992406817804, 0.45318021474272552),\n",
       " 'CCDC104': (0.98963667955051415, 0.67998889003507812),\n",
       " 'SMU1': (0.92109817952877626, 0.14382120945964311),\n",
       " 'AHCYL1': (0.87744657890527533, 0.4030405281973608),\n",
       " 'PARP8': (0.40304888671526218, 0.64439193204779255),\n",
       " 'NCRNA00339': (0.78134901031979576, 0.39521136418744029),\n",
       " 'OLFML2A': (0.013623546199825275, 0.00097948837979223362),\n",
       " 'GPR137': (0.051571684021389376, 0.40218609937829408),\n",
       " 'DEPDC7': (0.21711938642158948, 0.95445591814879871),\n",
       " 'NOB1': (0.023134414313235339, 0.00019150959955627453),\n",
       " 'SOLH': (0.22378500607493312, 0.0044091726455275718),\n",
       " 'LEPROT': (0.9581711674724922, 0.088146799342144103),\n",
       " 'LOC441617': (0.41960668084010344, 0.00776008079621608),\n",
       " 'TDP1': (0.97438215651790028, 0.68650149759432444),\n",
       " 'SCARF1': (0.71314969061958489, 0.30697090779066227),\n",
       " 'ZNF536': (0.61975626428221209, 0.8000393076822051),\n",
       " 'MPZ': (0.018684910348921759, 0.55557229432854838),\n",
       " 'APOA1BP': (0.63821527358570074, 0.0035287801046146351),\n",
       " 'AMBRA1': (0.80125955868118581, 0.1380866933547743),\n",
       " 'GNB1': (0.69404596784468331, 0.001154857967983907),\n",
       " 'KCTD20': (0.61414123867225334, 0.13830037876897316),\n",
       " 'CD247': (0.084295525239576674, 0.022760269789420386),\n",
       " 'HSF4': (0.16199086653509581, 0.032502590657566957),\n",
       " 'SNORD81': (0.34519289051889313, 0.89498824667939836),\n",
       " 'PCSK7': (0.13147835358864834, 0.098751403927413536),\n",
       " 'TAPT1': (0.47472116219227944, 0.29855566148815049),\n",
       " 'LDHA': (0.57825033753941069, 0.071920740571930514),\n",
       " 'TFB1M': (0.69257783252557514, 0.66591802084104756),\n",
       " 'TSHZ2': (0.65027385205455956, 2.503748826744233e-08),\n",
       " 'P2RX5-TAX1BP3': (0.58379285056866581, 0.019702009294428568),\n",
       " 'IARS': (0.30251479222384209, 0.32482322399290575),\n",
       " 'DBC1': (0.98837282003366189, 9.7461075150845678e-06),\n",
       " 'NDUFAB1': (0.40313755661578077, 0.76373608752055322),\n",
       " 'ESRRA': (0.58270860046795692, 0.15165740157973362),\n",
       " 'RELL2': (0.009511501942697927, 0.067295918997552676),\n",
       " 'NGLY1': (0.71021653565708953, 0.35779370414119649),\n",
       " 'REC8': (0.55186820990949637, 0.078571083266563452),\n",
       " 'HMGXB4': (0.79119840781987072, 0.45020582481268601),\n",
       " 'TMEM71': (0.052245706060332374, 0.099129170373681741),\n",
       " 'RBX1': (0.76308361940642477, 0.21143547919791295),\n",
       " 'STK4': (0.59542880847492152, 0.014992347284962602),\n",
       " 'PLSCR1': (0.63414366731846039, 0.69905550852426279),\n",
       " 'TRIAP1': (0.60226990168504746, 0.96150515767711853),\n",
       " 'RHEB': (0.21378444302632416, 0.50743297941964649),\n",
       " 'MAP7': (0.3857292366344055, 0.34750447980045951),\n",
       " 'C12orf62': (0.076849630495036389, 0.11421642029709027),\n",
       " 'GLIS2': (0.61641353010396627, 0.012689244997308797),\n",
       " 'DDO': (0.88931372283540244, 0.098288582857813084),\n",
       " 'S100A8': (0.33987163997586567, 0.076390058361933355),\n",
       " 'C20orf11': (0.58995019887606726, 0.8962508997062365),\n",
       " 'CRYAA': (0.47431434603929601, 0.70501059136993316),\n",
       " 'TCEAL1': (0.043601001224828788, 0.55784354235773659),\n",
       " 'PAPSS1': (0.848163427697745, 0.097157717054750889),\n",
       " 'GADD45GIP1': (0.99606160960419665, 0.31671229086963304),\n",
       " 'APOL6': (0.2908973261850647, 0.54384610003158085),\n",
       " 'LRRC14': (0.27713698438587436, 0.20310661398454671),\n",
       " 'EPC2': (0.48339510581486222, 0.44555830997172274),\n",
       " 'LOC401588': (0.2076416977402879, 0.60834950054745973),\n",
       " 'KCNQ3': (0.17259305129876168, 0.10141034038918149),\n",
       " 'USP47': (0.97579923057985352, 0.77236660605730112),\n",
       " 'C12orf57': (0.43376480062603529, 0.8873604704771777),\n",
       " 'CAB39': (0.36908173970647828, 0.39662241973971912),\n",
       " 'YY1': (0.15227960355398992, 0.23223839664742332),\n",
       " 'PPM1F': (0.2242192098973653, 0.56133903556762221),\n",
       " 'POLR2A': (0.16006575354691585, 0.84442423731900884),\n",
       " 'ANK2': (0.38427107767156155, 0.80955864475179462),\n",
       " 'C11orf21': (0.69233555567200133, 0.98393780826435528),\n",
       " 'C9orf167': (0.58116341713024777, 0.20238489303221766),\n",
       " 'PROCR': (0.46610612918745886, 0.39322675993859757),\n",
       " 'RNF121': (0.51809840790798944, 0.10194882290896706),\n",
       " 'JMJD7': (0.61304723928981597, 0.87107201521623845),\n",
       " 'GDPD1': (0.064751231647868959, 0.63908307339393866),\n",
       " 'KCTD17': (0.077625208567770332, 0.048496981551041866),\n",
       " 'C9orf69': (0.64619647486156251, 0.060423916049386059),\n",
       " 'PSTPIP2': (0.7769487410210516, 0.15251516063047382),\n",
       " 'C2orf69': (0.77121062036768362, 0.7847301760050972),\n",
       " 'RNF183': (0.10304257579589167, 0.74102519658924282),\n",
       " 'C8orf55': (0.80241726706449834, 0.41351987346090369),\n",
       " 'SUDS3': (0.32402376645501885, 0.86925863272830917),\n",
       " 'HNRNPF': (0.66669704681308795, 0.24290256383895181),\n",
       " 'C7orf51': (0.91797045403854449, 8.3013395706720564e-05),\n",
       " 'HIST1H3A': (0.42011259961044733, 0.11344187574596931),\n",
       " 'APBB1IP': (0.050861179985165636, 0.10159713483654617),\n",
       " 'RAB11FIP3': (0.10099677300420173, 0.078833954072035348),\n",
       " 'TFEC': (0.48321408615494144, 0.63113033690554765),\n",
       " 'RASGEF1C': (0.00017803387927955801, 0.00025579311283545835),\n",
       " 'MRFAP1': (0.71903404255664904, 0.22009994090830812),\n",
       " 'ARRDC2': (0.6156207488314015, 0.75726586704407106),\n",
       " 'LOC145783': (0.49984232489306823, 0.76276183538011488),\n",
       " 'POLR3A': (0.5298535771131283, 0.10596789864130592),\n",
       " 'MAPK11': (0.7770333928117823, 0.28819782706439023),\n",
       " 'LOC100129387': (0.71969701527269603, 0.21170792964064894),\n",
       " 'CCDC51': (0.91532090054385284, 0.22076091070270348),\n",
       " 'SLC6A8': (0.62156049045552741, 0.17050834472913839),\n",
       " 'KRT16': (0.84657029917054127, 0.83779741702005572),\n",
       " 'ATG4A': (0.15788544968515214, 0.14362639169641267),\n",
       " 'DOPEY1': (0.93599946289578018, 0.022893131475833987),\n",
       " 'BMP2K': (0.11612819998245108, 0.019727462796710442),\n",
       " 'NDUFA5': (0.98466568033932822, 0.58538956194646219),\n",
       " 'HSD17B3': (0.26466764733987719, 0.30445683293172909),\n",
       " 'CADM3': (0.39840311972760556, 0.02510251425813782),\n",
       " 'SPATA12': (0.6165596290934896, 0.85181375327783604),\n",
       " 'EGLN2': (0.50484501256808134, 0.0089417848457310697),\n",
       " 'FASTKD3': (0.340095910581387, 0.95485280738813427),\n",
       " 'CDCA4': (0.986648125456285, 0.0057520588075590465),\n",
       " 'MEX3D': (0.080692202189034307, 0.59300066001189855),\n",
       " 'PAN3-AS1': (0.9199649088350268, 0.83321534657930441),\n",
       " 'BOK': (0.062148684338396966, 0.80205573978239408),\n",
       " 'RPL35': (0.48909054313300981, 0.10569615168819667),\n",
       " 'GOPC': (0.7690601039758006, 0.1642737855795566),\n",
       " 'PHF10': (0.31253105013993471, 0.34225730456516346),\n",
       " 'LRRC4B': (0.95761656947208262, 0.00075739895731405469),\n",
       " 'SLC26A6': (0.0020524520665360976, 0.94830516405416387),\n",
       " 'ZNF519': (0.95273120088367391, 0.30967713594273444),\n",
       " 'RTN4R': (0.48557771417483886, 0.84689926730833975),\n",
       " 'SLC35A5': (0.40595019869357929, 0.05141529577516691),\n",
       " 'MARCKSL1': (0.061550234916949456, 0.026283850719370488),\n",
       " 'SLC41A2': (0.048780148859036129, 0.70585830447747244),\n",
       " 'COX8A': (0.53777239850476743, 0.22861066559630214),\n",
       " 'FOXH1': (0.053691065641748699, 0.012895175217828469),\n",
       " 'INPP5F': (0.33166063754703279, 0.51289179474647872),\n",
       " 'NEAT1': (0.78945115219902218, 0.82044791185683819),\n",
       " 'RRAS': (0.65333912608999889, 0.28242714841214384),\n",
       " 'SMYD4': (0.93694065660158021, 0.11445113335421027),\n",
       " 'SMYD5': (0.32505718852070753, 0.48634337567765817),\n",
       " 'C19orf73': (0.95088914044800066, 0.99339520693386585),\n",
       " 'C12orf4': (0.74400879852479784, 0.59769885475304874),\n",
       " 'PARP12': (0.64250959488059489, 0.00010549118116040051),\n",
       " 'FKBP9': (0.34285230270465339, 0.88301508831715503),\n",
       " 'CHRNA5': (0.9399694557793844, 0.43077341126939339),\n",
       " 'KRT77': (0.95706132677966826, 0.80817956797935087),\n",
       " 'PHGDH': (0.011072095667787026, 0.88528911083183504),\n",
       " 'GLRX2': (0.16691090354809907, 0.26510113111367295),\n",
       " 'TP53BP1': (0.58787217385118873, 0.052421798055820791),\n",
       " 'TUSC1': (0.76856261050609875, 0.61637216463256728),\n",
       " 'USP35': (0.04075126499560415, 0.30423520406540144),\n",
       " 'DUSP16': (0.05853489080429828, 0.037961619928862371),\n",
       " 'MSRB2': (0.68656121141225457, 0.014936242961090002),\n",
       " 'DYNC1I2': (0.095951855247119203, 0.64283161049062465),\n",
       " 'GFPT2': (0.93533261700517878, 0.15730179419675011),\n",
       " 'FAHD2A': (0.5173191085502149, 0.049379614907378813),\n",
       " 'LOC100216545': (0.21529881809409018, 0.50384774719938363),\n",
       " 'TYW3': (0.72211948472126442, 0.054456776765081351),\n",
       " 'RGS1': (0.50883683248201117, 0.032907214282111519),\n",
       " 'UBE4A': (0.86330525017312398, 0.043508150540820516),\n",
       " 'C6orf106': (0.78338442007441977, 0.10724840728449096),\n",
       " 'RADIL': (0.039043964642423441, 0.1937734806657079),\n",
       " 'CUL2': (0.22307972750129929, 0.48927176657044114),\n",
       " 'ZFP2': (0.70402219347391215, 0.024548576779026554),\n",
       " 'SUMF1': (0.13582371605134691, 0.44475699384185763),\n",
       " 'CBX7': (0.10943349968641256, 0.043567616975920341),\n",
       " 'HSF1': (0.24497735048588559, 0.03574307278871082),\n",
       " 'PNMAL2': (0.27486960594505766, 3.3622376077737844e-05),\n",
       " 'C7orf40': (0.083439056256044683, 0.65974967633302806),\n",
       " 'DCUN1D5': (0.7479234579812768, 0.92897977071623372),\n",
       " 'NUPL1': (0.82383322156188499, 0.88757021730088159),\n",
       " 'CCDC28A': (0.24119817374994093, 0.0031401426308495413),\n",
       " 'JAG1': (0.98068152707460798, 0.45688371323266908),\n",
       " 'FARP1': (0.69353893434542169, 0.30308421164231375),\n",
       " 'HOXA11-AS1': (0.78033425424524328, 0.021521874749037783),\n",
       " 'FRMD1': (0.65549753524532628, 0.19536509246525283),\n",
       " 'ZMYM4': (0.54090338906812385, 0.49481017999945165),\n",
       " 'CCT5': (0.42308100978555663, 0.59355044146583169),\n",
       " 'NEDD4': (0.14192894223753261, 0.25206216028337963),\n",
       " 'FOXJ1': (0.55645551600381871, 0.035567819186168907),\n",
       " 'CYP4Z1': (0.2805114218073374, 0.10219325560619891),\n",
       " 'BLOC1S2': (0.51591887070752374, 0.39466352466139587),\n",
       " 'CPNE1': (0.78902889303611956, 0.4400131208289475),\n",
       " 'ITPK1': (0.46852215586289669, 0.09674714301518382),\n",
       " 'LMX1B': (0.0022768714040904401, 0.99990428816502774),\n",
       " 'IRAK1BP1': (0.696661068835152, 0.011315720987917052),\n",
       " 'RAB2A': (0.22378502866798788, 0.054914170018199066),\n",
       " 'ETS2': (0.39117124943766457, 0.45754489002866494),\n",
       " 'SRP54': (0.40751757755813889, 0.35473311037049138),\n",
       " 'BRD2': (0.10909007997998726, 0.12901682578137028),\n",
       " 'MYLPF': (0.12799734416301672, 0.015440964308931954),\n",
       " 'HERC4': (0.42156156708146408, 0.52190538385638052),\n",
       " 'C7orf11': (0.11650904353478408, 0.098644918468737339),\n",
       " 'CARTPT': (0.39437824099627705, 0.29047368454417183),\n",
       " 'PEAR1': (0.35289218594491278, 0.042228288350277393),\n",
       " 'VAV3': (0.0013947760210997464, 0.67480595453962799),\n",
       " 'STAG2': (0.50844481002612374, 0.46272245739538487),\n",
       " 'HOOK3': (0.43153163253511373, 0.10782941532287918),\n",
       " 'FRAT2': (0.62380127031559152, 0.74224756594323438),\n",
       " 'SYP': (0.2570079561061776, 0.15727324935798256),\n",
       " 'ACOX3': (0.021390352535899923, 0.11152520602192766),\n",
       " 'PNMAL1': (0.78816783850757077, 0.012814631510464528),\n",
       " 'KIAA1324L': (0.3241973206933354, 0.30657864943698948),\n",
       " 'PARK7': (0.30952155289209232, 0.10963923865192189),\n",
       " 'TMEM184A': (0.0004659882024350213, 0.60398916067836916),\n",
       " 'PLRG1': (0.51517512371595542, 0.053337067989932707),\n",
       " 'LRRC36': (0.025876051486579388, 0.0025961062422181773),\n",
       " ...}"
      ]
     },
     "execution_count": 11,
     "metadata": {},
     "output_type": "execute_result"
    }
   ],
   "source": [
    "gens = {}\n",
    "for x in normal_objects.columns:\n",
    "    first = sts.ttest_ind(normal_objects[x], neopl_objects[x], equal_var = False)[1]\n",
    "    second = sts.ttest_ind(neopl_objects[x], cancer_objects[x], equal_var = False)[1]\n",
    "    gens[x] = (first, second)\n",
    "    \n",
    "gens"
   ]
  },
  {
   "cell_type": "code",
   "execution_count": 12,
   "metadata": {
    "collapsed": false,
    "scrolled": true
   },
   "outputs": [
    {
     "data": {
      "text/plain": [
       "(1575, 3490)"
      ]
     },
     "execution_count": 12,
     "metadata": {},
     "output_type": "execute_result"
    }
   ],
   "source": [
    "count1 = 0\n",
    "count2 = 0\n",
    "for x in gens.items():\n",
    "    p1 = x[1][0]\n",
    "    p2 = x[1][1]\n",
    "    \n",
    "    if (p1 < 0.05):\n",
    "        count1 += 1\n",
    "\n",
    "    if (p2 < 0.05):\n",
    "        count2 += 1\n",
    "        \n",
    "(count1, count2)"
   ]
  },
  {
   "cell_type": "code",
   "execution_count": 13,
   "metadata": {
    "collapsed": true
   },
   "outputs": [],
   "source": [
    "write_to_file(\"stats_answer_1.txt\", count1)\n",
    "write_to_file(\"stats_answer_2.txt\", count2)"
   ]
  },
  {
   "cell_type": "markdown",
   "metadata": {},
   "source": [
    "## second part"
   ]
  },
  {
   "cell_type": "code",
   "execution_count": 14,
   "metadata": {
    "collapsed": true
   },
   "outputs": [],
   "source": [
    "import statsmodels.stats.multitest as smm"
   ]
  },
  {
   "cell_type": "code",
   "execution_count": 22,
   "metadata": {
    "collapsed": false
   },
   "outputs": [],
   "source": [
    "p_first = [x[1][0] for x in gens.items()]\n",
    "p_second = [x[1][1] for x in gens.items()]\n",
    "\n",
    "reject_first, p_corrected_first, a1_first, a2_first = smm.multipletests(p_first, alpha=0.025, method='holm')"
   ]
  },
  {
   "cell_type": "code",
   "execution_count": 23,
   "metadata": {
    "collapsed": false
   },
   "outputs": [],
   "source": [
    "reject_second, p_corrected_second, a1_second, a2_second = smm.multipletests(p_second, alpha=0.025, method='holm')"
   ]
  },
  {
   "cell_type": "code",
   "execution_count": 24,
   "metadata": {
    "collapsed": false
   },
   "outputs": [
    {
     "data": {
      "text/plain": [
       "(2, 77)"
      ]
     },
     "execution_count": 24,
     "metadata": {},
     "output_type": "execute_result"
    }
   ],
   "source": [
    "count1 = 0\n",
    "count2 = 0\n",
    "for x, y in zip(p_corrected_first, gens.keys()):\n",
    "    if x < 0.025:\n",
    "        c = normal_objects[y].mean()\n",
    "        t = neopl_objects[y].mean()\n",
    "        fold = t / c if t > c else c / t\n",
    "        if abs(fold) > 1.5:\n",
    "            count1 += 1\n",
    "        \n",
    "for x, y in zip(p_corrected_second, gens.keys()):\n",
    "    if x < 0.025:\n",
    "        c = neopl_objects[y].mean()\n",
    "        t = cancer_objects[y].mean()\n",
    "        fold = t / c if t > c else c / t\n",
    "        if abs(fold) > 1.5:\n",
    "            count2 += 1\n",
    "        \n",
    "(count1, count2)"
   ]
  },
  {
   "cell_type": "code",
   "execution_count": 25,
   "metadata": {
    "collapsed": true
   },
   "outputs": [],
   "source": [
    "write_to_file(\"stats_answer_3.txt\", count1)\n",
    "write_to_file(\"stats_answer_4.txt\", count2)"
   ]
  },
  {
   "cell_type": "code",
   "execution_count": 26,
   "metadata": {
    "collapsed": true
   },
   "outputs": [],
   "source": [
    "reject_first, p_corrected_first, a1_first, a2_first = smm.multipletests(p_first, alpha=0.025, method='fdr_bh')\n",
    "reject_second, p_corrected_second, a1_second, a2_second = smm.multipletests(p_second, alpha=0.025, method='fdr_bh')"
   ]
  },
  {
   "cell_type": "code",
   "execution_count": 27,
   "metadata": {
    "collapsed": false
   },
   "outputs": [
    {
     "data": {
      "text/plain": [
       "(4, 524)"
      ]
     },
     "execution_count": 27,
     "metadata": {},
     "output_type": "execute_result"
    }
   ],
   "source": [
    "count1 = 0\n",
    "count2 = 0\n",
    "for x, y in zip(p_corrected_first, gens.keys()):\n",
    "    if x <= 0.025:\n",
    "        t = normal_objects[y].mean()\n",
    "        c = neopl_objects[y].mean()\n",
    "        fold = t / c if t > c else c / t\n",
    "        if abs(fold) > 1.5:\n",
    "            count1 += 1\n",
    "        \n",
    "for x, y in zip(p_corrected_second, gens.keys()):\n",
    "    if x <= 0.025:\n",
    "        t = neopl_objects[y].mean()\n",
    "        c = cancer_objects[y].mean()\n",
    "        fold = t / c if t > c else c / t\n",
    "        if abs(fold) > 1.5:\n",
    "            count2 += 1\n",
    "        \n",
    "(count1, count2)"
   ]
  },
  {
   "cell_type": "code",
   "execution_count": 28,
   "metadata": {
    "collapsed": true
   },
   "outputs": [],
   "source": [
    "write_to_file(\"stats_answer_5.txt\", count1)\n",
    "write_to_file(\"stats_answer_6.txt\", count2)"
   ]
  },
  {
   "cell_type": "markdown",
   "metadata": {},
   "source": [
    "# Quiz effectiveness analysis"
   ]
  },
  {
   "cell_type": "code",
   "execution_count": 2,
   "metadata": {
    "collapsed": false,
    "scrolled": true
   },
   "outputs": [
    {
     "data": {
      "text/html": [
       "<div>\n",
       "<table border=\"1\" class=\"dataframe\">\n",
       "  <thead>\n",
       "    <tr style=\"text-align: right;\">\n",
       "      <th></th>\n",
       "      <th>num</th>\n",
       "      <th>state</th>\n",
       "      <th>account_length</th>\n",
       "      <th>area_code</th>\n",
       "      <th>intl_plan</th>\n",
       "      <th>vmail_plan</th>\n",
       "      <th>vmail_message</th>\n",
       "      <th>day_mins</th>\n",
       "      <th>day_calls</th>\n",
       "      <th>day_charge</th>\n",
       "      <th>...</th>\n",
       "      <th>night_mins</th>\n",
       "      <th>night_calls</th>\n",
       "      <th>night_charge</th>\n",
       "      <th>intl_mins</th>\n",
       "      <th>intl_calls</th>\n",
       "      <th>intl_charge</th>\n",
       "      <th>custserv_calls</th>\n",
       "      <th>treatment</th>\n",
       "      <th>mes_estim</th>\n",
       "      <th>churn</th>\n",
       "    </tr>\n",
       "  </thead>\n",
       "  <tbody>\n",
       "    <tr>\n",
       "      <th>0</th>\n",
       "      <td>0</td>\n",
       "      <td>KS</td>\n",
       "      <td>128</td>\n",
       "      <td>415</td>\n",
       "      <td>no</td>\n",
       "      <td>yes</td>\n",
       "      <td>25</td>\n",
       "      <td>265.1</td>\n",
       "      <td>110</td>\n",
       "      <td>45.07</td>\n",
       "      <td>...</td>\n",
       "      <td>244.7</td>\n",
       "      <td>91</td>\n",
       "      <td>11.01</td>\n",
       "      <td>10.0</td>\n",
       "      <td>3</td>\n",
       "      <td>2.70</td>\n",
       "      <td>1</td>\n",
       "      <td>1</td>\n",
       "      <td>0.65</td>\n",
       "      <td>False.</td>\n",
       "    </tr>\n",
       "    <tr>\n",
       "      <th>1</th>\n",
       "      <td>1</td>\n",
       "      <td>OH</td>\n",
       "      <td>107</td>\n",
       "      <td>415</td>\n",
       "      <td>no</td>\n",
       "      <td>yes</td>\n",
       "      <td>26</td>\n",
       "      <td>161.6</td>\n",
       "      <td>123</td>\n",
       "      <td>27.47</td>\n",
       "      <td>...</td>\n",
       "      <td>254.4</td>\n",
       "      <td>103</td>\n",
       "      <td>11.45</td>\n",
       "      <td>13.7</td>\n",
       "      <td>3</td>\n",
       "      <td>3.70</td>\n",
       "      <td>1</td>\n",
       "      <td>0</td>\n",
       "      <td>0.55</td>\n",
       "      <td>False.</td>\n",
       "    </tr>\n",
       "    <tr>\n",
       "      <th>2</th>\n",
       "      <td>2</td>\n",
       "      <td>NJ</td>\n",
       "      <td>137</td>\n",
       "      <td>415</td>\n",
       "      <td>no</td>\n",
       "      <td>no</td>\n",
       "      <td>0</td>\n",
       "      <td>243.4</td>\n",
       "      <td>114</td>\n",
       "      <td>41.38</td>\n",
       "      <td>...</td>\n",
       "      <td>162.6</td>\n",
       "      <td>104</td>\n",
       "      <td>7.32</td>\n",
       "      <td>12.2</td>\n",
       "      <td>5</td>\n",
       "      <td>3.29</td>\n",
       "      <td>0</td>\n",
       "      <td>0</td>\n",
       "      <td>0.72</td>\n",
       "      <td>False.</td>\n",
       "    </tr>\n",
       "    <tr>\n",
       "      <th>3</th>\n",
       "      <td>3</td>\n",
       "      <td>OH</td>\n",
       "      <td>84</td>\n",
       "      <td>408</td>\n",
       "      <td>yes</td>\n",
       "      <td>no</td>\n",
       "      <td>0</td>\n",
       "      <td>299.4</td>\n",
       "      <td>71</td>\n",
       "      <td>50.90</td>\n",
       "      <td>...</td>\n",
       "      <td>196.9</td>\n",
       "      <td>89</td>\n",
       "      <td>8.86</td>\n",
       "      <td>6.6</td>\n",
       "      <td>7</td>\n",
       "      <td>1.78</td>\n",
       "      <td>2</td>\n",
       "      <td>1</td>\n",
       "      <td>0.28</td>\n",
       "      <td>False.</td>\n",
       "    </tr>\n",
       "    <tr>\n",
       "      <th>4</th>\n",
       "      <td>4</td>\n",
       "      <td>OK</td>\n",
       "      <td>75</td>\n",
       "      <td>415</td>\n",
       "      <td>yes</td>\n",
       "      <td>no</td>\n",
       "      <td>0</td>\n",
       "      <td>166.7</td>\n",
       "      <td>113</td>\n",
       "      <td>28.34</td>\n",
       "      <td>...</td>\n",
       "      <td>186.9</td>\n",
       "      <td>121</td>\n",
       "      <td>8.41</td>\n",
       "      <td>10.1</td>\n",
       "      <td>3</td>\n",
       "      <td>2.73</td>\n",
       "      <td>3</td>\n",
       "      <td>2</td>\n",
       "      <td>0.45</td>\n",
       "      <td>False.</td>\n",
       "    </tr>\n",
       "  </tbody>\n",
       "</table>\n",
       "<p>5 rows × 23 columns</p>\n",
       "</div>"
      ],
      "text/plain": [
       "   num state  account_length  area_code intl_plan vmail_plan  vmail_message  \\\n",
       "0    0    KS             128        415        no        yes             25   \n",
       "1    1    OH             107        415        no        yes             26   \n",
       "2    2    NJ             137        415        no         no              0   \n",
       "3    3    OH              84        408       yes         no              0   \n",
       "4    4    OK              75        415       yes         no              0   \n",
       "\n",
       "   day_mins  day_calls  day_charge   ...    night_mins  night_calls  \\\n",
       "0     265.1        110       45.07   ...         244.7           91   \n",
       "1     161.6        123       27.47   ...         254.4          103   \n",
       "2     243.4        114       41.38   ...         162.6          104   \n",
       "3     299.4         71       50.90   ...         196.9           89   \n",
       "4     166.7        113       28.34   ...         186.9          121   \n",
       "\n",
       "   night_charge  intl_mins  intl_calls  intl_charge  custserv_calls  \\\n",
       "0         11.01       10.0           3         2.70               1   \n",
       "1         11.45       13.7           3         3.70               1   \n",
       "2          7.32       12.2           5         3.29               0   \n",
       "3          8.86        6.6           7         1.78               2   \n",
       "4          8.41       10.1           3         2.73               3   \n",
       "\n",
       "   treatment  mes_estim   churn  \n",
       "0          1       0.65  False.  \n",
       "1          0       0.55  False.  \n",
       "2          0       0.72  False.  \n",
       "3          1       0.28  False.  \n",
       "4          2       0.45  False.  \n",
       "\n",
       "[5 rows x 23 columns]"
      ]
     },
     "execution_count": 2,
     "metadata": {},
     "output_type": "execute_result"
    }
   ],
   "source": [
    "data = pd.read_csv(\"churn_analysis.csv\")\n",
    "data.head()"
   ]
  },
  {
   "cell_type": "code",
   "execution_count": 3,
   "metadata": {
    "collapsed": false,
    "scrolled": true
   },
   "outputs": [
    {
     "data": {
      "text/plain": [
       "0    False\n",
       "1    False\n",
       "2    False\n",
       "3    False\n",
       "4    False\n",
       "5    False\n",
       "6    False\n",
       "7    False\n",
       "8    False\n",
       "9    False\n",
       "Name: churn, dtype: object"
      ]
     },
     "execution_count": 3,
     "metadata": {},
     "output_type": "execute_result"
    }
   ],
   "source": [
    "data.churn = data.churn.apply(lambda x: x.strip(\".\"))\n",
    "data.churn[:10]"
   ]
  },
  {
   "cell_type": "code",
   "execution_count": 4,
   "metadata": {
    "collapsed": false
   },
   "outputs": [
    {
     "data": {
      "text/plain": [
       "(1097, 23)"
      ]
     },
     "execution_count": 4,
     "metadata": {},
     "output_type": "execute_result"
    }
   ],
   "source": [
    "control = data[data.treatment == 1]\n",
    "control.shape"
   ]
  },
  {
   "cell_type": "code",
   "execution_count": 5,
   "metadata": {
    "collapsed": false
   },
   "outputs": [
    {
     "data": {
      "text/plain": [
       "0     KS\n",
       "3     OH\n",
       "8     LA\n",
       "12    IA\n",
       "17    VT\n",
       "Name: state, dtype: object"
      ]
     },
     "execution_count": 5,
     "metadata": {},
     "output_type": "execute_result"
    }
   ],
   "source": [
    "state_unique = control.state.drop_duplicates()\n",
    "state_unique[:5]"
   ]
  },
  {
   "cell_type": "code",
   "execution_count": 6,
   "metadata": {
    "collapsed": false
   },
   "outputs": [
    {
     "name": "stderr",
     "output_type": "stream",
     "text": [
      "C:\\Users\\yuranich\\Anaconda2\\lib\\site-packages\\ipykernel\\__main__.py:1: UserWarning: Boolean Series key will be reindexed to match DataFrame index.\n",
      "  if __name__ == '__main__':\n"
     ]
    },
    {
     "data": {
      "text/html": [
       "<div>\n",
       "<table border=\"1\" class=\"dataframe\">\n",
       "  <thead>\n",
       "    <tr style=\"text-align: right;\">\n",
       "      <th></th>\n",
       "      <th>num</th>\n",
       "      <th>state</th>\n",
       "      <th>account_length</th>\n",
       "      <th>area_code</th>\n",
       "      <th>intl_plan</th>\n",
       "      <th>vmail_plan</th>\n",
       "      <th>vmail_message</th>\n",
       "      <th>day_mins</th>\n",
       "      <th>day_calls</th>\n",
       "      <th>day_charge</th>\n",
       "      <th>...</th>\n",
       "      <th>night_mins</th>\n",
       "      <th>night_calls</th>\n",
       "      <th>night_charge</th>\n",
       "      <th>intl_mins</th>\n",
       "      <th>intl_calls</th>\n",
       "      <th>intl_charge</th>\n",
       "      <th>custserv_calls</th>\n",
       "      <th>treatment</th>\n",
       "      <th>mes_estim</th>\n",
       "      <th>churn</th>\n",
       "    </tr>\n",
       "  </thead>\n",
       "  <tbody>\n",
       "    <tr>\n",
       "      <th>0</th>\n",
       "      <td>0</td>\n",
       "      <td>KS</td>\n",
       "      <td>128</td>\n",
       "      <td>415</td>\n",
       "      <td>no</td>\n",
       "      <td>yes</td>\n",
       "      <td>25</td>\n",
       "      <td>265.1</td>\n",
       "      <td>110</td>\n",
       "      <td>45.07</td>\n",
       "      <td>...</td>\n",
       "      <td>244.7</td>\n",
       "      <td>91</td>\n",
       "      <td>11.01</td>\n",
       "      <td>10.0</td>\n",
       "      <td>3</td>\n",
       "      <td>2.70</td>\n",
       "      <td>1</td>\n",
       "      <td>1</td>\n",
       "      <td>0.65</td>\n",
       "      <td>False</td>\n",
       "    </tr>\n",
       "    <tr>\n",
       "      <th>179</th>\n",
       "      <td>179</td>\n",
       "      <td>KS</td>\n",
       "      <td>70</td>\n",
       "      <td>408</td>\n",
       "      <td>no</td>\n",
       "      <td>no</td>\n",
       "      <td>0</td>\n",
       "      <td>232.1</td>\n",
       "      <td>122</td>\n",
       "      <td>39.46</td>\n",
       "      <td>...</td>\n",
       "      <td>201.2</td>\n",
       "      <td>112</td>\n",
       "      <td>9.05</td>\n",
       "      <td>0.0</td>\n",
       "      <td>0</td>\n",
       "      <td>0.00</td>\n",
       "      <td>3</td>\n",
       "      <td>1</td>\n",
       "      <td>0.52</td>\n",
       "      <td>False</td>\n",
       "    </tr>\n",
       "    <tr>\n",
       "      <th>368</th>\n",
       "      <td>368</td>\n",
       "      <td>KS</td>\n",
       "      <td>132</td>\n",
       "      <td>415</td>\n",
       "      <td>no</td>\n",
       "      <td>no</td>\n",
       "      <td>0</td>\n",
       "      <td>83.4</td>\n",
       "      <td>110</td>\n",
       "      <td>14.18</td>\n",
       "      <td>...</td>\n",
       "      <td>146.7</td>\n",
       "      <td>114</td>\n",
       "      <td>6.60</td>\n",
       "      <td>7.6</td>\n",
       "      <td>5</td>\n",
       "      <td>2.05</td>\n",
       "      <td>1</td>\n",
       "      <td>1</td>\n",
       "      <td>0.56</td>\n",
       "      <td>False</td>\n",
       "    </tr>\n",
       "    <tr>\n",
       "      <th>385</th>\n",
       "      <td>385</td>\n",
       "      <td>KS</td>\n",
       "      <td>137</td>\n",
       "      <td>415</td>\n",
       "      <td>no</td>\n",
       "      <td>no</td>\n",
       "      <td>0</td>\n",
       "      <td>230.2</td>\n",
       "      <td>113</td>\n",
       "      <td>39.13</td>\n",
       "      <td>...</td>\n",
       "      <td>204.7</td>\n",
       "      <td>111</td>\n",
       "      <td>9.21</td>\n",
       "      <td>10.7</td>\n",
       "      <td>7</td>\n",
       "      <td>2.89</td>\n",
       "      <td>4</td>\n",
       "      <td>1</td>\n",
       "      <td>0.57</td>\n",
       "      <td>False</td>\n",
       "    </tr>\n",
       "    <tr>\n",
       "      <th>451</th>\n",
       "      <td>451</td>\n",
       "      <td>KS</td>\n",
       "      <td>86</td>\n",
       "      <td>408</td>\n",
       "      <td>no</td>\n",
       "      <td>yes</td>\n",
       "      <td>23</td>\n",
       "      <td>225.5</td>\n",
       "      <td>107</td>\n",
       "      <td>38.34</td>\n",
       "      <td>...</td>\n",
       "      <td>245.7</td>\n",
       "      <td>81</td>\n",
       "      <td>11.06</td>\n",
       "      <td>9.8</td>\n",
       "      <td>2</td>\n",
       "      <td>2.65</td>\n",
       "      <td>0</td>\n",
       "      <td>1</td>\n",
       "      <td>0.46</td>\n",
       "      <td>False</td>\n",
       "    </tr>\n",
       "    <tr>\n",
       "      <th>620</th>\n",
       "      <td>620</td>\n",
       "      <td>KS</td>\n",
       "      <td>163</td>\n",
       "      <td>415</td>\n",
       "      <td>no</td>\n",
       "      <td>no</td>\n",
       "      <td>0</td>\n",
       "      <td>191.3</td>\n",
       "      <td>89</td>\n",
       "      <td>32.52</td>\n",
       "      <td>...</td>\n",
       "      <td>268.4</td>\n",
       "      <td>121</td>\n",
       "      <td>12.08</td>\n",
       "      <td>12.8</td>\n",
       "      <td>4</td>\n",
       "      <td>3.46</td>\n",
       "      <td>1</td>\n",
       "      <td>1</td>\n",
       "      <td>0.51</td>\n",
       "      <td>False</td>\n",
       "    </tr>\n",
       "    <tr>\n",
       "      <th>680</th>\n",
       "      <td>680</td>\n",
       "      <td>KS</td>\n",
       "      <td>116</td>\n",
       "      <td>510</td>\n",
       "      <td>no</td>\n",
       "      <td>no</td>\n",
       "      <td>0</td>\n",
       "      <td>189.5</td>\n",
       "      <td>90</td>\n",
       "      <td>32.22</td>\n",
       "      <td>...</td>\n",
       "      <td>205.8</td>\n",
       "      <td>83</td>\n",
       "      <td>9.26</td>\n",
       "      <td>13.1</td>\n",
       "      <td>2</td>\n",
       "      <td>3.54</td>\n",
       "      <td>1</td>\n",
       "      <td>1</td>\n",
       "      <td>0.58</td>\n",
       "      <td>False</td>\n",
       "    </tr>\n",
       "    <tr>\n",
       "      <th>1043</th>\n",
       "      <td>1043</td>\n",
       "      <td>KS</td>\n",
       "      <td>124</td>\n",
       "      <td>415</td>\n",
       "      <td>no</td>\n",
       "      <td>no</td>\n",
       "      <td>0</td>\n",
       "      <td>158.6</td>\n",
       "      <td>104</td>\n",
       "      <td>26.96</td>\n",
       "      <td>...</td>\n",
       "      <td>179.3</td>\n",
       "      <td>104</td>\n",
       "      <td>8.07</td>\n",
       "      <td>10.2</td>\n",
       "      <td>8</td>\n",
       "      <td>2.75</td>\n",
       "      <td>3</td>\n",
       "      <td>1</td>\n",
       "      <td>0.24</td>\n",
       "      <td>False</td>\n",
       "    </tr>\n",
       "    <tr>\n",
       "      <th>1066</th>\n",
       "      <td>1066</td>\n",
       "      <td>KS</td>\n",
       "      <td>117</td>\n",
       "      <td>510</td>\n",
       "      <td>no</td>\n",
       "      <td>yes</td>\n",
       "      <td>25</td>\n",
       "      <td>216.0</td>\n",
       "      <td>140</td>\n",
       "      <td>36.72</td>\n",
       "      <td>...</td>\n",
       "      <td>267.9</td>\n",
       "      <td>112</td>\n",
       "      <td>12.06</td>\n",
       "      <td>11.8</td>\n",
       "      <td>4</td>\n",
       "      <td>3.19</td>\n",
       "      <td>0</td>\n",
       "      <td>1</td>\n",
       "      <td>0.24</td>\n",
       "      <td>False</td>\n",
       "    </tr>\n",
       "    <tr>\n",
       "      <th>1218</th>\n",
       "      <td>1218</td>\n",
       "      <td>KS</td>\n",
       "      <td>131</td>\n",
       "      <td>415</td>\n",
       "      <td>no</td>\n",
       "      <td>yes</td>\n",
       "      <td>28</td>\n",
       "      <td>249.6</td>\n",
       "      <td>87</td>\n",
       "      <td>42.43</td>\n",
       "      <td>...</td>\n",
       "      <td>239.9</td>\n",
       "      <td>92</td>\n",
       "      <td>10.80</td>\n",
       "      <td>7.6</td>\n",
       "      <td>3</td>\n",
       "      <td>2.05</td>\n",
       "      <td>3</td>\n",
       "      <td>1</td>\n",
       "      <td>0.68</td>\n",
       "      <td>False</td>\n",
       "    </tr>\n",
       "    <tr>\n",
       "      <th>1219</th>\n",
       "      <td>1219</td>\n",
       "      <td>KS</td>\n",
       "      <td>36</td>\n",
       "      <td>510</td>\n",
       "      <td>no</td>\n",
       "      <td>no</td>\n",
       "      <td>0</td>\n",
       "      <td>178.6</td>\n",
       "      <td>83</td>\n",
       "      <td>30.36</td>\n",
       "      <td>...</td>\n",
       "      <td>198.0</td>\n",
       "      <td>119</td>\n",
       "      <td>8.91</td>\n",
       "      <td>10.9</td>\n",
       "      <td>5</td>\n",
       "      <td>2.94</td>\n",
       "      <td>1</td>\n",
       "      <td>1</td>\n",
       "      <td>0.35</td>\n",
       "      <td>False</td>\n",
       "    </tr>\n",
       "    <tr>\n",
       "      <th>1279</th>\n",
       "      <td>1279</td>\n",
       "      <td>KS</td>\n",
       "      <td>87</td>\n",
       "      <td>510</td>\n",
       "      <td>no</td>\n",
       "      <td>no</td>\n",
       "      <td>0</td>\n",
       "      <td>115.4</td>\n",
       "      <td>90</td>\n",
       "      <td>19.62</td>\n",
       "      <td>...</td>\n",
       "      <td>245.7</td>\n",
       "      <td>69</td>\n",
       "      <td>11.06</td>\n",
       "      <td>13.1</td>\n",
       "      <td>5</td>\n",
       "      <td>3.54</td>\n",
       "      <td>2</td>\n",
       "      <td>1</td>\n",
       "      <td>0.57</td>\n",
       "      <td>False</td>\n",
       "    </tr>\n",
       "    <tr>\n",
       "      <th>1971</th>\n",
       "      <td>1971</td>\n",
       "      <td>KS</td>\n",
       "      <td>74</td>\n",
       "      <td>415</td>\n",
       "      <td>no</td>\n",
       "      <td>yes</td>\n",
       "      <td>32</td>\n",
       "      <td>174.6</td>\n",
       "      <td>107</td>\n",
       "      <td>29.68</td>\n",
       "      <td>...</td>\n",
       "      <td>234.7</td>\n",
       "      <td>92</td>\n",
       "      <td>10.56</td>\n",
       "      <td>9.0</td>\n",
       "      <td>4</td>\n",
       "      <td>2.43</td>\n",
       "      <td>1</td>\n",
       "      <td>1</td>\n",
       "      <td>0.49</td>\n",
       "      <td>False</td>\n",
       "    </tr>\n",
       "    <tr>\n",
       "      <th>2096</th>\n",
       "      <td>2096</td>\n",
       "      <td>KS</td>\n",
       "      <td>94</td>\n",
       "      <td>510</td>\n",
       "      <td>no</td>\n",
       "      <td>yes</td>\n",
       "      <td>28</td>\n",
       "      <td>233.2</td>\n",
       "      <td>88</td>\n",
       "      <td>39.64</td>\n",
       "      <td>...</td>\n",
       "      <td>118.0</td>\n",
       "      <td>71</td>\n",
       "      <td>5.31</td>\n",
       "      <td>16.1</td>\n",
       "      <td>4</td>\n",
       "      <td>4.35</td>\n",
       "      <td>0</td>\n",
       "      <td>1</td>\n",
       "      <td>0.49</td>\n",
       "      <td>False</td>\n",
       "    </tr>\n",
       "    <tr>\n",
       "      <th>2689</th>\n",
       "      <td>2689</td>\n",
       "      <td>KS</td>\n",
       "      <td>79</td>\n",
       "      <td>415</td>\n",
       "      <td>no</td>\n",
       "      <td>no</td>\n",
       "      <td>0</td>\n",
       "      <td>177.9</td>\n",
       "      <td>83</td>\n",
       "      <td>30.24</td>\n",
       "      <td>...</td>\n",
       "      <td>223.7</td>\n",
       "      <td>142</td>\n",
       "      <td>10.07</td>\n",
       "      <td>15.2</td>\n",
       "      <td>8</td>\n",
       "      <td>4.10</td>\n",
       "      <td>0</td>\n",
       "      <td>1</td>\n",
       "      <td>0.48</td>\n",
       "      <td>False</td>\n",
       "    </tr>\n",
       "    <tr>\n",
       "      <th>2750</th>\n",
       "      <td>2750</td>\n",
       "      <td>KS</td>\n",
       "      <td>186</td>\n",
       "      <td>510</td>\n",
       "      <td>no</td>\n",
       "      <td>no</td>\n",
       "      <td>0</td>\n",
       "      <td>137.8</td>\n",
       "      <td>97</td>\n",
       "      <td>23.43</td>\n",
       "      <td>...</td>\n",
       "      <td>146.4</td>\n",
       "      <td>85</td>\n",
       "      <td>6.59</td>\n",
       "      <td>8.7</td>\n",
       "      <td>6</td>\n",
       "      <td>2.35</td>\n",
       "      <td>1</td>\n",
       "      <td>1</td>\n",
       "      <td>0.49</td>\n",
       "      <td>False</td>\n",
       "    </tr>\n",
       "    <tr>\n",
       "      <th>2914</th>\n",
       "      <td>2914</td>\n",
       "      <td>KS</td>\n",
       "      <td>65</td>\n",
       "      <td>415</td>\n",
       "      <td>no</td>\n",
       "      <td>yes</td>\n",
       "      <td>34</td>\n",
       "      <td>208.8</td>\n",
       "      <td>119</td>\n",
       "      <td>35.50</td>\n",
       "      <td>...</td>\n",
       "      <td>214.6</td>\n",
       "      <td>87</td>\n",
       "      <td>9.66</td>\n",
       "      <td>12.5</td>\n",
       "      <td>4</td>\n",
       "      <td>3.38</td>\n",
       "      <td>4</td>\n",
       "      <td>1</td>\n",
       "      <td>0.61</td>\n",
       "      <td>False</td>\n",
       "    </tr>\n",
       "    <tr>\n",
       "      <th>3285</th>\n",
       "      <td>3285</td>\n",
       "      <td>KS</td>\n",
       "      <td>57</td>\n",
       "      <td>415</td>\n",
       "      <td>no</td>\n",
       "      <td>no</td>\n",
       "      <td>0</td>\n",
       "      <td>158.1</td>\n",
       "      <td>117</td>\n",
       "      <td>26.88</td>\n",
       "      <td>...</td>\n",
       "      <td>182.4</td>\n",
       "      <td>92</td>\n",
       "      <td>8.21</td>\n",
       "      <td>11.8</td>\n",
       "      <td>7</td>\n",
       "      <td>3.19</td>\n",
       "      <td>0</td>\n",
       "      <td>1</td>\n",
       "      <td>0.56</td>\n",
       "      <td>False</td>\n",
       "    </tr>\n",
       "  </tbody>\n",
       "</table>\n",
       "<p>18 rows × 23 columns</p>\n",
       "</div>"
      ],
      "text/plain": [
       "       num state  account_length  area_code intl_plan vmail_plan  \\\n",
       "0        0    KS             128        415        no        yes   \n",
       "179    179    KS              70        408        no         no   \n",
       "368    368    KS             132        415        no         no   \n",
       "385    385    KS             137        415        no         no   \n",
       "451    451    KS              86        408        no        yes   \n",
       "620    620    KS             163        415        no         no   \n",
       "680    680    KS             116        510        no         no   \n",
       "1043  1043    KS             124        415        no         no   \n",
       "1066  1066    KS             117        510        no        yes   \n",
       "1218  1218    KS             131        415        no        yes   \n",
       "1219  1219    KS              36        510        no         no   \n",
       "1279  1279    KS              87        510        no         no   \n",
       "1971  1971    KS              74        415        no        yes   \n",
       "2096  2096    KS              94        510        no        yes   \n",
       "2689  2689    KS              79        415        no         no   \n",
       "2750  2750    KS             186        510        no         no   \n",
       "2914  2914    KS              65        415        no        yes   \n",
       "3285  3285    KS              57        415        no         no   \n",
       "\n",
       "      vmail_message  day_mins  day_calls  day_charge  ...    night_mins  \\\n",
       "0                25     265.1        110       45.07  ...         244.7   \n",
       "179               0     232.1        122       39.46  ...         201.2   \n",
       "368               0      83.4        110       14.18  ...         146.7   \n",
       "385               0     230.2        113       39.13  ...         204.7   \n",
       "451              23     225.5        107       38.34  ...         245.7   \n",
       "620               0     191.3         89       32.52  ...         268.4   \n",
       "680               0     189.5         90       32.22  ...         205.8   \n",
       "1043              0     158.6        104       26.96  ...         179.3   \n",
       "1066             25     216.0        140       36.72  ...         267.9   \n",
       "1218             28     249.6         87       42.43  ...         239.9   \n",
       "1219              0     178.6         83       30.36  ...         198.0   \n",
       "1279              0     115.4         90       19.62  ...         245.7   \n",
       "1971             32     174.6        107       29.68  ...         234.7   \n",
       "2096             28     233.2         88       39.64  ...         118.0   \n",
       "2689              0     177.9         83       30.24  ...         223.7   \n",
       "2750              0     137.8         97       23.43  ...         146.4   \n",
       "2914             34     208.8        119       35.50  ...         214.6   \n",
       "3285              0     158.1        117       26.88  ...         182.4   \n",
       "\n",
       "      night_calls  night_charge  intl_mins  intl_calls  intl_charge  \\\n",
       "0              91         11.01       10.0           3         2.70   \n",
       "179           112          9.05        0.0           0         0.00   \n",
       "368           114          6.60        7.6           5         2.05   \n",
       "385           111          9.21       10.7           7         2.89   \n",
       "451            81         11.06        9.8           2         2.65   \n",
       "620           121         12.08       12.8           4         3.46   \n",
       "680            83          9.26       13.1           2         3.54   \n",
       "1043          104          8.07       10.2           8         2.75   \n",
       "1066          112         12.06       11.8           4         3.19   \n",
       "1218           92         10.80        7.6           3         2.05   \n",
       "1219          119          8.91       10.9           5         2.94   \n",
       "1279           69         11.06       13.1           5         3.54   \n",
       "1971           92         10.56        9.0           4         2.43   \n",
       "2096           71          5.31       16.1           4         4.35   \n",
       "2689          142         10.07       15.2           8         4.10   \n",
       "2750           85          6.59        8.7           6         2.35   \n",
       "2914           87          9.66       12.5           4         3.38   \n",
       "3285           92          8.21       11.8           7         3.19   \n",
       "\n",
       "      custserv_calls  treatment  mes_estim  churn  \n",
       "0                  1          1       0.65  False  \n",
       "179                3          1       0.52  False  \n",
       "368                1          1       0.56  False  \n",
       "385                4          1       0.57  False  \n",
       "451                0          1       0.46  False  \n",
       "620                1          1       0.51  False  \n",
       "680                1          1       0.58  False  \n",
       "1043               3          1       0.24  False  \n",
       "1066               0          1       0.24  False  \n",
       "1218               3          1       0.68  False  \n",
       "1219               1          1       0.35  False  \n",
       "1279               2          1       0.57  False  \n",
       "1971               1          1       0.49  False  \n",
       "2096               0          1       0.49  False  \n",
       "2689               0          1       0.48  False  \n",
       "2750               1          1       0.49  False  \n",
       "2914               4          1       0.61  False  \n",
       "3285               0          1       0.56  False  \n",
       "\n",
       "[18 rows x 23 columns]"
      ]
     },
     "execution_count": 6,
     "metadata": {},
     "output_type": "execute_result"
    }
   ],
   "source": [
    "control[control.churn == \"False\"][control.state == \"KS\"]"
   ]
  },
  {
   "cell_type": "code",
   "execution_count": 7,
   "metadata": {
    "collapsed": false
   },
   "outputs": [
    {
     "name": "stderr",
     "output_type": "stream",
     "text": [
      "C:\\Users\\yuranich\\Anaconda2\\lib\\site-packages\\ipykernel\\__main__.py:6: UserWarning: Boolean Series key will be reindexed to match DataFrame index.\n",
      "C:\\Users\\yuranich\\Anaconda2\\lib\\site-packages\\ipykernel\\__main__.py:7: UserWarning: Boolean Series key will be reindexed to match DataFrame index.\n",
      "C:\\Users\\yuranich\\Anaconda2\\lib\\site-packages\\ipykernel\\__main__.py:8: UserWarning: Boolean Series key will be reindexed to match DataFrame index.\n",
      "C:\\Users\\yuranich\\Anaconda2\\lib\\site-packages\\ipykernel\\__main__.py:9: UserWarning: Boolean Series key will be reindexed to match DataFrame index.\n"
     ]
    },
    {
     "data": {
      "text/plain": [
       "[array([[18, 22],\n",
       "        [ 7,  2]]), array([[18, 15],\n",
       "        [ 7,  0]]), array([[18, 13],\n",
       "        [ 7,  2]]), array([[18, 18],\n",
       "        [ 7,  5]]), array([[18, 17],\n",
       "        [ 7,  5]])]"
      ]
     },
     "execution_count": 7,
     "metadata": {},
     "output_type": "execute_result"
    }
   ],
   "source": [
    "tables = []\n",
    "for x1, i in zip(state_unique[:-1], range(len(state_unique)-1)):\n",
    "    for x2 in state_unique[i+1:]:\n",
    "        y1 = \"False\"\n",
    "        y2 = \"True\"\n",
    "        a = control[control.state == x1][control.churn == y1].shape[0]\n",
    "        b = control[control.state == x2][control.churn == y1].shape[0]\n",
    "        c = control[control.state == x1][control.churn == y2].shape[0]\n",
    "        d = control[control.state == x2][control.churn == y2].shape[0]\n",
    "        tables.append(np.array([[a, b], [c, d]]))\n",
    "        \n",
    "tables[:5]"
   ]
  },
  {
   "cell_type": "code",
   "execution_count": 18,
   "metadata": {
    "collapsed": false
   },
   "outputs": [
    {
     "data": {
      "text/plain": [
       "34"
      ]
     },
     "execution_count": 18,
     "metadata": {},
     "output_type": "execute_result"
    }
   ],
   "source": [
    "count = 0\n",
    "p_chi = []\n",
    "for subtable in tables:\n",
    "    chi2 = sts.chi2_contingency(subtable, correction=False)\n",
    "    p_chi.append(chi2[1])\n",
    "    if chi2[1] < 0.05:\n",
    "        count += 1\n",
    "        \n",
    "count"
   ]
  },
  {
   "cell_type": "code",
   "execution_count": 19,
   "metadata": {
    "collapsed": false
   },
   "outputs": [
    {
     "data": {
      "text/plain": [
       "0.50182737987391657"
      ]
     },
     "execution_count": 19,
     "metadata": {},
     "output_type": "execute_result"
    }
   ],
   "source": [
    "np.mean(p_chi)"
   ]
  },
  {
   "cell_type": "code",
   "execution_count": 21,
   "metadata": {
    "collapsed": false
   },
   "outputs": [
    {
     "data": {
      "text/plain": [
       "0"
      ]
     },
     "execution_count": 21,
     "metadata": {},
     "output_type": "execute_result"
    }
   ],
   "source": [
    "count = 0\n",
    "p_chi_corr = []\n",
    "for subtable in tables:\n",
    "    chi2 = sts.chi2_contingency(subtable, correction=True)\n",
    "    p_chi_corr.append(chi2[1])\n",
    "    if chi2[1] < 0.05:\n",
    "        count += 1\n",
    "        \n",
    "count"
   ]
  },
  {
   "cell_type": "code",
   "execution_count": 22,
   "metadata": {
    "collapsed": false
   },
   "outputs": [
    {
     "data": {
      "text/plain": [
       "0.66405663820510508"
      ]
     },
     "execution_count": 22,
     "metadata": {},
     "output_type": "execute_result"
    }
   ],
   "source": [
    "np.mean(p_chi_corr)"
   ]
  },
  {
   "cell_type": "code",
   "execution_count": 23,
   "metadata": {
    "collapsed": false
   },
   "outputs": [
    {
     "data": {
      "text/plain": [
       "10"
      ]
     },
     "execution_count": 23,
     "metadata": {},
     "output_type": "execute_result"
    }
   ],
   "source": [
    "count = 0\n",
    "p_fish = []\n",
    "for subtable in tables:\n",
    "    chi2 = sts.fisher_exact(subtable)\n",
    "    p_fish.append(chi2[1])\n",
    "    if chi2[1] < 0.05:\n",
    "        count += 1\n",
    "        \n",
    "count"
   ]
  },
  {
   "cell_type": "code",
   "execution_count": 24,
   "metadata": {
    "collapsed": false
   },
   "outputs": [
    {
     "data": {
      "text/plain": [
       "0.64833830600206677"
      ]
     },
     "execution_count": 24,
     "metadata": {},
     "output_type": "execute_result"
    }
   ],
   "source": [
    "np.mean(p_fish)"
   ]
  },
  {
   "cell_type": "code",
   "execution_count": 30,
   "metadata": {
    "collapsed": false,
    "scrolled": false
   },
   "outputs": [
    {
     "data": {
      "text/plain": [
       "(-0.051794350587572625, 0.0027798836869756707)"
      ]
     },
     "execution_count": 30,
     "metadata": {},
     "output_type": "execute_result"
    }
   ],
   "source": [
    "corr = sts.pearsonr(data.day_calls, data.mes_estim)\n",
    "corr"
   ]
  },
  {
   "cell_type": "code",
   "execution_count": 31,
   "metadata": {
    "collapsed": false
   },
   "outputs": [
    {
     "data": {
      "text/plain": [
       "SpearmanrResult(correlation=0.043349880533927444, pvalue=0.012317367189170541)"
      ]
     },
     "execution_count": 31,
     "metadata": {},
     "output_type": "execute_result"
    }
   ],
   "source": [
    "sts.spearmanr(data.day_calls, data.mes_estim)"
   ]
  },
  {
   "cell_type": "code",
   "execution_count": 33,
   "metadata": {
    "collapsed": false
   },
   "outputs": [
    {
     "name": "stdout",
     "output_type": "stream",
     "text": [
      "Populating the interactive namespace from numpy and matplotlib\n"
     ]
    }
   ],
   "source": [
    "%pylab inline"
   ]
  },
  {
   "cell_type": "code",
   "execution_count": 35,
   "metadata": {
    "collapsed": false
   },
   "outputs": [
    {
     "data": {
      "image/png": "[encoded data removed]",
      "text/plain": [
       "<matplotlib.figure.Figure at 0xa22fb38>"
      ]
     },
     "metadata": {},
     "output_type": "display_data"
    }
   ],
   "source": [
    "pylab.figure(figsize=(12,8))\n",
    "pylab.subplot(2,2,1)\n",
    "sts.probplot(data.day_calls, dist=\"norm\", plot=pylab)\n",
    "pylab.subplot(2,2,2)\n",
    "sts.probplot(data.mes_estim, dist=\"norm\", plot=pylab)\n",
    "pylab.show()"
   ]
  },
  {
   "cell_type": "code",
   "execution_count": 38,
   "metadata": {
    "collapsed": false
   },
   "outputs": [
    {
     "data": {
      "text/plain": [
       "(44.052712366925483,\n",
       " 0.70975900427784411,\n",
       " 50L,\n",
       " array([[ 16.7183227 ,   3.2816773 ],\n",
       "        [ 25.07748405,   4.92251595],\n",
       "        [ 13.37465816,   2.62534184],\n",
       "        [ 15.88240656,   3.11759344],\n",
       "        [ 12.53874202,   2.46125798],\n",
       "        [ 18.39015497,   3.60984503],\n",
       "        [ 25.07748405,   4.92251595],\n",
       "        [ 15.88240656,   3.11759344],\n",
       "        [ 14.21057429,   2.78942571],\n",
       "        [ 16.7183227 ,   3.2816773 ],\n",
       "        [ 17.55423883,   3.44576117],\n",
       "        [ 10.86690975,   2.13309025],\n",
       "        [ 12.53874202,   2.46125798],\n",
       "        [ 15.04649043,   2.95350957],\n",
       "        [ 10.03099362,   1.96900638],\n",
       "        [ 19.2260711 ,   3.7739289 ],\n",
       "        [ 20.89790337,   4.10209663],\n",
       "        [ 20.89790337,   4.10209663],\n",
       "        [ 12.53874202,   2.46125798],\n",
       "        [ 20.06198724,   3.93801276],\n",
       "        [ 20.06198724,   3.93801276],\n",
       "        [ 23.40565178,   4.59434822],\n",
       "        [ 18.39015497,   3.60984503],\n",
       "        [ 17.55423883,   3.44576117],\n",
       "        [ 17.55423883,   3.44576117],\n",
       "        [ 20.06198724,   3.93801276],\n",
       "        [ 21.73381951,   4.26618049],\n",
       "        [ 15.88240656,   3.11759344],\n",
       "        [ 20.06198724,   3.93801276],\n",
       "        [ 20.06198724,   3.93801276],\n",
       "        [ 10.03099362,   1.96900638],\n",
       "        [ 20.06198724,   3.93801276],\n",
       "        [ 24.24156791,   4.75843209],\n",
       "        [ 20.06198724,   3.93801276],\n",
       "        [ 27.58523245,   5.41476755],\n",
       "        [ 20.06198724,   3.93801276],\n",
       "        [ 10.86690975,   2.13309025],\n",
       "        [ 17.55423883,   3.44576117],\n",
       "        [ 15.04649043,   2.95350957],\n",
       "        [ 18.39015497,   3.60984503],\n",
       "        [ 17.55423883,   3.44576117],\n",
       "        [ 19.2260711 ,   3.7739289 ],\n",
       "        [ 10.03099362,   1.96900638],\n",
       "        [ 16.7183227 ,   3.2816773 ],\n",
       "        [ 18.39015497,   3.60984503],\n",
       "        [ 19.2260711 ,   3.7739289 ],\n",
       "        [ 19.2260711 ,   3.7739289 ],\n",
       "        [ 19.2260711 ,   3.7739289 ],\n",
       "        [ 20.06198724,   3.93801276],\n",
       "        [ 26.74931632,   5.25068368],\n",
       "        [ 18.39015497,   3.60984503]]))"
      ]
     },
     "execution_count": 38,
     "metadata": {},
     "output_type": "execute_result"
    }
   ],
   "source": [
    "table = pd.crosstab(control.state, control.churn).values\n",
    "chi2 = sts.chi2_contingency(table)\n",
    "chi2"
   ]
  },
  {
   "cell_type": "code",
   "execution_count": 39,
   "metadata": {
    "collapsed": false
   },
   "outputs": [
    {
     "data": {
      "text/plain": [
       "0.20039321502033319"
      ]
     },
     "execution_count": 39,
     "metadata": {},
     "output_type": "execute_result"
    }
   ],
   "source": [
    "n = sum([sum(x) for x in table])\n",
    "phi_cramera = np.sqrt(chi2[0] / (n))\n",
    "phi_cramera"
   ]
  },
  {
   "cell_type": "code",
   "execution_count": 41,
   "metadata": {
    "collapsed": false
   },
   "outputs": [
    {
     "data": {
      "text/plain": [
       "0.4803921568627451"
      ]
     },
     "execution_count": 41,
     "metadata": {},
     "output_type": "execute_result"
    }
   ],
   "source": [
    "count = 0\n",
    "for i in sum(table, axis=0):\n",
    "    for j in sum(table, axis=1):\n",
    "        if float(i*j) / n < 5:\n",
    "            count += 1\n",
    "            \n",
    "float(count) / size(table)"
   ]
  },
  {
   "cell_type": "code",
   "execution_count": 42,
   "metadata": {
    "collapsed": true
   },
   "outputs": [],
   "source": [
    "import seaborn"
   ]
  },
  {
   "cell_type": "code",
   "execution_count": null,
   "metadata": {
    "collapsed": true
   },
   "outputs": [],
   "source": []
  },
  {
   "cell_type": "code",
   "execution_count": 46,
   "metadata": {
    "collapsed": false
   },
   "outputs": [
    {
     "data": {
      "text/plain": [
       "165L"
      ]
     },
     "execution_count": 46,
     "metadata": {},
     "output_type": "execute_result"
    }
   ],
   "source": [
    "sum(data[data.treatment == 0].churn.apply(lambda x: 1 if x == 'True' else 0))"
   ]
  },
  {
   "cell_type": "code",
   "execution_count": 47,
   "metadata": {
    "collapsed": false
   },
   "outputs": [
    {
     "data": {
      "text/plain": [
       "180L"
      ]
     },
     "execution_count": 47,
     "metadata": {},
     "output_type": "execute_result"
    }
   ],
   "source": [
    "sum(data[data.treatment == 1].churn.apply(lambda x: 1 if x == 'True' else 0))"
   ]
  },
  {
   "cell_type": "code",
   "execution_count": 48,
   "metadata": {
    "collapsed": false
   },
   "outputs": [
    {
     "data": {
      "text/plain": [
       "138L"
      ]
     },
     "execution_count": 48,
     "metadata": {},
     "output_type": "execute_result"
    }
   ],
   "source": [
    "sum(data[data.treatment == 2].churn.apply(lambda x: 1 if x == 'True' else 0))"
   ]
  },
  {
   "cell_type": "code",
   "execution_count": 49,
   "metadata": {
    "collapsed": false
   },
   "outputs": [
    {
     "data": {
      "text/plain": [
       "(1097, 23)"
      ]
     },
     "execution_count": 49,
     "metadata": {},
     "output_type": "execute_result"
    }
   ],
   "source": [
    "control.shape"
   ]
  },
  {
   "cell_type": "code",
   "execution_count": 50,
   "metadata": {
    "collapsed": false
   },
   "outputs": [
    {
     "data": {
      "text/plain": [
       "(1103, 23)"
      ]
     },
     "execution_count": 50,
     "metadata": {},
     "output_type": "execute_result"
    }
   ],
   "source": [
    "data[data.treatment == 2].shape"
   ]
  },
  {
   "cell_type": "code",
   "execution_count": 51,
   "metadata": {
    "collapsed": false
   },
   "outputs": [
    {
     "data": {
      "text/plain": [
       "(1133, 23)"
      ]
     },
     "execution_count": 51,
     "metadata": {},
     "output_type": "execute_result"
    }
   ],
   "source": [
    "data[data.treatment == 0].shape"
   ]
  },
  {
   "cell_type": "code",
   "execution_count": 53,
   "metadata": {
    "collapsed": true
   },
   "outputs": [],
   "source": [
    "def proportions_diff_z_stat_ind(sample1, sample2):\n",
    "    n1 = len(sample1)\n",
    "    n2 = len(sample2)\n",
    "    \n",
    "    p1 = float(sum(sample1)) / n1\n",
    "    p2 = float(sum(sample2)) / n2 \n",
    "    P = float(p1*n1 + p2*n2) / (n1 + n2)\n",
    "    \n",
    "    return (p1 - p2) / np.sqrt(P * (1 - P) * (1. / n1 + 1. / n2))\n",
    "\n",
    "def proportions_diff_z_test(z_stat, alternative = 'two-sided'):\n",
    "    if alternative not in ('two-sided', 'less', 'greater'):\n",
    "        raise ValueError(\"alternative not recognized\\n\"\n",
    "                         \"should be 'two-sided', 'less' or 'greater'\")\n",
    "    \n",
    "    if alternative == 'two-sided':\n",
    "        return 2 * (1 - sts.norm.cdf(np.abs(z_stat)))\n",
    "    \n",
    "    if alternative == 'less':\n",
    "        return sts.norm.cdf(z_stat)\n",
    "\n",
    "    if alternative == 'greater':\n",
    "        return 1 - sts.norm.cdf(z_stat)"
   ]
  },
  {
   "cell_type": "code",
   "execution_count": 56,
   "metadata": {
    "collapsed": false,
    "scrolled": true
   },
   "outputs": [
    {
     "data": {
      "text/plain": [
       "0.15642468860508019"
      ]
     },
     "execution_count": 56,
     "metadata": {},
     "output_type": "execute_result"
    }
   ],
   "source": [
    "data.churn = data.churn.apply(lambda x: 1 if x == 'True' else 0)"
   ]
  },
  {
   "cell_type": "code",
   "execution_count": 59,
   "metadata": {
    "collapsed": false
   },
   "outputs": [
    {
     "data": {
      "text/plain": [
       "0.15642468860508019"
      ]
     },
     "execution_count": 59,
     "metadata": {},
     "output_type": "execute_result"
    }
   ],
   "source": [
    "proportions_diff_z_test(proportions_diff_z_stat_ind(data[data.treatment == 0].churn, data[data.treatment == 2].churn))"
   ]
  },
  {
   "cell_type": "code",
   "execution_count": 57,
   "metadata": {
    "collapsed": false
   },
   "outputs": [
    {
     "data": {
      "text/plain": [
       "0.22833116390451069"
      ]
     },
     "execution_count": 57,
     "metadata": {},
     "output_type": "execute_result"
    }
   ],
   "source": [
    "proportions_diff_z_test(proportions_diff_z_stat_ind(data[data.treatment == 0].churn, data[data.treatment == 1].churn))"
   ]
  },
  {
   "cell_type": "code",
   "execution_count": 58,
   "metadata": {
    "collapsed": false
   },
   "outputs": [
    {
     "data": {
      "text/plain": [
       "0.0093480842944511089"
      ]
     },
     "execution_count": 58,
     "metadata": {},
     "output_type": "execute_result"
    }
   ],
   "source": [
    "proportions_diff_z_test(proportions_diff_z_stat_ind(data[data.treatment == 1].churn, data[data.treatment == 2].churn))"
   ]
  },
  {
   "cell_type": "markdown",
   "metadata": {},
   "source": [
    "## Quiz AB-testing"
   ]
  },
  {
   "cell_type": "code",
   "execution_count": 4,
   "metadata": {
    "collapsed": false
   },
   "outputs": [
    {
     "data": {
      "text/html": [
       "<div>\n",
       "<table border=\"1\" class=\"dataframe\">\n",
       "  <thead>\n",
       "    <tr style=\"text-align: right;\">\n",
       "      <th></th>\n",
       "      <th>userID</th>\n",
       "      <th>browser</th>\n",
       "      <th>slot</th>\n",
       "      <th>n_clicks</th>\n",
       "      <th>n_queries</th>\n",
       "      <th>n_nonclk_queries</th>\n",
       "    </tr>\n",
       "  </thead>\n",
       "  <tbody>\n",
       "    <tr>\n",
       "      <th>0</th>\n",
       "      <td>1</td>\n",
       "      <td>Browser #2</td>\n",
       "      <td>exp</td>\n",
       "      <td>23</td>\n",
       "      <td>32</td>\n",
       "      <td>19</td>\n",
       "    </tr>\n",
       "    <tr>\n",
       "      <th>1</th>\n",
       "      <td>3</td>\n",
       "      <td>Browser #4</td>\n",
       "      <td>exp</td>\n",
       "      <td>3</td>\n",
       "      <td>4</td>\n",
       "      <td>2</td>\n",
       "    </tr>\n",
       "    <tr>\n",
       "      <th>2</th>\n",
       "      <td>5</td>\n",
       "      <td>Browser #4</td>\n",
       "      <td>exp</td>\n",
       "      <td>29</td>\n",
       "      <td>35</td>\n",
       "      <td>16</td>\n",
       "    </tr>\n",
       "    <tr>\n",
       "      <th>3</th>\n",
       "      <td>6</td>\n",
       "      <td>Browser #4</td>\n",
       "      <td>control</td>\n",
       "      <td>12</td>\n",
       "      <td>6</td>\n",
       "      <td>0</td>\n",
       "    </tr>\n",
       "    <tr>\n",
       "      <th>4</th>\n",
       "      <td>7</td>\n",
       "      <td>Browser #4</td>\n",
       "      <td>exp</td>\n",
       "      <td>54</td>\n",
       "      <td>68</td>\n",
       "      <td>30</td>\n",
       "    </tr>\n",
       "  </tbody>\n",
       "</table>\n",
       "</div>"
      ],
      "text/plain": [
       "   userID     browser     slot  n_clicks  n_queries  n_nonclk_queries\n",
       "0       1  Browser #2      exp        23         32                19\n",
       "1       3  Browser #4      exp         3          4                 2\n",
       "2       5  Browser #4      exp        29         35                16\n",
       "3       6  Browser #4  control        12          6                 0\n",
       "4       7  Browser #4      exp        54         68                30"
      ]
     },
     "execution_count": 4,
     "metadata": {},
     "output_type": "execute_result"
    }
   ],
   "source": [
    "data = pd.read_csv(\"ab_browser_test.csv\")\n",
    "data.head()"
   ]
  },
  {
   "cell_type": "code",
   "execution_count": 5,
   "metadata": {
    "collapsed": true
   },
   "outputs": [],
   "source": [
    "exp = data[data.slot == 'exp']\n",
    "control = data[data.slot == 'control']"
   ]
  },
  {
   "cell_type": "code",
   "execution_count": 47,
   "metadata": {
    "collapsed": false
   },
   "outputs": [
    {
     "data": {
      "text/plain": [
       "0.016135689824415822"
      ]
     },
     "execution_count": 47,
     "metadata": {},
     "output_type": "execute_result"
    }
   ],
   "source": [
    "float(sum(exp.n_clicks)) / sum(control.n_clicks) - 1"
   ]
  },
  {
   "cell_type": "code",
   "execution_count": 7,
   "metadata": {
    "collapsed": true
   },
   "outputs": [],
   "source": [
    "def get_bootstrap_samples(data, n_samples):\n",
    "    indices = np.random.randint(0, len(data), (n_samples, len(data)))\n",
    "    samples = data[indices]\n",
    "    return samples\n",
    "\n",
    "def stat_intervals(stat, alpha=0.05):\n",
    "    boundaries = np.percentile(stat, [100 * alpha / 2., 100 * (1 - alpha / 2.)])\n",
    "    return boundaries"
   ]
  },
  {
   "cell_type": "code",
   "execution_count": 8,
   "metadata": {
    "collapsed": true
   },
   "outputs": [],
   "source": [
    "exp_click = exp.n_clicks.values\n",
    "control_click = control.n_clicks.values"
   ]
  },
  {
   "cell_type": "code",
   "execution_count": 7,
   "metadata": {
    "collapsed": false
   },
   "outputs": [
    {
     "name": "stdout",
     "output_type": "stream",
     "text": [
      "[ 5.  5.]\n",
      "[ 4.  4.]\n",
      "[ 11.50748109  11.65752157]\n",
      "[ 11.21392679  11.3570817 ]\n"
     ]
    }
   ],
   "source": [
    "np.random.seed(0)\n",
    "\n",
    "exp_median = map(np.median, get_bootstrap_samples(exp_click, 500))\n",
    "control_median = map(np.median, get_bootstrap_samples(control_click, 500))\n",
    "exp_mean = map(np.mean, get_bootstrap_samples(exp_click, 500))\n",
    "control_mean = map(np.mean, get_bootstrap_samples(control_click, 500))\n",
    "\n",
    "print stat_intervals(exp_median)\n",
    "print stat_intervals(control_median)\n",
    "print stat_intervals(exp_mean)\n",
    "print stat_intervals(control_mean)"
   ]
  },
  {
   "cell_type": "code",
   "execution_count": 8,
   "metadata": {
    "collapsed": true
   },
   "outputs": [],
   "source": [
    "delta_median = map(lambda x: x[1] - x[0], zip(exp_median, control_median))\n",
    "delta_mean = map(lambda x: x[1] - x[0], zip(exp_mean, control_mean))"
   ]
  },
  {
   "cell_type": "code",
   "execution_count": 9,
   "metadata": {
    "collapsed": false
   },
   "outputs": [
    {
     "name": "stdout",
     "output_type": "stream",
     "text": [
      "[-1. -1.]\n",
      "[-0.40031281 -0.18858095]\n"
     ]
    }
   ],
   "source": [
    "print stat_intervals(delta_median)\n",
    "print stat_intervals(delta_mean)"
   ]
  },
  {
   "cell_type": "code",
   "execution_count": 1,
   "metadata": {
    "collapsed": false
   },
   "outputs": [
    {
     "name": "stdout",
     "output_type": "stream",
     "text": [
      "Populating the interactive namespace from numpy and matplotlib\n"
     ]
    }
   ],
   "source": [
    "%pylab inline"
   ]
  },
  {
   "cell_type": "code",
   "execution_count": 11,
   "metadata": {
    "collapsed": false,
    "scrolled": false
   },
   "outputs": [
    {
     "data": {
      "image/png": "[encoded data removed]",
      "text/plain": [
       "<matplotlib.figure.Figure at 0xa49c128>"
      ]
     },
     "metadata": {},
     "output_type": "display_data"
    }
   ],
   "source": [
    "pylab.figure(figsize=(12,8))\n",
    "pylab.subplot(2,2,1)\n",
    "sts.probplot(exp.n_clicks, dist=\"norm\", plot=pylab)\n",
    "pylab.subplot(2,2,2)\n",
    "sts.probplot(control.n_clicks, dist=\"norm\", plot=pylab)\n",
    "pylab.show()"
   ]
  },
  {
   "cell_type": "code",
   "execution_count": 49,
   "metadata": {
    "collapsed": false
   },
   "outputs": [
    {
     "data": {
      "image/png": "[encoded data removed]",
      "text/plain": [
       "<matplotlib.figure.Figure at 0xaa052e8>"
      ]
     },
     "metadata": {},
     "output_type": "display_data"
    }
   ],
   "source": [
    "pylab.figure(figsize=(12,8))\n",
    "pylab.subplot(2,2,1)\n",
    "exp.n_clicks.hist(color='r', label='exp')\n",
    "pylab.legend()\n",
    "pylab.subplot(2,2,2)\n",
    "control.n_clicks.hist(color='b', label='control')\n",
    "pylab.legend()\n",
    "pylab.show()"
   ]
  },
  {
   "cell_type": "code",
   "execution_count": null,
   "metadata": {
    "collapsed": true
   },
   "outputs": [],
   "source": [
    "np.random.seed(0)\n",
    "\n",
    "n_boot_samples = get_bootstrap_samples(control_click, 500)"
   ]
  },
  {
   "cell_type": "code",
   "execution_count": 19,
   "metadata": {
    "collapsed": false
   },
   "outputs": [
    {
     "data": {
      "text/plain": [
       "500"
      ]
     },
     "execution_count": 19,
     "metadata": {},
     "output_type": "execute_result"
    }
   ],
   "source": [
    "control_means = map(np.mean, n_boot_samples)\n",
    "len(control_means)"
   ]
  },
  {
   "cell_type": "code",
   "execution_count": 20,
   "metadata": {
    "collapsed": false
   },
   "outputs": [
    {
     "data": {
      "text/plain": [
       "[114885027.84454267,\n",
       " 119162930.90809125,\n",
       " 118710014.33042586,\n",
       " 119280983.89520442,\n",
       " 114100077.50360563]"
      ]
     },
     "execution_count": 20,
     "metadata": {},
     "output_type": "execute_result"
    }
   ],
   "source": [
    "squares = []\n",
    "for x, y in zip(n_boot_samples, control_means):\n",
    "    sum_square = sum([(i - y)**2 for i in x])\n",
    "    squares.append(sum_square)\n",
    "\n",
    "squares[:5]"
   ]
  },
  {
   "cell_type": "code",
   "execution_count": 22,
   "metadata": {
    "collapsed": false,
    "scrolled": true
   },
   "outputs": [
    {
     "data": {
      "image/png": "[encoded data removed]",
      "text/plain": [
       "<matplotlib.figure.Figure at 0x6eaf080>"
      ]
     },
     "metadata": {},
     "output_type": "display_data"
    }
   ],
   "source": [
    "pylab.figure(figsize=(12,8))\n",
    "pylab.subplot(2,2,1)\n",
    "sts.probplot(control_means, dist=\"norm\", plot=pylab)\n",
    "pylab.subplot(2,2,2)\n",
    "sts.probplot(squares, dist=\"chi2\", sparams=(len(squares)-1), plot=pylab)\n",
    "pylab.show()"
   ]
  },
  {
   "cell_type": "code",
   "execution_count": 27,
   "metadata": {
    "collapsed": false
   },
   "outputs": [
    {
     "data": {
      "text/plain": [
       "(284392, 284554)"
      ]
     },
     "execution_count": 27,
     "metadata": {},
     "output_type": "execute_result"
    }
   ],
   "source": [
    "control_clicks = control.groupby('userID').n_clicks.agg(np.sum)\n",
    "(len(control_clicks), len(control.n_clicks))"
   ]
  },
  {
   "cell_type": "code",
   "execution_count": 28,
   "metadata": {
    "collapsed": false
   },
   "outputs": [
    {
     "data": {
      "text/plain": [
       "(281450, 281580)"
      ]
     },
     "execution_count": 28,
     "metadata": {},
     "output_type": "execute_result"
    }
   ],
   "source": [
    "exp_clicks = exp.groupby('userID').n_clicks.agg(np.sum)\n",
    "(len(exp_clicks), len(exp.n_clicks))"
   ]
  },
  {
   "cell_type": "code",
   "execution_count": 32,
   "metadata": {
    "collapsed": false
   },
   "outputs": [],
   "source": [
    "from collections import namedtuple\n",
    "import scipy\n",
    "MannwhitneyuResult = namedtuple('MannwhitneyuResult', ('statistic', 'pvalue'))\n",
    "def tiecorrect(rankvals):\n",
    "    arr = np.sort(rankvals)\n",
    "    idx = np.nonzero(np.r_[True, arr[1:] != arr[:-1], True])[0]\n",
    "    cnt = np.diff(idx).astype(np.float64)\n",
    "    size = np.float64(arr.size)\n",
    "    return 1.0 if size < 2 else 1.0 - (cnt**3 - cnt).sum() / (size**3 - size)\n",
    "\n",
    "def mannwhitneyu(x, y, use_continuity=True, alternative=None):\n",
    "    if alternative is None:\n",
    "        warnings.warn(\"Calling `mannwhitneyu` without specifying \"\n",
    "                      \"`alternative` is deprecated.\", DeprecationWarning)\n",
    "\n",
    "    x = np.asarray(x)\n",
    "    y = np.asarray(y)\n",
    "    n1 = len(x)\n",
    "    n2 = len(y)\n",
    "    ranked = scipy.stats.rankdata(np.concatenate((x, y)))\n",
    "    rankx = ranked[0:n1]  # get the x-ranks\n",
    "    u1 = n1*n2 + (n1*(n1+1))/2.0 - np.sum(rankx, axis=0)  # calc U for x\n",
    "    u2 = n1*n2 - u1  # remainder is U for y\n",
    "    T = tiecorrect(ranked)\n",
    "    if T == 0:\n",
    "        raise ValueError('All numbers are identical in mannwhitneyu')\n",
    "    sd = np.sqrt(T * n1 * n2 * (n1+n2+1) / 12.0)\n",
    "\n",
    "    meanrank = n1*n2/2.0 + 0.5 * use_continuity\n",
    "    if alternative is None or alternative == 'two-sided':\n",
    "        bigu = max(u1, u2)\n",
    "    elif alternative == 'less':\n",
    "        bigu = u1\n",
    "    elif alternative == 'greater':\n",
    "        bigu = u2\n",
    "    else:\n",
    "        raise ValueError(\"alternative should be None, 'less', 'greater' \"\n",
    "                         \"or 'two-sided'\")\n",
    "    z = (bigu - meanrank) / sd\n",
    "    if alternative is None:\n",
    "        # This behavior, equal to half the size of the two-sided\n",
    "        # p-value, is deprecated.\n",
    "        p = scipy.stats.distributions.norm.sf(abs(z))\n",
    "    elif alternative == 'two-sided':\n",
    "        p = 2 * scipy.stats.distributions.norm.sf(abs(z))\n",
    "    else:\n",
    "        p = scipy.stats.distributions.norm.sf(z)\n",
    "    u = u2\n",
    "    # This behavior is deprecated.\n",
    "    if alternative is None:\n",
    "        u = min(u1, u2)\n",
    "    return MannwhitneyuResult(u, p)"
   ]
  },
  {
   "cell_type": "code",
   "execution_count": 33,
   "metadata": {
    "collapsed": false
   },
   "outputs": [
    {
     "data": {
      "text/plain": [
       "MannwhitneyuResult(statistic=38901259929.0, pvalue=8.6942943775208786e-75)"
      ]
     },
     "execution_count": 33,
     "metadata": {},
     "output_type": "execute_result"
    }
   ],
   "source": [
    "mannwhitneyu(control_clicks, exp_clicks, alternative='two-sided')"
   ]
  },
  {
   "cell_type": "code",
   "execution_count": 34,
   "metadata": {
    "collapsed": false
   },
   "outputs": [
    {
     "data": {
      "text/plain": [
       "Browser #4     78681\n",
       "Browser #22    71825\n",
       "Browser #2     55793\n",
       "Browser #14    44903\n",
       "Browser #20    16998\n",
       "Browser #17    16354\n",
       "Name: browser, dtype: int64"
      ]
     },
     "execution_count": 34,
     "metadata": {},
     "output_type": "execute_result"
    }
   ],
   "source": [
    "control.browser.value_counts()"
   ]
  },
  {
   "cell_type": "code",
   "execution_count": 35,
   "metadata": {
    "collapsed": true
   },
   "outputs": [],
   "source": [
    "from statsmodels.sandbox.stats.multicomp import multipletests"
   ]
  },
  {
   "cell_type": "code",
   "execution_count": 36,
   "metadata": {
    "collapsed": true
   },
   "outputs": [],
   "source": [
    "p_vals = []\n",
    "brows = ['Browser #4', 'Browser #22', 'Browser #2', 'Browser #14', 'Browser #20', 'Browser #17']"
   ]
  },
  {
   "cell_type": "code",
   "execution_count": 37,
   "metadata": {
    "collapsed": false
   },
   "outputs": [
    {
     "data": {
      "text/plain": [
       "[0.81521235316909968,\n",
       " 0.51481103044200638,\n",
       " 0.054487720839448202,\n",
       " 0.0,\n",
       " 0.90733312777470754,\n",
       " 0.074801202860216034]"
      ]
     },
     "execution_count": 37,
     "metadata": {},
     "output_type": "execute_result"
    }
   ],
   "source": [
    "for x in brows:\n",
    "    p_vals.append(mannwhitneyu(control[control.browser == x].n_clicks, exp[exp.browser == x].n_clicks, alternative='two-sided')[1])\n",
    "    \n",
    "p_vals"
   ]
  },
  {
   "cell_type": "code",
   "execution_count": 38,
   "metadata": {
    "collapsed": false
   },
   "outputs": [
    {
     "data": {
      "text/plain": [
       "array([ 1.        ,  1.        ,  0.2724386 ,  0.        ,  1.        ,\n",
       "        0.29920481])"
      ]
     },
     "execution_count": 38,
     "metadata": {},
     "output_type": "execute_result"
    }
   ],
   "source": [
    "reject, p_corrected, a1, a2 = multipletests(p_vals, alpha = 0.05, method = 'holm')\n",
    "p_corrected"
   ]
  },
  {
   "cell_type": "code",
   "execution_count": 41,
   "metadata": {
    "collapsed": false
   },
   "outputs": [
    {
     "name": "stdout",
     "output_type": "stream",
     "text": [
      "46.9709296351\n",
      "40.5939765935\n",
      "45.9627471792\n",
      "57.5904113601\n",
      "40.5404847434\n",
      "36.2993667463\n"
     ]
    }
   ],
   "source": [
    "for x in brows:\n",
    "    print float(sum(control[control.browser == x].n_nonclk_queries)) / sum(control[control.browser == x].n_queries)*100"
   ]
  },
  {
   "cell_type": "code",
   "execution_count": 44,
   "metadata": {
    "collapsed": false
   },
   "outputs": [
    {
     "name": "stdout",
     "output_type": "stream",
     "text": [
      "45.1429419036\n",
      "39.8539472197\n",
      "44.9827469486\n",
      "43.7556173613\n",
      "38.9773764837\n",
      "36.9374128487\n"
     ]
    }
   ],
   "source": [
    "for x in brows:\n",
    "    print float(sum(exp[exp.browser == x].n_nonclk_queries)) / sum(exp[exp.browser == x].n_queries)*100"
   ]
  }
 ],
 "metadata": {
  "kernelspec": {
   "display_name": "Python 2",
   "language": "python",
   "name": "python2"
  },
  "language_info": {
   "codemirror_mode": {
    "name": "ipython",
    "version": 2
   },
   "file_extension": ".py",
   "mimetype": "text/x-python",
   "name": "python",
   "nbconvert_exporter": "python",
   "pygments_lexer": "ipython2",
   "version": "2.7.11"
  }
 },
 "nbformat": 4,
 "nbformat_minor": 0
}
