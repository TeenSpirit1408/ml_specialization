{
 "cells": [
  {
   "cell_type": "code",
   "execution_count": 1,
   "metadata": {
    "collapsed": false
   },
   "outputs": [],
   "source": [
    "import pandas as pd\n",
    "import numpy as np\n",
    "from sklearn import cross_validation, linear_model, metrics"
   ]
  },
  {
   "cell_type": "markdown",
   "metadata": {},
   "source": [
    "Загрузим данные без отложенной выборки"
   ]
  },
  {
   "cell_type": "code",
   "execution_count": 2,
   "metadata": {
    "collapsed": false
   },
   "outputs": [
    {
     "name": "stdout",
     "output_type": "stream",
     "text": [
      "<class 'pandas.core.frame.DataFrame'>\n",
      "Int64Index: 30000 entries, 0 to 29999\n",
      "Columns: 231 entries, Var1 to labels\n",
      "dtypes: float64(191), int64(2), object(38)\n",
      "memory usage: 53.1+ MB\n"
     ]
    }
   ],
   "source": [
    "data = pd.read_csv(\"orange_churn_data.train\")\n",
    "data.info()"
   ]
  },
  {
   "cell_type": "markdown",
   "metadata": {},
   "source": [
    "Подготовим данные к построению модели"
   ]
  },
  {
   "cell_type": "code",
   "execution_count": 3,
   "metadata": {
    "collapsed": false
   },
   "outputs": [],
   "source": [
    "features = data.drop('labels', axis=1)"
   ]
  },
  {
   "cell_type": "code",
   "execution_count": 4,
   "metadata": {
    "collapsed": false
   },
   "outputs": [
    {
     "data": {
      "text/plain": [
       "['Var8',\n",
       " 'Var15',\n",
       " 'Var20',\n",
       " 'Var31',\n",
       " 'Var32',\n",
       " 'Var39',\n",
       " 'Var42',\n",
       " 'Var48',\n",
       " 'Var52',\n",
       " 'Var55',\n",
       " 'Var79',\n",
       " 'Var118',\n",
       " 'Var141',\n",
       " 'Var167',\n",
       " 'Var169',\n",
       " 'Var175',\n",
       " 'Var185',\n",
       " 'Var191',\n",
       " 'Var209',\n",
       " 'Var213',\n",
       " 'Var215',\n",
       " 'Var224',\n",
       " 'Var230']"
      ]
     },
     "execution_count": 4,
     "metadata": {},
     "output_type": "execute_result"
    }
   ],
   "source": [
    "names_to_drop = []\n",
    "for name in features.columns:\n",
    "    col = features[name].dropna()\n",
    "    if len(col.unique()) < 2:\n",
    "        names_to_drop.append(name)\n",
    "\n",
    "names_to_drop"
   ]
  },
  {
   "cell_type": "markdown",
   "metadata": {},
   "source": [
    "удалим малозначащие колонки и в оставшихся заполним пропуски нулями (известно, что среди категорий нигде нет значения 0)"
   ]
  },
  {
   "cell_type": "code",
   "execution_count": 5,
   "metadata": {
    "collapsed": false,
    "scrolled": true
   },
   "outputs": [
    {
     "data": {
      "text/html": [
       "<div>\n",
       "<table border=\"1\" class=\"dataframe\">\n",
       "  <thead>\n",
       "    <tr style=\"text-align: right;\">\n",
       "      <th></th>\n",
       "      <th>Var1</th>\n",
       "      <th>Var2</th>\n",
       "      <th>Var3</th>\n",
       "      <th>Var4</th>\n",
       "      <th>Var5</th>\n",
       "      <th>Var6</th>\n",
       "      <th>Var7</th>\n",
       "      <th>Var9</th>\n",
       "      <th>Var10</th>\n",
       "      <th>Var11</th>\n",
       "      <th>...</th>\n",
       "      <th>Var219</th>\n",
       "      <th>Var220</th>\n",
       "      <th>Var221</th>\n",
       "      <th>Var222</th>\n",
       "      <th>Var223</th>\n",
       "      <th>Var225</th>\n",
       "      <th>Var226</th>\n",
       "      <th>Var227</th>\n",
       "      <th>Var228</th>\n",
       "      <th>Var229</th>\n",
       "    </tr>\n",
       "  </thead>\n",
       "  <tbody>\n",
       "    <tr>\n",
       "      <th>0</th>\n",
       "      <td>0</td>\n",
       "      <td>0</td>\n",
       "      <td>0</td>\n",
       "      <td>0</td>\n",
       "      <td>0</td>\n",
       "      <td>385</td>\n",
       "      <td>0</td>\n",
       "      <td>0</td>\n",
       "      <td>0</td>\n",
       "      <td>0</td>\n",
       "      <td>...</td>\n",
       "      <td>0</td>\n",
       "      <td>eNCmIK9</td>\n",
       "      <td>oslk</td>\n",
       "      <td>xhoMnus</td>\n",
       "      <td>0</td>\n",
       "      <td>0</td>\n",
       "      <td>szEZ</td>\n",
       "      <td>RAYp</td>\n",
       "      <td>F2FyR07IdsN7I</td>\n",
       "      <td>0</td>\n",
       "    </tr>\n",
       "    <tr>\n",
       "      <th>1</th>\n",
       "      <td>0</td>\n",
       "      <td>0</td>\n",
       "      <td>0</td>\n",
       "      <td>0</td>\n",
       "      <td>0</td>\n",
       "      <td>784</td>\n",
       "      <td>7</td>\n",
       "      <td>0</td>\n",
       "      <td>0</td>\n",
       "      <td>0</td>\n",
       "      <td>...</td>\n",
       "      <td>qxDb</td>\n",
       "      <td>Z6VfSEp</td>\n",
       "      <td>Al6ZaUT</td>\n",
       "      <td>503RDbC</td>\n",
       "      <td>LM8l689qOp</td>\n",
       "      <td>kG3k</td>\n",
       "      <td>Qcbd</td>\n",
       "      <td>RAYp</td>\n",
       "      <td>iyHGyLCEkQ</td>\n",
       "      <td>0</td>\n",
       "    </tr>\n",
       "    <tr>\n",
       "      <th>2</th>\n",
       "      <td>0</td>\n",
       "      <td>0</td>\n",
       "      <td>0</td>\n",
       "      <td>0</td>\n",
       "      <td>0</td>\n",
       "      <td>847</td>\n",
       "      <td>7</td>\n",
       "      <td>0</td>\n",
       "      <td>0</td>\n",
       "      <td>0</td>\n",
       "      <td>...</td>\n",
       "      <td>FzaX</td>\n",
       "      <td>UjGuLpj</td>\n",
       "      <td>oslk</td>\n",
       "      <td>3QPw991</td>\n",
       "      <td>LM8l689qOp</td>\n",
       "      <td>0</td>\n",
       "      <td>Qu4f</td>\n",
       "      <td>RAYp</td>\n",
       "      <td>F2FyR07IdsN7I</td>\n",
       "      <td>0</td>\n",
       "    </tr>\n",
       "    <tr>\n",
       "      <th>3</th>\n",
       "      <td>0</td>\n",
       "      <td>0</td>\n",
       "      <td>0</td>\n",
       "      <td>0</td>\n",
       "      <td>0</td>\n",
       "      <td>1078</td>\n",
       "      <td>21</td>\n",
       "      <td>0</td>\n",
       "      <td>0</td>\n",
       "      <td>0</td>\n",
       "      <td>...</td>\n",
       "      <td>FzaX</td>\n",
       "      <td>XbZitea</td>\n",
       "      <td>zCkv</td>\n",
       "      <td>DHPNgqU</td>\n",
       "      <td>jySVZNlOJy</td>\n",
       "      <td>kG3k</td>\n",
       "      <td>7aLG</td>\n",
       "      <td>6fzt</td>\n",
       "      <td>SbOd7O8ky1wGNxp0Arj0Xs</td>\n",
       "      <td>mj86</td>\n",
       "    </tr>\n",
       "    <tr>\n",
       "      <th>4</th>\n",
       "      <td>0</td>\n",
       "      <td>0</td>\n",
       "      <td>0</td>\n",
       "      <td>0</td>\n",
       "      <td>0</td>\n",
       "      <td>686</td>\n",
       "      <td>7</td>\n",
       "      <td>0</td>\n",
       "      <td>0</td>\n",
       "      <td>0</td>\n",
       "      <td>...</td>\n",
       "      <td>FzaX</td>\n",
       "      <td>l3KfrxM</td>\n",
       "      <td>oslk</td>\n",
       "      <td>0Ya7A2G</td>\n",
       "      <td>LM8l689qOp</td>\n",
       "      <td>0</td>\n",
       "      <td>Aoh3</td>\n",
       "      <td>RAYp</td>\n",
       "      <td>F2FyR07IdsN7I</td>\n",
       "      <td>0</td>\n",
       "    </tr>\n",
       "  </tbody>\n",
       "</table>\n",
       "<p>5 rows × 207 columns</p>\n",
       "</div>"
      ],
      "text/plain": [
       "   Var1  Var2  Var3  Var4  Var5  Var6  Var7  Var9  Var10  Var11   ...    \\\n",
       "0     0     0     0     0     0   385     0     0      0      0   ...     \n",
       "1     0     0     0     0     0   784     7     0      0      0   ...     \n",
       "2     0     0     0     0     0   847     7     0      0      0   ...     \n",
       "3     0     0     0     0     0  1078    21     0      0      0   ...     \n",
       "4     0     0     0     0     0   686     7     0      0      0   ...     \n",
       "\n",
       "   Var219   Var220   Var221   Var222      Var223  Var225  Var226  Var227  \\\n",
       "0       0  eNCmIK9     oslk  xhoMnus           0       0    szEZ    RAYp   \n",
       "1    qxDb  Z6VfSEp  Al6ZaUT  503RDbC  LM8l689qOp    kG3k    Qcbd    RAYp   \n",
       "2    FzaX  UjGuLpj     oslk  3QPw991  LM8l689qOp       0    Qu4f    RAYp   \n",
       "3    FzaX  XbZitea     zCkv  DHPNgqU  jySVZNlOJy    kG3k    7aLG    6fzt   \n",
       "4    FzaX  l3KfrxM     oslk  0Ya7A2G  LM8l689qOp       0    Aoh3    RAYp   \n",
       "\n",
       "                   Var228  Var229  \n",
       "0           F2FyR07IdsN7I       0  \n",
       "1              iyHGyLCEkQ       0  \n",
       "2           F2FyR07IdsN7I       0  \n",
       "3  SbOd7O8ky1wGNxp0Arj0Xs    mj86  \n",
       "4           F2FyR07IdsN7I       0  \n",
       "\n",
       "[5 rows x 207 columns]"
      ]
     },
     "execution_count": 5,
     "metadata": {},
     "output_type": "execute_result"
    }
   ],
   "source": [
    "features.drop(names_to_drop, axis=1, inplace=True)\n",
    "features.fillna(0, inplace=True)\n",
    "features.head()"
   ]
  },
  {
   "cell_type": "markdown",
   "metadata": {},
   "source": [
    "Поработаем с категориальными данными"
   ]
  },
  {
   "cell_type": "code",
   "execution_count": 6,
   "metadata": {
    "collapsed": false
   },
   "outputs": [
    {
     "data": {
      "text/plain": [
       "(172, 207)"
      ]
     },
     "execution_count": 6,
     "metadata": {},
     "output_type": "execute_result"
    }
   ],
   "source": [
    "cat_start = np.where(features.columns.values == 'Var190')[0][0]\n",
    "cat_end = len(features.columns)\n",
    "(cat_start, cat_end)"
   ]
  },
  {
   "cell_type": "code",
   "execution_count": 7,
   "metadata": {
    "collapsed": false
   },
   "outputs": [
    {
     "data": {
      "text/plain": [
       "54335"
      ]
     },
     "execution_count": 7,
     "metadata": {},
     "output_type": "execute_result"
    }
   ],
   "source": [
    "categors = features.iloc[:, cat_start:cat_end]\n",
    "sum([len(categors[name].unique()) for name in categors.columns])"
   ]
  },
  {
   "cell_type": "code",
   "execution_count": 8,
   "metadata": {
    "collapsed": false,
    "scrolled": true
   },
   "outputs": [
    {
     "data": {
      "text/plain": [
       "[('Var198', 3413),\n",
       " ('Var199', 3663),\n",
       " ('Var200', 10884),\n",
       " ('Var202', 5281),\n",
       " ('Var214', 10884),\n",
       " ('Var216', 1583),\n",
       " ('Var217', 10621),\n",
       " ('Var220', 3413),\n",
       " ('Var222', 3413)]"
      ]
     },
     "execution_count": 8,
     "metadata": {},
     "output_type": "execute_result"
    }
   ],
   "source": [
    "big_cats = [(name,len(categors[name].unique())) for name in categors.columns if len(categors[name].unique()) > 500]\n",
    "big_cats"
   ]
  },
  {
   "cell_type": "markdown",
   "metadata": {},
   "source": [
    "Видим, что есть признаки с очень большим количеством категорий. Причем признаки с наибольшим количеством категорий показали наибольшую корреляцию ранее. Но для baseline решения пока что просто откажется от признаков с большим количеством категорий"
   ]
  },
  {
   "cell_type": "code",
   "execution_count": 9,
   "metadata": {
    "collapsed": false
   },
   "outputs": [
    {
     "name": "stdout",
     "output_type": "stream",
     "text": [
      "<class 'pandas.core.frame.DataFrame'>\n",
      "Int64Index: 30000 entries, 0 to 29999\n",
      "Columns: 974 entries, Var190 to Var229_sk2h\n",
      "dtypes: float64(974)\n",
      "memory usage: 223.2 MB\n"
     ]
    }
   ],
   "source": [
    "dummies = pd.get_dummies(categors.drop([x[0] for x in big_cats], axis=1))\n",
    "dummies.info()"
   ]
  },
  {
   "cell_type": "code",
   "execution_count": 10,
   "metadata": {
    "collapsed": false
   },
   "outputs": [
    {
     "data": {
      "text/html": [
       "<div>\n",
       "<table border=\"1\" class=\"dataframe\">\n",
       "  <thead>\n",
       "    <tr style=\"text-align: right;\">\n",
       "      <th></th>\n",
       "      <th>Var190</th>\n",
       "      <th>Var192_0</th>\n",
       "      <th>Var192_0G9vyxdMWg</th>\n",
       "      <th>Var192_0kQTmBU3gb</th>\n",
       "      <th>Var192_0kQqrQsiZt</th>\n",
       "      <th>Var192_0vimfo8zhV</th>\n",
       "      <th>Var192_1GdOj17ejg</th>\n",
       "      <th>Var192_1GdOj1KXzC</th>\n",
       "      <th>Var192_1JGTmBQZiT</th>\n",
       "      <th>Var192_1JGqrQKzJV</th>\n",
       "      <th>...</th>\n",
       "      <th>Var228_d0LtHjWeaXyArdN4sxU_saXqH</th>\n",
       "      <th>Var228_ib5G6X1eUxUn6</th>\n",
       "      <th>Var228_iyHGyLCEkQ</th>\n",
       "      <th>Var228_r_7E</th>\n",
       "      <th>Var228_xwM2aC7IdeMC0</th>\n",
       "      <th>Var229_0</th>\n",
       "      <th>Var229_am7c</th>\n",
       "      <th>Var229_mj86</th>\n",
       "      <th>Var229_oJmt</th>\n",
       "      <th>Var229_sk2h</th>\n",
       "    </tr>\n",
       "  </thead>\n",
       "  <tbody>\n",
       "    <tr>\n",
       "      <th>0</th>\n",
       "      <td>0</td>\n",
       "      <td>0</td>\n",
       "      <td>0</td>\n",
       "      <td>0</td>\n",
       "      <td>0</td>\n",
       "      <td>0</td>\n",
       "      <td>0</td>\n",
       "      <td>0</td>\n",
       "      <td>0</td>\n",
       "      <td>0</td>\n",
       "      <td>...</td>\n",
       "      <td>0</td>\n",
       "      <td>0</td>\n",
       "      <td>0</td>\n",
       "      <td>0</td>\n",
       "      <td>0</td>\n",
       "      <td>1</td>\n",
       "      <td>0</td>\n",
       "      <td>0</td>\n",
       "      <td>0</td>\n",
       "      <td>0</td>\n",
       "    </tr>\n",
       "    <tr>\n",
       "      <th>1</th>\n",
       "      <td>0</td>\n",
       "      <td>0</td>\n",
       "      <td>0</td>\n",
       "      <td>0</td>\n",
       "      <td>0</td>\n",
       "      <td>0</td>\n",
       "      <td>0</td>\n",
       "      <td>0</td>\n",
       "      <td>0</td>\n",
       "      <td>0</td>\n",
       "      <td>...</td>\n",
       "      <td>0</td>\n",
       "      <td>0</td>\n",
       "      <td>1</td>\n",
       "      <td>0</td>\n",
       "      <td>0</td>\n",
       "      <td>1</td>\n",
       "      <td>0</td>\n",
       "      <td>0</td>\n",
       "      <td>0</td>\n",
       "      <td>0</td>\n",
       "    </tr>\n",
       "    <tr>\n",
       "      <th>2</th>\n",
       "      <td>0</td>\n",
       "      <td>0</td>\n",
       "      <td>0</td>\n",
       "      <td>0</td>\n",
       "      <td>0</td>\n",
       "      <td>0</td>\n",
       "      <td>0</td>\n",
       "      <td>0</td>\n",
       "      <td>0</td>\n",
       "      <td>0</td>\n",
       "      <td>...</td>\n",
       "      <td>0</td>\n",
       "      <td>0</td>\n",
       "      <td>0</td>\n",
       "      <td>0</td>\n",
       "      <td>0</td>\n",
       "      <td>1</td>\n",
       "      <td>0</td>\n",
       "      <td>0</td>\n",
       "      <td>0</td>\n",
       "      <td>0</td>\n",
       "    </tr>\n",
       "    <tr>\n",
       "      <th>3</th>\n",
       "      <td>0</td>\n",
       "      <td>0</td>\n",
       "      <td>0</td>\n",
       "      <td>0</td>\n",
       "      <td>0</td>\n",
       "      <td>0</td>\n",
       "      <td>0</td>\n",
       "      <td>0</td>\n",
       "      <td>0</td>\n",
       "      <td>0</td>\n",
       "      <td>...</td>\n",
       "      <td>0</td>\n",
       "      <td>0</td>\n",
       "      <td>0</td>\n",
       "      <td>0</td>\n",
       "      <td>0</td>\n",
       "      <td>0</td>\n",
       "      <td>0</td>\n",
       "      <td>1</td>\n",
       "      <td>0</td>\n",
       "      <td>0</td>\n",
       "    </tr>\n",
       "    <tr>\n",
       "      <th>4</th>\n",
       "      <td>0</td>\n",
       "      <td>0</td>\n",
       "      <td>0</td>\n",
       "      <td>0</td>\n",
       "      <td>0</td>\n",
       "      <td>0</td>\n",
       "      <td>0</td>\n",
       "      <td>0</td>\n",
       "      <td>0</td>\n",
       "      <td>0</td>\n",
       "      <td>...</td>\n",
       "      <td>0</td>\n",
       "      <td>0</td>\n",
       "      <td>0</td>\n",
       "      <td>0</td>\n",
       "      <td>0</td>\n",
       "      <td>1</td>\n",
       "      <td>0</td>\n",
       "      <td>0</td>\n",
       "      <td>0</td>\n",
       "      <td>0</td>\n",
       "    </tr>\n",
       "  </tbody>\n",
       "</table>\n",
       "<p>5 rows × 974 columns</p>\n",
       "</div>"
      ],
      "text/plain": [
       "   Var190  Var192_0  Var192_0G9vyxdMWg  Var192_0kQTmBU3gb  Var192_0kQqrQsiZt  \\\n",
       "0       0         0                  0                  0                  0   \n",
       "1       0         0                  0                  0                  0   \n",
       "2       0         0                  0                  0                  0   \n",
       "3       0         0                  0                  0                  0   \n",
       "4       0         0                  0                  0                  0   \n",
       "\n",
       "   Var192_0vimfo8zhV  Var192_1GdOj17ejg  Var192_1GdOj1KXzC  Var192_1JGTmBQZiT  \\\n",
       "0                  0                  0                  0                  0   \n",
       "1                  0                  0                  0                  0   \n",
       "2                  0                  0                  0                  0   \n",
       "3                  0                  0                  0                  0   \n",
       "4                  0                  0                  0                  0   \n",
       "\n",
       "   Var192_1JGqrQKzJV     ...       Var228_d0LtHjWeaXyArdN4sxU_saXqH  \\\n",
       "0                  0     ...                                      0   \n",
       "1                  0     ...                                      0   \n",
       "2                  0     ...                                      0   \n",
       "3                  0     ...                                      0   \n",
       "4                  0     ...                                      0   \n",
       "\n",
       "   Var228_ib5G6X1eUxUn6  Var228_iyHGyLCEkQ  Var228_r_7E  Var228_xwM2aC7IdeMC0  \\\n",
       "0                     0                  0            0                     0   \n",
       "1                     0                  1            0                     0   \n",
       "2                     0                  0            0                     0   \n",
       "3                     0                  0            0                     0   \n",
       "4                     0                  0            0                     0   \n",
       "\n",
       "   Var229_0  Var229_am7c  Var229_mj86  Var229_oJmt  Var229_sk2h  \n",
       "0         1            0            0            0            0  \n",
       "1         1            0            0            0            0  \n",
       "2         1            0            0            0            0  \n",
       "3         0            0            1            0            0  \n",
       "4         1            0            0            0            0  \n",
       "\n",
       "[5 rows x 974 columns]"
      ]
     },
     "execution_count": 10,
     "metadata": {},
     "output_type": "execute_result"
    }
   ],
   "source": [
    "dummies.head()"
   ]
  },
  {
   "cell_type": "code",
   "execution_count": 11,
   "metadata": {
    "collapsed": false,
    "scrolled": true
   },
   "outputs": [
    {
     "data": {
      "text/html": [
       "<div>\n",
       "<table border=\"1\" class=\"dataframe\">\n",
       "  <thead>\n",
       "    <tr style=\"text-align: right;\">\n",
       "      <th></th>\n",
       "      <th>Var1</th>\n",
       "      <th>Var2</th>\n",
       "      <th>Var3</th>\n",
       "      <th>Var4</th>\n",
       "      <th>Var5</th>\n",
       "      <th>Var6</th>\n",
       "      <th>Var7</th>\n",
       "      <th>Var9</th>\n",
       "      <th>Var10</th>\n",
       "      <th>Var11</th>\n",
       "      <th>...</th>\n",
       "      <th>Var228_d0LtHjWeaXyArdN4sxU_saXqH</th>\n",
       "      <th>Var228_ib5G6X1eUxUn6</th>\n",
       "      <th>Var228_iyHGyLCEkQ</th>\n",
       "      <th>Var228_r_7E</th>\n",
       "      <th>Var228_xwM2aC7IdeMC0</th>\n",
       "      <th>Var229_0</th>\n",
       "      <th>Var229_am7c</th>\n",
       "      <th>Var229_mj86</th>\n",
       "      <th>Var229_oJmt</th>\n",
       "      <th>Var229_sk2h</th>\n",
       "    </tr>\n",
       "  </thead>\n",
       "  <tbody>\n",
       "    <tr>\n",
       "      <th>0</th>\n",
       "      <td>0</td>\n",
       "      <td>0</td>\n",
       "      <td>0</td>\n",
       "      <td>0</td>\n",
       "      <td>0</td>\n",
       "      <td>385</td>\n",
       "      <td>0</td>\n",
       "      <td>0</td>\n",
       "      <td>0</td>\n",
       "      <td>0</td>\n",
       "      <td>...</td>\n",
       "      <td>0</td>\n",
       "      <td>0</td>\n",
       "      <td>0</td>\n",
       "      <td>0</td>\n",
       "      <td>0</td>\n",
       "      <td>1</td>\n",
       "      <td>0</td>\n",
       "      <td>0</td>\n",
       "      <td>0</td>\n",
       "      <td>0</td>\n",
       "    </tr>\n",
       "    <tr>\n",
       "      <th>1</th>\n",
       "      <td>0</td>\n",
       "      <td>0</td>\n",
       "      <td>0</td>\n",
       "      <td>0</td>\n",
       "      <td>0</td>\n",
       "      <td>784</td>\n",
       "      <td>7</td>\n",
       "      <td>0</td>\n",
       "      <td>0</td>\n",
       "      <td>0</td>\n",
       "      <td>...</td>\n",
       "      <td>0</td>\n",
       "      <td>0</td>\n",
       "      <td>1</td>\n",
       "      <td>0</td>\n",
       "      <td>0</td>\n",
       "      <td>1</td>\n",
       "      <td>0</td>\n",
       "      <td>0</td>\n",
       "      <td>0</td>\n",
       "      <td>0</td>\n",
       "    </tr>\n",
       "    <tr>\n",
       "      <th>2</th>\n",
       "      <td>0</td>\n",
       "      <td>0</td>\n",
       "      <td>0</td>\n",
       "      <td>0</td>\n",
       "      <td>0</td>\n",
       "      <td>847</td>\n",
       "      <td>7</td>\n",
       "      <td>0</td>\n",
       "      <td>0</td>\n",
       "      <td>0</td>\n",
       "      <td>...</td>\n",
       "      <td>0</td>\n",
       "      <td>0</td>\n",
       "      <td>0</td>\n",
       "      <td>0</td>\n",
       "      <td>0</td>\n",
       "      <td>1</td>\n",
       "      <td>0</td>\n",
       "      <td>0</td>\n",
       "      <td>0</td>\n",
       "      <td>0</td>\n",
       "    </tr>\n",
       "    <tr>\n",
       "      <th>3</th>\n",
       "      <td>0</td>\n",
       "      <td>0</td>\n",
       "      <td>0</td>\n",
       "      <td>0</td>\n",
       "      <td>0</td>\n",
       "      <td>1078</td>\n",
       "      <td>21</td>\n",
       "      <td>0</td>\n",
       "      <td>0</td>\n",
       "      <td>0</td>\n",
       "      <td>...</td>\n",
       "      <td>0</td>\n",
       "      <td>0</td>\n",
       "      <td>0</td>\n",
       "      <td>0</td>\n",
       "      <td>0</td>\n",
       "      <td>0</td>\n",
       "      <td>0</td>\n",
       "      <td>1</td>\n",
       "      <td>0</td>\n",
       "      <td>0</td>\n",
       "    </tr>\n",
       "    <tr>\n",
       "      <th>4</th>\n",
       "      <td>0</td>\n",
       "      <td>0</td>\n",
       "      <td>0</td>\n",
       "      <td>0</td>\n",
       "      <td>0</td>\n",
       "      <td>686</td>\n",
       "      <td>7</td>\n",
       "      <td>0</td>\n",
       "      <td>0</td>\n",
       "      <td>0</td>\n",
       "      <td>...</td>\n",
       "      <td>0</td>\n",
       "      <td>0</td>\n",
       "      <td>0</td>\n",
       "      <td>0</td>\n",
       "      <td>0</td>\n",
       "      <td>1</td>\n",
       "      <td>0</td>\n",
       "      <td>0</td>\n",
       "      <td>0</td>\n",
       "      <td>0</td>\n",
       "    </tr>\n",
       "  </tbody>\n",
       "</table>\n",
       "<p>5 rows × 1146 columns</p>\n",
       "</div>"
      ],
      "text/plain": [
       "   Var1  Var2  Var3  Var4  Var5  Var6  Var7  Var9  Var10  Var11     ...       \\\n",
       "0     0     0     0     0     0   385     0     0      0      0     ...        \n",
       "1     0     0     0     0     0   784     7     0      0      0     ...        \n",
       "2     0     0     0     0     0   847     7     0      0      0     ...        \n",
       "3     0     0     0     0     0  1078    21     0      0      0     ...        \n",
       "4     0     0     0     0     0   686     7     0      0      0     ...        \n",
       "\n",
       "   Var228_d0LtHjWeaXyArdN4sxU_saXqH  Var228_ib5G6X1eUxUn6  Var228_iyHGyLCEkQ  \\\n",
       "0                                 0                     0                  0   \n",
       "1                                 0                     0                  1   \n",
       "2                                 0                     0                  0   \n",
       "3                                 0                     0                  0   \n",
       "4                                 0                     0                  0   \n",
       "\n",
       "   Var228_r_7E  Var228_xwM2aC7IdeMC0  Var229_0  Var229_am7c  Var229_mj86  \\\n",
       "0            0                     0         1            0            0   \n",
       "1            0                     0         1            0            0   \n",
       "2            0                     0         1            0            0   \n",
       "3            0                     0         0            0            1   \n",
       "4            0                     0         1            0            0   \n",
       "\n",
       "   Var229_oJmt  Var229_sk2h  \n",
       "0            0            0  \n",
       "1            0            0  \n",
       "2            0            0  \n",
       "3            0            0  \n",
       "4            0            0  \n",
       "\n",
       "[5 rows x 1146 columns]"
      ]
     },
     "execution_count": 11,
     "metadata": {},
     "output_type": "execute_result"
    }
   ],
   "source": [
    "objects = features.iloc[:, 0:cat_start]\n",
    "objects = pd.concat([objects, dummies], axis=1)\n",
    "objects.head()"
   ]
  },
  {
   "cell_type": "markdown",
   "metadata": {},
   "source": [
    "Теперь перейдем к непосредственному построению модели. Основную метрику возьмем AUC-PRC, оценку качества сделаем с помощью кросс-валидации"
   ]
  },
  {
   "cell_type": "code",
   "execution_count": 12,
   "metadata": {
    "collapsed": false
   },
   "outputs": [
    {
     "data": {
      "text/plain": [
       "array([ 0.14209798,  0.12588887,  0.13919403])"
      ]
     },
     "execution_count": 12,
     "metadata": {},
     "output_type": "execute_result"
    }
   ],
   "source": [
    "y = data['labels']\n",
    "cv_strategy = cross_validation.StratifiedKFold(y, random_state = 2)\n",
    "ridge_scoring = cross_validation.cross_val_score(linear_model.RidgeClassifier(), objects, y, scoring = 'average_precision', cv = cv_strategy)\n",
    "ridge_scoring"
   ]
  },
  {
   "cell_type": "code",
   "execution_count": 13,
   "metadata": {
    "collapsed": true
   },
   "outputs": [],
   "source": [
    "from sklearn.ensemble import RandomForestClassifier, GradientBoostingClassifier"
   ]
  },
  {
   "cell_type": "code",
   "execution_count": 14,
   "metadata": {
    "collapsed": false
   },
   "outputs": [
    {
     "data": {
      "text/plain": [
       "array([ 0.12092705,  0.11040664,  0.1029059 ])"
      ]
     },
     "execution_count": 14,
     "metadata": {},
     "output_type": "execute_result"
    }
   ],
   "source": [
    "forest_scoring = cross_validation.cross_val_score(RandomForestClassifier(), objects, y, scoring = 'average_precision', cv = cv_strategy)\n",
    "crad_scoring = cross_validation.cross_val_score(GradientBoostingClassifier(), objects, y, scoring = 'average_precision', cv = cv_strategy)\n",
    "forest_scoring"
   ]
  },
  {
   "cell_type": "code",
   "execution_count": 15,
   "metadata": {
    "collapsed": false
   },
   "outputs": [
    {
     "data": {
      "text/plain": [
       "array([ 0.21298658,  0.22283504,  0.2071597 ])"
      ]
     },
     "execution_count": 15,
     "metadata": {},
     "output_type": "execute_result"
    }
   ],
   "source": [
    "crad_scoring"
   ]
  },
  {
   "cell_type": "code",
   "execution_count": 16,
   "metadata": {
    "collapsed": false
   },
   "outputs": [
    {
     "name": "stdout",
     "output_type": "stream",
     "text": [
      "Ridge classifier base score:  0.135726959485\n",
      "Random forest classifier base score:  0.111413196899\n",
      "Gradient boosting classifier base score:  0.21432710668\n"
     ]
    }
   ],
   "source": [
    "print \"Ridge classifier base score: \", ridge_scoring.mean()\n",
    "print \"Random forest classifier base score: \", forest_scoring.mean()\n",
    "print \"Gradient boosting classifier base score: \", crad_scoring.mean()"
   ]
  },
  {
   "cell_type": "markdown",
   "metadata": {},
   "source": [
    "Видим, что качество получилось ужасно слабое на наших моделях.\n",
    "Составим обзорную табличку для разных стратегий и различных параметров, чтобы посмотреть, как оно меняется."
   ]
  },
  {
   "cell_type": "code",
   "execution_count": 17,
   "metadata": {
    "collapsed": true
   },
   "outputs": [],
   "source": [
    "scorers = ['average_precision', metrics.scorer.f1_scorer, metrics.scorer.accuracy_scorer, metrics.scorer.precision_scorer, metrics.scorer.recall_scorer, \\\n",
    "           metrics.scorer.roc_auc_scorer]\n",
    "folds = [3, 4, 5, 7, 10]"
   ]
  },
  {
   "cell_type": "code",
   "execution_count": 18,
   "metadata": {
    "collapsed": false
   },
   "outputs": [
    {
     "data": {
      "text/html": [
       "<div>\n",
       "<table border=\"1\" class=\"dataframe\">\n",
       "  <thead>\n",
       "    <tr style=\"text-align: right;\">\n",
       "      <th></th>\n",
       "      <th>AUC-PRC</th>\n",
       "      <th>F1</th>\n",
       "      <th>Acc</th>\n",
       "      <th>Precis</th>\n",
       "      <th>Recall</th>\n",
       "      <th>ROC</th>\n",
       "    </tr>\n",
       "  </thead>\n",
       "  <tbody>\n",
       "  </tbody>\n",
       "</table>\n",
       "</div>"
      ],
      "text/plain": [
       "Empty DataFrame\n",
       "Columns: [AUC-PRC, F1, Acc, Precis, Recall, ROC]\n",
       "Index: []"
      ]
     },
     "execution_count": 18,
     "metadata": {},
     "output_type": "execute_result"
    }
   ],
   "source": [
    "score_names = ['AUC-PRC', 'F1', 'Acc', 'Precis', 'Recall', 'ROC']\n",
    "table = pd.DataFrame(columns=score_names)\n",
    "table"
   ]
  },
  {
   "cell_type": "code",
   "execution_count": 19,
   "metadata": {
    "collapsed": false,
    "scrolled": true
   },
   "outputs": [
    {
     "name": "stdout",
     "output_type": "stream",
     "text": [
      "Ridge classifier:\n"
     ]
    },
    {
     "data": {
      "text/html": [
       "<div>\n",
       "<table border=\"1\" class=\"dataframe\">\n",
       "  <thead>\n",
       "    <tr style=\"text-align: right;\">\n",
       "      <th></th>\n",
       "      <th>AUC-PRC</th>\n",
       "      <th>F1</th>\n",
       "      <th>Acc</th>\n",
       "      <th>Precis</th>\n",
       "      <th>Recall</th>\n",
       "      <th>ROC</th>\n",
       "    </tr>\n",
       "  </thead>\n",
       "  <tbody>\n",
       "    <tr>\n",
       "      <th>3</th>\n",
       "      <td>0.135727</td>\n",
       "      <td>0.015821</td>\n",
       "      <td>0.925367</td>\n",
       "      <td>0.446759</td>\n",
       "      <td>0.008065</td>\n",
       "      <td>0.633292</td>\n",
       "    </tr>\n",
       "    <tr>\n",
       "      <th>4</th>\n",
       "      <td>0.138183</td>\n",
       "      <td>0.015766</td>\n",
       "      <td>0.925233</td>\n",
       "      <td>0.440812</td>\n",
       "      <td>0.008065</td>\n",
       "      <td>0.635717</td>\n",
       "    </tr>\n",
       "    <tr>\n",
       "      <th>5</th>\n",
       "      <td>0.137340</td>\n",
       "      <td>0.020083</td>\n",
       "      <td>0.925467</td>\n",
       "      <td>0.461859</td>\n",
       "      <td>0.010305</td>\n",
       "      <td>0.637966</td>\n",
       "    </tr>\n",
       "    <tr>\n",
       "      <th>7</th>\n",
       "      <td>0.141931</td>\n",
       "      <td>0.020164</td>\n",
       "      <td>0.925633</td>\n",
       "      <td>0.529252</td>\n",
       "      <td>0.010303</td>\n",
       "      <td>0.643937</td>\n",
       "    </tr>\n",
       "    <tr>\n",
       "      <th>10</th>\n",
       "      <td>0.142040</td>\n",
       "      <td>0.020990</td>\n",
       "      <td>0.925733</td>\n",
       "      <td>0.539722</td>\n",
       "      <td>0.010758</td>\n",
       "      <td>0.642461</td>\n",
       "    </tr>\n",
       "  </tbody>\n",
       "</table>\n",
       "</div>"
      ],
      "text/plain": [
       "     AUC-PRC        F1       Acc    Precis    Recall       ROC\n",
       "3   0.135727  0.015821  0.925367  0.446759  0.008065  0.633292\n",
       "4   0.138183  0.015766  0.925233  0.440812  0.008065  0.635717\n",
       "5   0.137340  0.020083  0.925467  0.461859  0.010305  0.637966\n",
       "7   0.141931  0.020164  0.925633  0.529252  0.010303  0.643937\n",
       "10  0.142040  0.020990  0.925733  0.539722  0.010758  0.642461"
      ]
     },
     "execution_count": 19,
     "metadata": {},
     "output_type": "execute_result"
    }
   ],
   "source": [
    "rows = []\n",
    "print \"Ridge classifier:\"\n",
    "for fold_num in folds:\n",
    "    cv_str = cross_validation.StratifiedKFold(y, random_state = 2, n_folds=fold_num)\n",
    "    row = []\n",
    "    for scor in scorers:\n",
    "        result = cross_validation.cross_val_score(linear_model.RidgeClassifier(), objects, y, scoring = scor, cv = cv_str)\n",
    "        row.append(result.mean())\n",
    "    rows.append(row)\n",
    "table = pd.DataFrame(np.array(rows), columns=score_names)\n",
    "table.index = folds\n",
    "table"
   ]
  },
  {
   "cell_type": "code",
   "execution_count": 20,
   "metadata": {
    "collapsed": false,
    "scrolled": true
   },
   "outputs": [
    {
     "name": "stdout",
     "output_type": "stream",
     "text": [
      "Logistic regression classifier:\n"
     ]
    },
    {
     "data": {
      "text/html": [
       "<div>\n",
       "<table border=\"1\" class=\"dataframe\">\n",
       "  <thead>\n",
       "    <tr style=\"text-align: right;\">\n",
       "      <th></th>\n",
       "      <th>AUC-PRC</th>\n",
       "      <th>F1</th>\n",
       "      <th>Acc</th>\n",
       "      <th>Precis</th>\n",
       "      <th>Recall</th>\n",
       "      <th>ROC</th>\n",
       "    </tr>\n",
       "  </thead>\n",
       "  <tbody>\n",
       "    <tr>\n",
       "      <th>3</th>\n",
       "      <td>0.086963</td>\n",
       "      <td>0.033336</td>\n",
       "      <td>0.916967</td>\n",
       "      <td>0.124202</td>\n",
       "      <td>0.019265</td>\n",
       "      <td>0.540772</td>\n",
       "    </tr>\n",
       "    <tr>\n",
       "      <th>4</th>\n",
       "      <td>0.087676</td>\n",
       "      <td>0.033382</td>\n",
       "      <td>0.917000</td>\n",
       "      <td>0.124941</td>\n",
       "      <td>0.019265</td>\n",
       "      <td>0.543011</td>\n",
       "    </tr>\n",
       "    <tr>\n",
       "      <th>5</th>\n",
       "      <td>0.087403</td>\n",
       "      <td>0.034789</td>\n",
       "      <td>0.916800</td>\n",
       "      <td>0.127173</td>\n",
       "      <td>0.020159</td>\n",
       "      <td>0.542892</td>\n",
       "    </tr>\n",
       "    <tr>\n",
       "      <th>7</th>\n",
       "      <td>0.088865</td>\n",
       "      <td>0.034086</td>\n",
       "      <td>0.916900</td>\n",
       "      <td>0.127013</td>\n",
       "      <td>0.019713</td>\n",
       "      <td>0.544032</td>\n",
       "    </tr>\n",
       "    <tr>\n",
       "      <th>10</th>\n",
       "      <td>0.088174</td>\n",
       "      <td>0.036414</td>\n",
       "      <td>0.916933</td>\n",
       "      <td>0.135707</td>\n",
       "      <td>0.021058</td>\n",
       "      <td>0.538644</td>\n",
       "    </tr>\n",
       "  </tbody>\n",
       "</table>\n",
       "</div>"
      ],
      "text/plain": [
       "     AUC-PRC        F1       Acc    Precis    Recall       ROC\n",
       "3   0.086963  0.033336  0.916967  0.124202  0.019265  0.540772\n",
       "4   0.087676  0.033382  0.917000  0.124941  0.019265  0.543011\n",
       "5   0.087403  0.034789  0.916800  0.127173  0.020159  0.542892\n",
       "7   0.088865  0.034086  0.916900  0.127013  0.019713  0.544032\n",
       "10  0.088174  0.036414  0.916933  0.135707  0.021058  0.538644"
      ]
     },
     "execution_count": 20,
     "metadata": {},
     "output_type": "execute_result"
    }
   ],
   "source": [
    "rows = []\n",
    "print \"Logistic regression classifier:\"\n",
    "for fold_num in folds:\n",
    "    cv_str = cross_validation.StratifiedKFold(y, random_state = 2, n_folds=fold_num)\n",
    "    row = []\n",
    "    for scor in scorers:\n",
    "        result = cross_validation.cross_val_score(linear_model.LogisticRegression(), objects, y, scoring = scor, cv = cv_str)\n",
    "        row.append(result.mean())\n",
    "    rows.append(row)\n",
    "table = pd.DataFrame(np.array(rows), columns=score_names)\n",
    "table.index = folds\n",
    "table"
   ]
  },
  {
   "cell_type": "code",
   "execution_count": 21,
   "metadata": {
    "collapsed": false,
    "scrolled": true
   },
   "outputs": [
    {
     "name": "stderr",
     "output_type": "stream",
     "text": [
      "/home/yury/anaconda2/lib/python2.7/site-packages/sklearn/metrics/classification.py:1074: UndefinedMetricWarning: F-score is ill-defined and being set to 0.0 due to no predicted samples.\n",
      "  'precision', 'predicted', average, warn_for)\n",
      "/home/yury/anaconda2/lib/python2.7/site-packages/sklearn/metrics/classification.py:1074: UndefinedMetricWarning: Precision is ill-defined and being set to 0.0 due to no predicted samples.\n",
      "  'precision', 'predicted', average, warn_for)\n"
     ]
    },
    {
     "name": "stdout",
     "output_type": "stream",
     "text": [
      "Random forest classifier:\n"
     ]
    },
    {
     "data": {
      "text/html": [
       "<div>\n",
       "<table border=\"1\" class=\"dataframe\">\n",
       "  <thead>\n",
       "    <tr style=\"text-align: right;\">\n",
       "      <th></th>\n",
       "      <th>AUC-PRC</th>\n",
       "      <th>F1</th>\n",
       "      <th>Acc</th>\n",
       "      <th>Precis</th>\n",
       "      <th>Recall</th>\n",
       "      <th>ROC</th>\n",
       "    </tr>\n",
       "  </thead>\n",
       "  <tbody>\n",
       "    <tr>\n",
       "      <th>3</th>\n",
       "      <td>0.121775</td>\n",
       "      <td>0.005322</td>\n",
       "      <td>0.925633</td>\n",
       "      <td>0.224242</td>\n",
       "      <td>0.001792</td>\n",
       "      <td>0.585742</td>\n",
       "    </tr>\n",
       "    <tr>\n",
       "      <th>4</th>\n",
       "      <td>0.118918</td>\n",
       "      <td>0.007083</td>\n",
       "      <td>0.925533</td>\n",
       "      <td>0.229167</td>\n",
       "      <td>0.004480</td>\n",
       "      <td>0.572952</td>\n",
       "    </tr>\n",
       "    <tr>\n",
       "      <th>5</th>\n",
       "      <td>0.108963</td>\n",
       "      <td>0.004429</td>\n",
       "      <td>0.925433</td>\n",
       "      <td>0.183333</td>\n",
       "      <td>0.002241</td>\n",
       "      <td>0.584131</td>\n",
       "    </tr>\n",
       "    <tr>\n",
       "      <th>7</th>\n",
       "      <td>0.117147</td>\n",
       "      <td>0.008868</td>\n",
       "      <td>0.925267</td>\n",
       "      <td>0.232143</td>\n",
       "      <td>0.002242</td>\n",
       "      <td>0.589793</td>\n",
       "    </tr>\n",
       "    <tr>\n",
       "      <th>10</th>\n",
       "      <td>0.116088</td>\n",
       "      <td>0.008838</td>\n",
       "      <td>0.925667</td>\n",
       "      <td>0.143333</td>\n",
       "      <td>0.006270</td>\n",
       "      <td>0.597411</td>\n",
       "    </tr>\n",
       "  </tbody>\n",
       "</table>\n",
       "</div>"
      ],
      "text/plain": [
       "     AUC-PRC        F1       Acc    Precis    Recall       ROC\n",
       "3   0.121775  0.005322  0.925633  0.224242  0.001792  0.585742\n",
       "4   0.118918  0.007083  0.925533  0.229167  0.004480  0.572952\n",
       "5   0.108963  0.004429  0.925433  0.183333  0.002241  0.584131\n",
       "7   0.117147  0.008868  0.925267  0.232143  0.002242  0.589793\n",
       "10  0.116088  0.008838  0.925667  0.143333  0.006270  0.597411"
      ]
     },
     "execution_count": 21,
     "metadata": {},
     "output_type": "execute_result"
    }
   ],
   "source": [
    "print \"Random forest classifier:\"\n",
    "rows = []\n",
    "for fold_num in folds:\n",
    "    cv_str = cross_validation.StratifiedKFold(y, random_state = 2, n_folds=fold_num)\n",
    "    row = []\n",
    "    for scor in scorers:\n",
    "        result = cross_validation.cross_val_score(RandomForestClassifier(), objects, y, scoring = scor, cv = cv_str)\n",
    "        row.append(result.mean())\n",
    "    rows.append(row)\n",
    "table = pd.DataFrame(np.array(rows), columns=score_names)\n",
    "table.index = folds\n",
    "table"
   ]
  },
  {
   "cell_type": "code",
   "execution_count": 22,
   "metadata": {
    "collapsed": false,
    "scrolled": true
   },
   "outputs": [
    {
     "name": "stdout",
     "output_type": "stream",
     "text": [
      "Gradient boosting classifier:\n"
     ]
    },
    {
     "data": {
      "text/html": [
       "<div>\n",
       "<table border=\"1\" class=\"dataframe\">\n",
       "  <thead>\n",
       "    <tr style=\"text-align: right;\">\n",
       "      <th></th>\n",
       "      <th>AUC-PRC</th>\n",
       "      <th>F1</th>\n",
       "      <th>Acc</th>\n",
       "      <th>Precis</th>\n",
       "      <th>Recall</th>\n",
       "      <th>ROC</th>\n",
       "    </tr>\n",
       "  </thead>\n",
       "  <tbody>\n",
       "    <tr>\n",
       "      <th>3</th>\n",
       "      <td>0.211896</td>\n",
       "      <td>0.033925</td>\n",
       "      <td>0.926100</td>\n",
       "      <td>0.559147</td>\n",
       "      <td>0.017473</td>\n",
       "      <td>0.734462</td>\n",
       "    </tr>\n",
       "    <tr>\n",
       "      <th>5</th>\n",
       "      <td>0.212360</td>\n",
       "      <td>0.034781</td>\n",
       "      <td>0.926167</td>\n",
       "      <td>0.589283</td>\n",
       "      <td>0.018368</td>\n",
       "      <td>0.738851</td>\n",
       "    </tr>\n",
       "    <tr>\n",
       "      <th>8</th>\n",
       "      <td>0.215422</td>\n",
       "      <td>0.038897</td>\n",
       "      <td>0.926167</td>\n",
       "      <td>0.600339</td>\n",
       "      <td>0.020161</td>\n",
       "      <td>0.737432</td>\n",
       "    </tr>\n",
       "  </tbody>\n",
       "</table>\n",
       "</div>"
      ],
      "text/plain": [
       "    AUC-PRC        F1       Acc    Precis    Recall       ROC\n",
       "3  0.211896  0.033925  0.926100  0.559147  0.017473  0.734462\n",
       "5  0.212360  0.034781  0.926167  0.589283  0.018368  0.738851\n",
       "8  0.215422  0.038897  0.926167  0.600339  0.020161  0.737432"
      ]
     },
     "execution_count": 22,
     "metadata": {},
     "output_type": "execute_result"
    }
   ],
   "source": [
    "rows = []\n",
    "folds_min = [3, 5, 8]\n",
    "print \"Gradient boosting classifier:\"\n",
    "for fold_num in folds_min:\n",
    "    cv_str = cross_validation.StratifiedKFold(y, random_state = 2, n_folds=fold_num)\n",
    "    row = []\n",
    "    for scor in scorers:\n",
    "        result = cross_validation.cross_val_score(GradientBoostingClassifier(), objects, y, scoring = scor, cv = cv_str)\n",
    "        row.append(result.mean())\n",
    "    rows.append(row)\n",
    "table = pd.DataFrame(np.array(rows), columns=score_names)\n",
    "table.index = folds_min\n",
    "table"
   ]
  },
  {
   "cell_type": "markdown",
   "metadata": {},
   "source": [
    "Из данных табличек видим, что основное ухудшение качества дает именно Recall. Нужно будет обратить на него внимание в дальнейшем."
   ]
  }
 ],
 "metadata": {
  "kernelspec": {
   "display_name": "Python 2",
   "language": "python",
   "name": "python2"
  },
  "language_info": {
   "codemirror_mode": {
    "name": "ipython",
    "version": 2
   },
   "file_extension": ".py",
   "mimetype": "text/x-python",
   "name": "python",
   "nbconvert_exporter": "python",
   "pygments_lexer": "ipython2",
   "version": "2.7.13"
  }
 },
 "nbformat": 4,
 "nbformat_minor": 0
}
