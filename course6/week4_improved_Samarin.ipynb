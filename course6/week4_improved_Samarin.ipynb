{
 "cells": [
  {
   "cell_type": "code",
   "execution_count": 1,
   "metadata": {
    "collapsed": false
   },
   "outputs": [
    {
     "name": "stderr",
     "output_type": "stream",
     "text": [
      "/home/yury/anaconda2/lib/python2.7/site-packages/sklearn/cross_validation.py:44: DeprecationWarning: This module was deprecated in version 0.18 in favor of the model_selection module into which all the refactored classes and functions are moved. Also note that the interface of the new CV iterators are different from that of this module. This module will be removed in 0.20.\n",
      "  \"This module will be removed in 0.20.\", DeprecationWarning)\n"
     ]
    }
   ],
   "source": [
    "import pandas as pd\n",
    "import numpy as np\n",
    "from sklearn import cross_validation, linear_model, metrics, preprocessing\n",
    "from sklearn.ensemble import RandomForestClassifier, GradientBoostingClassifier\n",
    "from sklearn import feature_selection as fs\n",
    "from sklearn.svm import LinearSVC"
   ]
  },
  {
   "cell_type": "code",
   "execution_count": 2,
   "metadata": {
    "collapsed": false,
    "scrolled": true
   },
   "outputs": [
    {
     "name": "stdout",
     "output_type": "stream",
     "text": [
      "<class 'pandas.core.frame.DataFrame'>\n",
      "Int64Index: 40000 entries, 0 to 39999\n",
      "Columns: 231 entries, Var1 to labels\n",
      "dtypes: float64(191), int64(2), object(38)\n",
      "memory usage: 70.8+ MB\n"
     ]
    }
   ],
   "source": [
    "train = pd.read_csv(\"orange_small_churn_train_data.csv\", index_col='ID')\n",
    "train.info()"
   ]
  },
  {
   "cell_type": "code",
   "execution_count": 3,
   "metadata": {
    "collapsed": false
   },
   "outputs": [],
   "source": [
    "y = train['labels']"
   ]
  },
  {
   "cell_type": "markdown",
   "metadata": {},
   "source": [
    "везде далее буду проверять качество на двух метриках: roc_auc и average_precision"
   ]
  },
  {
   "cell_type": "code",
   "execution_count": 4,
   "metadata": {
    "collapsed": false
   },
   "outputs": [],
   "source": [
    "# заполним пропуски средним по столбцу\n",
    "numbers = train.ix[:, 0:190]\n",
    "names_to_drop = []\n",
    "for name in numbers.columns:\n",
    "    col = numbers[name].dropna()\n",
    "    if len(col.unique()) < 2:\n",
    "        names_to_drop.append(name)\n",
    "\n",
    "numbers.drop(names_to_drop, axis=1, inplace=True)\n",
    "\n",
    "numbers2 = numbers.copy()"
   ]
  },
  {
   "cell_type": "code",
   "execution_count": 5,
   "metadata": {
    "collapsed": false
   },
   "outputs": [
    {
     "data": {
      "text/plain": [
       "0.66352751594313852"
      ]
     },
     "execution_count": 5,
     "metadata": {},
     "output_type": "execute_result"
    }
   ],
   "source": [
    "for i in range(numbers.shape[1]):\n",
    "    col = numbers.ix[:, i]\n",
    "    mean = col.mean()\n",
    "    col.fillna(mean, inplace=True)\n",
    "\n",
    "clf = RandomForestClassifier(n_estimators=200, random_state=2)\n",
    "forest_scoring = cross_validation.cross_val_score(clf, numbers, y, scoring = metrics.scorer.roc_auc_scorer)\n",
    "forest_scoring.mean()"
   ]
  },
  {
   "cell_type": "code",
   "execution_count": 6,
   "metadata": {
    "collapsed": false
   },
   "outputs": [
    {
     "data": {
      "text/plain": [
       "0.14020025780786105"
      ]
     },
     "execution_count": 6,
     "metadata": {},
     "output_type": "execute_result"
    }
   ],
   "source": [
    "clf = RandomForestClassifier(n_estimators=200, random_state=2)\n",
    "forest_scoring = cross_validation.cross_val_score(clf, numbers, y, scoring = 'average_precision')\n",
    "forest_scoring.mean()"
   ]
  },
  {
   "cell_type": "code",
   "execution_count": 7,
   "metadata": {
    "collapsed": false
   },
   "outputs": [
    {
     "data": {
      "text/plain": [
       "0.66047584032504203"
      ]
     },
     "execution_count": 7,
     "metadata": {},
     "output_type": "execute_result"
    }
   ],
   "source": [
    "# заполним пропуски нулями\n",
    "numbers2.fillna(0, inplace=True)\n",
    "\n",
    "clf = RandomForestClassifier(n_estimators=200, random_state=2)\n",
    "forest_scoring = cross_validation.cross_val_score(clf, numbers2, y, scoring = metrics.scorer.roc_auc_scorer)\n",
    "forest_scoring.mean()"
   ]
  },
  {
   "cell_type": "code",
   "execution_count": 8,
   "metadata": {
    "collapsed": false,
    "scrolled": true
   },
   "outputs": [
    {
     "data": {
      "text/plain": [
       "0.13561701242809795"
      ]
     },
     "execution_count": 8,
     "metadata": {},
     "output_type": "execute_result"
    }
   ],
   "source": [
    "clf = RandomForestClassifier(n_estimators=200, random_state=2)\n",
    "forest_scoring = cross_validation.cross_val_score(clf, numbers2, y, scoring = 'average_precision')\n",
    "forest_scoring.mean()"
   ]
  },
  {
   "cell_type": "code",
   "execution_count": 9,
   "metadata": {
    "collapsed": false
   },
   "outputs": [
    {
     "data": {
      "text/plain": [
       "0.52564438743043163"
      ]
     },
     "execution_count": 9,
     "metadata": {},
     "output_type": "execute_result"
    }
   ],
   "source": [
    "clf = LinearSVC(random_state=2)\n",
    "forest_scoring = cross_validation.cross_val_score(clf, numbers, y, scoring = metrics.scorer.roc_auc_scorer)\n",
    "forest_scoring.mean()"
   ]
  },
  {
   "cell_type": "code",
   "execution_count": 10,
   "metadata": {
    "collapsed": false
   },
   "outputs": [
    {
     "data": {
      "text/plain": [
       "0.50829508417560632"
      ]
     },
     "execution_count": 10,
     "metadata": {},
     "output_type": "execute_result"
    }
   ],
   "source": [
    "clf = LinearSVC(random_state=2)\n",
    "forest_scoring = cross_validation.cross_val_score(clf, numbers2, y, scoring = metrics.scorer.roc_auc_scorer)\n",
    "forest_scoring.mean()"
   ]
  },
  {
   "cell_type": "code",
   "execution_count": 46,
   "metadata": {
    "collapsed": false,
    "scrolled": true
   },
   "outputs": [
    {
     "data": {
      "text/html": [
       "<div>\n",
       "<table border=\"1\" class=\"dataframe\">\n",
       "  <thead>\n",
       "    <tr style=\"text-align: right;\">\n",
       "      <th></th>\n",
       "      <th>Var1</th>\n",
       "      <th>Var2</th>\n",
       "      <th>Var3</th>\n",
       "      <th>Var4</th>\n",
       "      <th>Var5</th>\n",
       "      <th>Var6</th>\n",
       "      <th>Var7</th>\n",
       "      <th>Var9</th>\n",
       "      <th>Var10</th>\n",
       "      <th>Var11</th>\n",
       "      <th>...</th>\n",
       "      <th>Var219</th>\n",
       "      <th>Var220</th>\n",
       "      <th>Var221</th>\n",
       "      <th>Var222</th>\n",
       "      <th>Var223</th>\n",
       "      <th>Var225</th>\n",
       "      <th>Var226</th>\n",
       "      <th>Var227</th>\n",
       "      <th>Var228</th>\n",
       "      <th>Var229</th>\n",
       "    </tr>\n",
       "    <tr>\n",
       "      <th>ID</th>\n",
       "      <th></th>\n",
       "      <th></th>\n",
       "      <th></th>\n",
       "      <th></th>\n",
       "      <th></th>\n",
       "      <th></th>\n",
       "      <th></th>\n",
       "      <th></th>\n",
       "      <th></th>\n",
       "      <th></th>\n",
       "      <th></th>\n",
       "      <th></th>\n",
       "      <th></th>\n",
       "      <th></th>\n",
       "      <th></th>\n",
       "      <th></th>\n",
       "      <th></th>\n",
       "      <th></th>\n",
       "      <th></th>\n",
       "      <th></th>\n",
       "      <th></th>\n",
       "    </tr>\n",
       "  </thead>\n",
       "  <tbody>\n",
       "    <tr>\n",
       "      <th>0</th>\n",
       "      <td>11.003509</td>\n",
       "      <td>0.00497</td>\n",
       "      <td>429.328358</td>\n",
       "      <td>0.148235</td>\n",
       "      <td>249055.515021</td>\n",
       "      <td>3052</td>\n",
       "      <td>6.792126</td>\n",
       "      <td>47.487719</td>\n",
       "      <td>381346.56309</td>\n",
       "      <td>8.549254</td>\n",
       "      <td>...</td>\n",
       "      <td>2742</td>\n",
       "      <td>0</td>\n",
       "      <td>101</td>\n",
       "      <td>0</td>\n",
       "      <td>2450</td>\n",
       "      <td>1333</td>\n",
       "      <td>154</td>\n",
       "      <td>117</td>\n",
       "      <td>88</td>\n",
       "      <td>1355</td>\n",
       "    </tr>\n",
       "    <tr>\n",
       "      <th>1</th>\n",
       "      <td>11.003509</td>\n",
       "      <td>0.00497</td>\n",
       "      <td>429.328358</td>\n",
       "      <td>0.148235</td>\n",
       "      <td>249055.515021</td>\n",
       "      <td>1813</td>\n",
       "      <td>7.000000</td>\n",
       "      <td>47.487719</td>\n",
       "      <td>381346.56309</td>\n",
       "      <td>8.549254</td>\n",
       "      <td>...</td>\n",
       "      <td>2742</td>\n",
       "      <td>0</td>\n",
       "      <td>2407</td>\n",
       "      <td>0</td>\n",
       "      <td>2450</td>\n",
       "      <td>1333</td>\n",
       "      <td>132</td>\n",
       "      <td>2337</td>\n",
       "      <td>171</td>\n",
       "      <td>1355</td>\n",
       "    </tr>\n",
       "    <tr>\n",
       "      <th>2</th>\n",
       "      <td>11.003509</td>\n",
       "      <td>0.00497</td>\n",
       "      <td>429.328358</td>\n",
       "      <td>0.148235</td>\n",
       "      <td>249055.515021</td>\n",
       "      <td>1953</td>\n",
       "      <td>7.000000</td>\n",
       "      <td>47.487719</td>\n",
       "      <td>381346.56309</td>\n",
       "      <td>8.549254</td>\n",
       "      <td>...</td>\n",
       "      <td>2742</td>\n",
       "      <td>138</td>\n",
       "      <td>277</td>\n",
       "      <td>138</td>\n",
       "      <td>2450</td>\n",
       "      <td>1333</td>\n",
       "      <td>607</td>\n",
       "      <td>211</td>\n",
       "      <td>85</td>\n",
       "      <td>1355</td>\n",
       "    </tr>\n",
       "    <tr>\n",
       "      <th>3</th>\n",
       "      <td>11.003509</td>\n",
       "      <td>0.00497</td>\n",
       "      <td>429.328358</td>\n",
       "      <td>0.148235</td>\n",
       "      <td>249055.515021</td>\n",
       "      <td>1533</td>\n",
       "      <td>7.000000</td>\n",
       "      <td>47.487719</td>\n",
       "      <td>381346.56309</td>\n",
       "      <td>8.549254</td>\n",
       "      <td>...</td>\n",
       "      <td>2742</td>\n",
       "      <td>4</td>\n",
       "      <td>2407</td>\n",
       "      <td>4</td>\n",
       "      <td>2450</td>\n",
       "      <td>1333</td>\n",
       "      <td>132</td>\n",
       "      <td>2337</td>\n",
       "      <td>2270</td>\n",
       "      <td>1614</td>\n",
       "    </tr>\n",
       "    <tr>\n",
       "      <th>4</th>\n",
       "      <td>11.003509</td>\n",
       "      <td>0.00497</td>\n",
       "      <td>429.328358</td>\n",
       "      <td>0.148235</td>\n",
       "      <td>249055.515021</td>\n",
       "      <td>686</td>\n",
       "      <td>7.000000</td>\n",
       "      <td>47.487719</td>\n",
       "      <td>381346.56309</td>\n",
       "      <td>8.549254</td>\n",
       "      <td>...</td>\n",
       "      <td>2742</td>\n",
       "      <td>0</td>\n",
       "      <td>2407</td>\n",
       "      <td>0</td>\n",
       "      <td>2450</td>\n",
       "      <td>1333</td>\n",
       "      <td>248</td>\n",
       "      <td>2337</td>\n",
       "      <td>2270</td>\n",
       "      <td>1614</td>\n",
       "    </tr>\n",
       "  </tbody>\n",
       "</table>\n",
       "<p>5 rows × 207 columns</p>\n",
       "</div>"
      ],
      "text/plain": [
       "         Var1     Var2        Var3      Var4           Var5  Var6      Var7  \\\n",
       "ID                                                                            \n",
       "0   11.003509  0.00497  429.328358  0.148235  249055.515021  3052  6.792126   \n",
       "1   11.003509  0.00497  429.328358  0.148235  249055.515021  1813  7.000000   \n",
       "2   11.003509  0.00497  429.328358  0.148235  249055.515021  1953  7.000000   \n",
       "3   11.003509  0.00497  429.328358  0.148235  249055.515021  1533  7.000000   \n",
       "4   11.003509  0.00497  429.328358  0.148235  249055.515021   686  7.000000   \n",
       "\n",
       "         Var9         Var10     Var11   ...    Var219  Var220  Var221  Var222  \\\n",
       "ID                                      ...                                     \n",
       "0   47.487719  381346.56309  8.549254   ...      2742       0     101       0   \n",
       "1   47.487719  381346.56309  8.549254   ...      2742       0    2407       0   \n",
       "2   47.487719  381346.56309  8.549254   ...      2742     138     277     138   \n",
       "3   47.487719  381346.56309  8.549254   ...      2742       4    2407       4   \n",
       "4   47.487719  381346.56309  8.549254   ...      2742       0    2407       0   \n",
       "\n",
       "    Var223  Var225  Var226  Var227  Var228  Var229  \n",
       "ID                                                  \n",
       "0     2450    1333     154     117      88    1355  \n",
       "1     2450    1333     132    2337     171    1355  \n",
       "2     2450    1333     607     211      85    1355  \n",
       "3     2450    1333     132    2337    2270    1614  \n",
       "4     2450    1333     248    2337    2270    1614  \n",
       "\n",
       "[5 rows x 207 columns]"
      ]
     },
     "execution_count": 46,
     "metadata": {},
     "output_type": "execute_result"
    }
   ],
   "source": [
    "# проверил раньше, что запись в числах дает лучше результат, чем бинаризация на имеющихся категориях\n",
    "cat_as_nums = pd.read_csv(\"categories_only_as_numbers.csv\", index_col=\"ID\")\n",
    "\n",
    "nums = pd.concat([numbers, cat_as_nums], axis=1)\n",
    "nums.head()"
   ]
  },
  {
   "cell_type": "code",
   "execution_count": 47,
   "metadata": {
    "collapsed": false
   },
   "outputs": [
    {
     "data": {
      "text/plain": [
       "(40000, 139)"
      ]
     },
     "execution_count": 47,
     "metadata": {},
     "output_type": "execute_result"
    }
   ],
   "source": [
    "sfm = fs.SelectFromModel(LinearSVC(penalty=\"l1\", dual=False))\n",
    "X = sfm.fit_transform(nums, y)\n",
    "X.shape"
   ]
  },
  {
   "cell_type": "code",
   "execution_count": 48,
   "metadata": {
    "collapsed": false
   },
   "outputs": [
    {
     "data": {
      "text/plain": [
       "0.98129057849388923"
      ]
     },
     "execution_count": 48,
     "metadata": {},
     "output_type": "execute_result"
    }
   ],
   "source": [
    "clf = RandomForestClassifier(n_estimators=200, random_state=2)\n",
    "forest_scoring = cross_validation.cross_val_score(clf, nums, y, scoring = metrics.scorer.roc_auc_scorer)\n",
    "forest_scoring.mean()"
   ]
  },
  {
   "cell_type": "code",
   "execution_count": 49,
   "metadata": {
    "collapsed": false
   },
   "outputs": [
    {
     "data": {
      "text/plain": [
       "0.75095882886968113"
      ]
     },
     "execution_count": 49,
     "metadata": {},
     "output_type": "execute_result"
    }
   ],
   "source": [
    "clf = RandomForestClassifier(n_estimators=200, random_state=2)\n",
    "forest_scoring = cross_validation.cross_val_score(clf, nums, y, scoring = 'average_precision')\n",
    "forest_scoring.mean()"
   ]
  },
  {
   "cell_type": "code",
   "execution_count": 50,
   "metadata": {
    "collapsed": false
   },
   "outputs": [
    {
     "data": {
      "text/plain": [
       "0.98126321490330959"
      ]
     },
     "execution_count": 50,
     "metadata": {},
     "output_type": "execute_result"
    }
   ],
   "source": [
    "clf = RandomForestClassifier(n_estimators=200, random_state=2)\n",
    "forest_scoring = cross_validation.cross_val_score(clf, X, y, scoring = metrics.scorer.roc_auc_scorer)\n",
    "forest_scoring.mean()"
   ]
  },
  {
   "cell_type": "code",
   "execution_count": 51,
   "metadata": {
    "collapsed": false
   },
   "outputs": [
    {
     "data": {
      "text/plain": [
       "0.74515586029220671"
      ]
     },
     "execution_count": 51,
     "metadata": {},
     "output_type": "execute_result"
    }
   ],
   "source": [
    "clf = RandomForestClassifier(n_estimators=200, random_state=2)\n",
    "forest_scoring = cross_validation.cross_val_score(clf, X, y, scoring = 'average_precision')\n",
    "forest_scoring.mean()"
   ]
  },
  {
   "cell_type": "code",
   "execution_count": 18,
   "metadata": {
    "collapsed": false
   },
   "outputs": [
    {
     "name": "stderr",
     "output_type": "stream",
     "text": [
      "/home/yury/anaconda2/lib/python2.7/site-packages/sklearn/grid_search.py:43: DeprecationWarning: This module was deprecated in version 0.18 in favor of the model_selection module into which all the refactored classes and functions are moved. This module will be removed in 0.20.\n",
      "  DeprecationWarning)\n"
     ]
    }
   ],
   "source": [
    "from sklearn import grid_search"
   ]
  },
  {
   "cell_type": "code",
   "execution_count": 23,
   "metadata": {
    "collapsed": false
   },
   "outputs": [],
   "source": [
    "clf = RandomForestClassifier(random_state=2)\n",
    "params = {\n",
    "    \"class_weight\": [{1: 10}, {1: 35}, {1: 40}, {1: 45}, {1: 60}],\n",
    "    'max_depth' : [10, 20],\n",
    "    'min_samples_leaf' : [1, 3, 5],\n",
    "    'n_estimators' : [200],\n",
    "}\n",
    "grid_cv = grid_search.GridSearchCV(clf, params, scoring = metrics.scorer.roc_auc_scorer, n_jobs=4)"
   ]
  },
  {
   "cell_type": "code",
   "execution_count": 24,
   "metadata": {
    "collapsed": false
   },
   "outputs": [
    {
     "name": "stdout",
     "output_type": "stream",
     "text": [
      "CPU times: user 17.2 s, sys: 332 ms, total: 17.6 s\n",
      "Wall time: 5min 46s\n"
     ]
    },
    {
     "data": {
      "text/plain": [
       "GridSearchCV(cv=None, error_score='raise',\n",
       "       estimator=RandomForestClassifier(bootstrap=True, class_weight=None, criterion='gini',\n",
       "            max_depth=None, max_features='auto', max_leaf_nodes=None,\n",
       "            min_impurity_split=1e-07, min_samples_leaf=1,\n",
       "            min_samples_split=2, min_weight_fraction_leaf=0.0,\n",
       "            n_estimators=10, n_jobs=1, oob_score=False, random_state=2,\n",
       "            verbose=0, warm_start=False),\n",
       "       fit_params={}, iid=True, n_jobs=4,\n",
       "       param_grid={'n_estimators': [200], 'min_samples_leaf': [1, 3, 5], 'max_depth': [10, 20], 'class_weight': [{1: 10}, {1: 35}, {1: 40}, {1: 45}, {1: 60}]},\n",
       "       pre_dispatch='2*n_jobs', refit=True,\n",
       "       scoring=make_scorer(roc_auc_score, needs_threshold=True), verbose=0)"
      ]
     },
     "execution_count": 24,
     "metadata": {},
     "output_type": "execute_result"
    }
   ],
   "source": [
    "%%time\n",
    "grid_cv.fit(X, y)"
   ]
  },
  {
   "cell_type": "code",
   "execution_count": 25,
   "metadata": {
    "collapsed": false
   },
   "outputs": [
    {
     "name": "stdout",
     "output_type": "stream",
     "text": [
      "0.788524223264\n",
      "{'n_estimators': 200, 'min_samples_leaf': 5, 'max_depth': 20, 'class_weight': {1: 10}}\n"
     ]
    }
   ],
   "source": [
    "print grid_cv.best_score_\n",
    "print grid_cv.best_params_"
   ]
  },
  {
   "cell_type": "code",
   "execution_count": 26,
   "metadata": {
    "collapsed": true
   },
   "outputs": [],
   "source": [
    "clf = RandomForestClassifier(random_state=2)\n",
    "params = {\n",
    "    \"class_weight\": [{1: 5}, {1: 10}, {1: 15}, 'balanced'],\n",
    "    'min_samples_leaf' : [4, 5, 7, 10],\n",
    "    'n_estimators' : [200]\n",
    "}\n",
    "grid_cv = grid_search.GridSearchCV(clf, params, scoring = metrics.scorer.roc_auc_scorer, n_jobs=4)"
   ]
  },
  {
   "cell_type": "code",
   "execution_count": 27,
   "metadata": {
    "collapsed": false
   },
   "outputs": [
    {
     "name": "stdout",
     "output_type": "stream",
     "text": [
      "CPU times: user 14 s, sys: 300 ms, total: 14.3 s\n",
      "Wall time: 3min\n"
     ]
    },
    {
     "data": {
      "text/plain": [
       "GridSearchCV(cv=None, error_score='raise',\n",
       "       estimator=RandomForestClassifier(bootstrap=True, class_weight=None, criterion='gini',\n",
       "            max_depth=None, max_features='auto', max_leaf_nodes=None,\n",
       "            min_impurity_split=1e-07, min_samples_leaf=1,\n",
       "            min_samples_split=2, min_weight_fraction_leaf=0.0,\n",
       "            n_estimators=10, n_jobs=1, oob_score=False, random_state=2,\n",
       "            verbose=0, warm_start=False),\n",
       "       fit_params={}, iid=True, n_jobs=4,\n",
       "       param_grid={'n_estimators': [200], 'min_samples_leaf': [4, 5, 7, 10], 'class_weight': [{1: 5}, {1: 10}, {1: 15}, 'balanced']},\n",
       "       pre_dispatch='2*n_jobs', refit=True,\n",
       "       scoring=make_scorer(roc_auc_score, needs_threshold=True), verbose=0)"
      ]
     },
     "execution_count": 27,
     "metadata": {},
     "output_type": "execute_result"
    }
   ],
   "source": [
    "%%time\n",
    "grid_cv.fit(X, y)"
   ]
  },
  {
   "cell_type": "code",
   "execution_count": 28,
   "metadata": {
    "collapsed": false
   },
   "outputs": [
    {
     "name": "stdout",
     "output_type": "stream",
     "text": [
      "0.792869352175\n",
      "{'n_estimators': 200, 'min_samples_leaf': 10, 'class_weight': {1: 5}}\n"
     ]
    }
   ],
   "source": [
    "print grid_cv.best_score_\n",
    "print grid_cv.best_params_"
   ]
  },
  {
   "cell_type": "code",
   "execution_count": 29,
   "metadata": {
    "collapsed": true
   },
   "outputs": [],
   "source": [
    "clf = RandomForestClassifier(random_state=2)\n",
    "params = {\n",
    "    \"class_weight\": [{1: 1}, {1: 3}, {1: 5}, {1: 7}],\n",
    "    'min_samples_leaf' : [9, 10, 15, 25],\n",
    "    'n_estimators' : [200]\n",
    "}\n",
    "grid_cv = grid_search.GridSearchCV(clf, params, scoring = metrics.scorer.roc_auc_scorer, n_jobs=4)"
   ]
  },
  {
   "cell_type": "code",
   "execution_count": 30,
   "metadata": {
    "collapsed": false
   },
   "outputs": [
    {
     "name": "stdout",
     "output_type": "stream",
     "text": [
      "CPU times: user 14.8 s, sys: 280 ms, total: 15.1 s\n",
      "Wall time: 2min 55s\n"
     ]
    },
    {
     "data": {
      "text/plain": [
       "GridSearchCV(cv=None, error_score='raise',\n",
       "       estimator=RandomForestClassifier(bootstrap=True, class_weight=None, criterion='gini',\n",
       "            max_depth=None, max_features='auto', max_leaf_nodes=None,\n",
       "            min_impurity_split=1e-07, min_samples_leaf=1,\n",
       "            min_samples_split=2, min_weight_fraction_leaf=0.0,\n",
       "            n_estimators=10, n_jobs=1, oob_score=False, random_state=2,\n",
       "            verbose=0, warm_start=False),\n",
       "       fit_params={}, iid=True, n_jobs=4,\n",
       "       param_grid={'n_estimators': [200], 'min_samples_leaf': [9, 10, 15, 25], 'class_weight': [{1: 1}, {1: 3}, {1: 5}, {1: 7}]},\n",
       "       pre_dispatch='2*n_jobs', refit=True,\n",
       "       scoring=make_scorer(roc_auc_score, needs_threshold=True), verbose=0)"
      ]
     },
     "execution_count": 30,
     "metadata": {},
     "output_type": "execute_result"
    }
   ],
   "source": [
    "%%time\n",
    "grid_cv.fit(X, y)"
   ]
  },
  {
   "cell_type": "code",
   "execution_count": 31,
   "metadata": {
    "collapsed": false,
    "scrolled": true
   },
   "outputs": [
    {
     "name": "stdout",
     "output_type": "stream",
     "text": [
      "0.793297690246\n",
      "{'n_estimators': 200, 'min_samples_leaf': 15, 'class_weight': {1: 5}}\n"
     ]
    }
   ],
   "source": [
    "print grid_cv.best_score_\n",
    "print grid_cv.best_params_"
   ]
  },
  {
   "cell_type": "code",
   "execution_count": 32,
   "metadata": {
    "collapsed": true
   },
   "outputs": [],
   "source": [
    "clf = RandomForestClassifier(random_state=2)\n",
    "params = {\n",
    "    \"class_weight\": [{1: 5}],\n",
    "    'min_samples_leaf' : [15, 20],\n",
    "    'n_estimators' : [200],\n",
    "    'criterion' : ['gini', 'entropy'],\n",
    "    'max_features' : [0.3, 0.6, 0.7, 0.8]\n",
    "}\n",
    "grid_cv = grid_search.GridSearchCV(clf, params, scoring = metrics.scorer.roc_auc_scorer, n_jobs=4)"
   ]
  },
  {
   "cell_type": "code",
   "execution_count": 33,
   "metadata": {
    "collapsed": false
   },
   "outputs": [
    {
     "name": "stdout",
     "output_type": "stream",
     "text": [
      "CPU times: user 32.1 s, sys: 512 ms, total: 32.6 s\n",
      "Wall time: 12min 26s\n"
     ]
    },
    {
     "data": {
      "text/plain": [
       "GridSearchCV(cv=None, error_score='raise',\n",
       "       estimator=RandomForestClassifier(bootstrap=True, class_weight=None, criterion='gini',\n",
       "            max_depth=None, max_features='auto', max_leaf_nodes=None,\n",
       "            min_impurity_split=1e-07, min_samples_leaf=1,\n",
       "            min_samples_split=2, min_weight_fraction_leaf=0.0,\n",
       "            n_estimators=10, n_jobs=1, oob_score=False, random_state=2,\n",
       "            verbose=0, warm_start=False),\n",
       "       fit_params={}, iid=True, n_jobs=4,\n",
       "       param_grid={'n_estimators': [200], 'max_features': [0.3, 0.6, 0.7, 0.8], 'min_samples_leaf': [15, 20], 'criterion': ['gini', 'entropy'], 'class_weight': [{1: 5}]},\n",
       "       pre_dispatch='2*n_jobs', refit=True,\n",
       "       scoring=make_scorer(roc_auc_score, needs_threshold=True), verbose=0)"
      ]
     },
     "execution_count": 33,
     "metadata": {},
     "output_type": "execute_result"
    }
   ],
   "source": [
    "%%time\n",
    "grid_cv.fit(X, y)"
   ]
  },
  {
   "cell_type": "code",
   "execution_count": 34,
   "metadata": {
    "collapsed": false
   },
   "outputs": [
    {
     "name": "stdout",
     "output_type": "stream",
     "text": [
      "0.800179854004\n",
      "{'max_features': 0.3, 'n_estimators': 200, 'min_samples_leaf': 20, 'criterion': 'entropy', 'class_weight': {1: 5}}\n"
     ]
    }
   ],
   "source": [
    "print grid_cv.best_score_\n",
    "print grid_cv.best_params_"
   ]
  },
  {
   "cell_type": "code",
   "execution_count": null,
   "metadata": {
    "collapsed": true
   },
   "outputs": [],
   "source": []
  },
  {
   "cell_type": "code",
   "execution_count": 57,
   "metadata": {
    "collapsed": false
   },
   "outputs": [
    {
     "data": {
      "text/html": [
       "<div>\n",
       "<table border=\"1\" class=\"dataframe\">\n",
       "  <thead>\n",
       "    <tr style=\"text-align: right;\">\n",
       "      <th></th>\n",
       "      <th>Var1</th>\n",
       "      <th>Var2</th>\n",
       "      <th>Var3</th>\n",
       "      <th>Var4</th>\n",
       "      <th>Var5</th>\n",
       "      <th>Var6</th>\n",
       "      <th>Var7</th>\n",
       "      <th>Var8</th>\n",
       "      <th>Var9</th>\n",
       "      <th>Var10</th>\n",
       "      <th>...</th>\n",
       "      <th>Var181</th>\n",
       "      <th>Var182</th>\n",
       "      <th>Var183</th>\n",
       "      <th>Var184</th>\n",
       "      <th>Var185</th>\n",
       "      <th>Var186</th>\n",
       "      <th>Var187</th>\n",
       "      <th>Var188</th>\n",
       "      <th>Var189</th>\n",
       "      <th>Var190</th>\n",
       "    </tr>\n",
       "    <tr>\n",
       "      <th>ID</th>\n",
       "      <th></th>\n",
       "      <th></th>\n",
       "      <th></th>\n",
       "      <th></th>\n",
       "      <th></th>\n",
       "      <th></th>\n",
       "      <th></th>\n",
       "      <th></th>\n",
       "      <th></th>\n",
       "      <th></th>\n",
       "      <th></th>\n",
       "      <th></th>\n",
       "      <th></th>\n",
       "      <th></th>\n",
       "      <th></th>\n",
       "      <th></th>\n",
       "      <th></th>\n",
       "      <th></th>\n",
       "      <th></th>\n",
       "      <th></th>\n",
       "      <th></th>\n",
       "    </tr>\n",
       "  </thead>\n",
       "  <tbody>\n",
       "    <tr>\n",
       "      <th>0</th>\n",
       "      <td>13.575758</td>\n",
       "      <td>0</td>\n",
       "      <td>408.06383</td>\n",
       "      <td>0.029605</td>\n",
       "      <td>201664.611801</td>\n",
       "      <td>1225.000000</td>\n",
       "      <td>7.00000</td>\n",
       "      <td>NaN</td>\n",
       "      <td>50.984848</td>\n",
       "      <td>433341.195652</td>\n",
       "      <td>...</td>\n",
       "      <td>0.000000</td>\n",
       "      <td>1480428.730263</td>\n",
       "      <td>65347.429787</td>\n",
       "      <td>12.919149</td>\n",
       "      <td>NaN</td>\n",
       "      <td>2.363636</td>\n",
       "      <td>18.651515</td>\n",
       "      <td>177.043915</td>\n",
       "      <td>268.38565</td>\n",
       "      <td>19505.399254</td>\n",
       "    </tr>\n",
       "    <tr>\n",
       "      <th>1</th>\n",
       "      <td>13.575758</td>\n",
       "      <td>0</td>\n",
       "      <td>408.06383</td>\n",
       "      <td>0.029605</td>\n",
       "      <td>201664.611801</td>\n",
       "      <td>896.000000</td>\n",
       "      <td>14.00000</td>\n",
       "      <td>NaN</td>\n",
       "      <td>50.984848</td>\n",
       "      <td>433341.195652</td>\n",
       "      <td>...</td>\n",
       "      <td>0.000000</td>\n",
       "      <td>1480428.730263</td>\n",
       "      <td>65347.429787</td>\n",
       "      <td>12.919149</td>\n",
       "      <td>NaN</td>\n",
       "      <td>2.363636</td>\n",
       "      <td>18.651515</td>\n",
       "      <td>177.043915</td>\n",
       "      <td>268.38565</td>\n",
       "      <td>19505.399254</td>\n",
       "    </tr>\n",
       "    <tr>\n",
       "      <th>2</th>\n",
       "      <td>13.575758</td>\n",
       "      <td>0</td>\n",
       "      <td>408.06383</td>\n",
       "      <td>0.029605</td>\n",
       "      <td>201664.611801</td>\n",
       "      <td>791.000000</td>\n",
       "      <td>7.00000</td>\n",
       "      <td>NaN</td>\n",
       "      <td>50.984848</td>\n",
       "      <td>433341.195652</td>\n",
       "      <td>...</td>\n",
       "      <td>14.000000</td>\n",
       "      <td>1480428.730263</td>\n",
       "      <td>65347.429787</td>\n",
       "      <td>12.919149</td>\n",
       "      <td>NaN</td>\n",
       "      <td>2.363636</td>\n",
       "      <td>18.651515</td>\n",
       "      <td>177.043915</td>\n",
       "      <td>268.38565</td>\n",
       "      <td>19505.399254</td>\n",
       "    </tr>\n",
       "    <tr>\n",
       "      <th>3</th>\n",
       "      <td>13.575758</td>\n",
       "      <td>0</td>\n",
       "      <td>408.06383</td>\n",
       "      <td>0.029605</td>\n",
       "      <td>201664.611801</td>\n",
       "      <td>2296.000000</td>\n",
       "      <td>7.00000</td>\n",
       "      <td>NaN</td>\n",
       "      <td>50.984848</td>\n",
       "      <td>433341.195652</td>\n",
       "      <td>...</td>\n",
       "      <td>0.000000</td>\n",
       "      <td>1480428.730263</td>\n",
       "      <td>65347.429787</td>\n",
       "      <td>12.919149</td>\n",
       "      <td>NaN</td>\n",
       "      <td>2.363636</td>\n",
       "      <td>18.651515</td>\n",
       "      <td>177.043915</td>\n",
       "      <td>268.38565</td>\n",
       "      <td>19505.399254</td>\n",
       "    </tr>\n",
       "    <tr>\n",
       "      <th>4</th>\n",
       "      <td>8.000000</td>\n",
       "      <td>0</td>\n",
       "      <td>408.06383</td>\n",
       "      <td>0.029605</td>\n",
       "      <td>201664.611801</td>\n",
       "      <td>1352.480799</td>\n",
       "      <td>6.87889</td>\n",
       "      <td>NaN</td>\n",
       "      <td>28.000000</td>\n",
       "      <td>433341.195652</td>\n",
       "      <td>...</td>\n",
       "      <td>0.614744</td>\n",
       "      <td>1480428.730263</td>\n",
       "      <td>65347.429787</td>\n",
       "      <td>12.919149</td>\n",
       "      <td>NaN</td>\n",
       "      <td>0.000000</td>\n",
       "      <td>2.000000</td>\n",
       "      <td>177.043915</td>\n",
       "      <td>268.38565</td>\n",
       "      <td>19505.399254</td>\n",
       "    </tr>\n",
       "  </tbody>\n",
       "</table>\n",
       "<p>5 rows × 190 columns</p>\n",
       "</div>"
      ],
      "text/plain": [
       "         Var1  Var2       Var3      Var4           Var5         Var6  \\\n",
       "ID                                                                     \n",
       "0   13.575758     0  408.06383  0.029605  201664.611801  1225.000000   \n",
       "1   13.575758     0  408.06383  0.029605  201664.611801   896.000000   \n",
       "2   13.575758     0  408.06383  0.029605  201664.611801   791.000000   \n",
       "3   13.575758     0  408.06383  0.029605  201664.611801  2296.000000   \n",
       "4    8.000000     0  408.06383  0.029605  201664.611801  1352.480799   \n",
       "\n",
       "        Var7  Var8       Var9          Var10      ...          Var181  \\\n",
       "ID                                                ...                   \n",
       "0    7.00000   NaN  50.984848  433341.195652      ...        0.000000   \n",
       "1   14.00000   NaN  50.984848  433341.195652      ...        0.000000   \n",
       "2    7.00000   NaN  50.984848  433341.195652      ...       14.000000   \n",
       "3    7.00000   NaN  50.984848  433341.195652      ...        0.000000   \n",
       "4    6.87889   NaN  28.000000  433341.195652      ...        0.614744   \n",
       "\n",
       "            Var182        Var183     Var184  Var185    Var186     Var187  \\\n",
       "ID                                                                         \n",
       "0   1480428.730263  65347.429787  12.919149     NaN  2.363636  18.651515   \n",
       "1   1480428.730263  65347.429787  12.919149     NaN  2.363636  18.651515   \n",
       "2   1480428.730263  65347.429787  12.919149     NaN  2.363636  18.651515   \n",
       "3   1480428.730263  65347.429787  12.919149     NaN  2.363636  18.651515   \n",
       "4   1480428.730263  65347.429787  12.919149     NaN  0.000000   2.000000   \n",
       "\n",
       "        Var188     Var189        Var190  \n",
       "ID                                       \n",
       "0   177.043915  268.38565  19505.399254  \n",
       "1   177.043915  268.38565  19505.399254  \n",
       "2   177.043915  268.38565  19505.399254  \n",
       "3   177.043915  268.38565  19505.399254  \n",
       "4   177.043915  268.38565  19505.399254  \n",
       "\n",
       "[5 rows x 190 columns]"
      ]
     },
     "execution_count": 57,
     "metadata": {},
     "output_type": "execute_result"
    }
   ],
   "source": [
    "test = pd.read_csv(\"orange_small_churn_test_data.csv\", index_col='ID')\n",
    "\n",
    "test_nums = test.ix[:, 0:190]\n",
    "names_to_drop = []\n",
    "for name in test_nums.columns:\n",
    "    col = test_nums[name].dropna()\n",
    "    if len(col.unique()) < 2:\n",
    "        names_to_drop.append(name)\n",
    "\n",
    "#test_nums.drop(names_to_drop, axis=1, inplace=True)\n",
    "\n",
    "for i in range(test_nums.shape[1]):\n",
    "    col = test_nums.ix[:, i]\n",
    "    mean = col.mean()\n",
    "    col.fillna(mean, inplace=True)\n",
    "    \n",
    "test_nums.head()"
   ]
  },
  {
   "cell_type": "code",
   "execution_count": 70,
   "metadata": {
    "collapsed": false
   },
   "outputs": [
    {
     "data": {
      "text/html": [
       "<div>\n",
       "<table border=\"1\" class=\"dataframe\">\n",
       "  <thead>\n",
       "    <tr style=\"text-align: right;\">\n",
       "      <th></th>\n",
       "      <th>Var191</th>\n",
       "      <th>Var192</th>\n",
       "      <th>Var193</th>\n",
       "      <th>Var194</th>\n",
       "      <th>Var195</th>\n",
       "      <th>Var196</th>\n",
       "      <th>Var197</th>\n",
       "      <th>Var198</th>\n",
       "      <th>Var199</th>\n",
       "      <th>Var200</th>\n",
       "      <th>...</th>\n",
       "      <th>Var221</th>\n",
       "      <th>Var222</th>\n",
       "      <th>Var223</th>\n",
       "      <th>Var224</th>\n",
       "      <th>Var225</th>\n",
       "      <th>Var226</th>\n",
       "      <th>Var227</th>\n",
       "      <th>Var228</th>\n",
       "      <th>Var229</th>\n",
       "      <th>Var230</th>\n",
       "    </tr>\n",
       "    <tr>\n",
       "      <th>ID</th>\n",
       "      <th></th>\n",
       "      <th></th>\n",
       "      <th></th>\n",
       "      <th></th>\n",
       "      <th></th>\n",
       "      <th></th>\n",
       "      <th></th>\n",
       "      <th></th>\n",
       "      <th></th>\n",
       "      <th></th>\n",
       "      <th></th>\n",
       "      <th></th>\n",
       "      <th></th>\n",
       "      <th></th>\n",
       "      <th></th>\n",
       "      <th></th>\n",
       "      <th></th>\n",
       "      <th></th>\n",
       "      <th></th>\n",
       "      <th></th>\n",
       "      <th></th>\n",
       "    </tr>\n",
       "  </thead>\n",
       "  <tbody>\n",
       "    <tr>\n",
       "      <th>0</th>\n",
       "      <td>0</td>\n",
       "      <td>P1WvyxLp3Z</td>\n",
       "      <td>2Knk1KF</td>\n",
       "      <td>SEuy</td>\n",
       "      <td>taul</td>\n",
       "      <td>1K8T</td>\n",
       "      <td>0Xwj</td>\n",
       "      <td>PHNvXy8</td>\n",
       "      <td>xUOdRmdN20</td>\n",
       "      <td>IBm9AvG</td>\n",
       "      <td>...</td>\n",
       "      <td>zCkv</td>\n",
       "      <td>APgdzOv</td>\n",
       "      <td>jySVZNlOJy</td>\n",
       "      <td>0</td>\n",
       "      <td>ELof</td>\n",
       "      <td>xb3V</td>\n",
       "      <td>6fzt</td>\n",
       "      <td>Zy3gnGM</td>\n",
       "      <td>mj86</td>\n",
       "      <td>0</td>\n",
       "    </tr>\n",
       "    <tr>\n",
       "      <th>1</th>\n",
       "      <td>0</td>\n",
       "      <td>bZkvyxLkBI</td>\n",
       "      <td>RO12</td>\n",
       "      <td>SEuy</td>\n",
       "      <td>taul</td>\n",
       "      <td>1K8T</td>\n",
       "      <td>0Xwj</td>\n",
       "      <td>6KF0k8W</td>\n",
       "      <td>V4E_TU9097</td>\n",
       "      <td>JnrRQD4</td>\n",
       "      <td>...</td>\n",
       "      <td>oslk</td>\n",
       "      <td>IIvC99a</td>\n",
       "      <td>LM8l689qOp</td>\n",
       "      <td>0</td>\n",
       "      <td>kG3k</td>\n",
       "      <td>xb3V</td>\n",
       "      <td>RAYp</td>\n",
       "      <td>F2FyR07IdsN7I</td>\n",
       "      <td>mj86</td>\n",
       "      <td>0</td>\n",
       "    </tr>\n",
       "    <tr>\n",
       "      <th>2</th>\n",
       "      <td>0</td>\n",
       "      <td>75lTmBtFkL</td>\n",
       "      <td>RO12</td>\n",
       "      <td>SEuy</td>\n",
       "      <td>taul</td>\n",
       "      <td>1K8T</td>\n",
       "      <td>AnrR</td>\n",
       "      <td>ckoNVBU</td>\n",
       "      <td>_jTP8ioIlJ</td>\n",
       "      <td>JnrRQD4</td>\n",
       "      <td>...</td>\n",
       "      <td>oslk</td>\n",
       "      <td>6YSocsg</td>\n",
       "      <td>LM8l689qOp</td>\n",
       "      <td>0</td>\n",
       "      <td>kG3k</td>\n",
       "      <td>rgKb</td>\n",
       "      <td>RAYp</td>\n",
       "      <td>F2FyR07IdsN7I</td>\n",
       "      <td>mj86</td>\n",
       "      <td>0</td>\n",
       "    </tr>\n",
       "    <tr>\n",
       "      <th>3</th>\n",
       "      <td>0</td>\n",
       "      <td>YddTmBtueT</td>\n",
       "      <td>RO12</td>\n",
       "      <td>SEuy</td>\n",
       "      <td>taul</td>\n",
       "      <td>1K8T</td>\n",
       "      <td>487l</td>\n",
       "      <td>77f44U8</td>\n",
       "      <td>II0S8f9</td>\n",
       "      <td>a1lFLoc</td>\n",
       "      <td>...</td>\n",
       "      <td>oslk</td>\n",
       "      <td>5nQ7A2G</td>\n",
       "      <td>jySVZNlOJy</td>\n",
       "      <td>0</td>\n",
       "      <td>kG3k</td>\n",
       "      <td>rgKb</td>\n",
       "      <td>RAYp</td>\n",
       "      <td>F2FyR07IdsN7I</td>\n",
       "      <td>am7c</td>\n",
       "      <td>0</td>\n",
       "    </tr>\n",
       "    <tr>\n",
       "      <th>4</th>\n",
       "      <td>0</td>\n",
       "      <td>mCGq9ayE15</td>\n",
       "      <td>RO12</td>\n",
       "      <td>SEuy</td>\n",
       "      <td>taul</td>\n",
       "      <td>1K8T</td>\n",
       "      <td>lK27</td>\n",
       "      <td>esxkA1P</td>\n",
       "      <td>767sa0XN9l</td>\n",
       "      <td>pbHkKHa</td>\n",
       "      <td>...</td>\n",
       "      <td>oslk</td>\n",
       "      <td>MI8s5nE</td>\n",
       "      <td>LM8l689qOp</td>\n",
       "      <td>0</td>\n",
       "      <td>xG3x</td>\n",
       "      <td>7P5s</td>\n",
       "      <td>RAYp</td>\n",
       "      <td>F2FyR07IdsN7I</td>\n",
       "      <td>mj86</td>\n",
       "      <td>0</td>\n",
       "    </tr>\n",
       "  </tbody>\n",
       "</table>\n",
       "<p>5 rows × 40 columns</p>\n",
       "</div>"
      ],
      "text/plain": [
       "   Var191      Var192   Var193 Var194 Var195 Var196 Var197   Var198  \\\n",
       "ID                                                                    \n",
       "0       0  P1WvyxLp3Z  2Knk1KF   SEuy   taul   1K8T   0Xwj  PHNvXy8   \n",
       "1       0  bZkvyxLkBI     RO12   SEuy   taul   1K8T   0Xwj  6KF0k8W   \n",
       "2       0  75lTmBtFkL     RO12   SEuy   taul   1K8T   AnrR  ckoNVBU   \n",
       "3       0  YddTmBtueT     RO12   SEuy   taul   1K8T   487l  77f44U8   \n",
       "4       0  mCGq9ayE15     RO12   SEuy   taul   1K8T   lK27  esxkA1P   \n",
       "\n",
       "        Var199   Var200  ...   Var221   Var222      Var223 Var224 Var225  \\\n",
       "ID                       ...                                               \n",
       "0   xUOdRmdN20  IBm9AvG  ...     zCkv  APgdzOv  jySVZNlOJy      0   ELof   \n",
       "1   V4E_TU9097  JnrRQD4  ...     oslk  IIvC99a  LM8l689qOp      0   kG3k   \n",
       "2   _jTP8ioIlJ  JnrRQD4  ...     oslk  6YSocsg  LM8l689qOp      0   kG3k   \n",
       "3      II0S8f9  a1lFLoc  ...     oslk  5nQ7A2G  jySVZNlOJy      0   kG3k   \n",
       "4   767sa0XN9l  pbHkKHa  ...     oslk  MI8s5nE  LM8l689qOp      0   xG3x   \n",
       "\n",
       "   Var226 Var227         Var228  Var229 Var230  \n",
       "ID                                              \n",
       "0    xb3V   6fzt        Zy3gnGM    mj86      0  \n",
       "1    xb3V   RAYp  F2FyR07IdsN7I    mj86      0  \n",
       "2    rgKb   RAYp  F2FyR07IdsN7I    mj86      0  \n",
       "3    rgKb   RAYp  F2FyR07IdsN7I    am7c      0  \n",
       "4    7P5s   RAYp  F2FyR07IdsN7I    mj86      0  \n",
       "\n",
       "[5 rows x 40 columns]"
      ]
     },
     "execution_count": 70,
     "metadata": {},
     "output_type": "execute_result"
    }
   ],
   "source": [
    "test_cats = test.ix[:, 190:230]\n",
    "names_to_drop = []\n",
    "for name in test_cats.columns:\n",
    "    col = test_cats[name].dropna()\n",
    "    if len(col.unique()) < 2:\n",
    "        names_to_drop.append(name)\n",
    "\n",
    "test_cats[names_to_drop] = test_cats[names_to_drop].fillna(0)\n",
    "\n",
    "test_cats.fillna(method='bfill', inplace=True)\n",
    "test_cats.head()"
   ]
  },
  {
   "cell_type": "code",
   "execution_count": 71,
   "metadata": {
    "collapsed": false
   },
   "outputs": [
    {
     "data": {
      "text/html": [
       "<div>\n",
       "<table border=\"1\" class=\"dataframe\">\n",
       "  <thead>\n",
       "    <tr style=\"text-align: right;\">\n",
       "      <th></th>\n",
       "      <th>Var191</th>\n",
       "      <th>Var192</th>\n",
       "      <th>Var193</th>\n",
       "      <th>Var194</th>\n",
       "      <th>Var195</th>\n",
       "      <th>Var196</th>\n",
       "      <th>Var197</th>\n",
       "      <th>Var198</th>\n",
       "      <th>Var199</th>\n",
       "      <th>Var200</th>\n",
       "      <th>...</th>\n",
       "      <th>Var221</th>\n",
       "      <th>Var222</th>\n",
       "      <th>Var223</th>\n",
       "      <th>Var224</th>\n",
       "      <th>Var225</th>\n",
       "      <th>Var226</th>\n",
       "      <th>Var227</th>\n",
       "      <th>Var228</th>\n",
       "      <th>Var229</th>\n",
       "      <th>Var230</th>\n",
       "    </tr>\n",
       "    <tr>\n",
       "      <th>ID</th>\n",
       "      <th></th>\n",
       "      <th></th>\n",
       "      <th></th>\n",
       "      <th></th>\n",
       "      <th></th>\n",
       "      <th></th>\n",
       "      <th></th>\n",
       "      <th></th>\n",
       "      <th></th>\n",
       "      <th></th>\n",
       "      <th></th>\n",
       "      <th></th>\n",
       "      <th></th>\n",
       "      <th></th>\n",
       "      <th></th>\n",
       "      <th></th>\n",
       "      <th></th>\n",
       "      <th></th>\n",
       "      <th></th>\n",
       "      <th></th>\n",
       "      <th></th>\n",
       "    </tr>\n",
       "  </thead>\n",
       "  <tbody>\n",
       "    <tr>\n",
       "      <th>0</th>\n",
       "      <td>762</td>\n",
       "      <td>4</td>\n",
       "      <td>112</td>\n",
       "      <td>760</td>\n",
       "      <td>739</td>\n",
       "      <td>769</td>\n",
       "      <td>74</td>\n",
       "      <td>18</td>\n",
       "      <td>0</td>\n",
       "      <td>0</td>\n",
       "      <td>...</td>\n",
       "      <td>108</td>\n",
       "      <td>18</td>\n",
       "      <td>119</td>\n",
       "      <td>753</td>\n",
       "      <td>336</td>\n",
       "      <td>35</td>\n",
       "      <td>61</td>\n",
       "      <td>15</td>\n",
       "      <td>334</td>\n",
       "      <td>771</td>\n",
       "    </tr>\n",
       "    <tr>\n",
       "      <th>1</th>\n",
       "      <td>762</td>\n",
       "      <td>1</td>\n",
       "      <td>531</td>\n",
       "      <td>760</td>\n",
       "      <td>739</td>\n",
       "      <td>769</td>\n",
       "      <td>74</td>\n",
       "      <td>3</td>\n",
       "      <td>2</td>\n",
       "      <td>0</td>\n",
       "      <td>...</td>\n",
       "      <td>558</td>\n",
       "      <td>3</td>\n",
       "      <td>608</td>\n",
       "      <td>753</td>\n",
       "      <td>374</td>\n",
       "      <td>35</td>\n",
       "      <td>529</td>\n",
       "      <td>486</td>\n",
       "      <td>334</td>\n",
       "      <td>771</td>\n",
       "    </tr>\n",
       "    <tr>\n",
       "      <th>2</th>\n",
       "      <td>762</td>\n",
       "      <td>4</td>\n",
       "      <td>531</td>\n",
       "      <td>760</td>\n",
       "      <td>739</td>\n",
       "      <td>769</td>\n",
       "      <td>6</td>\n",
       "      <td>1</td>\n",
       "      <td>14</td>\n",
       "      <td>0</td>\n",
       "      <td>...</td>\n",
       "      <td>558</td>\n",
       "      <td>1</td>\n",
       "      <td>608</td>\n",
       "      <td>753</td>\n",
       "      <td>374</td>\n",
       "      <td>25</td>\n",
       "      <td>529</td>\n",
       "      <td>486</td>\n",
       "      <td>334</td>\n",
       "      <td>771</td>\n",
       "    </tr>\n",
       "    <tr>\n",
       "      <th>3</th>\n",
       "      <td>762</td>\n",
       "      <td>3</td>\n",
       "      <td>531</td>\n",
       "      <td>760</td>\n",
       "      <td>739</td>\n",
       "      <td>769</td>\n",
       "      <td>63</td>\n",
       "      <td>1</td>\n",
       "      <td>5</td>\n",
       "      <td>1</td>\n",
       "      <td>...</td>\n",
       "      <td>558</td>\n",
       "      <td>1</td>\n",
       "      <td>119</td>\n",
       "      <td>753</td>\n",
       "      <td>374</td>\n",
       "      <td>25</td>\n",
       "      <td>529</td>\n",
       "      <td>486</td>\n",
       "      <td>434</td>\n",
       "      <td>771</td>\n",
       "    </tr>\n",
       "    <tr>\n",
       "      <th>4</th>\n",
       "      <td>762</td>\n",
       "      <td>0</td>\n",
       "      <td>531</td>\n",
       "      <td>760</td>\n",
       "      <td>739</td>\n",
       "      <td>769</td>\n",
       "      <td>63</td>\n",
       "      <td>1</td>\n",
       "      <td>0</td>\n",
       "      <td>0</td>\n",
       "      <td>...</td>\n",
       "      <td>558</td>\n",
       "      <td>1</td>\n",
       "      <td>608</td>\n",
       "      <td>753</td>\n",
       "      <td>61</td>\n",
       "      <td>34</td>\n",
       "      <td>529</td>\n",
       "      <td>486</td>\n",
       "      <td>334</td>\n",
       "      <td>771</td>\n",
       "    </tr>\n",
       "  </tbody>\n",
       "</table>\n",
       "<p>5 rows × 40 columns</p>\n",
       "</div>"
      ],
      "text/plain": [
       "    Var191  Var192  Var193  Var194  Var195  Var196  Var197  Var198  Var199  \\\n",
       "ID                                                                           \n",
       "0      762       4     112     760     739     769      74      18       0   \n",
       "1      762       1     531     760     739     769      74       3       2   \n",
       "2      762       4     531     760     739     769       6       1      14   \n",
       "3      762       3     531     760     739     769      63       1       5   \n",
       "4      762       0     531     760     739     769      63       1       0   \n",
       "\n",
       "    Var200   ...    Var221  Var222  Var223  Var224  Var225  Var226  Var227  \\\n",
       "ID           ...                                                             \n",
       "0        0   ...       108      18     119     753     336      35      61   \n",
       "1        0   ...       558       3     608     753     374      35     529   \n",
       "2        0   ...       558       1     608     753     374      25     529   \n",
       "3        1   ...       558       1     119     753     374      25     529   \n",
       "4        0   ...       558       1     608     753      61      34     529   \n",
       "\n",
       "    Var228  Var229  Var230  \n",
       "ID                          \n",
       "0       15     334     771  \n",
       "1      486     334     771  \n",
       "2      486     334     771  \n",
       "3      486     434     771  \n",
       "4      486     334     771  \n",
       "\n",
       "[5 rows x 40 columns]"
      ]
     },
     "execution_count": 71,
     "metadata": {},
     "output_type": "execute_result"
    }
   ],
   "source": [
    "#преобразуем все признаки в числовые\n",
    "cat_copy = test_cats.copy()\n",
    "for name in cat_copy.columns:\n",
    "    counts = {}\n",
    "    pairs = zip(cat_copy[name].values, y)\n",
    "    for x in pairs:\n",
    "        if counts.get(x[0]) == None:\n",
    "                counts[x[0]] = 0\n",
    "        if x[1] == 1:\n",
    "            counts[x[0]] += 1\n",
    "    cat_copy[name] = cat_copy[name].apply(lambda x: counts[x])\n",
    "\n",
    "cat_copy.head()"
   ]
  },
  {
   "cell_type": "code",
   "execution_count": 72,
   "metadata": {
    "collapsed": false
   },
   "outputs": [],
   "source": [
    "test_obj = pd.concat([test_nums, cat_copy], axis=1)\n"
   ]
  },
  {
   "cell_type": "code",
   "execution_count": null,
   "metadata": {
    "collapsed": true
   },
   "outputs": [],
   "source": [
    "clf = RandomForestClassifier( class_weight={1: 5}, criterion='entropy', max_features=0.3, min_samples_leaf=20, n_estimators=200, n_jobs=4, random_state=2)\n",
    "clf.fit(X, y)"
   ]
  },
  {
   "cell_type": "code",
   "execution_count": 52,
   "metadata": {
    "collapsed": false,
    "scrolled": true
   },
   "outputs": [
    {
     "data": {
      "text/plain": [
       "207"
      ]
     },
     "execution_count": 52,
     "metadata": {},
     "output_type": "execute_result"
    }
   ],
   "source": [
    "len(sfm.get_support())"
   ]
  },
  {
   "cell_type": "code",
   "execution_count": 54,
   "metadata": {
    "collapsed": false
   },
   "outputs": [
    {
     "data": {
      "text/html": [
       "<div>\n",
       "<table border=\"1\" class=\"dataframe\">\n",
       "  <thead>\n",
       "    <tr style=\"text-align: right;\">\n",
       "      <th></th>\n",
       "      <th>Var1</th>\n",
       "      <th>Var4</th>\n",
       "      <th>Var7</th>\n",
       "      <th>Var9</th>\n",
       "      <th>Var11</th>\n",
       "      <th>Var12</th>\n",
       "      <th>Var14</th>\n",
       "      <th>Var16</th>\n",
       "      <th>Var17</th>\n",
       "      <th>Var18</th>\n",
       "      <th>...</th>\n",
       "      <th>Var214</th>\n",
       "      <th>Var216</th>\n",
       "      <th>Var217</th>\n",
       "      <th>Var220</th>\n",
       "      <th>Var221</th>\n",
       "      <th>Var222</th>\n",
       "      <th>Var225</th>\n",
       "      <th>Var226</th>\n",
       "      <th>Var227</th>\n",
       "      <th>Var229</th>\n",
       "    </tr>\n",
       "    <tr>\n",
       "      <th>ID</th>\n",
       "      <th></th>\n",
       "      <th></th>\n",
       "      <th></th>\n",
       "      <th></th>\n",
       "      <th></th>\n",
       "      <th></th>\n",
       "      <th></th>\n",
       "      <th></th>\n",
       "      <th></th>\n",
       "      <th></th>\n",
       "      <th></th>\n",
       "      <th></th>\n",
       "      <th></th>\n",
       "      <th></th>\n",
       "      <th></th>\n",
       "      <th></th>\n",
       "      <th></th>\n",
       "      <th></th>\n",
       "      <th></th>\n",
       "      <th></th>\n",
       "      <th></th>\n",
       "    </tr>\n",
       "  </thead>\n",
       "  <tbody>\n",
       "    <tr>\n",
       "      <th>0</th>\n",
       "      <td>11.003509</td>\n",
       "      <td>0.148235</td>\n",
       "      <td>6.792126</td>\n",
       "      <td>47.487719</td>\n",
       "      <td>8.549254</td>\n",
       "      <td>16.396552</td>\n",
       "      <td>0.694527</td>\n",
       "      <td>119.681478</td>\n",
       "      <td>10.568627</td>\n",
       "      <td>6.517647</td>\n",
       "      <td>...</td>\n",
       "      <td>0</td>\n",
       "      <td>11</td>\n",
       "      <td>0</td>\n",
       "      <td>0</td>\n",
       "      <td>101</td>\n",
       "      <td>0</td>\n",
       "      <td>1333</td>\n",
       "      <td>154</td>\n",
       "      <td>117</td>\n",
       "      <td>1355</td>\n",
       "    </tr>\n",
       "    <tr>\n",
       "      <th>1</th>\n",
       "      <td>11.003509</td>\n",
       "      <td>0.148235</td>\n",
       "      <td>7.000000</td>\n",
       "      <td>47.487719</td>\n",
       "      <td>8.549254</td>\n",
       "      <td>16.396552</td>\n",
       "      <td>0.694527</td>\n",
       "      <td>119.681478</td>\n",
       "      <td>10.568627</td>\n",
       "      <td>6.517647</td>\n",
       "      <td>...</td>\n",
       "      <td>0</td>\n",
       "      <td>4</td>\n",
       "      <td>0</td>\n",
       "      <td>0</td>\n",
       "      <td>2407</td>\n",
       "      <td>0</td>\n",
       "      <td>1333</td>\n",
       "      <td>132</td>\n",
       "      <td>2337</td>\n",
       "      <td>1355</td>\n",
       "    </tr>\n",
       "    <tr>\n",
       "      <th>2</th>\n",
       "      <td>11.003509</td>\n",
       "      <td>0.148235</td>\n",
       "      <td>7.000000</td>\n",
       "      <td>47.487719</td>\n",
       "      <td>8.549254</td>\n",
       "      <td>16.396552</td>\n",
       "      <td>0.694527</td>\n",
       "      <td>119.681478</td>\n",
       "      <td>10.568627</td>\n",
       "      <td>6.517647</td>\n",
       "      <td>...</td>\n",
       "      <td>1</td>\n",
       "      <td>0</td>\n",
       "      <td>2</td>\n",
       "      <td>138</td>\n",
       "      <td>277</td>\n",
       "      <td>138</td>\n",
       "      <td>1333</td>\n",
       "      <td>607</td>\n",
       "      <td>211</td>\n",
       "      <td>1355</td>\n",
       "    </tr>\n",
       "    <tr>\n",
       "      <th>3</th>\n",
       "      <td>11.003509</td>\n",
       "      <td>0.148235</td>\n",
       "      <td>7.000000</td>\n",
       "      <td>47.487719</td>\n",
       "      <td>8.549254</td>\n",
       "      <td>16.396552</td>\n",
       "      <td>0.694527</td>\n",
       "      <td>119.681478</td>\n",
       "      <td>10.568627</td>\n",
       "      <td>6.517647</td>\n",
       "      <td>...</td>\n",
       "      <td>1</td>\n",
       "      <td>243</td>\n",
       "      <td>1</td>\n",
       "      <td>4</td>\n",
       "      <td>2407</td>\n",
       "      <td>4</td>\n",
       "      <td>1333</td>\n",
       "      <td>132</td>\n",
       "      <td>2337</td>\n",
       "      <td>1614</td>\n",
       "    </tr>\n",
       "    <tr>\n",
       "      <th>4</th>\n",
       "      <td>11.003509</td>\n",
       "      <td>0.148235</td>\n",
       "      <td>7.000000</td>\n",
       "      <td>47.487719</td>\n",
       "      <td>8.549254</td>\n",
       "      <td>16.396552</td>\n",
       "      <td>0.694527</td>\n",
       "      <td>119.681478</td>\n",
       "      <td>10.568627</td>\n",
       "      <td>6.517647</td>\n",
       "      <td>...</td>\n",
       "      <td>1</td>\n",
       "      <td>39</td>\n",
       "      <td>0</td>\n",
       "      <td>0</td>\n",
       "      <td>2407</td>\n",
       "      <td>0</td>\n",
       "      <td>1333</td>\n",
       "      <td>248</td>\n",
       "      <td>2337</td>\n",
       "      <td>1614</td>\n",
       "    </tr>\n",
       "  </tbody>\n",
       "</table>\n",
       "<p>5 rows × 139 columns</p>\n",
       "</div>"
      ],
      "text/plain": [
       "         Var1      Var4      Var7       Var9     Var11      Var12     Var14  \\\n",
       "ID                                                                            \n",
       "0   11.003509  0.148235  6.792126  47.487719  8.549254  16.396552  0.694527   \n",
       "1   11.003509  0.148235  7.000000  47.487719  8.549254  16.396552  0.694527   \n",
       "2   11.003509  0.148235  7.000000  47.487719  8.549254  16.396552  0.694527   \n",
       "3   11.003509  0.148235  7.000000  47.487719  8.549254  16.396552  0.694527   \n",
       "4   11.003509  0.148235  7.000000  47.487719  8.549254  16.396552  0.694527   \n",
       "\n",
       "         Var16      Var17     Var18   ...    Var214  Var216  Var217  Var220  \\\n",
       "ID                                    ...                                     \n",
       "0   119.681478  10.568627  6.517647   ...         0      11       0       0   \n",
       "1   119.681478  10.568627  6.517647   ...         0       4       0       0   \n",
       "2   119.681478  10.568627  6.517647   ...         1       0       2     138   \n",
       "3   119.681478  10.568627  6.517647   ...         1     243       1       4   \n",
       "4   119.681478  10.568627  6.517647   ...         1      39       0       0   \n",
       "\n",
       "    Var221  Var222  Var225  Var226  Var227  Var229  \n",
       "ID                                                  \n",
       "0      101       0    1333     154     117    1355  \n",
       "1     2407       0    1333     132    2337    1355  \n",
       "2      277     138    1333     607     211    1355  \n",
       "3     2407       4    1333     132    2337    1614  \n",
       "4     2407       0    1333     248    2337    1614  \n",
       "\n",
       "[5 rows x 139 columns]"
      ]
     },
     "execution_count": 54,
     "metadata": {},
     "output_type": "execute_result"
    }
   ],
   "source": [
    "indexes = nums.ix[:, sfm.get_support()]\n",
    "indexes.head()"
   ]
  },
  {
   "cell_type": "code",
   "execution_count": 63,
   "metadata": {
    "collapsed": false
   },
   "outputs": [
    {
     "data": {
      "text/plain": [
       "array([[ 1.        ,  0.        ],\n",
       "       [ 1.        ,  0.        ],\n",
       "       [ 1.        ,  0.        ],\n",
       "       [ 0.16559715,  0.83440285],\n",
       "       [ 1.        ,  0.        ]])"
      ]
     },
     "execution_count": 63,
     "metadata": {},
     "output_type": "execute_result"
    }
   ],
   "source": [
    "to_predict = test_obj[indexes.columns]\n",
    "result = clf.predict_proba(to_predict)\n",
    "result[:5]"
   ]
  },
  {
   "cell_type": "code",
   "execution_count": 64,
   "metadata": {
    "collapsed": true
   },
   "outputs": [],
   "source": [
    "def write_result(result, filename):\n",
    "    churn_probs = [x[1] for x in result]\n",
    "    ids = range(len(churn_probs))\n",
    "    df  = pd.DataFrame(index=ids, data=churn_probs, columns=['result'])\n",
    "    df.to_csv(filename)"
   ]
  },
  {
   "cell_type": "code",
   "execution_count": 65,
   "metadata": {
    "collapsed": true
   },
   "outputs": [],
   "source": [
    "write_result(result, \"result6.csv\")"
   ]
  },
  {
   "cell_type": "code",
   "execution_count": 73,
   "metadata": {
    "collapsed": false
   },
   "outputs": [
    {
     "data": {
      "text/plain": [
       "RandomForestClassifier(bootstrap=True, class_weight={1: 5},\n",
       "            criterion='entropy', max_depth=None, max_features=0.3,\n",
       "            max_leaf_nodes=None, min_impurity_split=1e-07,\n",
       "            min_samples_leaf=20, min_samples_split=2,\n",
       "            min_weight_fraction_leaf=0.0, n_estimators=200, n_jobs=4,\n",
       "            oob_score=False, random_state=2, verbose=0, warm_start=False)"
      ]
     },
     "execution_count": 73,
     "metadata": {},
     "output_type": "execute_result"
    }
   ],
   "source": [
    "clf = RandomForestClassifier( class_weight={1: 5}, criterion='entropy', max_features=0.3, min_samples_leaf=20, n_estimators=200, n_jobs=4, random_state=2)\n",
    "clf.fit(nums, y)"
   ]
  },
  {
   "cell_type": "code",
   "execution_count": 74,
   "metadata": {
    "collapsed": false
   },
   "outputs": [
    {
     "data": {
      "text/plain": [
       "array([[ 1.        ,  0.        ],\n",
       "       [ 1.        ,  0.        ],\n",
       "       [ 1.        ,  0.        ],\n",
       "       [ 0.18781143,  0.81218857],\n",
       "       [ 1.        ,  0.        ]])"
      ]
     },
     "execution_count": 74,
     "metadata": {},
     "output_type": "execute_result"
    }
   ],
   "source": [
    "to_predict = test_obj[nums.columns]\n",
    "result = clf.predict_proba(to_predict)\n",
    "result[:5]"
   ]
  },
  {
   "cell_type": "code",
   "execution_count": 75,
   "metadata": {
    "collapsed": true
   },
   "outputs": [],
   "source": [
    "write_result(result, \"result7.csv\")"
   ]
  }
 ],
 "metadata": {
  "kernelspec": {
   "display_name": "Python 2",
   "language": "python",
   "name": "python2"
  },
  "language_info": {
   "codemirror_mode": {
    "name": "ipython",
    "version": 2
   },
   "file_extension": ".py",
   "mimetype": "text/x-python",
   "name": "python",
   "nbconvert_exporter": "python",
   "pygments_lexer": "ipython2",
   "version": "2.7.11"
  }
 },
 "nbformat": 4,
 "nbformat_minor": 0
}
