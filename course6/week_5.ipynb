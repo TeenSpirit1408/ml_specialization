{
 "cells": [
  {
   "cell_type": "markdown",
   "metadata": {},
   "source": [
    "# Peer-graded Assignment: Эксперименты с моделью\n",
    "\n",
    "На прошлой неделе вы поучаствовали в соревновании на kaggle и, наверняка, большинство успешно справилось с прохождением baseline, а значит пора двигаться дальше - заняться оптимизацией модели, провести серию экспериментов и построить сильное финальное решения.\n",
    "\n",
    "В этом задании вам нужно провести ряд эскпериментов, оценить качество полученных в процессе экспериментирования моделей и выбрать лучшее решение. "
   ]
  },
  {
   "cell_type": "markdown",
   "metadata": {},
   "source": [
    "Задание будет оцениваться на основании загруженного jupyther notebook и развернутых ответов на поставленные вопросы."
   ]
  },
  {
   "cell_type": "markdown",
   "metadata": {},
   "source": [
    "## Инструкции"
   ]
  },
  {
   "cell_type": "markdown",
   "metadata": {},
   "source": [
    "1\\. Начнем с простого. Давайте оценим как много объектов действительно нужно для построения качественной модели. Для обучения доступна достаточно большая выборка и может так оказаться, что начиная с некоторого момента рост размера обучающей выборки перестает влиять на качество модели. Постройте кривые обучения, обучая модель на выборках разного размера начиная с небольшого количество объектов в обучающей выборке и постепенно наращивая её размер с некоторым шагом. Обратите внимание на `sklearn.model_selection.learning_curve`"
   ]
  },
  {
   "cell_type": "code",
   "execution_count": 1,
   "metadata": {
    "collapsed": false
   },
   "outputs": [
    {
     "name": "stderr",
     "output_type": "stream",
     "text": [
      "/home/yury/anaconda2/lib/python2.7/site-packages/sklearn/cross_validation.py:44: DeprecationWarning: This module was deprecated in version 0.18 in favor of the model_selection module into which all the refactored classes and functions are moved. Also note that the interface of the new CV iterators are different from that of this module. This module will be removed in 0.20.\n",
      "  \"This module will be removed in 0.20.\", DeprecationWarning)\n",
      "/home/yury/anaconda2/lib/python2.7/site-packages/sklearn/learning_curve.py:23: DeprecationWarning: This module was deprecated in version 0.18 in favor of the model_selection module into which all the functions are moved. This module will be removed in 0.20\n",
      "  DeprecationWarning)\n"
     ]
    }
   ],
   "source": [
    "import pandas as pd\n",
    "from sklearn import cross_validation, linear_model, metrics, preprocessing, learning_curve"
   ]
  },
  {
   "cell_type": "code",
   "execution_count": 5,
   "metadata": {
    "collapsed": false
   },
   "outputs": [
    {
     "name": "stdout",
     "output_type": "stream",
     "text": [
      "<class 'pandas.core.frame.DataFrame'>\n",
      "Int64Index: 40000 entries, 0 to 39999\n",
      "Columns: 231 entries, Var1 to labels\n",
      "dtypes: float64(191), int64(2), object(38)\n",
      "memory usage: 70.8+ MB\n"
     ]
    }
   ],
   "source": [
    "train = pd.read_csv(\"orange_small_churn_train_data.csv\", index_col='ID')\n",
    "train.info()"
   ]
  },
  {
   "cell_type": "code",
   "execution_count": 6,
   "metadata": {
    "collapsed": false
   },
   "outputs": [
    {
     "data": {
      "text/html": [
       "<div>\n",
       "<table border=\"1\" class=\"dataframe\">\n",
       "  <thead>\n",
       "    <tr style=\"text-align: right;\">\n",
       "      <th></th>\n",
       "      <th>Var1</th>\n",
       "      <th>Var2</th>\n",
       "      <th>Var3</th>\n",
       "      <th>Var4</th>\n",
       "      <th>Var5</th>\n",
       "      <th>Var6</th>\n",
       "      <th>Var7</th>\n",
       "      <th>Var8</th>\n",
       "      <th>Var9</th>\n",
       "      <th>Var10</th>\n",
       "      <th>...</th>\n",
       "      <th>Var181</th>\n",
       "      <th>Var182</th>\n",
       "      <th>Var183</th>\n",
       "      <th>Var184</th>\n",
       "      <th>Var185</th>\n",
       "      <th>Var186</th>\n",
       "      <th>Var187</th>\n",
       "      <th>Var188</th>\n",
       "      <th>Var189</th>\n",
       "      <th>Var190</th>\n",
       "    </tr>\n",
       "    <tr>\n",
       "      <th>ID</th>\n",
       "      <th></th>\n",
       "      <th></th>\n",
       "      <th></th>\n",
       "      <th></th>\n",
       "      <th></th>\n",
       "      <th></th>\n",
       "      <th></th>\n",
       "      <th></th>\n",
       "      <th></th>\n",
       "      <th></th>\n",
       "      <th></th>\n",
       "      <th></th>\n",
       "      <th></th>\n",
       "      <th></th>\n",
       "      <th></th>\n",
       "      <th></th>\n",
       "      <th></th>\n",
       "      <th></th>\n",
       "      <th></th>\n",
       "      <th></th>\n",
       "      <th></th>\n",
       "    </tr>\n",
       "  </thead>\n",
       "  <tbody>\n",
       "    <tr>\n",
       "      <th>0</th>\n",
       "      <td>0</td>\n",
       "      <td>0</td>\n",
       "      <td>0</td>\n",
       "      <td>0</td>\n",
       "      <td>0</td>\n",
       "      <td>3052</td>\n",
       "      <td>0</td>\n",
       "      <td>0</td>\n",
       "      <td>0</td>\n",
       "      <td>0</td>\n",
       "      <td>...</td>\n",
       "      <td>0</td>\n",
       "      <td>0</td>\n",
       "      <td>0</td>\n",
       "      <td>0</td>\n",
       "      <td>0</td>\n",
       "      <td>0</td>\n",
       "      <td>0</td>\n",
       "      <td>0</td>\n",
       "      <td>0</td>\n",
       "      <td>0</td>\n",
       "    </tr>\n",
       "    <tr>\n",
       "      <th>1</th>\n",
       "      <td>0</td>\n",
       "      <td>0</td>\n",
       "      <td>0</td>\n",
       "      <td>0</td>\n",
       "      <td>0</td>\n",
       "      <td>1813</td>\n",
       "      <td>7</td>\n",
       "      <td>0</td>\n",
       "      <td>0</td>\n",
       "      <td>0</td>\n",
       "      <td>...</td>\n",
       "      <td>0</td>\n",
       "      <td>0</td>\n",
       "      <td>0</td>\n",
       "      <td>0</td>\n",
       "      <td>0</td>\n",
       "      <td>0</td>\n",
       "      <td>0</td>\n",
       "      <td>0</td>\n",
       "      <td>276</td>\n",
       "      <td>0</td>\n",
       "    </tr>\n",
       "    <tr>\n",
       "      <th>2</th>\n",
       "      <td>0</td>\n",
       "      <td>0</td>\n",
       "      <td>0</td>\n",
       "      <td>0</td>\n",
       "      <td>0</td>\n",
       "      <td>1953</td>\n",
       "      <td>7</td>\n",
       "      <td>0</td>\n",
       "      <td>0</td>\n",
       "      <td>0</td>\n",
       "      <td>...</td>\n",
       "      <td>0</td>\n",
       "      <td>0</td>\n",
       "      <td>0</td>\n",
       "      <td>0</td>\n",
       "      <td>0</td>\n",
       "      <td>0</td>\n",
       "      <td>0</td>\n",
       "      <td>0</td>\n",
       "      <td>0</td>\n",
       "      <td>0</td>\n",
       "    </tr>\n",
       "    <tr>\n",
       "      <th>3</th>\n",
       "      <td>0</td>\n",
       "      <td>0</td>\n",
       "      <td>0</td>\n",
       "      <td>0</td>\n",
       "      <td>0</td>\n",
       "      <td>1533</td>\n",
       "      <td>7</td>\n",
       "      <td>0</td>\n",
       "      <td>0</td>\n",
       "      <td>0</td>\n",
       "      <td>...</td>\n",
       "      <td>0</td>\n",
       "      <td>0</td>\n",
       "      <td>0</td>\n",
       "      <td>0</td>\n",
       "      <td>0</td>\n",
       "      <td>0</td>\n",
       "      <td>0</td>\n",
       "      <td>0</td>\n",
       "      <td>0</td>\n",
       "      <td>0</td>\n",
       "    </tr>\n",
       "    <tr>\n",
       "      <th>4</th>\n",
       "      <td>0</td>\n",
       "      <td>0</td>\n",
       "      <td>0</td>\n",
       "      <td>0</td>\n",
       "      <td>0</td>\n",
       "      <td>686</td>\n",
       "      <td>7</td>\n",
       "      <td>0</td>\n",
       "      <td>0</td>\n",
       "      <td>0</td>\n",
       "      <td>...</td>\n",
       "      <td>0</td>\n",
       "      <td>0</td>\n",
       "      <td>0</td>\n",
       "      <td>0</td>\n",
       "      <td>0</td>\n",
       "      <td>0</td>\n",
       "      <td>0</td>\n",
       "      <td>0</td>\n",
       "      <td>0</td>\n",
       "      <td>0</td>\n",
       "    </tr>\n",
       "  </tbody>\n",
       "</table>\n",
       "<p>5 rows × 190 columns</p>\n",
       "</div>"
      ],
      "text/plain": [
       "    Var1  Var2  Var3  Var4  Var5  Var6  Var7  Var8  Var9  Var10   ...    \\\n",
       "ID                                                                ...     \n",
       "0      0     0     0     0     0  3052     0     0     0      0   ...     \n",
       "1      0     0     0     0     0  1813     7     0     0      0   ...     \n",
       "2      0     0     0     0     0  1953     7     0     0      0   ...     \n",
       "3      0     0     0     0     0  1533     7     0     0      0   ...     \n",
       "4      0     0     0     0     0   686     7     0     0      0   ...     \n",
       "\n",
       "    Var181  Var182  Var183  Var184  Var185  Var186  Var187  Var188  Var189  \\\n",
       "ID                                                                           \n",
       "0        0       0       0       0       0       0       0       0       0   \n",
       "1        0       0       0       0       0       0       0       0     276   \n",
       "2        0       0       0       0       0       0       0       0       0   \n",
       "3        0       0       0       0       0       0       0       0       0   \n",
       "4        0       0       0       0       0       0       0       0       0   \n",
       "\n",
       "    Var190  \n",
       "ID          \n",
       "0        0  \n",
       "1        0  \n",
       "2        0  \n",
       "3        0  \n",
       "4        0  \n",
       "\n",
       "[5 rows x 190 columns]"
      ]
     },
     "execution_count": 6,
     "metadata": {},
     "output_type": "execute_result"
    }
   ],
   "source": [
    "numbers = train.ix[:, 0:190]\n",
    "numbers.fillna(0, inplace=True)\n",
    "numbers.head()"
   ]
  },
  {
   "cell_type": "code",
   "execution_count": 2,
   "metadata": {
    "collapsed": true
   },
   "outputs": [],
   "source": [
    "from sklearn.ensemble import RandomForestClassifier, GradientBoostingClassifier"
   ]
  },
  {
   "cell_type": "code",
   "execution_count": 7,
   "metadata": {
    "collapsed": false
   },
   "outputs": [],
   "source": [
    "y = train['labels']\n",
    "cv_strategy = cross_validation.StratifiedKFold(y, random_state = 2)\n",
    "estimator = GradientBoostingClassifier(n_estimators=200, random_state=2)"
   ]
  },
  {
   "cell_type": "code",
   "execution_count": 6,
   "metadata": {
    "collapsed": false
   },
   "outputs": [
    {
     "data": {
      "text/plain": [
       "(array([ 2666,  8666, 14666, 20666, 26666]),\n",
       " array([[ 0.98776418,  0.99059038,  0.99059038],\n",
       "        [ 0.89625022,  0.89491308,  0.89491308],\n",
       "        [ 0.85611451,  0.85448738,  0.85454749],\n",
       "        [ 0.83278405,  0.82398897,  0.82889949],\n",
       "        [ 0.82036559,  0.81234926,  0.81444991]]),\n",
       " array([[ 0.64981074,  0.67041122,  0.66886261],\n",
       "        [ 0.68510329,  0.69266109,  0.6949683 ],\n",
       "        [ 0.69814132,  0.70479095,  0.7085126 ],\n",
       "        [ 0.70618807,  0.71331927,  0.71503133],\n",
       "        [ 0.71090716,  0.7163665 ,  0.71943807]]))"
      ]
     },
     "execution_count": 6,
     "metadata": {},
     "output_type": "execute_result"
    }
   ],
   "source": [
    "results = learning_curve.learning_curve(estimator, numbers, y, cv=cv_strategy, n_jobs=4, scoring=metrics.scorer.roc_auc_scorer)\n",
    "results"
   ]
  },
  {
   "cell_type": "code",
   "execution_count": 7,
   "metadata": {
    "collapsed": true
   },
   "outputs": [],
   "source": [
    "import numpy as np"
   ]
  },
  {
   "cell_type": "code",
   "execution_count": 8,
   "metadata": {
    "collapsed": false
   },
   "outputs": [
    {
     "name": "stdout",
     "output_type": "stream",
     "text": [
      "[ 0.98964831  0.8953588   0.85504979  0.8285575   0.81572159]\n",
      "[ 0.66302819  0.6909109   0.70381496  0.71151289  0.71557057]\n"
     ]
    }
   ],
   "source": [
    "train_sizes = results[0]\n",
    "train_scores_mean = np.mean(results[1], axis=1)\n",
    "test_scores_mean = np.mean(results[2], axis=1)\n",
    "print train_scores_mean\n",
    "print test_scores_mean"
   ]
  },
  {
   "cell_type": "code",
   "execution_count": 9,
   "metadata": {
    "collapsed": false
   },
   "outputs": [
    {
     "name": "stdout",
     "output_type": "stream",
     "text": [
      "Populating the interactive namespace from numpy and matplotlib\n"
     ]
    }
   ],
   "source": [
    "%pylab inline"
   ]
  },
  {
   "cell_type": "code",
   "execution_count": 10,
   "metadata": {
    "collapsed": false
   },
   "outputs": [
    {
     "data": {
      "text/plain": [
       "<matplotlib.legend.Legend at 0x7f58b8048810>"
      ]
     },
     "execution_count": 10,
     "metadata": {},
     "output_type": "execute_result"
    },
    {
     "data": {
      "image/png": "[encoded data removed]",
      "text/plain": [
       "<matplotlib.figure.Figure at 0x7f58b8124b50>"
      ]
     },
     "metadata": {},
     "output_type": "display_data"
    }
   ],
   "source": [
    "plt.figure()\n",
    "plt.title(\"learning curve for numbers\")\n",
    "plt.xlabel(\"train sizes\")\n",
    "plt.ylabel(\"Score\")\n",
    "plt.grid()\n",
    "pyplot.plot(train_sizes, train_scores_mean, 'o-', color=\"r\", label=\"Training score\")\n",
    "plt.plot(train_sizes, test_scores_mean, 'o-', color=\"g\", label=\"Cross-validation score\")\n",
    "plt.legend(loc='best')"
   ]
  },
  {
   "cell_type": "markdown",
   "metadata": {},
   "source": [
    "С ростом выборки качество на тесте растет. Так что предполагаем, что все-таки нужны все объекты."
   ]
  },
  {
   "cell_type": "markdown",
   "metadata": {},
   "source": [
    "2\\. Часто несбалансированные по классам выборки приводят к различным проблемам при обучении моделей. Давайте попробуем по-разному обработать выборку, поиграть с распределением объектов по классам и сделать выводы о том, как соотношение классов влияет на качество модели."
   ]
  },
  {
   "cell_type": "markdown",
   "metadata": {},
   "source": [
    "2.1\\. Задайте веса объектам так, чтобы соотношение классов с учетом весов объектов изменилось. Попробуйте не менее трёх различных вариантов весов. Меняются ли результаты классификации? Как это сказывается на качестве модели? Какой вариант выглядит наиболее оптимальным с точки зрения качества?"
   ]
  },
  {
   "cell_type": "code",
   "execution_count": 11,
   "metadata": {
    "collapsed": false
   },
   "outputs": [
    {
     "name": "stderr",
     "output_type": "stream",
     "text": [
      "/home/yury/anaconda2/lib/python2.7/site-packages/sklearn/grid_search.py:43: DeprecationWarning: This module was deprecated in version 0.18 in favor of the model_selection module into which all the refactored classes and functions are moved. This module will be removed in 0.20.\n",
      "  DeprecationWarning)\n"
     ]
    }
   ],
   "source": [
    "from sklearn import grid_search"
   ]
  },
  {
   "cell_type": "code",
   "execution_count": 12,
   "metadata": {
    "collapsed": false
   },
   "outputs": [],
   "source": [
    "clf = RandomForestClassifier(n_estimators=200, random_state=2)\n",
    "params = {\n",
    "    \"class_weight\": [{1: 2}, {1: 5}, {1: 10}, {1: 0.5}]\n",
    "}\n",
    "grid_cv = grid_search.GridSearchCV(clf, params, scoring = metrics.scorer.roc_auc_scorer, cv = cv_strategy, n_jobs=4)"
   ]
  },
  {
   "cell_type": "code",
   "execution_count": 13,
   "metadata": {
    "collapsed": false,
    "scrolled": true
   },
   "outputs": [
    {
     "name": "stdout",
     "output_type": "stream",
     "text": [
      "CPU times: user 19.4 s, sys: 136 ms, total: 19.6 s\n",
      "Wall time: 1min 17s\n"
     ]
    },
    {
     "data": {
      "text/plain": [
       "GridSearchCV(cv=sklearn.cross_validation.StratifiedKFold(labels=[-1 -1 ..., -1 -1], n_folds=3, shuffle=False, random_state=2),\n",
       "       error_score='raise',\n",
       "       estimator=RandomForestClassifier(bootstrap=True, class_weight=None, criterion='gini',\n",
       "            max_depth=None, max_features='auto', max_leaf_nodes=None,\n",
       "            min_impurity_split=1e-07, min_samples_leaf=1,\n",
       "            min_samples_split=2, min_weight_fraction_leaf=0.0,\n",
       "            n_estimators=200, n_jobs=1, oob_score=False, random_state=2,\n",
       "            verbose=0, warm_start=False),\n",
       "       fit_params={}, iid=True, n_jobs=4,\n",
       "       param_grid={'class_weight': [{1: 2}, {1: 5}, {1: 10}, {1: 0.5}]},\n",
       "       pre_dispatch='2*n_jobs', refit=True,\n",
       "       scoring=make_scorer(roc_auc_score, needs_threshold=True), verbose=0)"
      ]
     },
     "execution_count": 13,
     "metadata": {},
     "output_type": "execute_result"
    }
   ],
   "source": [
    "%%time\n",
    "grid_cv.fit(numbers, y)"
   ]
  },
  {
   "cell_type": "code",
   "execution_count": 14,
   "metadata": {
    "collapsed": false
   },
   "outputs": [
    {
     "name": "stdout",
     "output_type": "stream",
     "text": [
      "0.666972752908\n",
      "{'class_weight': {1: 10}}\n"
     ]
    }
   ],
   "source": [
    "print grid_cv.best_score_\n",
    "print grid_cv.best_params_"
   ]
  },
  {
   "cell_type": "code",
   "execution_count": 15,
   "metadata": {
    "collapsed": false
   },
   "outputs": [],
   "source": [
    "params = {\n",
    "    \"class_weight\": [{1: 8}, {1: 10}, {1: 15}, {1: 20}, {1: 50}]\n",
    "}\n",
    "grid_cv = grid_search.GridSearchCV(clf, params, scoring = metrics.scorer.roc_auc_scorer, cv = cv_strategy, n_jobs=4)"
   ]
  },
  {
   "cell_type": "code",
   "execution_count": 16,
   "metadata": {
    "collapsed": false
   },
   "outputs": [
    {
     "name": "stdout",
     "output_type": "stream",
     "text": [
      "CPU times: user 22.6 s, sys: 148 ms, total: 22.7 s\n",
      "Wall time: 1min 35s\n"
     ]
    },
    {
     "data": {
      "text/plain": [
       "GridSearchCV(cv=sklearn.cross_validation.StratifiedKFold(labels=[-1 -1 ..., -1 -1], n_folds=3, shuffle=False, random_state=2),\n",
       "       error_score='raise',\n",
       "       estimator=RandomForestClassifier(bootstrap=True, class_weight=None, criterion='gini',\n",
       "            max_depth=None, max_features='auto', max_leaf_nodes=None,\n",
       "            min_impurity_split=1e-07, min_samples_leaf=1,\n",
       "            min_samples_split=2, min_weight_fraction_leaf=0.0,\n",
       "            n_estimators=200, n_jobs=1, oob_score=False, random_state=2,\n",
       "            verbose=0, warm_start=False),\n",
       "       fit_params={}, iid=True, n_jobs=4,\n",
       "       param_grid={'class_weight': [{1: 8}, {1: 10}, {1: 15}, {1: 20}, {1: 50}]},\n",
       "       pre_dispatch='2*n_jobs', refit=True,\n",
       "       scoring=make_scorer(roc_auc_score, needs_threshold=True), verbose=0)"
      ]
     },
     "execution_count": 16,
     "metadata": {},
     "output_type": "execute_result"
    }
   ],
   "source": [
    "%%time\n",
    "grid_cv.fit(numbers, y)"
   ]
  },
  {
   "cell_type": "code",
   "execution_count": 17,
   "metadata": {
    "collapsed": false
   },
   "outputs": [
    {
     "name": "stdout",
     "output_type": "stream",
     "text": [
      "0.672554789501\n",
      "{'class_weight': {1: 50}}\n"
     ]
    }
   ],
   "source": [
    "print grid_cv.best_score_\n",
    "print grid_cv.best_params_"
   ]
  },
  {
   "cell_type": "code",
   "execution_count": 18,
   "metadata": {
    "collapsed": true
   },
   "outputs": [],
   "source": [
    "params = {\n",
    "    \"class_weight\": [{1: 40}, {1: 50}, {1: 70}, {1: 100}, {1:200}]\n",
    "}\n",
    "grid_cv = grid_search.GridSearchCV(clf, params, scoring = metrics.scorer.roc_auc_scorer, cv = cv_strategy, n_jobs=4)"
   ]
  },
  {
   "cell_type": "code",
   "execution_count": 19,
   "metadata": {
    "collapsed": false
   },
   "outputs": [
    {
     "name": "stdout",
     "output_type": "stream",
     "text": [
      "CPU times: user 21.5 s, sys: 136 ms, total: 21.6 s\n",
      "Wall time: 1min 55s\n"
     ]
    },
    {
     "data": {
      "text/plain": [
       "GridSearchCV(cv=sklearn.cross_validation.StratifiedKFold(labels=[-1 -1 ..., -1 -1], n_folds=3, shuffle=False, random_state=2),\n",
       "       error_score='raise',\n",
       "       estimator=RandomForestClassifier(bootstrap=True, class_weight=None, criterion='gini',\n",
       "            max_depth=None, max_features='auto', max_leaf_nodes=None,\n",
       "            min_impurity_split=1e-07, min_samples_leaf=1,\n",
       "            min_samples_split=2, min_weight_fraction_leaf=0.0,\n",
       "            n_estimators=200, n_jobs=1, oob_score=False, random_state=2,\n",
       "            verbose=0, warm_start=False),\n",
       "       fit_params={}, iid=True, n_jobs=4,\n",
       "       param_grid={'class_weight': [{1: 40}, {1: 50}, {1: 70}, {1: 100}, {1: 200}]},\n",
       "       pre_dispatch='2*n_jobs', refit=True,\n",
       "       scoring=make_scorer(roc_auc_score, needs_threshold=True), verbose=0)"
      ]
     },
     "execution_count": 19,
     "metadata": {},
     "output_type": "execute_result"
    }
   ],
   "source": [
    "%%time\n",
    "grid_cv.fit(numbers, y)"
   ]
  },
  {
   "cell_type": "code",
   "execution_count": 20,
   "metadata": {
    "collapsed": false,
    "scrolled": true
   },
   "outputs": [
    {
     "name": "stdout",
     "output_type": "stream",
     "text": [
      "0.672904964237\n",
      "{'class_weight': {1: 40}}\n"
     ]
    }
   ],
   "source": [
    "print grid_cv.best_score_\n",
    "print grid_cv.best_params_"
   ]
  },
  {
   "cell_type": "code",
   "execution_count": 21,
   "metadata": {
    "collapsed": true
   },
   "outputs": [],
   "source": [
    "params = {\n",
    "    \"class_weight\": [{1: 40}, {1: 30}, {1: 20}, 'balanced']\n",
    "}\n",
    "grid_cv = grid_search.GridSearchCV(clf, params, scoring = metrics.scorer.roc_auc_scorer, cv = cv_strategy, n_jobs=4)"
   ]
  },
  {
   "cell_type": "code",
   "execution_count": 22,
   "metadata": {
    "collapsed": false
   },
   "outputs": [
    {
     "name": "stdout",
     "output_type": "stream",
     "text": [
      "CPU times: user 21.3 s, sys: 184 ms, total: 21.4 s\n",
      "Wall time: 1min 15s\n"
     ]
    },
    {
     "data": {
      "text/plain": [
       "GridSearchCV(cv=sklearn.cross_validation.StratifiedKFold(labels=[-1 -1 ..., -1 -1], n_folds=3, shuffle=False, random_state=2),\n",
       "       error_score='raise',\n",
       "       estimator=RandomForestClassifier(bootstrap=True, class_weight=None, criterion='gini',\n",
       "            max_depth=None, max_features='auto', max_leaf_nodes=None,\n",
       "            min_impurity_split=1e-07, min_samples_leaf=1,\n",
       "            min_samples_split=2, min_weight_fraction_leaf=0.0,\n",
       "            n_estimators=200, n_jobs=1, oob_score=False, random_state=2,\n",
       "            verbose=0, warm_start=False),\n",
       "       fit_params={}, iid=True, n_jobs=4,\n",
       "       param_grid={'class_weight': [{1: 40}, {1: 30}, {1: 20}, 'balanced']},\n",
       "       pre_dispatch='2*n_jobs', refit=True,\n",
       "       scoring=make_scorer(roc_auc_score, needs_threshold=True), verbose=0)"
      ]
     },
     "execution_count": 22,
     "metadata": {},
     "output_type": "execute_result"
    }
   ],
   "source": [
    "%%time\n",
    "grid_cv.fit(numbers, y)"
   ]
  },
  {
   "cell_type": "code",
   "execution_count": 23,
   "metadata": {
    "collapsed": false
   },
   "outputs": [
    {
     "name": "stdout",
     "output_type": "stream",
     "text": [
      "0.672904964237\n",
      "{'class_weight': {1: 40}}\n"
     ]
    }
   ],
   "source": [
    "print grid_cv.best_score_\n",
    "print grid_cv.best_params_"
   ]
  },
  {
   "cell_type": "markdown",
   "metadata": {},
   "source": [
    "Видим, что результаты немного меняются, наилучший вес в районе 40."
   ]
  },
  {
   "cell_type": "markdown",
   "metadata": {},
   "source": [
    "2.2\\. Примените к выборке технологию undersampling: для этого нужно убрать из обучения некоторое количество объектов большего класса таким образом, чтобы соотношение классов изменилось. Попробуйте не менее трёх различных вариантов undersampling (варианты могут отличаться как по количество отфильтрованных объектов, так и по принципу выборка объектов для отсеивания из выборки). Меняются ли результаты классификации? Как это сказывается на качестве модели? Какой вариант выглядит наиболее оптимальным с точки зрения качества?"
   ]
  },
  {
   "cell_type": "code",
   "execution_count": 24,
   "metadata": {
    "collapsed": false
   },
   "outputs": [
    {
     "name": "stdout",
     "output_type": "stream",
     "text": [
      "Processing ./imbalanced-learn-0.1.9\n",
      "  Requirement already satisfied (use --upgrade to upgrade): imbalanced-learn==0.1.9 from file:///home/yury/diplom/ml_specialization/course6/imbalanced-learn-0.1.9 in /home/yury/anaconda2/lib/python2.7/site-packages\n",
      "Requirement already satisfied (use --upgrade to upgrade): scipy>=0.17.0 in /home/yury/anaconda2/lib/python2.7/site-packages (from imbalanced-learn==0.1.9)\n",
      "Requirement already satisfied (use --upgrade to upgrade): numpy>=1.10.4 in /home/yury/anaconda2/lib/python2.7/site-packages (from imbalanced-learn==0.1.9)\n",
      "Requirement already satisfied (use --upgrade to upgrade): scikit-learn>=0.17.1 in /home/yury/anaconda2/lib/python2.7/site-packages (from imbalanced-learn==0.1.9)\n",
      "Building wheels for collected packages: imbalanced-learn\n",
      "  Running setup.py bdist_wheel for imbalanced-learn ... \u001b[?25l-\b \bdone\n",
      "\u001b[?25h  Stored in directory: /home/yury/.cache/pip/wheels/52/5c/2d/3994e4c7e0121638d04915a299e45c8debefee6ef89876e881\n",
      "Successfully built imbalanced-learn\n",
      "\u001b[33mYou are using pip version 8.0.2, however version 9.0.1 is available.\n",
      "You should consider upgrading via the 'pip install --upgrade pip' command.\u001b[0m\n"
     ]
    }
   ],
   "source": [
    "!pip install ./imbalanced-learn-0.1.9/"
   ]
  },
  {
   "cell_type": "code",
   "execution_count": 11,
   "metadata": {
    "collapsed": true
   },
   "outputs": [],
   "source": [
    "from imblearn import under_sampling as us"
   ]
  },
  {
   "cell_type": "code",
   "execution_count": 26,
   "metadata": {
    "collapsed": false
   },
   "outputs": [
    {
     "data": {
      "text/plain": [
       "(5952, 5952)"
      ]
     },
     "execution_count": 26,
     "metadata": {},
     "output_type": "execute_result"
    }
   ],
   "source": [
    "sampler = us.RandomUnderSampler(random_state=10)\n",
    "X_res, y_res = sampler.fit_sample(numbers, y)\n",
    "(len(X_res), len(y_res))"
   ]
  },
  {
   "cell_type": "code",
   "execution_count": 27,
   "metadata": {
    "collapsed": false
   },
   "outputs": [
    {
     "data": {
      "text/plain": [
       "0.7075618726695283"
      ]
     },
     "execution_count": 27,
     "metadata": {},
     "output_type": "execute_result"
    }
   ],
   "source": [
    "clf = GradientBoostingClassifier(n_estimators=200, random_state=2)\n",
    "forest_scoring = cross_validation.cross_val_score(clf, X_res, y_res, scoring = metrics.scorer.roc_auc_scorer)\n",
    "forest_scoring.mean()"
   ]
  },
  {
   "cell_type": "code",
   "execution_count": 28,
   "metadata": {
    "collapsed": false
   },
   "outputs": [
    {
     "name": "stderr",
     "output_type": "stream",
     "text": [
      "/home/yury/anaconda2/lib/python2.7/site-packages/imblearn/under_sampling/nearmiss.py:161: UserWarning: The number of the samples to be selected is larger than the number of samples available. The balancing ratio cannot be ensure and all samples will be returned.\n",
      "  warnings.warn('The number of the samples to be selected is larger than'\n"
     ]
    },
    {
     "data": {
      "text/plain": [
       "(5952, 5952)"
      ]
     },
     "execution_count": 28,
     "metadata": {},
     "output_type": "execute_result"
    }
   ],
   "source": [
    "sampler = us.NearMiss(random_state=10)\n",
    "X_res1, y_res1 = sampler.fit_sample(numbers, y)\n",
    "(len(X_res1), len(y_res1))"
   ]
  },
  {
   "cell_type": "code",
   "execution_count": 29,
   "metadata": {
    "collapsed": false,
    "scrolled": true
   },
   "outputs": [
    {
     "data": {
      "text/plain": [
       "0.94468466143123475"
      ]
     },
     "execution_count": 29,
     "metadata": {},
     "output_type": "execute_result"
    }
   ],
   "source": [
    "clf = GradientBoostingClassifier(n_estimators=200, random_state=2)\n",
    "forest_scoring = cross_validation.cross_val_score(clf, X_res1, y_res1, scoring = metrics.scorer.roc_auc_scorer)\n",
    "forest_scoring.mean()"
   ]
  },
  {
   "cell_type": "markdown",
   "metadata": {},
   "source": [
    "Очень хорошее качество на кроссвалидации, попробуем проверить на тестовых данных через каггл."
   ]
  },
  {
   "cell_type": "code",
   "execution_count": 30,
   "metadata": {
    "collapsed": false
   },
   "outputs": [
    {
     "data": {
      "text/html": [
       "<div>\n",
       "<table border=\"1\" class=\"dataframe\">\n",
       "  <thead>\n",
       "    <tr style=\"text-align: right;\">\n",
       "      <th></th>\n",
       "      <th>Var1</th>\n",
       "      <th>Var2</th>\n",
       "      <th>Var3</th>\n",
       "      <th>Var4</th>\n",
       "      <th>Var5</th>\n",
       "      <th>Var6</th>\n",
       "      <th>Var7</th>\n",
       "      <th>Var8</th>\n",
       "      <th>Var9</th>\n",
       "      <th>Var10</th>\n",
       "      <th>...</th>\n",
       "      <th>Var181</th>\n",
       "      <th>Var182</th>\n",
       "      <th>Var183</th>\n",
       "      <th>Var184</th>\n",
       "      <th>Var185</th>\n",
       "      <th>Var186</th>\n",
       "      <th>Var187</th>\n",
       "      <th>Var188</th>\n",
       "      <th>Var189</th>\n",
       "      <th>Var190</th>\n",
       "    </tr>\n",
       "    <tr>\n",
       "      <th>ID</th>\n",
       "      <th></th>\n",
       "      <th></th>\n",
       "      <th></th>\n",
       "      <th></th>\n",
       "      <th></th>\n",
       "      <th></th>\n",
       "      <th></th>\n",
       "      <th></th>\n",
       "      <th></th>\n",
       "      <th></th>\n",
       "      <th></th>\n",
       "      <th></th>\n",
       "      <th></th>\n",
       "      <th></th>\n",
       "      <th></th>\n",
       "      <th></th>\n",
       "      <th></th>\n",
       "      <th></th>\n",
       "      <th></th>\n",
       "      <th></th>\n",
       "      <th></th>\n",
       "    </tr>\n",
       "  </thead>\n",
       "  <tbody>\n",
       "    <tr>\n",
       "      <th>0</th>\n",
       "      <td>0</td>\n",
       "      <td>0</td>\n",
       "      <td>0</td>\n",
       "      <td>0</td>\n",
       "      <td>0</td>\n",
       "      <td>1225</td>\n",
       "      <td>7</td>\n",
       "      <td>0</td>\n",
       "      <td>0</td>\n",
       "      <td>0</td>\n",
       "      <td>...</td>\n",
       "      <td>0</td>\n",
       "      <td>0</td>\n",
       "      <td>0</td>\n",
       "      <td>0</td>\n",
       "      <td>0</td>\n",
       "      <td>0</td>\n",
       "      <td>0</td>\n",
       "      <td>0</td>\n",
       "      <td>0</td>\n",
       "      <td>0</td>\n",
       "    </tr>\n",
       "    <tr>\n",
       "      <th>1</th>\n",
       "      <td>0</td>\n",
       "      <td>0</td>\n",
       "      <td>0</td>\n",
       "      <td>0</td>\n",
       "      <td>0</td>\n",
       "      <td>896</td>\n",
       "      <td>14</td>\n",
       "      <td>0</td>\n",
       "      <td>0</td>\n",
       "      <td>0</td>\n",
       "      <td>...</td>\n",
       "      <td>0</td>\n",
       "      <td>0</td>\n",
       "      <td>0</td>\n",
       "      <td>0</td>\n",
       "      <td>0</td>\n",
       "      <td>0</td>\n",
       "      <td>0</td>\n",
       "      <td>0</td>\n",
       "      <td>0</td>\n",
       "      <td>0</td>\n",
       "    </tr>\n",
       "    <tr>\n",
       "      <th>2</th>\n",
       "      <td>0</td>\n",
       "      <td>0</td>\n",
       "      <td>0</td>\n",
       "      <td>0</td>\n",
       "      <td>0</td>\n",
       "      <td>791</td>\n",
       "      <td>7</td>\n",
       "      <td>0</td>\n",
       "      <td>0</td>\n",
       "      <td>0</td>\n",
       "      <td>...</td>\n",
       "      <td>14</td>\n",
       "      <td>0</td>\n",
       "      <td>0</td>\n",
       "      <td>0</td>\n",
       "      <td>0</td>\n",
       "      <td>0</td>\n",
       "      <td>0</td>\n",
       "      <td>0</td>\n",
       "      <td>0</td>\n",
       "      <td>0</td>\n",
       "    </tr>\n",
       "    <tr>\n",
       "      <th>3</th>\n",
       "      <td>0</td>\n",
       "      <td>0</td>\n",
       "      <td>0</td>\n",
       "      <td>0</td>\n",
       "      <td>0</td>\n",
       "      <td>2296</td>\n",
       "      <td>7</td>\n",
       "      <td>0</td>\n",
       "      <td>0</td>\n",
       "      <td>0</td>\n",
       "      <td>...</td>\n",
       "      <td>0</td>\n",
       "      <td>0</td>\n",
       "      <td>0</td>\n",
       "      <td>0</td>\n",
       "      <td>0</td>\n",
       "      <td>0</td>\n",
       "      <td>0</td>\n",
       "      <td>0</td>\n",
       "      <td>0</td>\n",
       "      <td>0</td>\n",
       "    </tr>\n",
       "    <tr>\n",
       "      <th>4</th>\n",
       "      <td>8</td>\n",
       "      <td>0</td>\n",
       "      <td>0</td>\n",
       "      <td>0</td>\n",
       "      <td>0</td>\n",
       "      <td>0</td>\n",
       "      <td>0</td>\n",
       "      <td>0</td>\n",
       "      <td>28</td>\n",
       "      <td>0</td>\n",
       "      <td>...</td>\n",
       "      <td>0</td>\n",
       "      <td>0</td>\n",
       "      <td>0</td>\n",
       "      <td>0</td>\n",
       "      <td>0</td>\n",
       "      <td>0</td>\n",
       "      <td>2</td>\n",
       "      <td>0</td>\n",
       "      <td>0</td>\n",
       "      <td>0</td>\n",
       "    </tr>\n",
       "  </tbody>\n",
       "</table>\n",
       "<p>5 rows × 190 columns</p>\n",
       "</div>"
      ],
      "text/plain": [
       "    Var1  Var2  Var3  Var4  Var5  Var6  Var7  Var8  Var9  Var10   ...    \\\n",
       "ID                                                                ...     \n",
       "0      0     0     0     0     0  1225     7     0     0      0   ...     \n",
       "1      0     0     0     0     0   896    14     0     0      0   ...     \n",
       "2      0     0     0     0     0   791     7     0     0      0   ...     \n",
       "3      0     0     0     0     0  2296     7     0     0      0   ...     \n",
       "4      8     0     0     0     0     0     0     0    28      0   ...     \n",
       "\n",
       "    Var181  Var182  Var183  Var184  Var185  Var186  Var187  Var188  Var189  \\\n",
       "ID                                                                           \n",
       "0        0       0       0       0       0       0       0       0       0   \n",
       "1        0       0       0       0       0       0       0       0       0   \n",
       "2       14       0       0       0       0       0       0       0       0   \n",
       "3        0       0       0       0       0       0       0       0       0   \n",
       "4        0       0       0       0       0       0       2       0       0   \n",
       "\n",
       "    Var190  \n",
       "ID          \n",
       "0        0  \n",
       "1        0  \n",
       "2        0  \n",
       "3        0  \n",
       "4        0  \n",
       "\n",
       "[5 rows x 190 columns]"
      ]
     },
     "execution_count": 30,
     "metadata": {},
     "output_type": "execute_result"
    }
   ],
   "source": [
    "test = pd.read_csv(\"orange_small_churn_test_data.csv\", index_col='ID')\n",
    "test_numbers = test.ix[:, 0:190]\n",
    "test_numbers.fillna(0, inplace=True)\n",
    "test_numbers.head()"
   ]
  },
  {
   "cell_type": "code",
   "execution_count": 31,
   "metadata": {
    "collapsed": false
   },
   "outputs": [
    {
     "data": {
      "text/plain": [
       "array([[ 0.0033756 ,  0.9966244 ],\n",
       "       [ 0.00497785,  0.99502215],\n",
       "       [ 0.00485268,  0.99514732],\n",
       "       [ 0.00153335,  0.99846665],\n",
       "       [ 0.01353146,  0.98646854]])"
      ]
     },
     "execution_count": 31,
     "metadata": {},
     "output_type": "execute_result"
    }
   ],
   "source": [
    "clf.fit(X_res1, y_res1)\n",
    "result = clf.predict_proba(test_numbers)\n",
    "result[:5]"
   ]
  },
  {
   "cell_type": "code",
   "execution_count": 32,
   "metadata": {
    "collapsed": true
   },
   "outputs": [],
   "source": [
    "def write_result(result, filename):\n",
    "    churn_probs = [x[1] for x in result]\n",
    "    ids = range(len(churn_probs))\n",
    "    df = pd.DataFrame(index=ids, data=churn_probs, columns=['result'])\n",
    "    df.to_csv(filename)"
   ]
  },
  {
   "cell_type": "code",
   "execution_count": 33,
   "metadata": {
    "collapsed": true
   },
   "outputs": [],
   "source": [
    "write_result(result, \"result5.csv\")"
   ]
  },
  {
   "cell_type": "markdown",
   "metadata": {},
   "source": [
    "Очки: 5.2 - довольно низкое качество, видимо это переобучение. Попробуем еще способ."
   ]
  },
  {
   "cell_type": "code",
   "execution_count": 34,
   "metadata": {
    "collapsed": false
   },
   "outputs": [
    {
     "data": {
      "text/plain": [
       "(5952, 5952)"
      ]
     },
     "execution_count": 34,
     "metadata": {},
     "output_type": "execute_result"
    }
   ],
   "source": [
    "sampler = us.ClusterCentroids(random_state=10)\n",
    "X_res2, y_res2= sampler.fit_sample(numbers, y)\n",
    "(len(X_res2), len(y_res2))"
   ]
  },
  {
   "cell_type": "code",
   "execution_count": 35,
   "metadata": {
    "collapsed": false
   },
   "outputs": [
    {
     "data": {
      "text/plain": [
       "0.98849363456035377"
      ]
     },
     "execution_count": 35,
     "metadata": {},
     "output_type": "execute_result"
    }
   ],
   "source": [
    "clf = GradientBoostingClassifier(n_estimators=200, random_state=2)\n",
    "forest_scoring = cross_validation.cross_val_score(clf, X_res2, y_res2, scoring = metrics.scorer.roc_auc_scorer)\n",
    "forest_scoring.mean()"
   ]
  },
  {
   "cell_type": "markdown",
   "metadata": {},
   "source": [
    "качество еще выше, скорее всего переобучение еще сильнее."
   ]
  },
  {
   "cell_type": "markdown",
   "metadata": {},
   "source": [
    "3\\. Теперь перейдем к работе с признаками. Ранее вы реализовали несколько стратегий для обработки пропущенных значений. Сравните эти стратегии между собой с помощью оценки качества моделей кросс-валидации, построенных на датасетах с использованием различных стратегий. Как обработка пропущенных значений сказывается на качестве модели? Какой вариант выглядит наиболее оптимальным с точки зрения качества?"
   ]
  },
  {
   "cell_type": "code",
   "execution_count": 36,
   "metadata": {
    "collapsed": false
   },
   "outputs": [
    {
     "data": {
      "text/plain": [
       "0.71555704093979922"
      ]
     },
     "execution_count": 36,
     "metadata": {},
     "output_type": "execute_result"
    }
   ],
   "source": [
    "#вариант с заполнением нулями - numbers, запишем кросс-валидацию\n",
    "clf = GradientBoostingClassifier(n_estimators=200, random_state=2)\n",
    "forest_scoring = cross_validation.cross_val_score(clf, numbers, y, scoring = metrics.scorer.roc_auc_scorer)\n",
    "forest_scoring.mean()"
   ]
  },
  {
   "cell_type": "code",
   "execution_count": 37,
   "metadata": {
    "collapsed": false
   },
   "outputs": [
    {
     "data": {
      "text/plain": [
       "0.65673382331382513"
      ]
     },
     "execution_count": 37,
     "metadata": {},
     "output_type": "execute_result"
    }
   ],
   "source": [
    "#проставляем предыдущее значение c помощью следующего\n",
    "miss_fill1 = pd.read_csv(\"orange_small_churn_train_data.csv\", index_col='ID').ix[:, 0:190]\n",
    "miss_fill1.fillna(method='bfill', inplace=True)\n",
    "miss_fill1.dropna(axis=1, inplace=True)\n",
    "\n",
    "clf = GradientBoostingClassifier(n_estimators=200, random_state=2)\n",
    "forest_scoring = cross_validation.cross_val_score(clf, miss_fill1, y, scoring = metrics.scorer.roc_auc_scorer)\n",
    "forest_scoring.mean()"
   ]
  },
  {
   "cell_type": "code",
   "execution_count": 38,
   "metadata": {
    "collapsed": false,
    "scrolled": true
   },
   "outputs": [
    {
     "data": {
      "text/html": [
       "<div>\n",
       "<table border=\"1\" class=\"dataframe\">\n",
       "  <thead>\n",
       "    <tr style=\"text-align: right;\">\n",
       "      <th></th>\n",
       "      <th>Var1</th>\n",
       "      <th>Var2</th>\n",
       "      <th>Var3</th>\n",
       "      <th>Var4</th>\n",
       "      <th>Var5</th>\n",
       "      <th>Var6</th>\n",
       "      <th>Var7</th>\n",
       "      <th>Var8</th>\n",
       "      <th>Var9</th>\n",
       "      <th>Var10</th>\n",
       "      <th>...</th>\n",
       "      <th>Var181</th>\n",
       "      <th>Var182</th>\n",
       "      <th>Var183</th>\n",
       "      <th>Var184</th>\n",
       "      <th>Var185</th>\n",
       "      <th>Var186</th>\n",
       "      <th>Var187</th>\n",
       "      <th>Var188</th>\n",
       "      <th>Var189</th>\n",
       "      <th>Var190</th>\n",
       "    </tr>\n",
       "    <tr>\n",
       "      <th>ID</th>\n",
       "      <th></th>\n",
       "      <th></th>\n",
       "      <th></th>\n",
       "      <th></th>\n",
       "      <th></th>\n",
       "      <th></th>\n",
       "      <th></th>\n",
       "      <th></th>\n",
       "      <th></th>\n",
       "      <th></th>\n",
       "      <th></th>\n",
       "      <th></th>\n",
       "      <th></th>\n",
       "      <th></th>\n",
       "      <th></th>\n",
       "      <th></th>\n",
       "      <th></th>\n",
       "      <th></th>\n",
       "      <th></th>\n",
       "      <th></th>\n",
       "      <th></th>\n",
       "    </tr>\n",
       "  </thead>\n",
       "  <tbody>\n",
       "    <tr>\n",
       "      <th>0</th>\n",
       "      <td>11.003509</td>\n",
       "      <td>0.00497</td>\n",
       "      <td>429.328358</td>\n",
       "      <td>0.148235</td>\n",
       "      <td>249055.515021</td>\n",
       "      <td>3052</td>\n",
       "      <td>6.792126</td>\n",
       "      <td>NaN</td>\n",
       "      <td>47.487719</td>\n",
       "      <td>381346.56309</td>\n",
       "      <td>...</td>\n",
       "      <td>0</td>\n",
       "      <td>1401428.414118</td>\n",
       "      <td>80676.574553</td>\n",
       "      <td>7.419483</td>\n",
       "      <td>NaN</td>\n",
       "      <td>3.515789</td>\n",
       "      <td>16.05614</td>\n",
       "      <td>165.10831</td>\n",
       "      <td>270.585523</td>\n",
       "      <td>22637.159019</td>\n",
       "    </tr>\n",
       "    <tr>\n",
       "      <th>1</th>\n",
       "      <td>11.003509</td>\n",
       "      <td>0.00497</td>\n",
       "      <td>429.328358</td>\n",
       "      <td>0.148235</td>\n",
       "      <td>249055.515021</td>\n",
       "      <td>1813</td>\n",
       "      <td>7.000000</td>\n",
       "      <td>NaN</td>\n",
       "      <td>47.487719</td>\n",
       "      <td>381346.56309</td>\n",
       "      <td>...</td>\n",
       "      <td>0</td>\n",
       "      <td>1401428.414118</td>\n",
       "      <td>80676.574553</td>\n",
       "      <td>7.419483</td>\n",
       "      <td>NaN</td>\n",
       "      <td>3.515789</td>\n",
       "      <td>16.05614</td>\n",
       "      <td>165.10831</td>\n",
       "      <td>276.000000</td>\n",
       "      <td>22637.159019</td>\n",
       "    </tr>\n",
       "    <tr>\n",
       "      <th>2</th>\n",
       "      <td>11.003509</td>\n",
       "      <td>0.00497</td>\n",
       "      <td>429.328358</td>\n",
       "      <td>0.148235</td>\n",
       "      <td>249055.515021</td>\n",
       "      <td>1953</td>\n",
       "      <td>7.000000</td>\n",
       "      <td>NaN</td>\n",
       "      <td>47.487719</td>\n",
       "      <td>381346.56309</td>\n",
       "      <td>...</td>\n",
       "      <td>0</td>\n",
       "      <td>1401428.414118</td>\n",
       "      <td>80676.574553</td>\n",
       "      <td>7.419483</td>\n",
       "      <td>NaN</td>\n",
       "      <td>3.515789</td>\n",
       "      <td>16.05614</td>\n",
       "      <td>165.10831</td>\n",
       "      <td>270.585523</td>\n",
       "      <td>22637.159019</td>\n",
       "    </tr>\n",
       "    <tr>\n",
       "      <th>3</th>\n",
       "      <td>11.003509</td>\n",
       "      <td>0.00497</td>\n",
       "      <td>429.328358</td>\n",
       "      <td>0.148235</td>\n",
       "      <td>249055.515021</td>\n",
       "      <td>1533</td>\n",
       "      <td>7.000000</td>\n",
       "      <td>NaN</td>\n",
       "      <td>47.487719</td>\n",
       "      <td>381346.56309</td>\n",
       "      <td>...</td>\n",
       "      <td>0</td>\n",
       "      <td>1401428.414118</td>\n",
       "      <td>80676.574553</td>\n",
       "      <td>7.419483</td>\n",
       "      <td>NaN</td>\n",
       "      <td>3.515789</td>\n",
       "      <td>16.05614</td>\n",
       "      <td>165.10831</td>\n",
       "      <td>270.585523</td>\n",
       "      <td>22637.159019</td>\n",
       "    </tr>\n",
       "    <tr>\n",
       "      <th>4</th>\n",
       "      <td>11.003509</td>\n",
       "      <td>0.00497</td>\n",
       "      <td>429.328358</td>\n",
       "      <td>0.148235</td>\n",
       "      <td>249055.515021</td>\n",
       "      <td>686</td>\n",
       "      <td>7.000000</td>\n",
       "      <td>NaN</td>\n",
       "      <td>47.487719</td>\n",
       "      <td>381346.56309</td>\n",
       "      <td>...</td>\n",
       "      <td>0</td>\n",
       "      <td>1401428.414118</td>\n",
       "      <td>80676.574553</td>\n",
       "      <td>7.419483</td>\n",
       "      <td>NaN</td>\n",
       "      <td>3.515789</td>\n",
       "      <td>16.05614</td>\n",
       "      <td>165.10831</td>\n",
       "      <td>270.585523</td>\n",
       "      <td>22637.159019</td>\n",
       "    </tr>\n",
       "  </tbody>\n",
       "</table>\n",
       "<p>5 rows × 190 columns</p>\n",
       "</div>"
      ],
      "text/plain": [
       "         Var1     Var2        Var3      Var4           Var5  Var6      Var7  \\\n",
       "ID                                                                            \n",
       "0   11.003509  0.00497  429.328358  0.148235  249055.515021  3052  6.792126   \n",
       "1   11.003509  0.00497  429.328358  0.148235  249055.515021  1813  7.000000   \n",
       "2   11.003509  0.00497  429.328358  0.148235  249055.515021  1953  7.000000   \n",
       "3   11.003509  0.00497  429.328358  0.148235  249055.515021  1533  7.000000   \n",
       "4   11.003509  0.00497  429.328358  0.148235  249055.515021   686  7.000000   \n",
       "\n",
       "    Var8       Var9         Var10      ...       Var181          Var182  \\\n",
       "ID                                     ...                                \n",
       "0    NaN  47.487719  381346.56309      ...            0  1401428.414118   \n",
       "1    NaN  47.487719  381346.56309      ...            0  1401428.414118   \n",
       "2    NaN  47.487719  381346.56309      ...            0  1401428.414118   \n",
       "3    NaN  47.487719  381346.56309      ...            0  1401428.414118   \n",
       "4    NaN  47.487719  381346.56309      ...            0  1401428.414118   \n",
       "\n",
       "          Var183    Var184  Var185    Var186    Var187     Var188      Var189  \\\n",
       "ID                                                                              \n",
       "0   80676.574553  7.419483     NaN  3.515789  16.05614  165.10831  270.585523   \n",
       "1   80676.574553  7.419483     NaN  3.515789  16.05614  165.10831  276.000000   \n",
       "2   80676.574553  7.419483     NaN  3.515789  16.05614  165.10831  270.585523   \n",
       "3   80676.574553  7.419483     NaN  3.515789  16.05614  165.10831  270.585523   \n",
       "4   80676.574553  7.419483     NaN  3.515789  16.05614  165.10831  270.585523   \n",
       "\n",
       "          Var190  \n",
       "ID                \n",
       "0   22637.159019  \n",
       "1   22637.159019  \n",
       "2   22637.159019  \n",
       "3   22637.159019  \n",
       "4   22637.159019  \n",
       "\n",
       "[5 rows x 190 columns]"
      ]
     },
     "execution_count": 38,
     "metadata": {},
     "output_type": "execute_result"
    }
   ],
   "source": [
    "#заполним пропуски средним значением по столбцу\n",
    "miss_fill2 = pd.read_csv(\"orange_small_churn_train_data.csv\", index_col='ID').ix[:, 0:190]\n",
    "for i in range(190):\n",
    "    col = miss_fill2.ix[:, i]\n",
    "    mean = col.mean()\n",
    "    col.fillna(mean, inplace=True)\n",
    "\n",
    "miss_fill2.head()"
   ]
  },
  {
   "cell_type": "code",
   "execution_count": 39,
   "metadata": {
    "collapsed": false
   },
   "outputs": [
    {
     "data": {
      "text/plain": [
       "0.71726900646332148"
      ]
     },
     "execution_count": 39,
     "metadata": {},
     "output_type": "execute_result"
    }
   ],
   "source": [
    "miss_fill2.dropna(axis=1, inplace=True)\n",
    "\n",
    "clf = GradientBoostingClassifier(n_estimators=200, random_state=2)\n",
    "forest_scoring = cross_validation.cross_val_score(clf, miss_fill2, y, scoring = metrics.scorer.roc_auc_scorer)\n",
    "forest_scoring.mean()"
   ]
  },
  {
   "cell_type": "markdown",
   "metadata": {},
   "source": [
    "видим, что заполнение средним дает наиболее хороший результат, но не сильно выше, чем простое заполнение нулями"
   ]
  },
  {
   "cell_type": "markdown",
   "metadata": {},
   "source": [
    "4\\. Также вы уже реализовали несколько стратегий для обработки категориальных признаков. Сравните эти стратегии между собой с помощью оценки качества моделей по кросс-валидации, построенных на датасетах с использованием различных стратегий. Как обработка категориальных признаков сказывается на качестве модели? Какой вариант выглядит наиболее оптимальным с точки зрения качества?"
   ]
  },
  {
   "cell_type": "code",
   "execution_count": 8,
   "metadata": {
    "collapsed": false
   },
   "outputs": [
    {
     "data": {
      "text/plain": [
       "0.9814355461241201"
      ]
     },
     "execution_count": 8,
     "metadata": {},
     "output_type": "execute_result"
    }
   ],
   "source": [
    "cat_as_nums = pd.read_csv(\"categories_only_as_numbers.csv\", index_col=\"ID\")\n",
    "\n",
    "clf = GradientBoostingClassifier(n_estimators=200, random_state=2)\n",
    "forest_scoring = cross_validation.cross_val_score(clf, cat_as_nums, y, scoring = metrics.scorer.roc_auc_scorer)\n",
    "forest_scoring.mean()"
   ]
  },
  {
   "cell_type": "code",
   "execution_count": 41,
   "metadata": {
    "collapsed": false
   },
   "outputs": [
    {
     "data": {
      "text/plain": [
       "0.98151370242554759"
      ]
     },
     "execution_count": 41,
     "metadata": {},
     "output_type": "execute_result"
    }
   ],
   "source": [
    "bin_with_nums = pd.read_csv(\"categories_binarized_and_as_numbers.csv\", index_col=\"ID\")\n",
    "\n",
    "clf = GradientBoostingClassifier(n_estimators=200, random_state=2)\n",
    "forest_scoring = cross_validation.cross_val_score(clf, bin_with_nums, y, scoring = metrics.scorer.roc_auc_scorer)\n",
    "forest_scoring.mean()"
   ]
  },
  {
   "cell_type": "markdown",
   "metadata": {},
   "source": [
    "посмотрим тоже самое, только вместе с остальными признаками"
   ]
  },
  {
   "cell_type": "code",
   "execution_count": 9,
   "metadata": {
    "collapsed": false
   },
   "outputs": [
    {
     "data": {
      "text/plain": [
       "0.98399583683813507"
      ]
     },
     "execution_count": 9,
     "metadata": {},
     "output_type": "execute_result"
    }
   ],
   "source": [
    "nums = pd.concat([numbers, cat_as_nums], axis=1)\n",
    "\n",
    "clf = GradientBoostingClassifier(n_estimators=200, random_state=2)\n",
    "forest_scoring = cross_validation.cross_val_score(clf, nums, y, scoring = metrics.scorer.roc_auc_scorer)\n",
    "forest_scoring.mean()"
   ]
  },
  {
   "cell_type": "code",
   "execution_count": 43,
   "metadata": {
    "collapsed": false
   },
   "outputs": [
    {
     "data": {
      "text/plain": [
       "0.98396621238085624"
      ]
     },
     "execution_count": 43,
     "metadata": {},
     "output_type": "execute_result"
    }
   ],
   "source": [
    "nums_bins = pd.concat([numbers, bin_with_nums], axis=1)\n",
    "\n",
    "clf = GradientBoostingClassifier(n_estimators=200, random_state=2)\n",
    "forest_scoring = cross_validation.cross_val_score(clf, nums_bins, y, scoring = metrics.scorer.roc_auc_scorer)\n",
    "forest_scoring.mean()"
   ]
  },
  {
   "cell_type": "markdown",
   "metadata": {},
   "source": [
    "обработанные категориальные признаки увеличивают качество модели, причем совсем чуть-чуть более хорошее качество дает вариант с заменой всех категориальных признаков на числа."
   ]
  },
  {
   "cell_type": "markdown",
   "metadata": {},
   "source": [
    "5\\. Все ли признаки оказались полезными для построения моделей? Проведите процедуру отбора признаков, попробуйте разные варианты отбора (обратите внимание на модуль `sklearn.feature_selection`). Например, можно выбрасывать случайные признаки или строить отбор на основе l1-регуляризации - отфильтровать из обучения признаки, которые получат нулевой вес при построении регрессии с l1-регуляризацией (`sklearn.linear_model.Lasso`). И всегда можно придумать что-то своё=) Попробуйте как минимум 2 различные стратегии, сравните результаты. Помог ли отбор признаков улучшить качество модели? Поясните свой ответ."
   ]
  },
  {
   "cell_type": "code",
   "execution_count": 44,
   "metadata": {
    "collapsed": true
   },
   "outputs": [],
   "source": [
    "from sklearn import feature_selection as fs\n",
    "from sklearn.svm import LinearSVC"
   ]
  },
  {
   "cell_type": "code",
   "execution_count": 45,
   "metadata": {
    "collapsed": false
   },
   "outputs": [
    {
     "data": {
      "text/plain": [
       "(40000, 139)"
      ]
     },
     "execution_count": 45,
     "metadata": {},
     "output_type": "execute_result"
    }
   ],
   "source": [
    "# отберем признаки по линейной модели с помощью l1 регуляризатора\n",
    "sfm = fs.SelectFromModel(LinearSVC(penalty=\"l1\", dual=False))\n",
    "X = sfm.fit_transform(nums, y)\n",
    "X.shape"
   ]
  },
  {
   "cell_type": "code",
   "execution_count": 46,
   "metadata": {
    "collapsed": false
   },
   "outputs": [
    {
     "data": {
      "text/plain": [
       "0.98344091858299876"
      ]
     },
     "execution_count": 46,
     "metadata": {},
     "output_type": "execute_result"
    }
   ],
   "source": [
    "clf = GradientBoostingClassifier(n_estimators=200, random_state=2)\n",
    "forest_scoring = cross_validation.cross_val_score(clf, X, y, scoring = metrics.scorer.roc_auc_scorer)\n",
    "forest_scoring.mean()"
   ]
  },
  {
   "cell_type": "markdown",
   "metadata": {},
   "source": [
    "результаты уже были невероятно хорошими, скорее всего переобучены, после отбора качество немного ухудшилось, но это не значит, что в действительности стало хуже."
   ]
  },
  {
   "cell_type": "code",
   "execution_count": 47,
   "metadata": {
    "collapsed": false,
    "scrolled": true
   },
   "outputs": [
    {
     "data": {
      "text/plain": [
       "(40000, 1)"
      ]
     },
     "execution_count": 47,
     "metadata": {},
     "output_type": "execute_result"
    }
   ],
   "source": [
    "# рекурсивное удаление признаков с шагами кросс-валидации\n",
    "estimator = LinearSVC(penalty=\"l1\", dual=False)\n",
    "selector = fs.RFECV(estimator, step=1, cv=5)\n",
    "selector = selector.fit(nums, y)\n",
    "X2 = selector.transform(nums)\n",
    "X2.shape"
   ]
  },
  {
   "cell_type": "markdown",
   "metadata": {},
   "source": [
    "Очень много призников отсеялось, результаты стали хуже"
   ]
  },
  {
   "cell_type": "code",
   "execution_count": 48,
   "metadata": {
    "collapsed": false
   },
   "outputs": [
    {
     "data": {
      "text/plain": [
       "0.88075183460223405"
      ]
     },
     "execution_count": 48,
     "metadata": {},
     "output_type": "execute_result"
    }
   ],
   "source": [
    "clf = GradientBoostingClassifier(n_estimators=200, random_state=2)\n",
    "forest_scoring = cross_validation.cross_val_score(clf, X2, y, scoring = metrics.scorer.roc_auc_scorer)\n",
    "forest_scoring.mean()"
   ]
  },
  {
   "cell_type": "code",
   "execution_count": 49,
   "metadata": {
    "collapsed": true
   },
   "outputs": [],
   "source": [
    "# выберем лучшие признаки на основе статистики хи-квадрат\n",
    "from sklearn.feature_selection import SelectKBest\n",
    "from sklearn.feature_selection import f_classif"
   ]
  },
  {
   "cell_type": "code",
   "execution_count": 50,
   "metadata": {
    "collapsed": false
   },
   "outputs": [
    {
     "name": "stderr",
     "output_type": "stream",
     "text": [
      "/home/yury/anaconda2/lib/python2.7/site-packages/sklearn/feature_selection/univariate_selection.py:113: UserWarning: Features [  7  14  19  30  31  38  41  47  51  54  78 140 166 168 174 184] are constant.\n",
      "  UserWarning)\n"
     ]
    },
    {
     "data": {
      "text/plain": [
       "(40000, 100)"
      ]
     },
     "execution_count": 50,
     "metadata": {},
     "output_type": "execute_result"
    }
   ],
   "source": [
    "X_new1 = SelectKBest(f_classif, k=150).fit_transform(nums, y)\n",
    "X_new2 = SelectKBest(f_classif, k=100).fit_transform(nums, y)\n",
    "X_new2.shape"
   ]
  },
  {
   "cell_type": "code",
   "execution_count": 51,
   "metadata": {
    "collapsed": false
   },
   "outputs": [
    {
     "data": {
      "text/plain": [
       "0.98406104322031085"
      ]
     },
     "execution_count": 51,
     "metadata": {},
     "output_type": "execute_result"
    }
   ],
   "source": [
    "clf = GradientBoostingClassifier(n_estimators=200, random_state=2)\n",
    "forest_scoring = cross_validation.cross_val_score(clf, X_new1, y, scoring = metrics.scorer.roc_auc_scorer)\n",
    "forest_scoring.mean()"
   ]
  },
  {
   "cell_type": "code",
   "execution_count": 52,
   "metadata": {
    "collapsed": false
   },
   "outputs": [
    {
     "data": {
      "text/plain": [
       "0.97902399943919782"
      ]
     },
     "execution_count": 52,
     "metadata": {},
     "output_type": "execute_result"
    }
   ],
   "source": [
    "clf = GradientBoostingClassifier(n_estimators=200, random_state=2)\n",
    "forest_scoring = cross_validation.cross_val_score(clf, X_new2, y, scoring = metrics.scorer.roc_auc_scorer)\n",
    "forest_scoring.mean()"
   ]
  },
  {
   "cell_type": "markdown",
   "metadata": {},
   "source": [
    "Вывод: на данном классификаторе отбор признаков почти не изменил модель, слишком сильный отбор сделал немного хуже. На RandomForest ситуация была другая: там обор признаков несколько улучшил модель, поэтому нельзя однозначно сказать о влиянии отбора признаков по данным тестам. Из опробованных вариантов селектор на основе линейной модели с l1 регуляризатором сразу дает оптимальный результат. Похожий результат можно достич, если поиграть с количеством признаков в селекторе k лучших признаков. В целом, отбор признаков положительно влияет на модель."
   ]
  },
  {
   "cell_type": "markdown",
   "metadata": {},
   "source": [
    "6\\. Подберите оптимальные параметры модели. Обратите внимание, что в зависимости от того, как вы обработали исходные данные, сделали ли балансировку классов, сколько объектов оставили в обучающей выборке и др. оптимальные значения параметров могут меняться. Возьмите наилучшее из ваших решений на текущий момент и проведите процедуру подбора параметров модели (обратите внимание на `sklearn.model_selection.GridSearchCV`) Как подбор параметров повлиял на качество модели?"
   ]
  },
  {
   "cell_type": "code",
   "execution_count": 59,
   "metadata": {
    "collapsed": false
   },
   "outputs": [
    {
     "data": {
      "text/plain": [
       "{'criterion': 'friedman_mse',\n",
       " 'init': None,\n",
       " 'learning_rate': 0.1,\n",
       " 'loss': 'deviance',\n",
       " 'max_depth': 3,\n",
       " 'max_features': None,\n",
       " 'max_leaf_nodes': None,\n",
       " 'min_impurity_split': 1e-07,\n",
       " 'min_samples_leaf': 1,\n",
       " 'min_samples_split': 2,\n",
       " 'min_weight_fraction_leaf': 0.0,\n",
       " 'n_estimators': 500,\n",
       " 'presort': 'auto',\n",
       " 'random_state': 2,\n",
       " 'subsample': 1.0,\n",
       " 'verbose': 0,\n",
       " 'warm_start': False}"
      ]
     },
     "execution_count": 59,
     "metadata": {},
     "output_type": "execute_result"
    }
   ],
   "source": [
    "clf = GradientBoostingClassifier(n_estimators=500, random_state=2)\n",
    "clf.get_params()"
   ]
  },
  {
   "cell_type": "code",
   "execution_count": 73,
   "metadata": {
    "collapsed": false,
    "scrolled": true
   },
   "outputs": [
    {
     "data": {
      "text/plain": [
       "(5952, 5952)"
      ]
     },
     "execution_count": 73,
     "metadata": {},
     "output_type": "execute_result"
    }
   ],
   "source": [
    "sampler = us.ClusterCentroids(random_state=10)\n",
    "X_und, y_und= sampler.fit_sample(X, y)\n",
    "(len(X_und), len(y_und))"
   ]
  },
  {
   "cell_type": "code",
   "execution_count": 12,
   "metadata": {
    "collapsed": false
   },
   "outputs": [
    {
     "data": {
      "text/plain": [
       "(5952, 5952)"
      ]
     },
     "execution_count": 12,
     "metadata": {},
     "output_type": "execute_result"
    }
   ],
   "source": [
    "sampler = us.ClusterCentroids(random_state=10)\n",
    "nums_und, y_und2 = sampler.fit_sample(nums, y)\n",
    "(len(nums_und), len(y_und2))"
   ]
  },
  {
   "cell_type": "markdown",
   "metadata": {},
   "source": [
    "Поскольку roc_auc после обработки даже на стандартных параметрах алгоритма показывает близкое к максимальному качество, для подбора параметров будем смотреть только на 'average_precision' метрику"
   ]
  },
  {
   "cell_type": "code",
   "execution_count": 75,
   "metadata": {
    "collapsed": true
   },
   "outputs": [],
   "source": [
    "params = {\n",
    "    'loss': ['deviance', 'exponential'],\n",
    "    'learning_rate': [0.01, 0.05, 0.01, 0.2]\n",
    "}\n",
    "grid_cv = grid_search.GridSearchCV(clf, params, scoring = 'average_precision', n_jobs=4)"
   ]
  },
  {
   "cell_type": "code",
   "execution_count": 76,
   "metadata": {
    "collapsed": false,
    "scrolled": true
   },
   "outputs": [
    {
     "name": "stdout",
     "output_type": "stream",
     "text": [
      "CPU times: user 11.3 s, sys: 104 ms, total: 11.4 s\n",
      "Wall time: 1min 42s\n"
     ]
    },
    {
     "data": {
      "text/plain": [
       "GridSearchCV(cv=None, error_score='raise',\n",
       "       estimator=GradientBoostingClassifier(criterion='friedman_mse', init=None,\n",
       "              learning_rate=0.1, loss='deviance', max_depth=3,\n",
       "              max_features=None, max_leaf_nodes=None,\n",
       "              min_impurity_split=1e-07, min_samples_leaf=1,\n",
       "              min_samples_split=2, min_weight_fraction_leaf=0.0,\n",
       "              n_estimators=500, presort='auto', random_state=2,\n",
       "              subsample=1.0, verbose=0, warm_start=False),\n",
       "       fit_params={}, iid=True, n_jobs=4,\n",
       "       param_grid={'loss': ['deviance', 'exponential'], 'learning_rate': [0.01, 0.05, 0.01, 0.2]},\n",
       "       pre_dispatch='2*n_jobs', refit=True, scoring='average_precision',\n",
       "       verbose=0)"
      ]
     },
     "execution_count": 76,
     "metadata": {},
     "output_type": "execute_result"
    }
   ],
   "source": [
    "%%time\n",
    "grid_cv.fit(X_und, y_und)"
   ]
  },
  {
   "cell_type": "code",
   "execution_count": 77,
   "metadata": {
    "collapsed": false
   },
   "outputs": [
    {
     "name": "stdout",
     "output_type": "stream",
     "text": [
      "0.998686763891\n",
      "{'loss': 'deviance', 'learning_rate': 0.2}\n"
     ]
    }
   ],
   "source": [
    "print grid_cv.best_score_\n",
    "print grid_cv.best_params_"
   ]
  },
  {
   "cell_type": "code",
   "execution_count": 78,
   "metadata": {
    "collapsed": false
   },
   "outputs": [
    {
     "name": "stdout",
     "output_type": "stream",
     "text": [
      "CPU times: user 20.5 s, sys: 124 ms, total: 20.6 s\n",
      "Wall time: 2min 54s\n"
     ]
    },
    {
     "data": {
      "text/plain": [
       "GridSearchCV(cv=None, error_score='raise',\n",
       "       estimator=GradientBoostingClassifier(criterion='friedman_mse', init=None,\n",
       "              learning_rate=0.1, loss='deviance', max_depth=3,\n",
       "              max_features=None, max_leaf_nodes=None,\n",
       "              min_impurity_split=1e-07, min_samples_leaf=1,\n",
       "              min_samples_split=2, min_weight_fraction_leaf=0.0,\n",
       "              n_estimators=500, presort='auto', random_state=2,\n",
       "              subsample=1.0, verbose=0, warm_start=False),\n",
       "       fit_params={}, iid=True, n_jobs=4,\n",
       "       param_grid={'loss': ['deviance', 'exponential'], 'learning_rate': [0.01, 0.05, 0.01, 0.2]},\n",
       "       pre_dispatch='2*n_jobs', refit=True, scoring='average_precision',\n",
       "       verbose=0)"
      ]
     },
     "execution_count": 78,
     "metadata": {},
     "output_type": "execute_result"
    }
   ],
   "source": [
    "%%time\n",
    "grid_cv.fit(nums_und, y_und2)"
   ]
  },
  {
   "cell_type": "code",
   "execution_count": 79,
   "metadata": {
    "collapsed": false
   },
   "outputs": [
    {
     "name": "stdout",
     "output_type": "stream",
     "text": [
      "0.997876025591\n",
      "{'loss': 'exponential', 'learning_rate': 0.2}\n"
     ]
    }
   ],
   "source": [
    "print grid_cv.best_score_\n",
    "print grid_cv.best_params_"
   ]
  },
  {
   "cell_type": "code",
   "execution_count": 91,
   "metadata": {
    "collapsed": true
   },
   "outputs": [],
   "source": [
    "params = {\n",
    "    'loss': ['deviance', 'exponential'],\n",
    "    'learning_rate': [0.1, 0.2, 0.3]\n",
    "}\n",
    "grid_cv = grid_search.GridSearchCV(clf, params, scoring = 'roc_auc', n_jobs=4)"
   ]
  },
  {
   "cell_type": "code",
   "execution_count": 92,
   "metadata": {
    "collapsed": false
   },
   "outputs": [
    {
     "name": "stdout",
     "output_type": "stream",
     "text": [
      "CPU times: user 21 s, sys: 140 ms, total: 21.1 s\n",
      "Wall time: 2min 23s\n"
     ]
    },
    {
     "data": {
      "text/plain": [
       "GridSearchCV(cv=None, error_score='raise',\n",
       "       estimator=GradientBoostingClassifier(criterion='friedman_mse', init=None,\n",
       "              learning_rate=0.1, loss='deviance', max_depth=3,\n",
       "              max_features=None, max_leaf_nodes=None,\n",
       "              min_impurity_split=1e-07, min_samples_leaf=1,\n",
       "              min_samples_split=2, min_weight_fraction_leaf=0.0,\n",
       "              n_estimators=500, presort='auto', random_state=2,\n",
       "              subsample=1.0, verbose=0, warm_start=False),\n",
       "       fit_params={}, iid=True, n_jobs=4,\n",
       "       param_grid={'loss': ['deviance', 'exponential'], 'learning_rate': [0.1, 0.2, 0.3]},\n",
       "       pre_dispatch='2*n_jobs', refit=True, scoring='roc_auc', verbose=0)"
      ]
     },
     "execution_count": 92,
     "metadata": {},
     "output_type": "execute_result"
    }
   ],
   "source": [
    "%%time\n",
    "grid_cv.fit(nums_und, y_und2)"
   ]
  },
  {
   "cell_type": "code",
   "execution_count": 93,
   "metadata": {
    "collapsed": false
   },
   "outputs": [
    {
     "name": "stdout",
     "output_type": "stream",
     "text": [
      "0.998590877558\n",
      "{'loss': 'deviance', 'learning_rate': 0.2}\n"
     ]
    }
   ],
   "source": [
    "print grid_cv.best_score_\n",
    "print grid_cv.best_params_"
   ]
  },
  {
   "cell_type": "code",
   "execution_count": 86,
   "metadata": {
    "collapsed": true
   },
   "outputs": [],
   "source": [
    "params = {\n",
    "    'loss': ['exponential'],\n",
    "    'learning_rate': [0.2],\n",
    "    'max_depth': [2, 3, 5, 8],\n",
    "    'max_features': [0.1, 0.3, 0.6, 0.8]\n",
    "}\n",
    "grid_cv = grid_search.GridSearchCV(clf, params, scoring = 'average_precision', n_jobs=4)"
   ]
  },
  {
   "cell_type": "code",
   "execution_count": 89,
   "metadata": {
    "collapsed": false
   },
   "outputs": [
    {
     "name": "stdout",
     "output_type": "stream",
     "text": [
      "CPU times: user 8.92 s, sys: 124 ms, total: 9.05 s\n",
      "Wall time: 2min 17s\n"
     ]
    },
    {
     "data": {
      "text/plain": [
       "GridSearchCV(cv=None, error_score='raise',\n",
       "       estimator=GradientBoostingClassifier(criterion='friedman_mse', init=None,\n",
       "              learning_rate=0.1, loss='deviance', max_depth=3,\n",
       "              max_features=None, max_leaf_nodes=None,\n",
       "              min_impurity_split=1e-07, min_samples_leaf=1,\n",
       "              min_samples_split=2, min_weight_fraction_leaf=0.0,\n",
       "              n_estimators=500, presort='auto', random_state=2,\n",
       "              subsample=1.0, verbose=0, warm_start=False),\n",
       "       fit_params={}, iid=True, n_jobs=4,\n",
       "       param_grid={'max_features': [0.1, 0.3, 0.6, 0.8], 'loss': ['exponential'], 'learning_rate': [0.2], 'max_depth': [2, 3, 5, 8]},\n",
       "       pre_dispatch='2*n_jobs', refit=True, scoring='average_precision',\n",
       "       verbose=0)"
      ]
     },
     "execution_count": 89,
     "metadata": {},
     "output_type": "execute_result"
    }
   ],
   "source": [
    "%%time\n",
    "grid_cv.fit(nums_und, y_und2)"
   ]
  },
  {
   "cell_type": "code",
   "execution_count": 90,
   "metadata": {
    "collapsed": false
   },
   "outputs": [
    {
     "name": "stdout",
     "output_type": "stream",
     "text": [
      "0.998610247611\n",
      "{'max_features': 0.3, 'loss': 'exponential', 'learning_rate': 0.2, 'max_depth': 5}\n"
     ]
    }
   ],
   "source": [
    "print grid_cv.best_score_\n",
    "print grid_cv.best_params_"
   ]
  },
  {
   "cell_type": "code",
   "execution_count": 94,
   "metadata": {
    "collapsed": true
   },
   "outputs": [],
   "source": [
    "params = {\n",
    "    'loss': ['exponential'],\n",
    "    'learning_rate': [0.1, 0.2],\n",
    "    'max_depth': [3, 5],\n",
    "    'max_features': [0.3, 0.5],\n",
    "    'n_estimators': [300, 500, 1000]\n",
    "}\n",
    "grid_cv = grid_search.GridSearchCV(clf, params, scoring = 'average_precision', n_jobs=4)"
   ]
  },
  {
   "cell_type": "code",
   "execution_count": 95,
   "metadata": {
    "collapsed": false
   },
   "outputs": [
    {
     "name": "stdout",
     "output_type": "stream",
     "text": [
      "CPU times: user 9.1 s, sys: 152 ms, total: 9.25 s\n",
      "Wall time: 4min 15s\n"
     ]
    },
    {
     "data": {
      "text/plain": [
       "GridSearchCV(cv=None, error_score='raise',\n",
       "       estimator=GradientBoostingClassifier(criterion='friedman_mse', init=None,\n",
       "              learning_rate=0.1, loss='deviance', max_depth=3,\n",
       "              max_features=None, max_leaf_nodes=None,\n",
       "              min_impurity_split=1e-07, min_samples_leaf=1,\n",
       "              min_samples_split=2, min_weight_fraction_leaf=0.0,\n",
       "              n_estimators=500, presort='auto', random_state=2,\n",
       "              subsample=1.0, verbose=0, warm_start=False),\n",
       "       fit_params={}, iid=True, n_jobs=4,\n",
       "       param_grid={'max_features': [0.3, 0.5], 'loss': ['exponential'], 'learning_rate': [0.1, 0.2], 'n_estimators': [300, 500, 1000], 'max_depth': [3, 5]},\n",
       "       pre_dispatch='2*n_jobs', refit=True, scoring='average_precision',\n",
       "       verbose=0)"
      ]
     },
     "execution_count": 95,
     "metadata": {},
     "output_type": "execute_result"
    }
   ],
   "source": [
    "%%time\n",
    "grid_cv.fit(nums_und, y_und2)"
   ]
  },
  {
   "cell_type": "code",
   "execution_count": 96,
   "metadata": {
    "collapsed": false,
    "scrolled": true
   },
   "outputs": [
    {
     "name": "stdout",
     "output_type": "stream",
     "text": [
      "0.998610247611\n",
      "{'max_features': 0.3, 'loss': 'exponential', 'learning_rate': 0.2, 'n_estimators': 300, 'max_depth': 5}\n"
     ]
    }
   ],
   "source": [
    "print grid_cv.best_score_\n",
    "print grid_cv.best_params_"
   ]
  },
  {
   "cell_type": "markdown",
   "metadata": {},
   "source": [
    "Подбор параметров немного улучшил качество модели, главное, чтобы она не стала более переобучена."
   ]
  },
  {
   "cell_type": "markdown",
   "metadata": {},
   "source": [
    "7\\. Предложите методику оценки того, какие признаки внесли наибольший вклад в модель (например, это могут быть веса в случае регрессии, а также большое количество моделей реализуют метод `feature_importances_` - оценка важности признаков). На основе предложенной методики проанализируйте, какие признаки внесли больший вклад в модель, а какие меньший?"
   ]
  },
  {
   "cell_type": "markdown",
   "metadata": {},
   "source": [
    "Посмотрим первые 20 признаков через feature\\_importances_"
   ]
  },
  {
   "cell_type": "code",
   "execution_count": 13,
   "metadata": {
    "collapsed": false,
    "scrolled": true
   },
   "outputs": [
    {
     "data": {
      "text/plain": [
       "array([  3.61688496e-04,   0.00000000e+00,   7.60758071e-04,\n",
       "         8.99901406e-05,   1.37398727e-03,   7.95494837e-03,\n",
       "         1.15560490e-03,   0.00000000e+00,   1.13804703e-05,\n",
       "         3.33716559e-03])"
      ]
     },
     "execution_count": 13,
     "metadata": {},
     "output_type": "execute_result"
    }
   ],
   "source": [
    "clf = GradientBoostingClassifier(n_estimators=300, learning_rate=0.2, max_depth=5, loss='exponential', max_features=0.3, random_state=2)\n",
    "clf.fit(nums_und, y_und2)\n",
    "clf.feature_importances_[:10]"
   ]
  },
  {
   "cell_type": "code",
   "execution_count": 101,
   "metadata": {
    "collapsed": false,
    "scrolled": true
   },
   "outputs": [
    {
     "data": {
      "text/plain": [
       "[(0.00036168849628620043, 'Var1'),\n",
       " (0.0, 'Var2'),\n",
       " (0.0007607580706560775, 'Var3'),\n",
       " (8.9990140556278406e-05, 'Var4'),\n",
       " (0.0013739872694488997, 'Var5'),\n",
       " (0.0079549483699781938, 'Var6'),\n",
       " (0.0011556049040075777, 'Var7'),\n",
       " (0.0, 'Var8'),\n",
       " (1.1380470283345421e-05, 'Var9'),\n",
       " (0.0033371655893571902, 'Var10')]"
      ]
     },
     "execution_count": 101,
     "metadata": {},
     "output_type": "execute_result"
    }
   ],
   "source": [
    "feat_names = zip(clf.feature_importances_, nums.columns)\n",
    "feat_names[:10]"
   ]
  },
  {
   "cell_type": "code",
   "execution_count": 106,
   "metadata": {
    "collapsed": false
   },
   "outputs": [
    {
     "data": {
      "text/plain": [
       "[(0.050883874523689678, 'Var214'),\n",
       " (0.039591494838676973, 'Var76'),\n",
       " (0.036588990243558148, 'Var217'),\n",
       " (0.036383969389647421, 'Var81'),\n",
       " (0.033372534704412926, 'Var113'),\n",
       " (0.031536939409216994, 'Var200'),\n",
       " (0.03079549069128764, 'Var204'),\n",
       " (0.029670842931906728, 'Var153'),\n",
       " (0.027356300518974419, 'Var202'),\n",
       " (0.026309610499057428, 'Var192'),\n",
       " (0.023688656703545571, 'Var199'),\n",
       " (0.022980377140476366, 'Var216'),\n",
       " (0.021598303524235803, 'Var57'),\n",
       " (0.021285516321626716, 'Var189'),\n",
       " (0.017938243068868695, 'Var149'),\n",
       " (0.014949673163555671, 'Var133'),\n",
       " (0.014119807336105562, 'Var197'),\n",
       " (0.01400067820750603, 'Var163'),\n",
       " (0.013408225796611314, 'Var28'),\n",
       " (0.013181533439226616, 'Var126')]"
      ]
     },
     "execution_count": 106,
     "metadata": {},
     "output_type": "execute_result"
    }
   ],
   "source": [
    "indexes = sorted(feat_names, reverse=True)\n",
    "indexes[:20]"
   ]
  },
  {
   "cell_type": "markdown",
   "metadata": {},
   "source": [
    "20 признаков выше внесли больший вклад в модель, соотстветственно остальные - меньший"
   ]
  },
  {
   "cell_type": "markdown",
   "metadata": {},
   "source": [
    "8\\. Напоследок давайте посмотрим на объекты. На каких объектах достигается наибольшая ошибка классификации? Есть ли межу этими объектами что-то общее? Видны ли какие-либо закономерности? Предположите, почему наибольшая ошибка достигается именно на этих объектах. В данном случае \"наибольшую\" ошибку можно понимать как отнесение объекта с чужому классу с большой долей уверенности (с высокой вероятностью)."
   ]
  },
  {
   "cell_type": "code",
   "execution_count": 14,
   "metadata": {
    "collapsed": false,
    "scrolled": true
   },
   "outputs": [],
   "source": [
    "preds = clf.predict_proba(nums)"
   ]
  },
  {
   "cell_type": "code",
   "execution_count": 15,
   "metadata": {
    "collapsed": false
   },
   "outputs": [
    {
     "data": {
      "text/plain": [
       "[0, 0, 0, 1, 0, 0, 0, 0, 0, 0]"
      ]
     },
     "execution_count": 15,
     "metadata": {},
     "output_type": "execute_result"
    }
   ],
   "source": [
    "y_norm = [0 if x==-1 else x for x in y]\n",
    "y_norm[:10]"
   ]
  },
  {
   "cell_type": "code",
   "execution_count": 17,
   "metadata": {
    "collapsed": false
   },
   "outputs": [
    {
     "data": {
      "text/plain": [
       "[9.7181186308611554e-16,\n",
       " 3.4435149843201306e-15,\n",
       " 0.99979246320265658,\n",
       " 8.0388140588638635e-11,\n",
       " 1.6825122158435758e-11,\n",
       " 1.8274071357479562e-11,\n",
       " 0.93153499906845472,\n",
       " 0.99999997225985682,\n",
       " 0.99999999995100208,\n",
       " 1.904910343876489e-06]"
      ]
     },
     "execution_count": 17,
     "metadata": {},
     "output_type": "execute_result"
    }
   ],
   "source": [
    "diffs = [abs(y_norm[i] - preds[i][1]) for i in range(len(preds))]\n",
    "diffs[:10]"
   ]
  },
  {
   "cell_type": "code",
   "execution_count": 18,
   "metadata": {
    "collapsed": false
   },
   "outputs": [
    {
     "data": {
      "text/plain": [
       "[(0.99999999999941758, 36375),\n",
       " (0.99999999999832601, 15654),\n",
       " (0.99999999999647193, 4121),\n",
       " (0.9999999999961886, 11002),\n",
       " (0.99999999999465339, 7535),\n",
       " (0.99999999999423594, 11213),\n",
       " (0.99999999999332911, 30601),\n",
       " (0.99999999999269917, 32159),\n",
       " (0.99999999999247824, 6015),\n",
       " (0.9999999999922986, 17544)]"
      ]
     },
     "execution_count": 18,
     "metadata": {},
     "output_type": "execute_result"
    }
   ],
   "source": [
    "obj_errs = zip (diffs, range(len(preds)))\n",
    "sort_errs = sorted(obj_errs, reverse=True)\n",
    "sort_errs[:10]"
   ]
  },
  {
   "cell_type": "code",
   "execution_count": 21,
   "metadata": {
    "collapsed": false,
    "scrolled": true
   },
   "outputs": [
    {
     "data": {
      "text/plain": [
       "[Var1        0\n",
       " Var2        0\n",
       " Var3        0\n",
       " Var4        0\n",
       " Var5        0\n",
       " Var6     1169\n",
       " Var7        0\n",
       " Var8        0\n",
       " Var9        0\n",
       " Var10       0\n",
       " Name: 36375, dtype: float64, Var1        0\n",
       " Var2        0\n",
       " Var3        0\n",
       " Var4        0\n",
       " Var5        0\n",
       " Var6     1043\n",
       " Var7        7\n",
       " Var8        0\n",
       " Var9        0\n",
       " Var10       0\n",
       " Name: 15654, dtype: float64, Var1       0\n",
       " Var2       0\n",
       " Var3       0\n",
       " Var4       0\n",
       " Var5       0\n",
       " Var6     490\n",
       " Var7       0\n",
       " Var8       0\n",
       " Var9       0\n",
       " Var10      0\n",
       " Name: 4121, dtype: float64, Var1       0\n",
       " Var2       0\n",
       " Var3       0\n",
       " Var4       0\n",
       " Var5       0\n",
       " Var6     574\n",
       " Var7       0\n",
       " Var8       0\n",
       " Var9       0\n",
       " Var10      0\n",
       " Name: 11002, dtype: float64, Var1        0\n",
       " Var2        0\n",
       " Var3        0\n",
       " Var4        0\n",
       " Var5        0\n",
       " Var6     3248\n",
       " Var7        7\n",
       " Var8        0\n",
       " Var9        0\n",
       " Var10       0\n",
       " Name: 7535, dtype: float64, Var1       0\n",
       " Var2       0\n",
       " Var3       0\n",
       " Var4       0\n",
       " Var5       0\n",
       " Var6     798\n",
       " Var7      14\n",
       " Var8       0\n",
       " Var9       0\n",
       " Var10      0\n",
       " Name: 11213, dtype: float64, Var1        0\n",
       " Var2        0\n",
       " Var3        0\n",
       " Var4        0\n",
       " Var5        0\n",
       " Var6     2961\n",
       " Var7        7\n",
       " Var8        0\n",
       " Var9        0\n",
       " Var10       0\n",
       " Name: 30601, dtype: float64, Var1        0\n",
       " Var2        0\n",
       " Var3        0\n",
       " Var4        0\n",
       " Var5        0\n",
       " Var6     3549\n",
       " Var7        0\n",
       " Var8        0\n",
       " Var9        0\n",
       " Var10       0\n",
       " Name: 32159, dtype: float64, Var1       0\n",
       " Var2       0\n",
       " Var3       0\n",
       " Var4       0\n",
       " Var5       0\n",
       " Var6     497\n",
       " Var7       0\n",
       " Var8       0\n",
       " Var9       0\n",
       " Var10      0\n",
       " Name: 6015, dtype: float64, Var1       0\n",
       " Var2       0\n",
       " Var3       0\n",
       " Var4       0\n",
       " Var5       0\n",
       " Var6     973\n",
       " Var7       7\n",
       " Var8       0\n",
       " Var9       0\n",
       " Var10      0\n",
       " Name: 17544, dtype: float64]"
      ]
     },
     "execution_count": 21,
     "metadata": {},
     "output_type": "execute_result"
    }
   ],
   "source": [
    "[nums.ix[x[1]][:10] for x in sort_errs[:10]]"
   ]
  },
  {
   "cell_type": "markdown",
   "metadata": {},
   "source": [
    "Можно предположить, что почти все такие признаки имеет очень много нулей и пропусков, а некоторые из них довольно большие, совершенно скачущие значения, не коррелирующие с целевой переменной, поэтому алгоритм классификации ошибается на них."
   ]
  },
  {
   "cell_type": "markdown",
   "metadata": {},
   "source": [
    "9\\. По итогам проведенных экспериментов постройте финальную решение - модель с наилучшим качеством. Укажите, какие преобразования данных, параметры и пр. вы выбрали для построения финальной модели."
   ]
  },
  {
   "cell_type": "markdown",
   "metadata": {
    "collapsed": true
   },
   "source": [
    "Собственно, модель и ее качество проиллюстрированы в пункте 7. Здесь опишем шаги:\n",
    "\n",
    "1. Отфильтровать колонки, содержащие только NaN значения.\n",
    "2. В числовых признаках заполнить пропуски средним по столбцу.\n",
    "3. Категориальные признаки перекодировать в числа.\n",
    "4. Сделать undersampling на кластерных центроидах.\n",
    "5. Отбор призников не взяли в модель, но нужно проверять на тестовых данных на каггл, так как они все же могут уменьшить переобучение.\n",
    "6. Обучить градиентный бустинг со следующими параметрами: n_estimators=300, learning_rate=0.2, max_depth=5, loss='exponential', max_features=0.3"
   ]
  },
  {
   "cell_type": "markdown",
   "metadata": {},
   "source": [
    "10\\. Подумайте, можно ли еще улучшить модель? Что для этого можно сделать? "
   ]
  },
  {
   "cell_type": "markdown",
   "metadata": {
    "collapsed": true
   },
   "source": [
    "Основная проблема в том, что оценка качества по кросс-валидации не дает желаемого результата. То есть улучшая модель здесь, применяя различные обработки данных, на тестовых данных на каггл классе ситуация обратная, пока что наилучший результат дала практически необработанная модель, что очень странно. \n",
    "Поэтому необходимо понять, как метрику качества привести в соответствие с оценкой качества на тестовых данных, чтобы можно было быть уверенным, что при улучшении модели предсказание действительно будет лучше."
   ]
  }
 ],
 "metadata": {
  "kernelspec": {
   "display_name": "Python 2",
   "language": "python",
   "name": "python2"
  },
  "language_info": {
   "codemirror_mode": {
    "name": "ipython",
    "version": 2
   },
   "file_extension": ".py",
   "mimetype": "text/x-python",
   "name": "python",
   "nbconvert_exporter": "python",
   "pygments_lexer": "ipython2",
   "version": "2.7.11"
  }
 },
 "nbformat": 4,
 "nbformat_minor": 1
}
