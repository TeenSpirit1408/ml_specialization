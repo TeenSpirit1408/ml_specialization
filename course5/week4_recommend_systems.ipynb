{
 "cells": [
  {
   "cell_type": "code",
   "execution_count": 1,
   "metadata": {
    "collapsed": true
   },
   "outputs": [],
   "source": [
    "import numpy as np\n",
    "import pandas as pd"
   ]
  },
  {
   "cell_type": "code",
   "execution_count": 4,
   "metadata": {
    "collapsed": false
   },
   "outputs": [
    {
     "data": {
      "text/html": [
       "<div>\n",
       "<table border=\"1\" class=\"dataframe\">\n",
       "  <thead>\n",
       "    <tr style=\"text-align: right;\">\n",
       "      <th></th>\n",
       "      <th>0</th>\n",
       "      <th>1</th>\n",
       "    </tr>\n",
       "  </thead>\n",
       "  <tbody>\n",
       "    <tr>\n",
       "      <th>0</th>\n",
       "      <td>0,1,2,3,4,5</td>\n",
       "      <td>NaN</td>\n",
       "    </tr>\n",
       "    <tr>\n",
       "      <th>1</th>\n",
       "      <td>9,10,11,9,11,12,9,11</td>\n",
       "      <td>NaN</td>\n",
       "    </tr>\n",
       "    <tr>\n",
       "      <th>2</th>\n",
       "      <td>16,17,18,19,20,21</td>\n",
       "      <td>NaN</td>\n",
       "    </tr>\n",
       "    <tr>\n",
       "      <th>3</th>\n",
       "      <td>24,25,26,27,24</td>\n",
       "      <td>NaN</td>\n",
       "    </tr>\n",
       "    <tr>\n",
       "      <th>4</th>\n",
       "      <td>34,35,36,34,37,35,36,37,38,39,38,39</td>\n",
       "      <td>NaN</td>\n",
       "    </tr>\n",
       "    <tr>\n",
       "      <th>5</th>\n",
       "      <td>42</td>\n",
       "      <td>NaN</td>\n",
       "    </tr>\n",
       "    <tr>\n",
       "      <th>6</th>\n",
       "      <td>47,48,49</td>\n",
       "      <td>NaN</td>\n",
       "    </tr>\n",
       "    <tr>\n",
       "      <th>7</th>\n",
       "      <td>59,60,61,62,60,63,64,65,66,61,67,68,67</td>\n",
       "      <td>67,60,63</td>\n",
       "    </tr>\n",
       "    <tr>\n",
       "      <th>8</th>\n",
       "      <td>71,72,73,74</td>\n",
       "      <td>NaN</td>\n",
       "    </tr>\n",
       "    <tr>\n",
       "      <th>9</th>\n",
       "      <td>76,77,78</td>\n",
       "      <td>NaN</td>\n",
       "    </tr>\n",
       "    <tr>\n",
       "      <th>10</th>\n",
       "      <td>84,85,86,87,88,89,84,90,91,92,93,86</td>\n",
       "      <td>86</td>\n",
       "    </tr>\n",
       "    <tr>\n",
       "      <th>11</th>\n",
       "      <td>114,77,115,116,117,118,119,120,121,120,122,123...</td>\n",
       "      <td>NaN</td>\n",
       "    </tr>\n",
       "    <tr>\n",
       "      <th>12</th>\n",
       "      <td>129,130,131,132,133,134</td>\n",
       "      <td>NaN</td>\n",
       "    </tr>\n",
       "    <tr>\n",
       "      <th>13</th>\n",
       "      <td>93,137,138,139,140,141,142,141,143,144</td>\n",
       "      <td>NaN</td>\n",
       "    </tr>\n",
       "    <tr>\n",
       "      <th>14</th>\n",
       "      <td>97,155,156,155,157,93</td>\n",
       "      <td>NaN</td>\n",
       "    </tr>\n",
       "  </tbody>\n",
       "</table>\n",
       "</div>"
      ],
      "text/plain": [
       "                                                    0         1\n",
       "0                                         0,1,2,3,4,5       NaN\n",
       "1                                9,10,11,9,11,12,9,11       NaN\n",
       "2                                   16,17,18,19,20,21       NaN\n",
       "3                                      24,25,26,27,24       NaN\n",
       "4                 34,35,36,34,37,35,36,37,38,39,38,39       NaN\n",
       "5                                                  42       NaN\n",
       "6                                            47,48,49       NaN\n",
       "7              59,60,61,62,60,63,64,65,66,61,67,68,67  67,60,63\n",
       "8                                         71,72,73,74       NaN\n",
       "9                                            76,77,78       NaN\n",
       "10                84,85,86,87,88,89,84,90,91,92,93,86        86\n",
       "11  114,77,115,116,117,118,119,120,121,120,122,123...       NaN\n",
       "12                            129,130,131,132,133,134       NaN\n",
       "13             93,137,138,139,140,141,142,141,143,144       NaN\n",
       "14                              97,155,156,155,157,93       NaN"
      ]
     },
     "execution_count": 4,
     "metadata": {},
     "output_type": "execute_result"
    }
   ],
   "source": [
    "data = pd.read_csv(\"coursera_sessions_train.txt\", sep=';', header=None)\n",
    "data[:15]"
   ]
  },
  {
   "cell_type": "code",
   "execution_count": 5,
   "metadata": {
    "collapsed": false
   },
   "outputs": [
    {
     "data": {
      "text/html": [
       "<div>\n",
       "<table border=\"1\" class=\"dataframe\">\n",
       "  <thead>\n",
       "    <tr style=\"text-align: right;\">\n",
       "      <th></th>\n",
       "      <th>view</th>\n",
       "      <th>buy</th>\n",
       "    </tr>\n",
       "  </thead>\n",
       "  <tbody>\n",
       "    <tr>\n",
       "      <th>0</th>\n",
       "      <td>0,1,2,3,4,5</td>\n",
       "      <td>NaN</td>\n",
       "    </tr>\n",
       "    <tr>\n",
       "      <th>1</th>\n",
       "      <td>9,10,11,9,11,12,9,11</td>\n",
       "      <td>NaN</td>\n",
       "    </tr>\n",
       "    <tr>\n",
       "      <th>2</th>\n",
       "      <td>16,17,18,19,20,21</td>\n",
       "      <td>NaN</td>\n",
       "    </tr>\n",
       "    <tr>\n",
       "      <th>3</th>\n",
       "      <td>24,25,26,27,24</td>\n",
       "      <td>NaN</td>\n",
       "    </tr>\n",
       "    <tr>\n",
       "      <th>4</th>\n",
       "      <td>34,35,36,34,37,35,36,37,38,39,38,39</td>\n",
       "      <td>NaN</td>\n",
       "    </tr>\n",
       "  </tbody>\n",
       "</table>\n",
       "</div>"
      ],
      "text/plain": [
       "                                  view  buy\n",
       "0                          0,1,2,3,4,5  NaN\n",
       "1                 9,10,11,9,11,12,9,11  NaN\n",
       "2                    16,17,18,19,20,21  NaN\n",
       "3                       24,25,26,27,24  NaN\n",
       "4  34,35,36,34,37,35,36,37,38,39,38,39  NaN"
      ]
     },
     "execution_count": 5,
     "metadata": {},
     "output_type": "execute_result"
    }
   ],
   "source": [
    "data.columns = ['view', 'buy']\n",
    "data.head()"
   ]
  },
  {
   "cell_type": "code",
   "execution_count": 6,
   "metadata": {
    "collapsed": true
   },
   "outputs": [],
   "source": [
    "x = \"lksjdlkfj\""
   ]
  },
  {
   "cell_type": "code",
   "execution_count": 27,
   "metadata": {
    "collapsed": false
   },
   "outputs": [
    {
     "name": "stdout",
     "output_type": "stream",
     "text": [
      "73   677\n",
      "158   641\n",
      "204   396\n",
      "262   387\n",
      "162   318\n",
      "7   312\n",
      "137   306\n",
      "1185   284\n",
      "6   283\n",
      "170   280\n"
     ]
    }
   ],
   "source": [
    "view_freq = {}\n",
    "for row in data.view.values:\n",
    "    l = [x.strip() for x in row.split(',')]\n",
    "    for i in l:\n",
    "        if view_freq.get(i) == None:\n",
    "            view_freq[i] = 1\n",
    "        else:\n",
    "            view_freq[i] += 1\n",
    "            \n",
    "keys = sorted(view_freq, key=view_freq.get, reverse=True)\n",
    "for k in keys[:10]:\n",
    "    print k, ' ', view_freq[k]\n",
    "    "
   ]
  },
  {
   "cell_type": "code",
   "execution_count": 28,
   "metadata": {
    "collapsed": false
   },
   "outputs": [
    {
     "name": "stdout",
     "output_type": "stream",
     "text": [
      "158   14\n",
      "204   12\n",
      "3324   11\n",
      "73   11\n",
      "977   10\n",
      "5569   10\n",
      "3149   10\n",
      "1181   9\n",
      "162   8\n",
      "1852   7\n"
     ]
    }
   ],
   "source": [
    "buy_freq = {}\n",
    "for row in data.buy.dropna().values:\n",
    "    l = [x.strip() for x in str(row).split(',')]\n",
    "    for i in l:\n",
    "        if buy_freq.get(i) == None:\n",
    "            buy_freq[i] = 1\n",
    "        else:\n",
    "            buy_freq[i] += 1\n",
    "            \n",
    "keys = sorted(buy_freq, key=buy_freq.get, reverse=True)\n",
    "for k in keys[:10]:\n",
    "    print k, ' ', buy_freq[k]"
   ]
  },
  {
   "cell_type": "code",
   "execution_count": 13,
   "metadata": {
    "collapsed": true
   },
   "outputs": [],
   "source": [
    "def drop_dup(s):\n",
    "    l = [x.strip() for x in str(s).split(',')]\n",
    "    res = []\n",
    "    for i in l:\n",
    "        if i not in res:\n",
    "            res.append(i)\n",
    "            \n",
    "    return \",\".join(res)"
   ]
  },
  {
   "cell_type": "code",
   "execution_count": 14,
   "metadata": {
    "collapsed": false
   },
   "outputs": [
    {
     "name": "stderr",
     "output_type": "stream",
     "text": [
      "C:\\Users\\yuranich\\Anaconda2\\lib\\site-packages\\pandas\\core\\generic.py:2698: SettingWithCopyWarning: \n",
      "A value is trying to be set on a copy of a slice from a DataFrame.\n",
      "Try using .loc[row_indexer,col_indexer] = value instead\n",
      "\n",
      "See the caveats in the documentation: http://pandas.pydata.org/pandas-docs/stable/indexing.html#indexing-view-versus-copy\n",
      "  self[name] = value\n"
     ]
    },
    {
     "data": {
      "text/html": [
       "<div>\n",
       "<table border=\"1\" class=\"dataframe\">\n",
       "  <thead>\n",
       "    <tr style=\"text-align: right;\">\n",
       "      <th></th>\n",
       "      <th>view</th>\n",
       "      <th>buy</th>\n",
       "    </tr>\n",
       "  </thead>\n",
       "  <tbody>\n",
       "    <tr>\n",
       "      <th>7</th>\n",
       "      <td>59,60,61,62,63,64,65,66,67,68</td>\n",
       "      <td>67,60,63</td>\n",
       "    </tr>\n",
       "    <tr>\n",
       "      <th>10</th>\n",
       "      <td>84,85,86,87,88,89,90,91,92,93</td>\n",
       "      <td>86</td>\n",
       "    </tr>\n",
       "    <tr>\n",
       "      <th>19</th>\n",
       "      <td>138,198,199,127</td>\n",
       "      <td>199</td>\n",
       "    </tr>\n",
       "    <tr>\n",
       "      <th>30</th>\n",
       "      <td>303,304,305,306,307,308,309,310,311,312</td>\n",
       "      <td>303</td>\n",
       "    </tr>\n",
       "    <tr>\n",
       "      <th>33</th>\n",
       "      <td>352,353</td>\n",
       "      <td>352</td>\n",
       "    </tr>\n",
       "  </tbody>\n",
       "</table>\n",
       "</div>"
      ],
      "text/plain": [
       "                                       view       buy\n",
       "7             59,60,61,62,63,64,65,66,67,68  67,60,63\n",
       "10            84,85,86,87,88,89,90,91,92,93        86\n",
       "19                          138,198,199,127       199\n",
       "30  303,304,305,306,307,308,309,310,311,312       303\n",
       "33                                  352,353       352"
      ]
     },
     "execution_count": 14,
     "metadata": {},
     "output_type": "execute_result"
    }
   ],
   "source": [
    "filtered = data.dropna()\n",
    "filtered.view = filtered.view.apply(drop_dup)\n",
    "filtered.head()"
   ]
  },
  {
   "cell_type": "code",
   "execution_count": 67,
   "metadata": {
    "collapsed": false
   },
   "outputs": [],
   "source": [
    "def getSorted(s, d):\n",
    "    l = [x.strip() for x in s.split(',')]\n",
    "    tuples = []\n",
    "    for i in l:\n",
    "        if d.get(i) == None:\n",
    "            tuples.append((0, i))\n",
    "        else:\n",
    "            tuples.append((d[i], i))\n",
    "    ht = lambda x, y : y[0] - x[0] if x[0] != y[0] else l.index(x[1]) - l.index(y[1])\n",
    "    return sorted(tuples, cmp=ht)\n",
    "\n",
    "def suggest5view(s):\n",
    "    rec = getSorted(s, view_freq)\n",
    "    if len(rec) > 5:\n",
    "        return map(lambda x : x[1], rec[:5])\n",
    "    else:\n",
    "        return map(lambda x : x[1], rec)\n",
    "\n",
    "def suggest5buy(s):\n",
    "    rec = getSorted(s, buy_freq)\n",
    "    if len(rec) > 5:\n",
    "        return map(lambda x : x[1], rec[:5])\n",
    "    else:\n",
    "        return map(lambda x : x[1], rec)"
   ]
  },
  {
   "cell_type": "code",
   "execution_count": 52,
   "metadata": {
    "collapsed": false
   },
   "outputs": [
    {
     "data": {
      "text/plain": [
       "'63'"
      ]
     },
     "execution_count": 52,
     "metadata": {},
     "output_type": "execute_result"
    }
   ],
   "source": [
    "suggest1view(\"59,60,61,62,63,64,65,66,67,68\")"
   ]
  },
  {
   "cell_type": "code",
   "execution_count": 93,
   "metadata": {
    "collapsed": false
   },
   "outputs": [],
   "source": [
    "ap1 = []\n",
    "ap5 = []\n",
    "ar1 = []\n",
    "ar5 = []\n",
    "ap1buy = []\n",
    "ap5buy = []\n",
    "ar1buy = []\n",
    "ar5buy = []\n",
    "for row in filtered.iterrows():\n",
    "    res = suggest5view(row[1]['view'])\n",
    "    one = res[0]\n",
    "    buy_l = [x.strip() for x in row[1]['buy'].split(',')]\n",
    "    p1 = 1 if one in buy_l else 0\n",
    "    r1 = (float(p1)) / len(buy_l)\n",
    "    nom = sum([1 if x in buy_l else 0 for x in res])\n",
    "    p5 = float(nom) / 5\n",
    "    r5 = float(nom) / len(buy_l)\n",
    "    ap1.append(p1)\n",
    "    ap5.append(p5)\n",
    "    ar1.append(r1)\n",
    "    ar5.append(r5)\n",
    "    \n",
    "    res_buy = suggest5buy(row[1]['view'])\n",
    "    one_buy = res_buy[0]\n",
    "    p1_buy = 1 if one_buy in buy_l else 0\n",
    "    r1_buy = (float(p1_buy)) / len(buy_l)\n",
    "    nom = sum([1 if x in buy_l else 0 for x in res_buy])\n",
    "    p5_buy = float(nom) / 5\n",
    "    r5_buy = float(nom) / len(buy_l)\n",
    "    ap1buy.append(p1_buy)\n",
    "    ap5buy.append(p5_buy)\n",
    "    ar1buy.append(r1_buy)\n",
    "    ar5buy.append(r5_buy)"
   ]
  },
  {
   "cell_type": "code",
   "execution_count": 82,
   "metadata": {
    "collapsed": true
   },
   "outputs": [],
   "source": [
    "def writeArr(arr, filename):\n",
    "    with open(filename, \"w\") as f:\n",
    "        res = \" \".join(map(str, arr))\n",
    "        f.write(res)"
   ]
  },
  {
   "cell_type": "code",
   "execution_count": 94,
   "metadata": {
    "collapsed": false
   },
   "outputs": [],
   "source": [
    "arg = [sum(ar1) / float(len(ar1)), sum(ap1) / float(len(ap1)), sum(ar5) / float(len(ar5)), sum(ap5) / float(len(ap5))]\n",
    "writeArr(arg, \"train_res_view.txt\")"
   ]
  },
  {
   "cell_type": "code",
   "execution_count": 95,
   "metadata": {
    "collapsed": true
   },
   "outputs": [],
   "source": [
    "arg = [sum(ar1buy) / float(len(ar1buy)), sum(ap1buy) / float(len(ap1buy)), sum(ar5buy) / float(len(ar5buy)), sum(ap5buy) / float(len(ap5buy))]\n",
    "writeArr(arg, \"train_res_buy.txt\")"
   ]
  },
  {
   "cell_type": "code",
   "execution_count": 85,
   "metadata": {
    "collapsed": false
   },
   "outputs": [
    {
     "data": {
      "text/html": [
       "<div>\n",
       "<table border=\"1\" class=\"dataframe\">\n",
       "  <thead>\n",
       "    <tr style=\"text-align: right;\">\n",
       "      <th></th>\n",
       "      <th>0</th>\n",
       "      <th>1</th>\n",
       "    </tr>\n",
       "  </thead>\n",
       "  <tbody>\n",
       "    <tr>\n",
       "      <th>0</th>\n",
       "      <td>6,7,8</td>\n",
       "      <td>NaN</td>\n",
       "    </tr>\n",
       "    <tr>\n",
       "      <th>1</th>\n",
       "      <td>13,14,15</td>\n",
       "      <td>NaN</td>\n",
       "    </tr>\n",
       "    <tr>\n",
       "      <th>2</th>\n",
       "      <td>22,23</td>\n",
       "      <td>NaN</td>\n",
       "    </tr>\n",
       "    <tr>\n",
       "      <th>3</th>\n",
       "      <td>28,29,30,31,32,33</td>\n",
       "      <td>NaN</td>\n",
       "    </tr>\n",
       "    <tr>\n",
       "      <th>4</th>\n",
       "      <td>40,41</td>\n",
       "      <td>NaN</td>\n",
       "    </tr>\n",
       "    <tr>\n",
       "      <th>5</th>\n",
       "      <td>43,44,43,45,43,45,43,46</td>\n",
       "      <td>NaN</td>\n",
       "    </tr>\n",
       "    <tr>\n",
       "      <th>6</th>\n",
       "      <td>50,51,47,52,49,53,54,55,56,57,58</td>\n",
       "      <td>NaN</td>\n",
       "    </tr>\n",
       "    <tr>\n",
       "      <th>7</th>\n",
       "      <td>63,68,69,70,66,61,59,61,66,68</td>\n",
       "      <td>66,63</td>\n",
       "    </tr>\n",
       "    <tr>\n",
       "      <th>8</th>\n",
       "      <td>75</td>\n",
       "      <td>NaN</td>\n",
       "    </tr>\n",
       "    <tr>\n",
       "      <th>9</th>\n",
       "      <td>79,80,81,82,83</td>\n",
       "      <td>NaN</td>\n",
       "    </tr>\n",
       "    <tr>\n",
       "      <th>10</th>\n",
       "      <td>94,95,94,96,97,98,99,100,101,80,102,103,104,10...</td>\n",
       "      <td>NaN</td>\n",
       "    </tr>\n",
       "    <tr>\n",
       "      <th>11</th>\n",
       "      <td>125,126,127,128</td>\n",
       "      <td>NaN</td>\n",
       "    </tr>\n",
       "    <tr>\n",
       "      <th>12</th>\n",
       "      <td>135,136</td>\n",
       "      <td>NaN</td>\n",
       "    </tr>\n",
       "    <tr>\n",
       "      <th>13</th>\n",
       "      <td>145,146,147,148,149,150,151,152,153,154</td>\n",
       "      <td>NaN</td>\n",
       "    </tr>\n",
       "    <tr>\n",
       "      <th>14</th>\n",
       "      <td>158,159,160,159,161,162</td>\n",
       "      <td>162</td>\n",
       "    </tr>\n",
       "  </tbody>\n",
       "</table>\n",
       "</div>"
      ],
      "text/plain": [
       "                                                    0      1\n",
       "0                                               6,7,8    NaN\n",
       "1                                            13,14,15    NaN\n",
       "2                                               22,23    NaN\n",
       "3                                   28,29,30,31,32,33    NaN\n",
       "4                                               40,41    NaN\n",
       "5                             43,44,43,45,43,45,43,46    NaN\n",
       "6                    50,51,47,52,49,53,54,55,56,57,58    NaN\n",
       "7                       63,68,69,70,66,61,59,61,66,68  66,63\n",
       "8                                                  75    NaN\n",
       "9                                      79,80,81,82,83    NaN\n",
       "10  94,95,94,96,97,98,99,100,101,80,102,103,104,10...    NaN\n",
       "11                                    125,126,127,128    NaN\n",
       "12                                            135,136    NaN\n",
       "13            145,146,147,148,149,150,151,152,153,154    NaN\n",
       "14                            158,159,160,159,161,162    162"
      ]
     },
     "execution_count": 85,
     "metadata": {},
     "output_type": "execute_result"
    }
   ],
   "source": [
    "test = pd.read_csv(\"coursera_sessions_test.txt\", sep=';', header=None)\n",
    "test[:15]"
   ]
  },
  {
   "cell_type": "code",
   "execution_count": 86,
   "metadata": {
    "collapsed": false
   },
   "outputs": [
    {
     "data": {
      "text/html": [
       "<div>\n",
       "<table border=\"1\" class=\"dataframe\">\n",
       "  <thead>\n",
       "    <tr style=\"text-align: right;\">\n",
       "      <th></th>\n",
       "      <th>view</th>\n",
       "      <th>buy</th>\n",
       "    </tr>\n",
       "  </thead>\n",
       "  <tbody>\n",
       "    <tr>\n",
       "      <th>7</th>\n",
       "      <td>63,68,69,70,66,61,59</td>\n",
       "      <td>66,63</td>\n",
       "    </tr>\n",
       "    <tr>\n",
       "      <th>14</th>\n",
       "      <td>158,159,160,161,162</td>\n",
       "      <td>162</td>\n",
       "    </tr>\n",
       "    <tr>\n",
       "      <th>19</th>\n",
       "      <td>200,201,202,203,204</td>\n",
       "      <td>201,205</td>\n",
       "    </tr>\n",
       "    <tr>\n",
       "      <th>34</th>\n",
       "      <td>371,372</td>\n",
       "      <td>371,373</td>\n",
       "    </tr>\n",
       "    <tr>\n",
       "      <th>40</th>\n",
       "      <td>422</td>\n",
       "      <td>422</td>\n",
       "    </tr>\n",
       "  </tbody>\n",
       "</table>\n",
       "</div>"
      ],
      "text/plain": [
       "                    view      buy\n",
       "7   63,68,69,70,66,61,59    66,63\n",
       "14   158,159,160,161,162      162\n",
       "19   200,201,202,203,204  201,205\n",
       "34               371,372  371,373\n",
       "40                   422      422"
      ]
     },
     "execution_count": 86,
     "metadata": {},
     "output_type": "execute_result"
    }
   ],
   "source": [
    "test.columns = ['view', 'buy']\n",
    "test_filt = test.dropna()\n",
    "test_filt.view = test_filt.view.apply(drop_dup)\n",
    "test_filt.head()"
   ]
  },
  {
   "cell_type": "code",
   "execution_count": 92,
   "metadata": {
    "collapsed": true
   },
   "outputs": [],
   "source": [
    "ap1 = []\n",
    "ap5 = []\n",
    "ar1 = []\n",
    "ar5 = []\n",
    "ap1buy = []\n",
    "ap5buy = []\n",
    "ar1buy = []\n",
    "ar5buy = []\n",
    "for row in test_filt.iterrows():\n",
    "    res = suggest5view(row[1]['view'])\n",
    "    one = res[0]\n",
    "    buy_l = [x.strip() for x in row[1]['buy'].split(',')]\n",
    "    p1 = 1 if one in buy_l else 0\n",
    "    r1 = (float(p1)) / len(buy_l)\n",
    "    nom = sum([1 if x in buy_l else 0 for x in res])\n",
    "    p5 = float(nom) / 5\n",
    "    r5 = float(nom) / len(buy_l)\n",
    "    ap1.append(p1)\n",
    "    ap5.append(p5)\n",
    "    ar1.append(r1)\n",
    "    ar5.append(r5)\n",
    "    \n",
    "    res_buy = suggest5buy(row[1]['view'])\n",
    "    one_buy = res_buy[0]\n",
    "    p1_buy = 1 if one_buy in buy_l else 0\n",
    "    r1_buy = (float(p1_buy)) / len(buy_l)\n",
    "    nom = sum([1 if x in buy_l else 0 for x in res_buy])\n",
    "    p5_buy = float(nom) / 5\n",
    "    r5_buy = float(nom) / len(buy_l)\n",
    "    ap1buy.append(p1_buy)\n",
    "    ap5buy.append(p5_buy)\n",
    "    ar1buy.append(r1_buy)\n",
    "    ar5buy.append(r5_buy)\n",
    "    \n",
    "arg = [sum(ar1) / float(len(ar1)), sum(ap1) / float(len(ap1)), sum(ar5) / float(len(ar5)), sum(ap5) / float(len(ap5))]\n",
    "writeArr(arg, \"test_res_view.txt\")\n",
    "\n",
    "arg = [sum(ar1buy) / float(len(ar1buy)), sum(ap1buy) / float(len(ap1buy)), sum(ar5buy) / float(len(ar5buy)), sum(ap5buy) / float(len(ap5buy))]\n",
    "writeArr(arg, \"test_res_buy.txt\")"
   ]
  },
  {
   "cell_type": "code",
   "execution_count": 91,
   "metadata": {
    "collapsed": false
   },
   "outputs": [
    {
     "name": "stdout",
     "output_type": "stream",
     "text": [
      "['67', '60', '63']\n",
      "['86']\n",
      "['199']\n",
      "['303']\n",
      "['352']\n",
      "['519']\n",
      "['603', '604', '602', '599', '605', '606', '600']\n",
      "['690', '688']\n",
      "['851']\n",
      "['879']\n",
      "['1118']\n",
      "['1545']\n",
      "['1727']\n",
      "['99']\n",
      "['1907']\n",
      "['1959']\n",
      "['1998']\n",
      "['2013']\n",
      "['2019']\n",
      "['2462']\n",
      "['2520']\n",
      "['2543']\n",
      "['1526']\n",
      "['2764']\n",
      "['2857', '2853', '2852']\n",
      "['2920']\n",
      "['2930']\n",
      "['3033', '3026', '3032', '3031']\n",
      "['3102', '3100', '1260']\n",
      "['3204', '3207', '3217']\n",
      "['3267']\n",
      "['3443']\n",
      "['3529']\n",
      "['3584', '3564', '3612', '3623', '3645', '3561']\n",
      "['1662']\n",
      "['3741']\n",
      "['3979']\n",
      "['4216']\n",
      "['4246']\n",
      "['4298']\n",
      "['3066']\n",
      "['4512']\n",
      "['4750']\n",
      "['4815']\n",
      "['5058']\n",
      "['5066']\n",
      "['5134', '5135']\n",
      "['5183', '970']\n",
      "['5209']\n",
      "['805']\n",
      "605   1\n",
      "604   1\n",
      "3612   1\n",
      "606   1\n",
      "199   1\n",
      "600   1\n",
      "603   1\n",
      "602   1\n",
      "599   1\n",
      "2920   1\n"
     ]
    }
   ],
   "source": [
    "check = {}\n",
    "for row in data.buy.dropna()[:50].values:\n",
    "    l = [x.strip() for x in str(row).split(',')]\n",
    "    print l\n",
    "    for i in l:\n",
    "        if check.get(i) == None:\n",
    "            check[i] = 1\n",
    "        else:\n",
    "            check[i] += 1\n",
    "            \n",
    "keys = sorted(check, key=check.get, reverse=True)\n",
    "for k in keys[:10]:\n",
    "    print k, ' ', check[k]"
   ]
  }
 ],
 "metadata": {
  "kernelspec": {
   "display_name": "Python 2",
   "language": "python",
   "name": "python2"
  },
  "language_info": {
   "codemirror_mode": {
    "name": "ipython",
    "version": 2
   },
   "file_extension": ".py",
   "mimetype": "text/x-python",
   "name": "python",
   "nbconvert_exporter": "python",
   "pygments_lexer": "ipython2",
   "version": "2.7.11"
  }
 },
 "nbformat": 4,
 "nbformat_minor": 0
}
