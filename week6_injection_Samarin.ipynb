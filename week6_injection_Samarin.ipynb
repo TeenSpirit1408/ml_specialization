{
 "cells": [
  {
   "cell_type": "markdown",
   "metadata": {},
   "source": [
    "# Оценка эффекта от внедрения полученного решения"
   ]
  },
  {
   "cell_type": "markdown",
   "metadata": {},
   "source": [
    "#### Вопрос:\n",
    "_Постройте простую экономическую модель для оценки эффекта от внедрения полученного решения на практике._\n",
    "\n",
    "_Например, введите следующие параметры:_\n",
    "\n",
    "    сколько денег в среднем приносит один пользователь в месяц; \n",
    "    сколько денег в среднем вы будете вкладывать в удержание одного пользователя; \n",
    "    с какой вероятностью пользователь примет ваше предложение; \n",
    "    сколько пользователей (например, топ 1% или топ 25% согласно ранжированию по вашей модели) будет участвовать в кампании."
   ]
  },
  {
   "cell_type": "markdown",
   "metadata": {},
   "source": [
    "#### Ответ:\n",
    "Берем \n",
    "    _a_ - доход с одного пользователя в месяц.\n",
    "    _b_ - затраты на удержание одного пользователя в месяц.\n",
    "    _с_ - доля (от единицы) пользователей, которых будем удерживать. \n",
    "    _p_ - вероятность принятия предложения.\n",
    "    _N_ - общее количество пользователей.\n",
    "    _d_ - количество уходящих в месяц пользователей без применения методики удержания"
   ]
  },
  {
   "cell_type": "markdown",
   "metadata": {},
   "source": [
    "1. Введите еще несколько параметров и на их основе постройте простую экономическую модель: формулу по которой в зависимости от значения исходных параметров вы сможете рассчитать экономический эффект от проведения кампании (= сколько денег вы получили (или наоборот потеряли) от проведения кампании по удержанию) с использование вашей модели."
   ]
  },
  {
   "cell_type": "markdown",
   "metadata": {},
   "source": [
    "#### Ответ: \n",
    "Для начала возьмем _c_ < _d_\n",
    "\n",
    "Формула прибыли от удержания в месяц выглядит следующим образом:\n",
    "    \n",
    "    R(c) = a * p * N * c - b * N * c\n",
    "где первое слагаемое - прибыль с тех, \n",
    "кого удержали, а второе - затраты на удержание.\n",
    "\n",
    "Если взять _c_ >= _d_, то формула будет такая:\n",
    "    \n",
    "    R(c) = a * p * d * N - b * c * N\n",
    "Так как на тех пользователей, которые не собирались уходить, мы просто так тратим деньги."
   ]
  },
  {
   "cell_type": "markdown",
   "metadata": {},
   "source": [
    "2\\. Исходя из введенных параметров проанализируйте, какой топ пользователей, склонных к оттоку согласно модели, оптимально выбрать для проведения кампании по удержанию для таким образом, чтобы экономический эффект был наибольшим?"
   ]
  },
  {
   "cell_type": "markdown",
   "metadata": {},
   "source": [
    "#### Ответ:\n",
    "Модель линейная, производная от _c_ не зависит.\n",
    "При _c_ < _d_\n",
    "\n",
    "    dR/dc = a * p * N - b * N  - выгодно, если a * p > b\n",
    "При _c_ >= _d_\n",
    "\n",
    "    dR/dc  = - b * N  - всегда отрицательно, то есть R наибольшее при наименьшем c\n",
    "    \n",
    "Таким образом получаем, что в данной простой линейной модели наилучшее значение _c_ = _d_ (при условии _ap > b_).\n",
    "\n",
    "Для наших тренировочных данных это составляет 7.44%"
   ]
  },
  {
   "cell_type": "markdown",
   "metadata": {},
   "source": [
    "3\\. Попробуйте усложнить экономическую модель. Добавьте еще несколько параметров и поиграйте с ними (например, измените стоимость удержания и вероятность, с которой пользователь принимает предложение), проанализируйте как меняется оптимальный размер топа?"
   ]
  },
  {
   "cell_type": "markdown",
   "metadata": {},
   "source": [
    "#### Ответ:\n",
    "Введем параметр - качество алгоритма предсказаний _k_. Ориентировочно возьмем его равным 0.72 с метрикой AUC-PRC (average_precision в sklearn). От него зависит, сколько пользователей действительно собирались уйти.\n",
    "\n",
    "При _c * k_ < _d_ модель немного меняется:\n",
    "\n",
    "    R(c) = a * p * N * c * k - b * N * c\n",
    "так как не все пользователи из доли _c_ действительно собирались уходить, а только _с * k_. То есть чем меньше _k_, тем больше лишних затрат.\n",
    "\n",
    "При _c * k_ >= _d_ получаем старую модель:\n",
    "\n",
    "    R(c) = a * p * N * d - b * N * c\n",
    "так как считаем, что мы пытаемся удержать как минимум всех тех пользователей, которые собирались уйти.\n",
    "Понятно, что в данном случае оптимальным значением является _c * k_, при условии, что _a * p > b_."
   ]
  },
  {
   "cell_type": "code",
   "execution_count": 1,
   "metadata": {
    "collapsed": false
   },
   "outputs": [
    {
     "data": {
      "text/plain": [
       "10640000.0"
      ]
     },
     "execution_count": 1,
     "metadata": {},
     "output_type": "execute_result"
    }
   ],
   "source": [
    "#Например (в рублях)\n",
    "a = 300 \n",
    "b = 50 \n",
    "p = 0.33 \n",
    "N = 10000000 # для телеком операторов, таких, как, например, билайн - 10млн пользователей адекватная цифра.\n",
    "d = 0.07\n",
    "c = 0.05\n",
    "k = 0.72\n",
    "#Тогда прибыль от удержания:\n",
    "R = a * p * N * c * k - b * N * c\n",
    "R"
   ]
  },
  {
   "cell_type": "markdown",
   "metadata": {},
   "source": [
    "Получили прибыль от удержания более 10 миллионов рублей.\n",
    "\n",
    "Построим график в зависимости от вероятности удержания"
   ]
  },
  {
   "cell_type": "code",
   "execution_count": 2,
   "metadata": {
    "collapsed": false
   },
   "outputs": [
    {
     "name": "stdout",
     "output_type": "stream",
     "text": [
      "Populating the interactive namespace from numpy and matplotlib\n"
     ]
    }
   ],
   "source": [
    "import numpy as np\n",
    "%pylab inline"
   ]
  },
  {
   "cell_type": "code",
   "execution_count": 6,
   "metadata": {
    "collapsed": false
   },
   "outputs": [
    {
     "data": {
      "text/plain": [
       "array([-14200000.        ,  -9084210.52631579,  -3968421.05263158,\n",
       "         1147368.42105263,   6263157.89473685,  11378947.36842106,\n",
       "        16494736.84210526,  21610526.31578948,  26726315.78947369,\n",
       "        31842105.2631579 ,  36957894.7368421 ,  42073684.21052632,\n",
       "        47189473.68421052,  52305263.15789475,  57421052.63157895,\n",
       "        62536842.10526314,  67652631.57894737,  72768421.05263156,\n",
       "        77884210.52631579,  83000000.        ])"
      ]
     },
     "execution_count": 6,
     "metadata": {},
     "output_type": "execute_result"
    }
   ],
   "source": [
    "x = np.linspace(0.1, 1, 20)\n",
    "y = a * x * N * c * k - b * N * c\n",
    "y"
   ]
  },
  {
   "cell_type": "code",
   "execution_count": 9,
   "metadata": {
    "collapsed": false
   },
   "outputs": [
    {
     "data": {
      "image/png": "[encoded data removed]",
      "text/plain": [
       "<matplotlib.figure.Figure at 0x787d550>"
      ]
     },
     "metadata": {},
     "output_type": "display_data"
    }
   ],
   "source": [
    "plt.plot(x, y, label=\"Revenue from retention\")\n",
    "plt.legend()\n",
    "plt.grid()"
   ]
  },
  {
   "cell_type": "markdown",
   "metadata": {},
   "source": [
    "Видим, что при коэффициенте успеха меньшем ~0.23 кампания по удержанию перестает быть прибыльной. В этом случае размер топа становится равным нулю. При _p_ > 0.23 размер топа не зависит от параметра и остается равным _d / k_\n",
    "\n",
    "Аналогичная ситуация будет, если строить график зависимости прибыли от вложенной в удержание суммы, только угол наклона отрицательный."
   ]
  },
  {
   "cell_type": "markdown",
   "metadata": {},
   "source": [
    "4\\. Всегда ли применение модели экономически оправданно? Приведите пример набора значений параметров, при которых применение модели перестает быть оправданным."
   ]
  },
  {
   "cell_type": "markdown",
   "metadata": {},
   "source": [
    "#### Ответ:\n",
    "При _apk < b_ затраты на удержание одного пользователя становятся слишком высоки. Почему, становится понятно из объяснений и графика в пункте 3.\n",
    "\n",
    "Поэтому имеет смысл улучшать параметры _p_ и _k_."
   ]
  },
  {
   "cell_type": "markdown",
   "metadata": {},
   "source": [
    "5\\. Оцените изменение экономического эффекта от проведения кампании по удержанию при увеличении качества модели на 1%? На 3%? При ответе на вопрос укажите, по какой метрике вы оцениваете качество."
   ]
  },
  {
   "cell_type": "code",
   "execution_count": 5,
   "metadata": {
    "collapsed": false
   },
   "outputs": [
    {
     "name": "stdout",
     "output_type": "stream",
     "text": [
      "495000.0\n",
      "1485000.0\n"
     ]
    }
   ],
   "source": [
    "#Ответ:\n",
    "k = 0.73\n",
    "print a * p * N * c * k - b * N * c - R\n",
    "k = 0.75\n",
    "print a * p * N * c * k - b * N * c - R"
   ]
  },
  {
   "cell_type": "markdown",
   "metadata": {},
   "source": [
    "Увеличение качества модели на каждый процент дает прибавку в 495 тыс рублей при наших параметрах.\n",
    "Качество оценивал по метрике AUC-PRC, хотя в моей экономической модели это не играет роли."
   ]
  },
  {
   "cell_type": "markdown",
   "metadata": {},
   "source": [
    "6\\. Как вы думаете, является ли экономически оправданным вложение средств в улучшение качества модели? На сколько нужно улучшить модель, чтобы это качественно сказалось на экономическом эффекте от удержания?"
   ]
  },
  {
   "cell_type": "markdown",
   "metadata": {},
   "source": [
    "1% процент увеличения прибыли уже является качественным улучшением модели. Для оценки в данной задаче возьмем этот процент равным 10.\n",
    "\n",
    "Таким образом, пусть нам нужно, чтобы прибыль от удержания увеличилась на 10%. \n",
    "\n",
    "С нашими исходными параметрами это будет"
   ]
  },
  {
   "cell_type": "code",
   "execution_count": 10,
   "metadata": {
    "collapsed": false
   },
   "outputs": [
    {
     "data": {
      "text/plain": [
       "1064000.0"
      ]
     },
     "execution_count": 10,
     "metadata": {},
     "output_type": "execute_result"
    }
   ],
   "source": [
    "R_change = R * 0.1\n",
    "R_change"
   ]
  },
  {
   "cell_type": "code",
   "execution_count": 11,
   "metadata": {
    "collapsed": false
   },
   "outputs": [
    {
     "data": {
      "text/plain": [
       "2.1494949494949496"
      ]
     },
     "execution_count": 11,
     "metadata": {},
     "output_type": "execute_result"
    }
   ],
   "source": [
    "# для этого нам нужно улучшить нашу модель предсказаний на\n",
    "k_change = R_change / 495000\n",
    "k_change"
   ]
  },
  {
   "cell_type": "markdown",
   "metadata": {},
   "source": [
    "Таким образом, улучшение модели предсказаний всего лишь чуть более, чем на 2%, дает увеличение прибыли от удержания 10%\n",
    "А в целом по предложенной экономической модели чем лучше качество алгоритма предсказания, тем больше эффект, причем линейно, поэтому вложение однозначно себя оправдывает. Качественно скажется даже сколь угодно малое улучшение модели. \n",
    "Конечно, это не совсем правильная модель и в реальности зависимости гораздо сложнее, но авторы этой недели не предложили никаких опорных пунктов и указаний, как нужно связывать экономическую модель с исходным алгоритмом предсказаний. Надеюсь, ближайшее время еще займусь выяснением этого вопроса, но видимо уже не в рамках сдачи задания."
   ]
  }
 ],
 "metadata": {
  "kernelspec": {
   "display_name": "Python 2",
   "language": "python",
   "name": "python2"
  },
  "language_info": {
   "codemirror_mode": {
    "name": "ipython",
    "version": 2
   },
   "file_extension": ".py",
   "mimetype": "text/x-python",
   "name": "python",
   "nbconvert_exporter": "python",
   "pygments_lexer": "ipython2",
   "version": "2.7.13"
  }
 },
 "nbformat": 4,
 "nbformat_minor": 0
}
